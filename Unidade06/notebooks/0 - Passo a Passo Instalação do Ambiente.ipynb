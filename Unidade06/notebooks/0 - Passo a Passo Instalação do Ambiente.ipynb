{
 "cells": [
  {
   "cell_type": "markdown",
   "id": "c3097023-9ea7-46d1-beab-87c897883e82",
   "metadata": {},
   "source": [
    "# Caso escolha trabalhar LOCAL: Instale os pacotes necessários"
   ]
  },
  {
   "cell_type": "code",
   "execution_count": null,
   "id": "f42967f1",
   "metadata": {},
   "outputs": [],
   "source": [
    "!pip install langchain_core"
   ]
  },
  {
   "cell_type": "code",
   "execution_count": null,
   "id": "9e5e88a9-0cec-4b57-afd1-1955d2aa5f16",
   "metadata": {},
   "outputs": [],
   "source": [
    "!pip install langchain_community"
   ]
  },
  {
   "cell_type": "code",
   "execution_count": null,
   "id": "9a76eecf-37b1-4f28-879d-f40413e47bc8",
   "metadata": {},
   "outputs": [],
   "source": [
    "!pip install streamlit"
   ]
  },
  {
   "cell_type": "code",
   "execution_count": 3,
   "id": "f768c233-acdc-4d2c-b00a-f7f60beb2f71",
   "metadata": {},
   "outputs": [],
   "source": [
    "!pip install -q groq"
   ]
  },
  {
   "cell_type": "code",
   "execution_count": null,
   "id": "995cdf8e-4ec6-44a8-b560-9367a42b27a2",
   "metadata": {},
   "outputs": [],
   "source": [
    "!pip install spacy"
   ]
  },
  {
   "cell_type": "code",
   "execution_count": 4,
   "id": "4e7aacd0-777d-48ed-ad60-6f853fbc2d41",
   "metadata": {},
   "outputs": [],
   "source": [
    "from IPython.display import Image"
   ]
  },
  {
   "cell_type": "markdown",
   "id": "c54abbc8-bf28-404d-ab84-c28085193793",
   "metadata": {},
   "source": [
    "# Caso escolha trabalhar LOCAL: Instale o Ambiente Ollama"
   ]
  },
  {
   "cell_type": "markdown",
   "id": "bbc4e2f9-531e-4245-a915-621f12a7a294",
   "metadata": {},
   "source": [
    "### Passo 1:\n",
    "\n",
    "Vá ao site Ollama https://ollama.com/ e faça download conforme o seu ambiente.\n",
    "\n",
    "Ollama é uma plataforma ou biblioteca que oferece serviços de processamento de linguagem natural, especificamente modelos de linguagem grandes (LLMs) como o modelo \"llama3\". "
   ]
  },
  {
   "cell_type": "code",
   "execution_count": 11,
   "id": "65297417-feb0-4204-afc8-5ae88fb833c9",
   "metadata": {},
   "outputs": [
    {
     "data": {
      "text/html": [
       "<img src=\"../imagens/ollama.png\" width=\"500\" height=\"200\"/>"
      ],
      "text/plain": [
       "<IPython.core.display.Image object>"
      ]
     },
     "execution_count": 11,
     "metadata": {},
     "output_type": "execute_result"
    }
   ],
   "source": [
    "Image(url=\"../imagens/ollama.png\", width=500, height=200)"
   ]
  },
  {
   "cell_type": "markdown",
   "id": "81900ff6-0273-4861-84a4-aaf9bfda49f3",
   "metadata": {},
   "source": [
    "### Passo 2:\n",
    "\n",
    "Vá ao terminal do seu computador e execute o comando abaixo para carregar o modelo LLM.\n",
    "\n",
    "ollama run llama3\n",
    "\n",
    "Para sair /bye\n"
   ]
  },
  {
   "cell_type": "code",
   "execution_count": 8,
   "id": "268cb207-ee72-4d58-9981-04d26cae6519",
   "metadata": {},
   "outputs": [
    {
     "data": {
      "text/html": [
       "<img src=\"../imagens/ollama2.png\" width=\"400\" height=\"200\"/>"
      ],
      "text/plain": [
       "<IPython.core.display.Image object>"
      ]
     },
     "execution_count": 8,
     "metadata": {},
     "output_type": "execute_result"
    }
   ],
   "source": [
    "Image(url=\"../imagens/ollama2.png\", width=400, height=200)"
   ]
  },
  {
   "cell_type": "markdown",
   "id": "b2f2b943-99a5-4f5f-81ce-87e214916e2c",
   "metadata": {},
   "source": [
    "# Caso escolha trabalhar GOOGLE COLAB no projeto Grog+Llama"
   ]
  },
  {
   "cell_type": "markdown",
   "id": "104c770f-e9f8-4ca9-bf74-2ea8103e5f89",
   "metadata": {},
   "source": [
    "### Passo 3: Crie sua conta e API Key no Groq\n",
    "\n",
    "https://console.groq.com/playground\n",
    "\n",
    "Para usar o LPU e os modelos diretamente no código você vai precisar criar uma **API Key no Groq**.\n",
    "\n",
    "*   Visite o site da Groq Cloud em console.groq.com e crie uma conta.\n",
    "*   Faça Login na sua conta e navegue até a seção de API Keys e gere uma Nova Chave de API"
   ]
  },
  {
   "cell_type": "markdown",
   "id": "64922851-2c4b-429a-9361-6d3f0b1a38f9",
   "metadata": {},
   "source": [
    "### Passo 4: Configure a API Key no Google Colab"
   ]
  },
  {
   "cell_type": "markdown",
   "id": "cb5916a0-a96b-4d9d-aaf3-e99773726871",
   "metadata": {},
   "source": [
    "<div style=\"background-color: #f0f8ff; padding: 20px; border-radius: 10px;\">\n",
    "  \n",
    "Para poder usar a **API Key no Google Colab**:\n",
    "\n",
    "*   Abra o Google Colab e vá para Secrets.\n",
    "*   Digite o Nome e o Valor do segredo. Embora o Valor possa ser alterado, o Nome não pode ser alterado. Neste código o Nome é **GROQ**, mas você pode alterar\n",
    "*   Ative o acesso ao Notebook.\n",
    "*   Finalmente, para usá-lo no notebook, use o código fornecido com o nome do seu segredo no lugar de \"\\<secretName\\>\"\n",
    "\n",
    "https://medium.com/@parthdasawant/how-to-use-secrets-in-google-colab-450c38e3ec75\n",
    "\n",
    "</div>\n"
   ]
  },
  {
   "cell_type": "markdown",
   "id": "ac38d833-1c77-41a7-90a7-937ff7c9bd9a",
   "metadata": {},
   "source": [
    "### Passo 5: No seu Drive do Google crie a pasta LlamaModels\n",
    "\n",
    "Vamos precisar que os arquivos e modelo sejam armazenados nessa pasta. É necessário ter espaço no Drive para isso"
   ]
  },
  {
   "cell_type": "markdown",
   "id": "96c6749d-2089-4f12-8eea-c711f04d9f1d",
   "metadata": {},
   "source": [
    "# Para o projeto de Fine-tuning"
   ]
  },
  {
   "cell_type": "markdown",
   "id": "4d8439c2-4dd2-48a2-b0ca-ba6793faa7b8",
   "metadata": {},
   "source": [
    "### Passo 1: Crie sua conta e Access Tokens no Hugging Face \n",
    "\n",
    "https://huggingface.co/\n",
    "\n",
    "Para usar usar a API do HugginFace e baixar o Llama3 para fazer ajuste fino você precisará de um **Acess Token**.\n",
    "\n",
    "*   Visite o site do Hugging Face https://huggingface.co/ e crie uma conta.\n",
    "*   Faça Login na sua conta e navegue até a Settings>>Access Tokens e gere uma Crie um Novo Token"
   ]
  },
  {
   "cell_type": "code",
   "execution_count": 9,
   "id": "f9e6dcdb-34c3-49b8-aeea-408e9ade6f0a",
   "metadata": {},
   "outputs": [
    {
     "data": {
      "text/html": [
       "<img src=\"../imagens/HF.png\" width=\"200\" height=\"200\"/>"
      ],
      "text/plain": [
       "<IPython.core.display.Image object>"
      ]
     },
     "execution_count": 9,
     "metadata": {},
     "output_type": "execute_result"
    }
   ],
   "source": [
    "Image(url=\"../imagens/HF.png\", width=200, height=200)"
   ]
  },
  {
   "cell_type": "code",
   "execution_count": 8,
   "id": "dde02672-629b-441e-ab9f-ec007724b19f",
   "metadata": {},
   "outputs": [
    {
     "data": {
      "text/html": [
       "<img src=\"../imagens/HF2.png\" width=\"500\" height=\"200\"/>"
      ],
      "text/plain": [
       "<IPython.core.display.Image object>"
      ]
     },
     "execution_count": 8,
     "metadata": {},
     "output_type": "execute_result"
    }
   ],
   "source": [
    "Image(url=\"../imagens/HF2.png\", width=500, height=200)"
   ]
  },
  {
   "cell_type": "markdown",
   "id": "d0471a0a-c7da-4fc4-9f4f-d8c843dcf068",
   "metadata": {},
   "source": [
    "<div style=\"background-color: #f0f8ff; padding: 20px; border-radius: 10px;\">\n",
    "  \n",
    "Para poder usar a **Acess Token no Google Colab**:\n",
    "\n",
    "*   Abra o Google Colab e vá para Secrets.\n",
    "*   Digite o Nome e o Valor do segredo. Embora o Valor possa ser alterado, o Nome não pode ser alterado. Neste código o Nome é **HF_TOKEN**, mas você pode alterar\n",
    "*   Ative o acesso ao Notebook.\n",
    "*   Finalmente, para usá-lo no notebook, use o código fornecido com o nome do seu segredo no lugar de \"\\<secretName\\>\"\n",
    "\n",
    "</div>\n"
   ]
  },
  {
   "cell_type": "markdown",
   "id": "eb283b81-ca97-434e-8812-06f9e2471190",
   "metadata": {},
   "source": [
    "Escolha o modelo que quer fazer ajuste fino, no nosso caso será o meta-llama/Meta-Llama-3-8B. Vá até a página do Hugging Face para assinar termo de acesso e uso do modelo. Não baixe o modelo de HF sem esse acesso garantido\n",
    "\n",
    "https://huggingface.co/meta-llama/Meta-Llama-3-8B\n",
    "\n"
   ]
  },
  {
   "cell_type": "code",
   "execution_count": 10,
   "id": "e34701c1-e33e-4ac7-b904-4daa2e076a8b",
   "metadata": {},
   "outputs": [
    {
     "data": {
      "text/html": [
       "<img src=\"../imagens/HF3.png\" width=\"400\" height=\"200\"/>"
      ],
      "text/plain": [
       "<IPython.core.display.Image object>"
      ]
     },
     "execution_count": 10,
     "metadata": {},
     "output_type": "execute_result"
    }
   ],
   "source": [
    "Image(url=\"../imagens/HF3.png\", width=400, height=200)"
   ]
  },
  {
   "cell_type": "code",
   "execution_count": null,
   "id": "dd008484-3e37-4504-b7f4-43028d25d94a",
   "metadata": {},
   "outputs": [],
   "source": []
  }
 ],
 "metadata": {
  "kernelspec": {
   "display_name": "Python 3 (ipykernel)",
   "language": "python",
   "name": "python3"
  },
  "language_info": {
   "codemirror_mode": {
    "name": "ipython",
    "version": 3
   },
   "file_extension": ".py",
   "mimetype": "text/x-python",
   "name": "python",
   "nbconvert_exporter": "python",
   "pygments_lexer": "ipython3",
   "version": "3.12.4"
  }
 },
 "nbformat": 4,
 "nbformat_minor": 5
}
