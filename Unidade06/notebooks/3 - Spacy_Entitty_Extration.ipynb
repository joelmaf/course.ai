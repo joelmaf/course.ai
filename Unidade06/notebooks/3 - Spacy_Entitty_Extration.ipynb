{
 "cells": [
  {
   "attachments": {},
   "cell_type": "markdown",
   "metadata": {
    "id": "HaXWgRlriuDO"
   },
   "source": [
    "<div style=\"border: 2px solid #00008B; padding: 15px; border-radius: 10px; background-color: #00008B; color: #FFFFFF; font-family: Arial;\">\n",
    "  <h1 style=\"margin-top: 0;\">Prática: Reconhecimento de Entidades Nomeadas (Named Entity Recognition - NER)</h1>\n",
    "</div>"
   ]
  },
  {
   "cell_type": "markdown",
   "metadata": {},
   "source": [
    "# Biblioteca Spacy"
   ]
  },
  {
   "cell_type": "markdown",
   "metadata": {},
   "source": [
    "<div style=\"background-color: #f0f8ff; padding: 20px; border-radius: 10px;\">\n",
    "Uma das bibliotecas mais poderosas e eficientes para tarefas de NLP é a spaCy. SpaCy é uma biblioteca Python de código aberto projetada para lidar com tarefas complexas de NLP de maneira eficiente. \n",
    "\n",
    "https://medium.com/@flaviagaia/desbravando-os-comandos-da-biblioteca-spacy-para-processamento-de-linguagem-natural-19061d5f7586\n",
    "\n",
    "</div>"
   ]
  },
  {
   "cell_type": "markdown",
   "metadata": {},
   "source": [
    "<h1><span style=\"color:red\">Neste exemplo vamos usar o GOOGLE COLAB.</span></h1>\n",
    "\n",
    "Faça Upload desse Notebook no https://colab.research.google.com/"
   ]
  },
  {
   "cell_type": "code",
   "execution_count": null,
   "metadata": {},
   "outputs": [],
   "source": [
    "!pip install spacy"
   ]
  },
  {
   "cell_type": "code",
   "execution_count": null,
   "metadata": {
    "id": "sVimeuEJ2g-F"
   },
   "outputs": [],
   "source": [
    "!python -m spacy download pt_core_news_sm\n",
    "!python -m spacy download pt_core_news_lg"
   ]
  },
  {
   "cell_type": "code",
   "execution_count": null,
   "metadata": {
    "id": "vElzqLHs2nY3"
   },
   "outputs": [],
   "source": [
    "import spacy\n",
    "from spacy import displacy\n",
    "from google.colab import drive, files"
   ]
  },
  {
   "cell_type": "markdown",
   "metadata": {
    "id": "LcRXRpdRi9-Z"
   },
   "source": [
    "# Montando o Drive"
   ]
  },
  {
   "cell_type": "code",
   "execution_count": null,
   "metadata": {
    "colab": {
     "base_uri": "https://localhost:8080/"
    },
    "id": "aPRaC89T50mO",
    "outputId": "ee6dc9d2-f5d9-45b1-ef48-b1d6a02084e1"
   },
   "outputs": [],
   "source": [
    "drive.mount('/content/drive')\n",
    "%cd '/content/drive/MyDrive/LlamaModels'\n",
    "model_path = '/content/drive/MyDrive/LlamaModels'"
   ]
  },
  {
   "cell_type": "markdown",
   "metadata": {
    "id": "YTXq7rjOLSbI"
   },
   "source": [
    "# Carga de dados"
   ]
  },
  {
   "cell_type": "code",
   "execution_count": null,
   "metadata": {
    "colab": {
     "base_uri": "https://localhost:8080/"
    },
    "id": "Kcj52HLjLRmi",
    "outputId": "f12eef45-d7f1-4045-e337-1027cfda2850"
   },
   "outputs": [],
   "source": [
    "with open(\"/content/drive/MyDrive/LlamaModels/decisao.txt\", \"r\") as file1:\n",
    "    dataset = file1.read()\n",
    "print(dataset)"
   ]
  },
  {
   "cell_type": "code",
   "execution_count": null,
   "metadata": {},
   "outputs": [],
   "source": [
    "#with open(\"../data/decisao.txt\", \"r\", encoding=\"utf-8\") as f:\n",
    "#    dataset = f.read()\n",
    "#print(dataset)"
   ]
  },
  {
   "cell_type": "markdown",
   "metadata": {
    "id": "tjCc7Ty6KvMN"
   },
   "source": [
    "# Usando o Spacy"
   ]
  },
  {
   "cell_type": "code",
   "execution_count": null,
   "metadata": {
    "id": "wmyCAwQvK0aF"
   },
   "outputs": [],
   "source": [
    "# Carregar o modelo de linguagem em português\n",
    "nlp = spacy.load(\"pt_core_news_lg\")"
   ]
  },
  {
   "cell_type": "code",
   "execution_count": null,
   "metadata": {
    "id": "TGo_Yf37K2A7"
   },
   "outputs": [],
   "source": [
    "# Processar o texto\n",
    "doc = nlp(dataset)"
   ]
  },
  {
   "cell_type": "code",
   "execution_count": null,
   "metadata": {},
   "outputs": [],
   "source": [
    "# Reconhecer entidades\n",
    "for entidade in doc.ents:\n",
    "    print(entidade.text, entidade.label_)"
   ]
  },
  {
   "cell_type": "code",
   "execution_count": null,
   "metadata": {},
   "outputs": [],
   "source": [
    "# Visualizar as entidades nomeadas\n",
    "displacy.render(doc, style=\"ent\", jupyter=True)"
   ]
  },
  {
   "cell_type": "code",
   "execution_count": null,
   "metadata": {},
   "outputs": [],
   "source": [
    "\n",
    "# Função para extrair entidades baseadas em regras simples\n",
    "def extrair_entidades(doc):\n",
    "    entidades = []\n",
    "    for token in doc:\n",
    "        # Regra para números de processos\n",
    "        if \"processo\" in token.text.lower() and token.i + 1 < len(doc) and doc[token.i + 1].is_digit:\n",
    "            entidades.append({\"tipo\": \"Número do Processo\", \"entidade\": doc[token.i + 1].text})\n",
    "        # Regra para classes judiciais\n",
    "        if \"classe judicial\" in token.text.lower():\n",
    "            entidades.append({\"tipo\": \"Classe Judicial\", \"entidade\": doc[token.i + 2].text})\n",
    "        # Regra para requerente e requerido\n",
    "        if token.text.lower() == \"requerente\":\n",
    "            entidade = \" \".join([w.text for w in doc[token.i + 2: token.i + 5]])\n",
    "            entidades.append({\"tipo\": \"Requerente\", \"entidade\": entidade})\n",
    "        if token.text.lower() == \"requerido\":\n",
    "            entidade = \" \".join([w.text for w in doc[token.i + 2: token.i + 5]])\n",
    "            entidades.append({\"tipo\": \"Requerido\", \"entidade\": entidade})\n",
    "        # Regra para datas\n",
    "        if token.like_num and (token.nbor(1).text == \"dias\" or token.nbor(1).text == \"anos\"):\n",
    "            entidades.append({\"tipo\": \"Tempo\", \"entidade\": token.text + \" \" + token.nbor(1).text})\n",
    "        # Regra para localidades\n",
    "        if token.text in [\"Brasília\", \"Goiânia\"]:\n",
    "            entidades.append({\"tipo\": \"Localidade\", \"entidade\": token.text})\n",
    "\n",
    "    return entidades\n"
   ]
  },
  {
   "cell_type": "code",
   "execution_count": null,
   "metadata": {
    "colab": {
     "base_uri": "https://localhost:8080/"
    },
    "id": "2K1gHNblLCOV",
    "outputId": "88a2dbf5-71be-47e7-8191-d0ec4128b081"
   },
   "outputs": [],
   "source": [
    "entidades = extrair_entidades(doc)\n",
    "for entidade in entidades:\n",
    "    print(f\"Tipo: {entidade['tipo']}, Entidade: {entidade['entidade']}\")"
   ]
  }
 ],
 "metadata": {
  "accelerator": "GPU",
  "colab": {
   "gpuType": "L4",
   "machine_shape": "hm",
   "provenance": []
  },
  "kernelspec": {
   "display_name": "Python 3 (ipykernel)",
   "language": "python",
   "name": "python3"
  },
  "language_info": {
   "codemirror_mode": {
    "name": "ipython",
    "version": 3
   },
   "file_extension": ".py",
   "mimetype": "text/x-python",
   "name": "python",
   "nbconvert_exporter": "python",
   "pygments_lexer": "ipython3",
   "version": "3.12.4"
  }
 },
 "nbformat": 4,
 "nbformat_minor": 4
}
