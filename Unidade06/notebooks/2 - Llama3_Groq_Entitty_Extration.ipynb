{
 "cells": [
  {
   "cell_type": "markdown",
   "metadata": {},
   "source": [
    "<div style=\"border: 2px solid #00008B; padding: 15px; border-radius: 10px; background-color: #00008B; color: #FFFFFF; font-family: Arial;\">\n",
    "  <h1 style=\"margin-top: 0;\">Prática: Reconhecimento de Entidades Nomeadas (Named Entity Recognition - NER)</h1>\n",
    "</div>"
   ]
  },
  {
   "cell_type": "markdown",
   "metadata": {},
   "source": [
    "<div style=\"background-color: #f0f8ff; padding: 20px; border-radius: 10px;\">\n",
    "<b>Descrição: Encontrar as entidades nomeadas no processo</b> </br></br> \n",
    "\n",
    "Número do processo: 123456-12.3456.7.89.1234</br>\n",
    "Classe judicial: PROCEDIMENTO COMUM CÍVEL</br>\n",
    "REQUERENTE: MINHA EMPRESA ADVOGADOS ASSOCIADOS S/S</br>\n",
    "REQUERIDO: PEDRO ALVARES CABRAL</br>\n",
    "\n",
    "DECISÃO INTERLOCUTÓRIA</br>\n",
    "(Emenda à Inicial)</br>\n",
    "\n",
    "Convido o autor a promover a emenda à inicial, no prazo de 15 dias, a fim cumprir as disposições constantes dos itens abaixo, sob pena de incidência do art. 321, parágrafo único, do Código de Processo Civil:\n",
    "1) Juntar procuração atualizada, haja vista que o instrumento de ID 123456789 está datado do ano de 2022.\n",
    "2)Esclarecer o ajuizamento da ação na jurisdição do Brasília/DF, haja vista que no contrato objeto da ação (ID 123456789, cláusula VIII, item 24), consta que as partes elegeram o foro da cidade de Goiânia/Goiás. Com efeito, após recente alteração, o §1º do art. 63 do CPC passou a dispor que \"a eleição de foro somente produz efeito quando constar de instrumento escrito, aludir expressamente a determinado negócio jurídico e guardar pertinência com o domicílio ou a residência de uma das partes ou com o local da obrigação, ressalvada a pactuação consumerista, quando favorável ao consumidor\". No caso dos autos, o foro eleito pelas partes guarda pertinência com o domicílio do requerente, ID 123456789.\n",
    "3) Comprovar a efetiva atuação do causídico, ora requerente, na demanda objeto do contrato entabulado entre as partes. Para tanto, junte-se cópia integral do referido processo, até o momento em que efetivada a renúncia.\n",
    "Sem prejuízo, à Secretaria para retificação da autuação, alterando a classe processual para \"Execução de Título Extrajudicial\".\n",
    "\n",
    "Intime-se.\n",
    "\n",
    "documento assinado digitalmente</br>\n",
    "PERO VAZ DE CAMINHA</br>\n",
    "Juíz de Direito</br>\n",
    "\n",
    "</div>"
   ]
  },
  {
   "cell_type": "markdown",
   "metadata": {},
   "source": [
    "<div style=\"background-color: #f0f8ff; padding: 20px; border-radius: 10px;\">\n",
    "    \n",
    "O **Reconhecimento de Entidades Nomeadas (Named Entity Recognition - NER)** é uma sub-tarefa da extração de informações que busca <span style=\"color:red\">localizar e classificar entidades nomeadas mencionadas em texto não estruturado em categorias predefinidas, como nomes de pessoas, organizações, locais, códigos médicos, expressões de tempo, quantidades, valores monetários, porcentagens</span>, etc.\n",
    "\n",
    "O Reconhecimento de Entidades Nomeadas (NER) é um processo onde um algoritmo recebe uma cadeia de texto (sentença ou parágrafo) como entrada e identifica substantivos relevantes (pessoas, lugares e organizações) mencionados nesse texto. Isso pode ajudar em muitas aplicações comerciais, como organizar grandes conjuntos de dados de avaliações de clientes ou até mesmo em tarefas de extração de informações, como a construção de um grafo de conhecimento.\n",
    "\n",
    "</div>"
   ]
  },
  {
   "cell_type": "markdown",
   "metadata": {},
   "source": [
    "<h1><span style=\"color:red\">Neste exemplo vamos usar o GOOGLE COLAB.</span></h1>\n",
    "\n",
    "Faça Upload desse Notebook no https://colab.research.google.com/"
   ]
  },
  {
   "cell_type": "markdown",
   "metadata": {
    "id": "W-CvPS6rd12o"
   },
   "source": [
    "# Utilizando o Llama 3 do Grog"
   ]
  },
  {
   "cell_type": "markdown",
   "metadata": {
    "id": "eB_iNP6BaHex"
   },
   "source": [
    "<div style=\"background-color: #f0f8ff; padding: 20px; border-radius: 10px;\">\n",
    "    \n",
    "**Groq**, a startup baseada em Mountain View, Califórnia, que <span style=\"color:red\">produz microchips projetados especificamente para executar grandes modelos de linguagem (LLMs) de forma rápida e eficiente </span>. O **GroqCloud é um playground que permite que os desenvolvedores** de IA acessem o Groq Language Processing Unit (LPU) Inference Engine.\n",
    "\n",
    "</div>\n"
   ]
  },
  {
   "cell_type": "markdown",
   "metadata": {},
   "source": [
    "### Passo 1: Crie sua conta e API Key no Groq\n",
    "\n",
    "https://console.groq.com/playground\n",
    "\n",
    "Para usar o LPU e os modelos diretamente no código você vai precisar criar uma **API Key no Groq**.\n",
    "\n",
    "*   Visite o site da Groq Cloud em console.groq.com e crie uma conta.\n",
    "*   Faça Login na sua conta e navegue até a seção de API Keys e gere uma Nova Chave de API"
   ]
  },
  {
   "cell_type": "markdown",
   "metadata": {},
   "source": [
    "### Passo 2: Configure a API Key no Google Colab"
   ]
  },
  {
   "cell_type": "markdown",
   "metadata": {
    "id": "iYetmxjrotnV"
   },
   "source": [
    "<div style=\"background-color: #f0f8ff; padding: 20px; border-radius: 10px;\">\n",
    "  \n",
    "Para poder usar a **API Key no Google Colab**:\n",
    "\n",
    "*   Abra o Google Colab e vá para Secrets.\n",
    "*   Digite o Nome e o Valor do segredo. Embora o Valor possa ser alterado, o Nome não pode ser alterado. Neste código o Nome é **GROQ**, mas você pode alterar\n",
    "*   Ative o acesso ao Notebook.\n",
    "*   Finalmente, para usá-lo no notebook, use o código fornecido com o nome do seu segredo no lugar de \\<secretName\\>\n",
    "\n",
    "https://medium.com/@parthdasawant/how-to-use-secrets-in-google-colab-450c38e3ec75\n",
    "\n",
    "</div>\n"
   ]
  },
  {
   "cell_type": "code",
   "execution_count": null,
   "metadata": {
    "colab": {
     "base_uri": "https://localhost:8080/"
    },
    "id": "sVimeuEJ2g-F",
    "outputId": "beaefd13-7c4c-406c-80de-485dbfe6fe74"
   },
   "outputs": [],
   "source": [
    "!pip install -q groq"
   ]
  },
  {
   "cell_type": "code",
   "execution_count": null,
   "metadata": {
    "id": "vElzqLHs2nY3"
   },
   "outputs": [],
   "source": [
    "import pandas as pd\n",
    "pd.set_option('display.max_colwidth', None)\n",
    "\n",
    "import time\n",
    "import re\n",
    "import gc\n",
    "\n",
    "from google.colab import userdata, drive, files\n",
    "\n",
    "from groq import Groq\n",
    "from tqdm import tqdm"
   ]
  },
  {
   "cell_type": "code",
   "execution_count": null,
   "metadata": {
    "id": "9-kNF5UdM1x5"
   },
   "outputs": [],
   "source": [
    "# Instancia Groq Client\n",
    "gclient = Groq(\n",
    "    api_key=userdata.get(\"GROQ\"),\n",
    ")"
   ]
  },
  {
   "cell_type": "markdown",
   "metadata": {
    "id": "iMyGzkuWfFQA"
   },
   "source": [
    "# Montando o Drive"
   ]
  },
  {
   "cell_type": "markdown",
   "metadata": {},
   "source": [
    "### Passo 3: No seu Drive do Google crie a pasta LlamaModels\n",
    "\n",
    "Vamos aportar os arquivos e modelo para serem armazenados nessa pasta. É necessário ter espaço no Drive para isso"
   ]
  },
  {
   "cell_type": "code",
   "execution_count": null,
   "metadata": {
    "colab": {
     "base_uri": "https://localhost:8080/"
    },
    "id": "aPRaC89T50mO",
    "outputId": "ec4dc357-cd3b-4eaf-946b-d487314e083f"
   },
   "outputs": [],
   "source": [
    "drive.mount('/content/drive')\n",
    "%cd '/content/drive/MyDrive/LlamaModels'\n",
    "model_path = '/content/drive/MyDrive/LlamaModels'"
   ]
  },
  {
   "cell_type": "markdown",
   "metadata": {
    "id": "YTXq7rjOLSbI"
   },
   "source": [
    "# Carga de dados"
   ]
  },
  {
   "cell_type": "markdown",
   "metadata": {},
   "source": [
    "### Passo 4: Faça Upload do arquivo decisao.txt na pasta LlamaModels do Drive\n"
   ]
  },
  {
   "cell_type": "code",
   "execution_count": null,
   "metadata": {
    "colab": {
     "base_uri": "https://localhost:8080/"
    },
    "id": "Kcj52HLjLRmi",
    "outputId": "dbfa7b6c-cfcc-461d-81ed-c5dba2c7104f"
   },
   "outputs": [],
   "source": [
    "with open(\"/content/drive/MyDrive/LlamaModels/decisao.txt\", \"r\") as file1:\n",
    "    dataset = file1.read()\n",
    "print(dataset)"
   ]
  },
  {
   "cell_type": "markdown",
   "metadata": {
    "id": "qB47cYaTDra5"
   },
   "source": [
    "# Tratamento dos dados"
   ]
  },
  {
   "cell_type": "code",
   "execution_count": null,
   "metadata": {
    "colab": {
     "base_uri": "https://localhost:8080/"
    },
    "id": "WdWYD-qn_Q1A",
    "outputId": "ea7a52cf-5a9d-49ec-ef32-b718692cac8a"
   },
   "outputs": [],
   "source": [
    "# Criar um padrão regex que corresponde a qualquer um dos delimitadores\n",
    "def split_text(text, delimiters):\n",
    "    regex_pattern = '|'.join(map(re.escape, delimiters))\n",
    "    return re.split(regex_pattern, text)\n",
    "\n",
    "delimiters = ['\\n', '.', ',']\n",
    "#delimiters = ['\\n', '.', ':']\n",
    "\n",
    "partes = split_text(dataset, delimiters)\n",
    "\n",
    "# Remover espaços extras e adicionar à lista de resultados se não estiver vazia\n",
    "contexto = [parte.strip() for parte in partes if parte.strip()]\n",
    "\n",
    "print(contexto)"
   ]
  },
  {
   "cell_type": "markdown",
   "metadata": {},
   "source": [
    "# Defina Prompt"
   ]
  },
  {
   "cell_type": "markdown",
   "metadata": {
    "id": "NOBrdDy-D8L6"
   },
   "source": [
    "<div style=\"background-color: #f0f8ff; padding: 20px; border-radius: 10px;\">\n",
    "Você precisa formatar a entrada para um dos formatos:\n",
    "    \n",
    "*    **conversational format**\n",
    "      *    {\"messages\": [{\"role\": \"system\", \"content\": \"You are...\"}, {\"role\": \"user\", \"content\": \"...\"}, {\"role\": \"assistant\", \"content\": \"...\"}]}\n",
    "\n",
    "\n",
    "*    **instruction format**\n",
    "      *    {\"prompt\": \"<prompt text>\", \"completion\": \"<ideal generated text>\"}\n",
    "</div>"
   ]
  },
  {
   "cell_type": "code",
   "execution_count": null,
   "metadata": {
    "id": "tzfzFwWpouTO"
   },
   "outputs": [],
   "source": [
    "# Mensagem do Sistema\n",
    "system_message = \"\"\"Você é um experiente analista judiciário.\n",
    "Extraia todas as entidades nomeadas e os relacionamento entre elas do contexto.\n",
    "Escreva a resposta como uma tupla entidade 1|relacionamento|entidade 2.\n",
    "Não adicione mais nada. Use apenas o contexto do usuário. Caso não encontre entidades escreve \"Não existe entidades no contexto\"\n",
    "Exemplo de texto: João trabalha no TJDFT.\n",
    "Resposta: João|trabalha|TJDFT.\n",
    "\"\"\"\n",
    "\n",
    "messages = [[\n",
    "    {\"role\": \"system\",\"content\": f\"{system_message}\"},\n",
    "    {\"role\": \"user\", \"content\": input}] for input in contexto]"
   ]
  },
  {
   "cell_type": "code",
   "execution_count": null,
   "metadata": {
    "colab": {
     "base_uri": "https://localhost:8080/"
    },
    "id": "jNZ8mn2j-0VX",
    "outputId": "cabad0fa-2531-4882-854d-b8de7f857263"
   },
   "outputs": [],
   "source": [
    "messages[10]"
   ]
  },
  {
   "cell_type": "markdown",
   "metadata": {
    "id": "8eJOxUqRImE4"
   },
   "source": [
    "# Gera uma resposta usando a função chat completion"
   ]
  },
  {
   "cell_type": "code",
   "execution_count": null,
   "metadata": {
    "id": "Ms0d8JPmEuov"
   },
   "outputs": [],
   "source": [
    "# Label do Llama3 no GroqCloud\n",
    "model=\"llama3-70b-8192\"\n",
    "\n",
    "def process_data_groq(prompt):\n",
    "    chat_completion = gclient.chat.completions.create(\n",
    "        messages=prompt,\n",
    "        model=model,\n",
    "        temperature=0.5,\n",
    "        max_tokens=128,\n",
    "        top_p=1,\n",
    "        stop=None,\n",
    "        stream=False,\n",
    "    )\n",
    "    return chat_completion.choices[0].message.content"
   ]
  },
  {
   "cell_type": "markdown",
   "metadata": {
    "id": "rtnfEFsDIiqq"
   },
   "source": [
    "# Envia mensagens em lotes (batches) para processamento e coleta as respostas"
   ]
  },
  {
   "cell_type": "code",
   "execution_count": null,
   "metadata": {
    "id": "4V_I-esHalWM"
   },
   "outputs": [],
   "source": [
    "def send_messages(messages):\n",
    "    answers=[]\n",
    "    batch_size=10\n",
    "\n",
    "    #tqdm é usado para mostrar uma barra de progresso\n",
    "    for i in tqdm(range(0, len(messages), batch_size)):\n",
    "        batch = messages[i:i+10]\n",
    "        print(batch)\n",
    "\n",
    "        for message in batch:\n",
    "            output = process_data_groq(message)\n",
    "            answers.append(output)\n",
    "\n",
    "        if i +10 < len(messages):\n",
    "            time.sleep(5)\n",
    "    return answers"
   ]
  },
  {
   "cell_type": "code",
   "execution_count": null,
   "metadata": {
    "colab": {
     "base_uri": "https://localhost:8080/"
    },
    "id": "3w_z7emP2C6l",
    "outputId": "09e69213-84d9-485c-9b04-49628bcfc16b"
   },
   "outputs": [],
   "source": [
    "# Gerar os dados\n",
    "answers = send_messages(messages)"
   ]
  },
  {
   "cell_type": "code",
   "execution_count": null,
   "metadata": {
    "id": "3MtzVyhMgzys"
   },
   "outputs": [],
   "source": [
    "answers"
   ]
  },
  {
   "cell_type": "code",
   "execution_count": null,
   "metadata": {
    "colab": {
     "base_uri": "https://localhost:8080/",
     "height": 1000
    },
    "id": "9lZaw7iztDax",
    "outputId": "eca28cf7-07a4-499b-c58b-5c51319a8d5c"
   },
   "outputs": [],
   "source": [
    "#Monta um dicionário com as respostas\n",
    "answers = [{'Contexto': user, 'Resposta': output} for user, output in zip(contexto, answers)]\n",
    "df = pd.DataFrame(answers)\n",
    "df"
   ]
  }
 ],
 "metadata": {
  "accelerator": "GPU",
  "colab": {
   "gpuType": "L4",
   "machine_shape": "hm",
   "provenance": []
  },
  "kernelspec": {
   "display_name": "Python 3 (ipykernel)",
   "language": "python",
   "name": "python3"
  },
  "language_info": {
   "codemirror_mode": {
    "name": "ipython",
    "version": 3
   },
   "file_extension": ".py",
   "mimetype": "text/x-python",
   "name": "python",
   "nbconvert_exporter": "python",
   "pygments_lexer": "ipython3",
   "version": "3.11.5"
  }
 },
 "nbformat": 4,
 "nbformat_minor": 4
}
