{
 "cells": [
  {
   "cell_type": "markdown",
   "id": "9ebed70f-ce74-4061-880b-26b32dfb0a66",
   "metadata": {},
   "source": [
    "# UNIDADE 6: Large Language Models\n",
    "\n",
    "6.1. Redes Neurais Generativas (GAN)\n",
    "\n",
    "6.2. Conceitos de Processamento de Linguagem Natural\n",
    "\n",
    "6.3. Principais modelos LLM\n",
    "\n",
    "6.3.1. Open AI\n",
    "\n",
    "6.3.2. Llama"
   ]
  },
  {
   "cell_type": "markdown",
   "id": "f558a342-c181-4abc-8690-c50c9490421d",
   "metadata": {},
   "source": [
    "<div style=\"background-color: #f0f8ff; padding: 20px; border-radius: 10px;\">\n",
    "Llama 3 é um modelo de linguagem autorregressivo que utiliza uma arquitetura transformer otimizada. Tanto os modelos pré-treinados quanto os ajustados <span style=\"color:red\">vêm com 8 bilhões e 70 bilhões de parâmetros</span>, com um comprimento de contexto de 8 mil tokens.\n",
    "\n",
    "O Llama 3 8B, em sua versão ajustada por instruções é melhor do que o Gemma 7B-It do Google e o Mistral 7B Instruct em vários métricas de desempenho. A versão ajustada por instruções de 70B superou o Gemini Pro 1.5 e o Claude Sonnet na maioria das métricas de desempenho.\n",
    "\n",
    "A Meta treinou o Llama 3 em uma nova mistura de dados online publicamente disponíveis, com uma contagem de tokens superior a 15 trilhões. O **modelo de 8B tem um limite de conhecimento até março de 2023**, enquanto o **modelo de 70B tem um limite até dezembro de 2023**. Os modelos utilizam a Grouped-Query Attention (GQA), que reduz a largura de banda de memória e melhora a eficiência.\n",
    "</div>"
   ]
  },
  {
   "cell_type": "markdown",
   "id": "aca0fcd2-cbe1-4bba-9215-ffbf9302e142",
   "metadata": {},
   "source": [
    "\n",
    "Adaptado de:\n",
    "\n",
    "https://towardsdatascience.com/relation-extraction-with-llama3-models-f8bc41858b9e\n",
    "\n",
    "https://github.com/SolanaO/Blogs_Content\n",
    "\n",
    "\n",
    "https://www.datacamp.com/tutorial/llama3-fine-tuning-locally?irclickid=yd7znCwgbxyKU8JQPZTphTtbUkC2RDQu9z4SSA0&irgwc=1&utm_medium=affiliate&utm_source=impact&utm_campaign=000000_1-27795_2-mix_3-all_4-na_5-na_6-na_7-mp_8-affl-ip_9-na_10-bau_11-Sovrn%20Commerce&utm_content=BANNER&utm_term=263535"
   ]
  },
  {
   "cell_type": "markdown",
   "id": "9417853a-eab9-4517-a665-d6f5b0781aa3",
   "metadata": {},
   "source": [
    "<div style=\"border: 2px solid #00008B; padding: 15px; border-radius: 10px; background-color: #00008B; color: #FFFFFF; font-family: Arial;\">\n",
    "  <h1 style=\"margin-top: 0;\">Prática: Chatbot Genérico com LLM Local</h1>\n",
    "</div>"
   ]
  },
  {
   "cell_type": "markdown",
   "id": "c3097023-9ea7-46d1-beab-87c897883e82",
   "metadata": {},
   "source": [
    "# Instale os pacotes necessários"
   ]
  },
  {
   "cell_type": "code",
   "execution_count": 1,
   "id": "f42967f1",
   "metadata": {},
   "outputs": [
    {
     "name": "stdout",
     "output_type": "stream",
     "text": [
      "Collecting langchain_core\n",
      "  Downloading langchain_core-0.2.25-py3-none-any.whl.metadata (6.2 kB)\n",
      "Requirement already satisfied: PyYAML>=5.3 in c:\\users\\joelma\\anaconda3\\envs\\rag\\lib\\site-packages (from langchain_core) (6.0.1)\n",
      "Collecting jsonpatch<2.0,>=1.33 (from langchain_core)\n",
      "  Using cached jsonpatch-1.33-py2.py3-none-any.whl.metadata (3.0 kB)\n",
      "Collecting langsmith<0.2.0,>=0.1.75 (from langchain_core)\n",
      "  Downloading langsmith-0.1.94-py3-none-any.whl.metadata (13 kB)\n",
      "Requirement already satisfied: packaging<25,>=23.2 in c:\\users\\joelma\\anaconda3\\envs\\rag\\lib\\site-packages (from langchain_core) (24.1)\n",
      "Collecting pydantic<3.0.0,>=2.7.4 (from langchain_core)\n",
      "  Using cached pydantic-2.8.2-py3-none-any.whl.metadata (125 kB)\n",
      "Collecting tenacity!=8.4.0,<9.0.0,>=8.1.0 (from langchain_core)\n",
      "  Using cached tenacity-8.5.0-py3-none-any.whl.metadata (1.2 kB)\n",
      "Collecting jsonpointer>=1.9 (from jsonpatch<2.0,>=1.33->langchain_core)\n",
      "  Downloading jsonpointer-3.0.0-py2.py3-none-any.whl.metadata (2.3 kB)\n",
      "Collecting orjson<4.0.0,>=3.9.14 (from langsmith<0.2.0,>=0.1.75->langchain_core)\n",
      "  Using cached orjson-3.10.6-cp312-none-win_amd64.whl.metadata (51 kB)\n",
      "Requirement already satisfied: requests<3,>=2 in c:\\users\\joelma\\anaconda3\\envs\\rag\\lib\\site-packages (from langsmith<0.2.0,>=0.1.75->langchain_core) (2.32.3)\n",
      "Collecting annotated-types>=0.4.0 (from pydantic<3.0.0,>=2.7.4->langchain_core)\n",
      "  Using cached annotated_types-0.7.0-py3-none-any.whl.metadata (15 kB)\n",
      "Collecting pydantic-core==2.20.1 (from pydantic<3.0.0,>=2.7.4->langchain_core)\n",
      "  Using cached pydantic_core-2.20.1-cp312-none-win_amd64.whl.metadata (6.7 kB)\n",
      "Requirement already satisfied: typing-extensions>=4.6.1 in c:\\users\\joelma\\anaconda3\\envs\\rag\\lib\\site-packages (from pydantic<3.0.0,>=2.7.4->langchain_core) (4.11.0)\n",
      "Requirement already satisfied: charset-normalizer<4,>=2 in c:\\users\\joelma\\anaconda3\\envs\\rag\\lib\\site-packages (from requests<3,>=2->langsmith<0.2.0,>=0.1.75->langchain_core) (3.3.2)\n",
      "Requirement already satisfied: idna<4,>=2.5 in c:\\users\\joelma\\anaconda3\\envs\\rag\\lib\\site-packages (from requests<3,>=2->langsmith<0.2.0,>=0.1.75->langchain_core) (3.7)\n",
      "Requirement already satisfied: urllib3<3,>=1.21.1 in c:\\users\\joelma\\anaconda3\\envs\\rag\\lib\\site-packages (from requests<3,>=2->langsmith<0.2.0,>=0.1.75->langchain_core) (2.2.2)\n",
      "Requirement already satisfied: certifi>=2017.4.17 in c:\\users\\joelma\\anaconda3\\envs\\rag\\lib\\site-packages (from requests<3,>=2->langsmith<0.2.0,>=0.1.75->langchain_core) (2024.7.4)\n",
      "Downloading langchain_core-0.2.25-py3-none-any.whl (377 kB)\n",
      "   ---------------------------------------- 0.0/377.6 kB ? eta -:--:--\n",
      "   --- ------------------------------------ 30.7/377.6 kB 1.4 MB/s eta 0:00:01\n",
      "   --------- ------------------------------ 92.2/377.6 kB 1.1 MB/s eta 0:00:01\n",
      "   ---------------- ----------------------- 153.6/377.6 kB 1.1 MB/s eta 0:00:01\n",
      "   --------------------- ------------------ 204.8/377.6 kB 1.1 MB/s eta 0:00:01\n",
      "   ----------------------------- ---------- 276.5/377.6 kB 1.1 MB/s eta 0:00:01\n",
      "   ----------------------------------- ---- 337.9/377.6 kB 1.2 MB/s eta 0:00:01\n",
      "   ---------------------------------------  368.6/377.6 kB 1.2 MB/s eta 0:00:01\n",
      "   ---------------------------------------- 377.6/377.6 kB 1.1 MB/s eta 0:00:00\n",
      "Using cached jsonpatch-1.33-py2.py3-none-any.whl (12 kB)\n",
      "Downloading langsmith-0.1.94-py3-none-any.whl (139 kB)\n",
      "   ---------------------------------------- 0.0/139.9 kB ? eta -:--:--\n",
      "   ----------------------- ---------------- 81.9/139.9 kB 1.5 MB/s eta 0:00:01\n",
      "   -------------------------------------- - 133.1/139.9 kB 1.6 MB/s eta 0:00:01\n",
      "   ---------------------------------------- 139.9/139.9 kB 1.2 MB/s eta 0:00:00\n",
      "Using cached pydantic-2.8.2-py3-none-any.whl (423 kB)\n",
      "Using cached pydantic_core-2.20.1-cp312-none-win_amd64.whl (1.9 MB)\n",
      "Using cached tenacity-8.5.0-py3-none-any.whl (28 kB)\n",
      "Using cached annotated_types-0.7.0-py3-none-any.whl (13 kB)\n",
      "Downloading jsonpointer-3.0.0-py2.py3-none-any.whl (7.6 kB)\n",
      "Using cached orjson-3.10.6-cp312-none-win_amd64.whl (136 kB)\n",
      "Installing collected packages: tenacity, pydantic-core, orjson, jsonpointer, annotated-types, pydantic, jsonpatch, langsmith, langchain_core\n",
      "Successfully installed annotated-types-0.7.0 jsonpatch-1.33 jsonpointer-3.0.0 langchain_core-0.2.25 langsmith-0.1.94 orjson-3.10.6 pydantic-2.8.2 pydantic-core-2.20.1 tenacity-8.5.0\n"
     ]
    },
    {
     "name": "stderr",
     "output_type": "stream",
     "text": [
      "ERROR: pip's dependency resolver does not currently take into account all the packages that are installed. This behaviour is the source of the following dependency conflicts.\n",
      "fastapi 0.111.1 requires email_validator>=2.0.0, which is not installed.\n",
      "fastapi 0.111.1 requires httpx>=0.23.0, which is not installed.\n",
      "fastapi 0.111.1 requires python-multipart>=0.0.7, which is not installed.\n",
      "fastapi 0.111.1 requires uvicorn[standard]>=0.12.0, which is not installed.\n"
     ]
    }
   ],
   "source": [
    "!pip install langchain_core"
   ]
  },
  {
   "cell_type": "code",
   "execution_count": 2,
   "id": "9e5e88a9-0cec-4b57-afd1-1955d2aa5f16",
   "metadata": {},
   "outputs": [
    {
     "name": "stdout",
     "output_type": "stream",
     "text": [
      "Collecting langchain_community\n",
      "  Downloading langchain_community-0.2.10-py3-none-any.whl.metadata (2.7 kB)\n",
      "Requirement already satisfied: PyYAML>=5.3 in c:\\users\\joelma\\anaconda3\\envs\\rag\\lib\\site-packages (from langchain_community) (6.0.1)\n",
      "Collecting SQLAlchemy<3,>=1.4 (from langchain_community)\n",
      "  Downloading SQLAlchemy-2.0.31-cp312-cp312-win_amd64.whl.metadata (9.9 kB)\n",
      "Collecting aiohttp<4.0.0,>=3.8.3 (from langchain_community)\n",
      "  Downloading aiohttp-3.10.0-cp312-cp312-win_amd64.whl.metadata (7.8 kB)\n",
      "Collecting dataclasses-json<0.7,>=0.5.7 (from langchain_community)\n",
      "  Using cached dataclasses_json-0.6.7-py3-none-any.whl.metadata (25 kB)\n",
      "Collecting langchain<0.3.0,>=0.2.9 (from langchain_community)\n",
      "  Downloading langchain-0.2.11-py3-none-any.whl.metadata (7.1 kB)\n",
      "Requirement already satisfied: langchain-core<0.3.0,>=0.2.23 in c:\\users\\joelma\\anaconda3\\envs\\rag\\lib\\site-packages (from langchain_community) (0.2.25)\n",
      "Requirement already satisfied: langsmith<0.2.0,>=0.1.0 in c:\\users\\joelma\\anaconda3\\envs\\rag\\lib\\site-packages (from langchain_community) (0.1.94)\n",
      "Collecting numpy<2.0.0,>=1.26.0 (from langchain_community)\n",
      "  Using cached numpy-1.26.4-cp312-cp312-win_amd64.whl.metadata (61 kB)\n",
      "Requirement already satisfied: requests<3,>=2 in c:\\users\\joelma\\anaconda3\\envs\\rag\\lib\\site-packages (from langchain_community) (2.32.3)\n",
      "Requirement already satisfied: tenacity!=8.4.0,<9.0.0,>=8.1.0 in c:\\users\\joelma\\anaconda3\\envs\\rag\\lib\\site-packages (from langchain_community) (8.5.0)\n",
      "Collecting aiohappyeyeballs>=2.3.0 (from aiohttp<4.0.0,>=3.8.3->langchain_community)\n",
      "  Downloading aiohappyeyeballs-2.3.2-py3-none-any.whl.metadata (5.5 kB)\n",
      "Collecting aiosignal>=1.1.2 (from aiohttp<4.0.0,>=3.8.3->langchain_community)\n",
      "  Downloading aiosignal-1.3.1-py3-none-any.whl.metadata (4.0 kB)\n",
      "Requirement already satisfied: attrs>=17.3.0 in c:\\users\\joelma\\anaconda3\\envs\\rag\\lib\\site-packages (from aiohttp<4.0.0,>=3.8.3->langchain_community) (23.1.0)\n",
      "Collecting frozenlist>=1.1.1 (from aiohttp<4.0.0,>=3.8.3->langchain_community)\n",
      "  Downloading frozenlist-1.4.1-cp312-cp312-win_amd64.whl.metadata (12 kB)\n",
      "Collecting multidict<7.0,>=4.5 (from aiohttp<4.0.0,>=3.8.3->langchain_community)\n",
      "  Downloading multidict-6.0.5-cp312-cp312-win_amd64.whl.metadata (4.3 kB)\n",
      "Collecting yarl<2.0,>=1.0 (from aiohttp<4.0.0,>=3.8.3->langchain_community)\n",
      "  Downloading yarl-1.9.4-cp312-cp312-win_amd64.whl.metadata (32 kB)\n",
      "Collecting marshmallow<4.0.0,>=3.18.0 (from dataclasses-json<0.7,>=0.5.7->langchain_community)\n",
      "  Using cached marshmallow-3.21.3-py3-none-any.whl.metadata (7.1 kB)\n",
      "Collecting typing-inspect<1,>=0.4.0 (from dataclasses-json<0.7,>=0.5.7->langchain_community)\n",
      "  Using cached typing_inspect-0.9.0-py3-none-any.whl.metadata (1.5 kB)\n",
      "Collecting langchain-text-splitters<0.3.0,>=0.2.0 (from langchain<0.3.0,>=0.2.9->langchain_community)\n",
      "  Using cached langchain_text_splitters-0.2.2-py3-none-any.whl.metadata (2.1 kB)\n",
      "Requirement already satisfied: pydantic<3,>=1 in c:\\users\\joelma\\anaconda3\\envs\\rag\\lib\\site-packages (from langchain<0.3.0,>=0.2.9->langchain_community) (2.8.2)\n",
      "Requirement already satisfied: jsonpatch<2.0,>=1.33 in c:\\users\\joelma\\anaconda3\\envs\\rag\\lib\\site-packages (from langchain-core<0.3.0,>=0.2.23->langchain_community) (1.33)\n",
      "Requirement already satisfied: packaging<25,>=23.2 in c:\\users\\joelma\\anaconda3\\envs\\rag\\lib\\site-packages (from langchain-core<0.3.0,>=0.2.23->langchain_community) (24.1)\n",
      "Requirement already satisfied: orjson<4.0.0,>=3.9.14 in c:\\users\\joelma\\anaconda3\\envs\\rag\\lib\\site-packages (from langsmith<0.2.0,>=0.1.0->langchain_community) (3.10.6)\n",
      "Requirement already satisfied: charset-normalizer<4,>=2 in c:\\users\\joelma\\anaconda3\\envs\\rag\\lib\\site-packages (from requests<3,>=2->langchain_community) (3.3.2)\n",
      "Requirement already satisfied: idna<4,>=2.5 in c:\\users\\joelma\\anaconda3\\envs\\rag\\lib\\site-packages (from requests<3,>=2->langchain_community) (3.7)\n",
      "Requirement already satisfied: urllib3<3,>=1.21.1 in c:\\users\\joelma\\anaconda3\\envs\\rag\\lib\\site-packages (from requests<3,>=2->langchain_community) (2.2.2)\n",
      "Requirement already satisfied: certifi>=2017.4.17 in c:\\users\\joelma\\anaconda3\\envs\\rag\\lib\\site-packages (from requests<3,>=2->langchain_community) (2024.7.4)\n",
      "Requirement already satisfied: typing-extensions>=4.6.0 in c:\\users\\joelma\\anaconda3\\envs\\rag\\lib\\site-packages (from SQLAlchemy<3,>=1.4->langchain_community) (4.11.0)\n",
      "Collecting greenlet!=0.4.17 (from SQLAlchemy<3,>=1.4->langchain_community)\n",
      "  Downloading greenlet-3.0.3-cp312-cp312-win_amd64.whl.metadata (3.9 kB)\n",
      "Requirement already satisfied: jsonpointer>=1.9 in c:\\users\\joelma\\anaconda3\\envs\\rag\\lib\\site-packages (from jsonpatch<2.0,>=1.33->langchain-core<0.3.0,>=0.2.23->langchain_community) (3.0.0)\n",
      "Requirement already satisfied: annotated-types>=0.4.0 in c:\\users\\joelma\\anaconda3\\envs\\rag\\lib\\site-packages (from pydantic<3,>=1->langchain<0.3.0,>=0.2.9->langchain_community) (0.7.0)\n",
      "Requirement already satisfied: pydantic-core==2.20.1 in c:\\users\\joelma\\anaconda3\\envs\\rag\\lib\\site-packages (from pydantic<3,>=1->langchain<0.3.0,>=0.2.9->langchain_community) (2.20.1)\n",
      "Collecting mypy-extensions>=0.3.0 (from typing-inspect<1,>=0.4.0->dataclasses-json<0.7,>=0.5.7->langchain_community)\n",
      "  Downloading mypy_extensions-1.0.0-py3-none-any.whl.metadata (1.1 kB)\n",
      "Downloading langchain_community-0.2.10-py3-none-any.whl (2.3 MB)\n",
      "   ---------------------------------------- 0.0/2.3 MB ? eta -:--:--\n",
      "   - -------------------------------------- 0.1/2.3 MB 1.3 MB/s eta 0:00:02\n",
      "   --- ------------------------------------ 0.2/2.3 MB 2.4 MB/s eta 0:00:01\n",
      "   ----- ---------------------------------- 0.3/2.3 MB 2.3 MB/s eta 0:00:01\n",
      "   -------- ------------------------------- 0.5/2.3 MB 2.6 MB/s eta 0:00:01\n",
      "   -------------- ------------------------- 0.8/2.3 MB 3.4 MB/s eta 0:00:01\n",
      "   ------------------- -------------------- 1.1/2.3 MB 4.0 MB/s eta 0:00:01\n",
      "   ------------------------- -------------- 1.4/2.3 MB 4.3 MB/s eta 0:00:01\n",
      "   ------------------------------ --------- 1.8/2.3 MB 4.7 MB/s eta 0:00:01\n",
      "   ---------------------------------- ----- 2.0/2.3 MB 4.7 MB/s eta 0:00:01\n",
      "   ---------------------------------------  2.3/2.3 MB 4.8 MB/s eta 0:00:01\n",
      "   ---------------------------------------  2.3/2.3 MB 4.8 MB/s eta 0:00:01\n",
      "   ---------------------------------------- 2.3/2.3 MB 4.3 MB/s eta 0:00:00\n",
      "Downloading aiohttp-3.10.0-cp312-cp312-win_amd64.whl (373 kB)\n",
      "   ---------------------------------------- 0.0/374.0 kB ? eta -:--:--\n",
      "   --------------------------------------  368.6/374.0 kB 23.9 MB/s eta 0:00:01\n",
      "   ---------------------------------------- 374.0/374.0 kB 7.7 MB/s eta 0:00:00\n",
      "Using cached dataclasses_json-0.6.7-py3-none-any.whl (28 kB)\n",
      "Downloading langchain-0.2.11-py3-none-any.whl (990 kB)\n",
      "   ---------------------------------------- 0.0/990.3 kB ? eta -:--:--\n",
      "   --------------------- ----------------- 553.0/990.3 kB 11.5 MB/s eta 0:00:01\n",
      "   ------------------------------- -------- 768.0/990.3 kB 8.1 MB/s eta 0:00:01\n",
      "   ---------------------------------------  983.0/990.3 kB 6.9 MB/s eta 0:00:01\n",
      "   ---------------------------------------  983.0/990.3 kB 6.9 MB/s eta 0:00:01\n",
      "   ---------------------------------------  983.0/990.3 kB 6.9 MB/s eta 0:00:01\n",
      "   ---------------------------------------  983.0/990.3 kB 6.9 MB/s eta 0:00:01\n",
      "   ---------------------------------------  983.0/990.3 kB 6.9 MB/s eta 0:00:01\n",
      "   ---------------------------------------  983.0/990.3 kB 6.9 MB/s eta 0:00:01\n",
      "   ---------------------------------------  983.0/990.3 kB 6.9 MB/s eta 0:00:01\n",
      "   ---------------------------------------  983.0/990.3 kB 6.9 MB/s eta 0:00:01\n",
      "   ---------------------------------------  983.0/990.3 kB 6.9 MB/s eta 0:00:01\n",
      "   ---------------------------------------  983.0/990.3 kB 6.9 MB/s eta 0:00:01\n",
      "   ---------------------------------------  983.0/990.3 kB 6.9 MB/s eta 0:00:01\n",
      "   ---------------------------------------  983.0/990.3 kB 6.9 MB/s eta 0:00:01\n",
      "   ---------------------------------------  983.0/990.3 kB 6.9 MB/s eta 0:00:01\n",
      "   ---------------------------------------  983.0/990.3 kB 6.9 MB/s eta 0:00:01\n",
      "   ---------------------------------------  983.0/990.3 kB 6.9 MB/s eta 0:00:01\n",
      "   ---------------------------------------  983.0/990.3 kB 6.9 MB/s eta 0:00:01\n",
      "   ---------------------------------------- 990.3/990.3 kB 1.1 MB/s eta 0:00:00\n",
      "Using cached numpy-1.26.4-cp312-cp312-win_amd64.whl (15.5 MB)\n",
      "Downloading SQLAlchemy-2.0.31-cp312-cp312-win_amd64.whl (2.1 MB)\n",
      "   ---------------------------------------- 0.0/2.1 MB ? eta -:--:--\n",
      "   ------ --------------------------------- 0.3/2.1 MB 7.0 MB/s eta 0:00:01\n",
      "   ------------ --------------------------- 0.6/2.1 MB 6.6 MB/s eta 0:00:01\n",
      "   ------------------ --------------------- 1.0/2.1 MB 6.8 MB/s eta 0:00:01\n",
      "   ----------------------- ---------------- 1.2/2.1 MB 6.4 MB/s eta 0:00:01\n",
      "   ----------------------------- ---------- 1.5/2.1 MB 6.4 MB/s eta 0:00:01\n",
      "   ---------------------------------- ----- 1.8/2.1 MB 6.4 MB/s eta 0:00:01\n",
      "   ---------------------------------------  2.0/2.1 MB 6.2 MB/s eta 0:00:01\n",
      "   ---------------------------------------- 2.1/2.1 MB 5.5 MB/s eta 0:00:00\n",
      "Downloading aiohappyeyeballs-2.3.2-py3-none-any.whl (11 kB)\n",
      "Downloading aiosignal-1.3.1-py3-none-any.whl (7.6 kB)\n",
      "Downloading frozenlist-1.4.1-cp312-cp312-win_amd64.whl (50 kB)\n",
      "   ---------------------------------------- 0.0/50.5 kB ? eta -:--:--\n",
      "   ---------------------------------------- 50.5/50.5 kB 1.3 MB/s eta 0:00:00\n",
      "Downloading greenlet-3.0.3-cp312-cp312-win_amd64.whl (293 kB)\n",
      "   ---------------------------------------- 0.0/293.6 kB ? eta -:--:--\n",
      "   ---------------------------------------  286.7/293.6 kB 8.9 MB/s eta 0:00:01\n",
      "   ---------------------------------------- 293.6/293.6 kB 6.0 MB/s eta 0:00:00\n",
      "Using cached langchain_text_splitters-0.2.2-py3-none-any.whl (25 kB)\n",
      "Using cached marshmallow-3.21.3-py3-none-any.whl (49 kB)\n",
      "Downloading multidict-6.0.5-cp312-cp312-win_amd64.whl (27 kB)\n",
      "Using cached typing_inspect-0.9.0-py3-none-any.whl (8.8 kB)\n",
      "Downloading yarl-1.9.4-cp312-cp312-win_amd64.whl (76 kB)\n",
      "   ---------------------------------------- 0.0/76.4 kB ? eta -:--:--\n",
      "   ---------------------------------------- 76.4/76.4 kB 4.4 MB/s eta 0:00:00\n",
      "Downloading mypy_extensions-1.0.0-py3-none-any.whl (4.7 kB)\n",
      "Installing collected packages: numpy, mypy-extensions, multidict, marshmallow, greenlet, frozenlist, aiohappyeyeballs, yarl, typing-inspect, SQLAlchemy, aiosignal, dataclasses-json, aiohttp, langchain-text-splitters, langchain, langchain_community\n",
      "Successfully installed SQLAlchemy-2.0.31 aiohappyeyeballs-2.3.2 aiohttp-3.10.0 aiosignal-1.3.1 dataclasses-json-0.6.7 frozenlist-1.4.1 greenlet-3.0.3 langchain-0.2.11 langchain-text-splitters-0.2.2 langchain_community-0.2.10 marshmallow-3.21.3 multidict-6.0.5 mypy-extensions-1.0.0 numpy-1.26.4 typing-inspect-0.9.0 yarl-1.9.4\n"
     ]
    }
   ],
   "source": [
    "!pip install langchain_community"
   ]
  },
  {
   "cell_type": "code",
   "execution_count": 3,
   "id": "9a76eecf-37b1-4f28-879d-f40413e47bc8",
   "metadata": {},
   "outputs": [
    {
     "name": "stdout",
     "output_type": "stream",
     "text": [
      "Collecting streamlit\n",
      "  Using cached streamlit-1.37.0-py2.py3-none-any.whl.metadata (8.5 kB)\n",
      "Collecting altair<6,>=4.0 (from streamlit)\n",
      "  Using cached altair-5.3.0-py3-none-any.whl.metadata (9.2 kB)\n",
      "Collecting blinker<2,>=1.0.0 (from streamlit)\n",
      "  Using cached blinker-1.8.2-py3-none-any.whl.metadata (1.6 kB)\n",
      "Collecting cachetools<6,>=4.0 (from streamlit)\n",
      "  Using cached cachetools-5.4.0-py3-none-any.whl.metadata (5.3 kB)\n",
      "Collecting click<9,>=7.0 (from streamlit)\n",
      "  Using cached click-8.1.7-py3-none-any.whl.metadata (3.0 kB)\n",
      "Requirement already satisfied: numpy<3,>=1.20 in c:\\users\\joelma\\anaconda3\\envs\\rag\\lib\\site-packages (from streamlit) (1.26.4)\n",
      "Requirement already satisfied: packaging<25,>=20 in c:\\users\\joelma\\anaconda3\\envs\\rag\\lib\\site-packages (from streamlit) (24.1)\n",
      "Collecting pandas<3,>=1.3.0 (from streamlit)\n",
      "  Using cached pandas-2.2.2-cp312-cp312-win_amd64.whl.metadata (19 kB)\n",
      "Collecting pillow<11,>=7.1.0 (from streamlit)\n",
      "  Using cached pillow-10.4.0-cp312-cp312-win_amd64.whl.metadata (9.3 kB)\n",
      "Collecting protobuf<6,>=3.20 (from streamlit)\n",
      "  Using cached protobuf-5.27.2-cp310-abi3-win_amd64.whl.metadata (592 bytes)\n",
      "Collecting pyarrow>=7.0 (from streamlit)\n",
      "  Using cached pyarrow-17.0.0-cp312-cp312-win_amd64.whl.metadata (3.4 kB)\n",
      "Requirement already satisfied: requests<3,>=2.27 in c:\\users\\joelma\\anaconda3\\envs\\rag\\lib\\site-packages (from streamlit) (2.32.3)\n",
      "Collecting rich<14,>=10.14.0 (from streamlit)\n",
      "  Using cached rich-13.7.1-py3-none-any.whl.metadata (18 kB)\n",
      "Requirement already satisfied: tenacity<9,>=8.1.0 in c:\\users\\joelma\\anaconda3\\envs\\rag\\lib\\site-packages (from streamlit) (8.5.0)\n",
      "Collecting toml<2,>=0.10.1 (from streamlit)\n",
      "  Using cached toml-0.10.2-py2.py3-none-any.whl.metadata (7.1 kB)\n",
      "Requirement already satisfied: typing-extensions<5,>=4.3.0 in c:\\users\\joelma\\anaconda3\\envs\\rag\\lib\\site-packages (from streamlit) (4.11.0)\n",
      "Collecting gitpython!=3.1.19,<4,>=3.0.7 (from streamlit)\n",
      "  Using cached GitPython-3.1.43-py3-none-any.whl.metadata (13 kB)\n",
      "Collecting pydeck<1,>=0.8.0b4 (from streamlit)\n",
      "  Using cached pydeck-0.9.1-py2.py3-none-any.whl.metadata (4.1 kB)\n",
      "Requirement already satisfied: tornado<7,>=6.0.3 in c:\\users\\joelma\\anaconda3\\envs\\rag\\lib\\site-packages (from streamlit) (6.4.1)\n",
      "Collecting watchdog<5,>=2.1.5 (from streamlit)\n",
      "  Using cached watchdog-4.0.1-py3-none-win_amd64.whl.metadata (37 kB)\n",
      "Requirement already satisfied: jinja2 in c:\\users\\joelma\\anaconda3\\envs\\rag\\lib\\site-packages (from altair<6,>=4.0->streamlit) (3.1.4)\n",
      "Requirement already satisfied: jsonschema>=3.0 in c:\\users\\joelma\\anaconda3\\envs\\rag\\lib\\site-packages (from altair<6,>=4.0->streamlit) (4.19.2)\n",
      "Collecting toolz (from altair<6,>=4.0->streamlit)\n",
      "  Using cached toolz-0.12.1-py3-none-any.whl.metadata (5.1 kB)\n",
      "Requirement already satisfied: colorama in c:\\users\\joelma\\anaconda3\\envs\\rag\\lib\\site-packages (from click<9,>=7.0->streamlit) (0.4.6)\n",
      "Collecting gitdb<5,>=4.0.1 (from gitpython!=3.1.19,<4,>=3.0.7->streamlit)\n",
      "  Using cached gitdb-4.0.11-py3-none-any.whl.metadata (1.2 kB)\n",
      "Requirement already satisfied: python-dateutil>=2.8.2 in c:\\users\\joelma\\anaconda3\\envs\\rag\\lib\\site-packages (from pandas<3,>=1.3.0->streamlit) (2.9.0.post0)\n",
      "Requirement already satisfied: pytz>=2020.1 in c:\\users\\joelma\\anaconda3\\envs\\rag\\lib\\site-packages (from pandas<3,>=1.3.0->streamlit) (2024.1)\n",
      "Collecting tzdata>=2022.7 (from pandas<3,>=1.3.0->streamlit)\n",
      "  Using cached tzdata-2024.1-py2.py3-none-any.whl.metadata (1.4 kB)\n",
      "Requirement already satisfied: charset-normalizer<4,>=2 in c:\\users\\joelma\\anaconda3\\envs\\rag\\lib\\site-packages (from requests<3,>=2.27->streamlit) (3.3.2)\n",
      "Requirement already satisfied: idna<4,>=2.5 in c:\\users\\joelma\\anaconda3\\envs\\rag\\lib\\site-packages (from requests<3,>=2.27->streamlit) (3.7)\n",
      "Requirement already satisfied: urllib3<3,>=1.21.1 in c:\\users\\joelma\\anaconda3\\envs\\rag\\lib\\site-packages (from requests<3,>=2.27->streamlit) (2.2.2)\n",
      "Requirement already satisfied: certifi>=2017.4.17 in c:\\users\\joelma\\anaconda3\\envs\\rag\\lib\\site-packages (from requests<3,>=2.27->streamlit) (2024.7.4)\n",
      "Collecting markdown-it-py>=2.2.0 (from rich<14,>=10.14.0->streamlit)\n",
      "  Using cached markdown_it_py-3.0.0-py3-none-any.whl.metadata (6.9 kB)\n",
      "Requirement already satisfied: pygments<3.0.0,>=2.13.0 in c:\\users\\joelma\\anaconda3\\envs\\rag\\lib\\site-packages (from rich<14,>=10.14.0->streamlit) (2.15.1)\n",
      "Collecting smmap<6,>=3.0.1 (from gitdb<5,>=4.0.1->gitpython!=3.1.19,<4,>=3.0.7->streamlit)\n",
      "  Using cached smmap-5.0.1-py3-none-any.whl.metadata (4.3 kB)\n",
      "Requirement already satisfied: MarkupSafe>=2.0 in c:\\users\\joelma\\anaconda3\\envs\\rag\\lib\\site-packages (from jinja2->altair<6,>=4.0->streamlit) (2.1.3)\n",
      "Requirement already satisfied: attrs>=22.2.0 in c:\\users\\joelma\\anaconda3\\envs\\rag\\lib\\site-packages (from jsonschema>=3.0->altair<6,>=4.0->streamlit) (23.1.0)\n",
      "Requirement already satisfied: jsonschema-specifications>=2023.03.6 in c:\\users\\joelma\\anaconda3\\envs\\rag\\lib\\site-packages (from jsonschema>=3.0->altair<6,>=4.0->streamlit) (2023.7.1)\n",
      "Requirement already satisfied: referencing>=0.28.4 in c:\\users\\joelma\\anaconda3\\envs\\rag\\lib\\site-packages (from jsonschema>=3.0->altair<6,>=4.0->streamlit) (0.30.2)\n",
      "Requirement already satisfied: rpds-py>=0.7.1 in c:\\users\\joelma\\anaconda3\\envs\\rag\\lib\\site-packages (from jsonschema>=3.0->altair<6,>=4.0->streamlit) (0.10.6)\n",
      "Collecting mdurl~=0.1 (from markdown-it-py>=2.2.0->rich<14,>=10.14.0->streamlit)\n",
      "  Using cached mdurl-0.1.2-py3-none-any.whl.metadata (1.6 kB)\n",
      "Requirement already satisfied: six>=1.5 in c:\\users\\joelma\\anaconda3\\envs\\rag\\lib\\site-packages (from python-dateutil>=2.8.2->pandas<3,>=1.3.0->streamlit) (1.16.0)\n",
      "Using cached streamlit-1.37.0-py2.py3-none-any.whl (8.7 MB)\n",
      "Using cached altair-5.3.0-py3-none-any.whl (857 kB)\n",
      "Using cached blinker-1.8.2-py3-none-any.whl (9.5 kB)\n",
      "Using cached cachetools-5.4.0-py3-none-any.whl (9.5 kB)\n",
      "Using cached click-8.1.7-py3-none-any.whl (97 kB)\n",
      "Using cached GitPython-3.1.43-py3-none-any.whl (207 kB)\n",
      "Using cached pandas-2.2.2-cp312-cp312-win_amd64.whl (11.5 MB)\n",
      "Using cached pillow-10.4.0-cp312-cp312-win_amd64.whl (2.6 MB)\n",
      "Using cached protobuf-5.27.2-cp310-abi3-win_amd64.whl (426 kB)\n",
      "Using cached pyarrow-17.0.0-cp312-cp312-win_amd64.whl (25.1 MB)\n",
      "Using cached pydeck-0.9.1-py2.py3-none-any.whl (6.9 MB)\n",
      "Using cached rich-13.7.1-py3-none-any.whl (240 kB)\n",
      "Using cached toml-0.10.2-py2.py3-none-any.whl (16 kB)\n",
      "Using cached watchdog-4.0.1-py3-none-win_amd64.whl (83 kB)\n",
      "Using cached gitdb-4.0.11-py3-none-any.whl (62 kB)\n",
      "Using cached markdown_it_py-3.0.0-py3-none-any.whl (87 kB)\n",
      "Using cached tzdata-2024.1-py2.py3-none-any.whl (345 kB)\n",
      "Using cached toolz-0.12.1-py3-none-any.whl (56 kB)\n",
      "Using cached mdurl-0.1.2-py3-none-any.whl (10.0 kB)\n",
      "Using cached smmap-5.0.1-py3-none-any.whl (24 kB)\n",
      "Installing collected packages: watchdog, tzdata, toolz, toml, smmap, pyarrow, protobuf, pillow, mdurl, click, cachetools, blinker, pydeck, pandas, markdown-it-py, gitdb, rich, gitpython, altair, streamlit\n",
      "Successfully installed altair-5.3.0 blinker-1.8.2 cachetools-5.4.0 click-8.1.7 gitdb-4.0.11 gitpython-3.1.43 markdown-it-py-3.0.0 mdurl-0.1.2 pandas-2.2.2 pillow-10.4.0 protobuf-5.27.2 pyarrow-17.0.0 pydeck-0.9.1 rich-13.7.1 smmap-5.0.1 streamlit-1.37.0 toml-0.10.2 toolz-0.12.1 tzdata-2024.1 watchdog-4.0.1\n"
     ]
    },
    {
     "name": "stderr",
     "output_type": "stream",
     "text": [
      "ERROR: pip's dependency resolver does not currently take into account all the packages that are installed. This behaviour is the source of the following dependency conflicts.\n",
      "typer 0.12.3 requires shellingham>=1.3.0, which is not installed.\n"
     ]
    }
   ],
   "source": [
    "!pip install streamlit"
   ]
  },
  {
   "cell_type": "code",
   "execution_count": 4,
   "id": "f768c233-acdc-4d2c-b00a-f7f60beb2f71",
   "metadata": {},
   "outputs": [],
   "source": [
    "from IPython.display import Image"
   ]
  },
  {
   "cell_type": "markdown",
   "id": "c54abbc8-bf28-404d-ab84-c28085193793",
   "metadata": {},
   "source": [
    "# Instale o Ambiente"
   ]
  },
  {
   "cell_type": "markdown",
   "id": "bbc4e2f9-531e-4245-a915-621f12a7a294",
   "metadata": {},
   "source": [
    "### Passo 1:\n",
    "\n",
    "Vá ao site Ollama https://ollama.com/ e faça download conforme o seu ambiente.\n",
    "\n",
    "Ollama é uma plataforma ou biblioteca que oferece serviços de processamento de linguagem natural, especificamente modelos de linguagem grandes (LLMs) como o modelo \"llama3\". "
   ]
  },
  {
   "cell_type": "code",
   "execution_count": 5,
   "id": "65297417-feb0-4204-afc8-5ae88fb833c9",
   "metadata": {},
   "outputs": [
    {
     "data": {
      "text/html": [
       "<img src=\"../imagens/ollama.png\" width=\"500\" height=\"200\"/>"
      ],
      "text/plain": [
       "<IPython.core.display.Image object>"
      ]
     },
     "execution_count": 5,
     "metadata": {},
     "output_type": "execute_result"
    }
   ],
   "source": [
    "Image(url=\"../imagens/ollama.png\", width=500, height=200)"
   ]
  },
  {
   "cell_type": "markdown",
   "id": "81900ff6-0273-4861-84a4-aaf9bfda49f3",
   "metadata": {},
   "source": [
    "### Passo 2:\n",
    "\n",
    "Vá ao terminal do seu computador e execute o comando abaixo para carregar o modelo LLM.\n",
    "\n",
    "ollama run llama3\n",
    "\n",
    "Para sair /bye\n"
   ]
  },
  {
   "cell_type": "code",
   "execution_count": 6,
   "id": "268cb207-ee72-4d58-9981-04d26cae6519",
   "metadata": {},
   "outputs": [
    {
     "data": {
      "text/html": [
       "<img src=\"../imagens/ollama2.png\" width=\"400\" height=\"200\"/>"
      ],
      "text/plain": [
       "<IPython.core.display.Image object>"
      ]
     },
     "execution_count": 6,
     "metadata": {},
     "output_type": "execute_result"
    }
   ],
   "source": [
    "Image(url=\"../imagens/ollama2.png\", width=400, height=200)"
   ]
  },
  {
   "cell_type": "markdown",
   "id": "829b011d-2c62-42a8-a7f2-63b3aaeeaf63",
   "metadata": {},
   "source": [
    "### Passo 3:\n",
    "\n",
    "Execute o Chatbot\n"
   ]
  },
  {
   "cell_type": "code",
   "execution_count": 7,
   "id": "b916fcbb",
   "metadata": {},
   "outputs": [
    {
     "name": "stdout",
     "output_type": "stream",
     "text": [
      "^C\n"
     ]
    }
   ],
   "source": [
    "!streamlit run ../chatbot_llama3_ollama.py"
   ]
  },
  {
   "cell_type": "code",
   "execution_count": null,
   "id": "6fe5f8d5-fbc2-4971-936a-e4362816b214",
   "metadata": {},
   "outputs": [],
   "source": []
  }
 ],
 "metadata": {
  "kernelspec": {
   "display_name": "Python 3 (ipykernel)",
   "language": "python",
   "name": "python3"
  },
  "language_info": {
   "codemirror_mode": {
    "name": "ipython",
    "version": 3
   },
   "file_extension": ".py",
   "mimetype": "text/x-python",
   "name": "python",
   "nbconvert_exporter": "python",
   "pygments_lexer": "ipython3",
   "version": "3.12.4"
  }
 },
 "nbformat": 4,
 "nbformat_minor": 5
}
