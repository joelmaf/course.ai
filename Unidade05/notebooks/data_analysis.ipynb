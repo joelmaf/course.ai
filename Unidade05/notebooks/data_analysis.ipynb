{
 "cells": [
  {
   "cell_type": "markdown",
   "id": "26492d9f-a586-4ac5-bd7d-2d71c808fb10",
   "metadata": {},
   "source": [
    "# UNIDADE 5:  Redes Neurais\n"
   ]
  },
  {
   "cell_type": "markdown",
   "id": "14e9eb93-143b-4ecb-9cdc-f6097804c9e7",
   "metadata": {},
   "source": [
    "<div style=\"background-color: #ff87b2; padding: 20px; border-radius: 10px;\">\n",
    "<h3>Atividade 5:</h3>\n",
    "\n",
    "Para o estudo de caso do Classificação de Casos de Alzheimer discutido na Unidade 1. Gere uma base de dados fictícia com uma quantidade maior de dados (pode usar a IA para te ajudar nisso) ou utilize uma base real. Usando os conhecimentos de limpeza, transformação e criação de um modelo, tratados até o momento, crie um modelo de classificação de dados (escolha o algoritmo) que possua uma acurácia maior do que a aprendida na Unidade 1.\n",
    "\n",
    "Poste no AVA o Jupyter Notebook ou o link para o repositório GitHub.\n",
    "  \n",
    "</div>."
   ]
  },
  {
   "cell_type": "markdown",
   "id": "f3b3c94b-04dd-4e84-98c4-dff9a930bdd2",
   "metadata": {},
   "source": [
    "<div style=\"border: 2px solid #00008B; padding: 15px; border-radius: 10px; background-color: #00008B; color: #FFFFFF; font-family: Arial;\">\n",
    "  <h1 style=\"margin-top: 0;\"> Predição de Tempo de Atravessamento de Ações na Justiça</h1>\n",
    "  <p>Descrição: Prever o tempo de atravessamento do processo (da solicitação até a efetiva entrega) utilizando informações históricas e considerando as características do processo no momento de autuação.\n",
    "</p>\n",
    "</div>"
   ]
  },
  {
   "cell_type": "markdown",
   "id": "3bc47d42-8a69-4926-8dab-0da3784fcd55",
   "metadata": {},
   "source": [
    "<div style=\"background-color: #f0f8ff; padding: 20px; border-radius: 10px;\">\n",
    "  <ul>\n",
    "    <li>Rito (valores: trabalhista ou sumaríssimo)</li>\n",
    "    <li>Tempo de Serviço do Reclamante (valores: tempo em meses até a data da despensa)</li>\n",
    "    <li>Último salário do reclamante  (valores: número real)</li>\n",
    "    <li>Profissão do reclamante (valores: comércio, indústria ou serviço)</li>\n",
    "    <li>Cargo do reclamante (valores: direção ou execução)</li>\n",
    "    <li>Objeto do processo (valores: falta de registro em carteira, diferença salarial, verbas recisórias, multa do Art, 477, multa do Art. 467, horas extras e reflexos, fundo de garantia por tempo de serviço, indenização por dados morais, seguro desemprego, vale transporte, adicional de insalubridade, adicional noturno, plano de saúde)</li>\n",
    "    <li>Quantidade de depoimentos em cada audiência (valores: número inteiro entre 1 e 200)</li>\n",
    "    <li>Acordo (valores: presença ou ausência)</li>\n",
    "    <li>Necessidade de perícia (valores: S para Sim e N para Não)</li>\n",
    "    <li>Solicitação de recurso ordinário contra sentença emitida pelo Juiz de 1 grau  (valores: S para Sim e N para Não)</li>\n",
    "    <li>Solicitação de recurso de revista contra acordão (valores: S para Sim e N para Não)</li>\n",
    "    <li>Número de audiências até a emissão da sentença (valores: número inteiro entre 1 e 200)</li>\n",
    "    <li>Tempo médio de cada audiência (valor inteiro em minutos entre 30 e 1000)</li>\n",
    "    <li>Duração do processo (valor inteiro em meses entre 1 e 500)</li>\n",
    " </ul>\n",
    "</div>"
   ]
  },
  {
   "cell_type": "code",
   "execution_count": null,
   "id": "b75bff25-a3e8-4a1b-a028-81078aa0b03a",
   "metadata": {},
   "outputs": [],
   "source": [
    "!pip install pandas"
   ]
  },
  {
   "cell_type": "code",
   "execution_count": null,
   "id": "a6b131e8-e529-444a-8d29-4de24ccb2dab",
   "metadata": {},
   "outputs": [],
   "source": [
    "!pip install numpy"
   ]
  },
  {
   "cell_type": "code",
   "execution_count": null,
   "id": "6a4a72a8-7df6-4d82-aa85-bae7f069ce93",
   "metadata": {},
   "outputs": [],
   "source": [
    "!pip install scikit-learn"
   ]
  },
  {
   "cell_type": "code",
   "execution_count": null,
   "id": "4bd90ef3-d881-49b2-85fd-1a47ab44299c",
   "metadata": {},
   "outputs": [],
   "source": [
    "!pip install seaborn"
   ]
  },
  {
   "cell_type": "code",
   "execution_count": null,
   "id": "fc4813c6-e82f-425c-abd8-fe02756972d3",
   "metadata": {},
   "outputs": [],
   "source": [
    "!pip install streamlit"
   ]
  },
  {
   "cell_type": "code",
   "execution_count": null,
   "id": "7697cc47-fef3-489a-9f23-5b6066417191",
   "metadata": {},
   "outputs": [],
   "source": [
    "import pandas as pd\n",
    "import numpy as np\n",
    "\n",
    "pd.set_option('display.float_format', '{:.5f}'.format)\n",
    "\n",
    "import streamlit as st\n",
    "import joblib\n",
    "\n",
    "from sklearn.linear_model import LinearRegression\n",
    "from sklearn.preprocessing import PolynomialFeatures\n",
    "from sklearn.preprocessing import MinMaxScaler\n",
    "from sklearn.preprocessing import StandardScaler\n",
    "import scipy.stats as stats\n",
    "\n",
    "import matplotlib.pyplot as plt\n",
    "import seaborn as sns\n",
    "\n",
    "%matplotlib inline"
   ]
  },
  {
   "cell_type": "markdown",
   "id": "c843ba81-3de0-473a-800b-fe7d3328d3a2",
   "metadata": {},
   "source": [
    "import warnings\n",
    "warnings.filterwarnings('ignore')"
   ]
  },
  {
   "cell_type": "markdown",
   "id": "2931a492-6eb2-4d0f-bc55-1cc84fd9016f",
   "metadata": {},
   "source": [
    "# Ingestão de Dados"
   ]
  },
  {
   "cell_type": "code",
   "execution_count": null,
   "id": "ded7f750-63b8-4eac-b0ea-63b8ea56941c",
   "metadata": {},
   "outputs": [],
   "source": [
    "df_servidor = pd.read_csv(\"../data/raw/tempo_audiencias.csv\")"
   ]
  },
  {
   "cell_type": "code",
   "execution_count": null,
   "id": "8cac14c7-9143-4e3e-91d4-a6c2eb335eb6",
   "metadata": {},
   "outputs": [],
   "source": [
    "df_servidor.head(5)"
   ]
  },
  {
   "cell_type": "code",
   "execution_count": null,
   "id": "c25bc04d-5428-4611-a1ee-e52a9fb79d9a",
   "metadata": {},
   "outputs": [],
   "source": [
    "df_servidor.shape"
   ]
  },
  {
   "cell_type": "code",
   "execution_count": null,
   "id": "258555c1-3cac-4ad3-b298-67e92080c41b",
   "metadata": {},
   "outputs": [],
   "source": [
    "df_servidor.info()"
   ]
  },
  {
   "cell_type": "code",
   "execution_count": null,
   "id": "a8652ef0-205c-483f-8f36-d1cd863513b1",
   "metadata": {},
   "outputs": [],
   "source": [
    "df_servidor.describe()"
   ]
  },
  {
   "cell_type": "code",
   "execution_count": null,
   "id": "4241dfb1-6b83-4cba-ae85-b191104eaf60",
   "metadata": {},
   "outputs": [],
   "source": [
    "df_servidor.describe(include=['O'])"
   ]
  },
  {
   "cell_type": "code",
   "execution_count": null,
   "id": "e2f04b56-6f90-4ae4-a20a-368758eae4f2",
   "metadata": {},
   "outputs": [],
   "source": [
    "for col in df_servidor.select_dtypes(include=['object']).columns:\n",
    "    print(f'{col}:\\n{df_servidor[col].value_counts()}\\n')"
   ]
  },
  {
   "cell_type": "code",
   "execution_count": null,
   "id": "878d5de6-7f35-405e-93ef-2914d5aa594d",
   "metadata": {},
   "outputs": [],
   "source": [
    "df_servidor.isna().sum()"
   ]
  },
  {
   "cell_type": "markdown",
   "id": "547960f6-bbfd-423a-a0c5-85bce1ae44a5",
   "metadata": {},
   "source": [
    "# Limpeza e Transformação"
   ]
  },
  {
   "cell_type": "markdown",
   "id": "962b2097-6b41-41cc-a23e-c049fe453280",
   "metadata": {},
   "source": [
    "<div style=\"background-color: #f0f8ff; padding: 7px; border-radius: 10px;\">\n",
    "<h3>Variável: rito</h3>\n",
    "</div>"
   ]
  },
  {
   "cell_type": "code",
   "execution_count": null,
   "id": "bb84007b-0293-47c2-a709-106ad23a611d",
   "metadata": {},
   "outputs": [],
   "source": [
    "df_servidor[\"rito\"].unique()"
   ]
  },
  {
   "cell_type": "code",
   "execution_count": null,
   "id": "2ccb26e8-4b8a-4d84-b019-4f91c96afc8c",
   "metadata": {},
   "outputs": [],
   "source": [
    "categorias = df_servidor['rito'].astype('category').cat.categories\n",
    "codigos = df_servidor['rito'].astype('category').cat.codes\n",
    "print({codigo: categoria for codigo, categoria in enumerate(categorias)})"
   ]
  },
  {
   "cell_type": "code",
   "execution_count": null,
   "id": "98378052-c8cf-4946-9546-048df642a7a8",
   "metadata": {},
   "outputs": [],
   "source": [
    "df_servidor['rito'] = df_servidor['rito'].astype('category').cat.codes\n",
    "df_servidor[\"rito\"].unique()"
   ]
  },
  {
   "cell_type": "markdown",
   "id": "b2c6a311-d225-488c-9ab6-9bf6443a1171",
   "metadata": {},
   "source": [
    "<div style=\"background-color: #f0f8ff; padding: 7px; border-radius: 10px;\">\n",
    "<h3>Variável: profissao</h3>\n",
    "</div>"
   ]
  },
  {
   "cell_type": "code",
   "execution_count": null,
   "id": "ef11e21d-2e14-4520-b849-ccd1bad25bae",
   "metadata": {},
   "outputs": [],
   "source": [
    "df_servidor[\"profissao\"].unique()"
   ]
  },
  {
   "cell_type": "code",
   "execution_count": null,
   "id": "08e5608d-ae8d-49b2-a584-28d012ab5987",
   "metadata": {},
   "outputs": [],
   "source": [
    "categorias = df_servidor['profissao'].astype('category').cat.categories\n",
    "codigos = df_servidor['profissao'].astype('category').cat.codes\n",
    "print({codigo: categoria for codigo, categoria in enumerate(categorias)})"
   ]
  },
  {
   "cell_type": "code",
   "execution_count": null,
   "id": "0c1494fb-762a-499b-a2f3-3032edf0c743",
   "metadata": {},
   "outputs": [],
   "source": [
    "df_servidor['profissao'] = df_servidor['profissao'].astype('category').cat.codes\n",
    "df_servidor[\"profissao\"].unique()"
   ]
  },
  {
   "cell_type": "markdown",
   "id": "f5995829-c701-4457-afb7-0f435e44bfa5",
   "metadata": {},
   "source": [
    "<div style=\"background-color: #f0f8ff; padding: 7px; border-radius: 10px;\">\n",
    "<h3>Variável: cargo</h3>\n",
    "</div>"
   ]
  },
  {
   "cell_type": "code",
   "execution_count": null,
   "id": "4e05f4b6-5590-4d75-b2d6-588263d8d848",
   "metadata": {},
   "outputs": [],
   "source": [
    "df_servidor[\"cargo\"].unique()"
   ]
  },
  {
   "cell_type": "code",
   "execution_count": null,
   "id": "67a3a293-6182-4c7a-b600-cc597a572cde",
   "metadata": {},
   "outputs": [],
   "source": [
    "categorias = df_servidor['cargo'].astype('category').cat.categories\n",
    "codigos = df_servidor['cargo'].astype('category').cat.codes\n",
    "print({codigo: categoria for codigo, categoria in enumerate(categorias)})"
   ]
  },
  {
   "cell_type": "code",
   "execution_count": null,
   "id": "f86e5463-a32f-4e2e-aada-08a5a421f4d9",
   "metadata": {},
   "outputs": [],
   "source": [
    "df_servidor['cargo'] = df_servidor['profissao'].astype('category').cat.codes\n",
    "df_servidor[\"cargo\"].unique()"
   ]
  },
  {
   "cell_type": "markdown",
   "id": "6ac440a5-1eb8-406f-864e-8288304192df",
   "metadata": {},
   "source": [
    "<div style=\"background-color: #f0f8ff; padding: 7px; border-radius: 10px;\">\n",
    "<h3>Variável: objeto_processo</h3>\n",
    "</div>"
   ]
  },
  {
   "cell_type": "code",
   "execution_count": null,
   "id": "55217692-316d-4d08-944c-784eaa91ca3f",
   "metadata": {},
   "outputs": [],
   "source": [
    "df_servidor[\"objeto_processo\"].unique()"
   ]
  },
  {
   "cell_type": "code",
   "execution_count": null,
   "id": "5e426bd0-121b-472f-bb2d-16697406544f",
   "metadata": {},
   "outputs": [],
   "source": [
    "categorias = df_servidor['objeto_processo'].astype('category').cat.categories\n",
    "codigos = df_servidor['objeto_processo'].astype('category').cat.codes\n",
    "print({codigo: categoria for codigo, categoria in enumerate(categorias)})"
   ]
  },
  {
   "cell_type": "code",
   "execution_count": null,
   "id": "f09bc525-1bdd-4fec-8631-244aa72a4597",
   "metadata": {},
   "outputs": [],
   "source": [
    "df_servidor['objeto_processo'] = df_servidor['objeto_processo'].astype('category').cat.codes\n",
    "df_servidor[\"objeto_processo\"].unique()"
   ]
  },
  {
   "cell_type": "code",
   "execution_count": null,
   "id": "fb416761-745f-4130-b7bb-eabfab83bc8b",
   "metadata": {},
   "outputs": [],
   "source": [
    "#df_servidor = pd.get_dummies(df_servidor, columns=['objeto_processo'], prefix='objeto_processo')\n",
    "#dummy_columns = [col for col in df_servidor.columns if col.startswith('objeto_processo')]\n",
    "#df_servidor[dummy_columns] = df_servidor[dummy_columns].astype(int)\n",
    "df_servidor"
   ]
  },
  {
   "cell_type": "markdown",
   "id": "df29cfcf-5294-49cc-801e-465d4c2549f7",
   "metadata": {},
   "source": [
    "<div style=\"background-color: #f0f8ff; padding: 7px; border-radius: 10px;\">\n",
    "<h3>Variável: acordo</h3>\n",
    "</div>"
   ]
  },
  {
   "cell_type": "code",
   "execution_count": null,
   "id": "9d38f2b8-7313-43bf-9b22-ee96ab22749c",
   "metadata": {},
   "outputs": [],
   "source": [
    "df_servidor[\"acordo\"].unique()"
   ]
  },
  {
   "cell_type": "code",
   "execution_count": null,
   "id": "f7c79d7c-c771-46a1-ab60-718e7856738a",
   "metadata": {},
   "outputs": [],
   "source": [
    "categorias = df_servidor['acordo'].astype('category').cat.categories\n",
    "codigos = df_servidor['acordo'].astype('category').cat.codes\n",
    "print({codigo: categoria for codigo, categoria in enumerate(categorias)})"
   ]
  },
  {
   "cell_type": "code",
   "execution_count": null,
   "id": "1d058c31-733d-42ac-8cce-ddeb40805b18",
   "metadata": {},
   "outputs": [],
   "source": [
    "df_servidor['acordo'] = df_servidor['acordo'].astype('category').cat.codes\n",
    "df_servidor[\"acordo\"].unique()"
   ]
  },
  {
   "cell_type": "markdown",
   "id": "76f53175-5a6b-4cad-9c33-c7f831099c3a",
   "metadata": {},
   "source": [
    "<div style=\"background-color: #f0f8ff; padding: 7px; border-radius: 10px;\">\n",
    "<h3>Variável: pericia</h3>\n",
    "</div>"
   ]
  },
  {
   "cell_type": "code",
   "execution_count": null,
   "id": "20068919-ca68-45c3-995a-3ff244e7c309",
   "metadata": {},
   "outputs": [],
   "source": [
    "df_servidor[\"pericia\"].unique()"
   ]
  },
  {
   "cell_type": "code",
   "execution_count": null,
   "id": "e7a8a712-c343-491c-9542-adb39a012c1b",
   "metadata": {},
   "outputs": [],
   "source": [
    "categorias = df_servidor['pericia'].astype('category').cat.categories\n",
    "codigos = df_servidor['pericia'].astype('category').cat.codes\n",
    "print({codigo: categoria for codigo, categoria in enumerate(categorias)})"
   ]
  },
  {
   "cell_type": "code",
   "execution_count": null,
   "id": "c7990ad2-cca2-4044-b39a-2643c14cd161",
   "metadata": {},
   "outputs": [],
   "source": [
    "df_servidor['pericia'] = df_servidor['pericia'].astype('category').cat.codes\n",
    "df_servidor[\"pericia\"].unique()"
   ]
  },
  {
   "cell_type": "markdown",
   "id": "a819b07b-04a0-42d0-b686-ed25c0c00859",
   "metadata": {},
   "source": [
    "<div style=\"background-color: #f0f8ff; padding: 7px; border-radius: 10px;\">\n",
    "<h3>Variável: recurso_ordinario</h3>\n",
    "</div>"
   ]
  },
  {
   "cell_type": "code",
   "execution_count": null,
   "id": "98f9d673-95af-42d1-89c6-59ba11a65fc8",
   "metadata": {},
   "outputs": [],
   "source": [
    "df_servidor[\"recurso_ordinario\"].unique()"
   ]
  },
  {
   "cell_type": "code",
   "execution_count": null,
   "id": "ccac48a2-406c-4ef7-a703-6dc8591037d6",
   "metadata": {},
   "outputs": [],
   "source": [
    "categorias = df_servidor['recurso_ordinario'].astype('category').cat.categories\n",
    "codigos = df_servidor['recurso_ordinario'].astype('category').cat.codes\n",
    "print({codigo: categoria for codigo, categoria in enumerate(categorias)})"
   ]
  },
  {
   "cell_type": "code",
   "execution_count": null,
   "id": "baa29c11-8ef9-4a1f-9ddc-76cf304ea2a7",
   "metadata": {},
   "outputs": [],
   "source": [
    "df_servidor['recurso_ordinario'] = df_servidor['recurso_ordinario'].astype('category').cat.codes\n",
    "df_servidor[\"recurso_ordinario\"].unique()"
   ]
  },
  {
   "cell_type": "markdown",
   "id": "5d6f3895-34c5-40ac-9521-94b97dc563b8",
   "metadata": {},
   "source": [
    "<div style=\"background-color: #f0f8ff; padding: 7px; border-radius: 10px;\">\n",
    "<h3>Variável: recurso_revista</h3>\n",
    "</div>"
   ]
  },
  {
   "cell_type": "code",
   "execution_count": null,
   "id": "2d7778f9-4e1d-417a-b77b-294e40d75172",
   "metadata": {},
   "outputs": [],
   "source": [
    "df_servidor[\"recurso_revista\"].unique()"
   ]
  },
  {
   "cell_type": "code",
   "execution_count": null,
   "id": "760d810b-f4f6-455c-83f9-af8d088248f7",
   "metadata": {},
   "outputs": [],
   "source": [
    "categorias = df_servidor['recurso_revista'].astype('category').cat.categories\n",
    "codigos = df_servidor['recurso_revista'].astype('category').cat.codes\n",
    "print({codigo: categoria for codigo, categoria in enumerate(categorias)})"
   ]
  },
  {
   "cell_type": "code",
   "execution_count": null,
   "id": "49227e55-7b76-426c-997a-8122c069695c",
   "metadata": {},
   "outputs": [],
   "source": [
    "df_servidor['recurso_revista'] = df_servidor['recurso_revista'].astype('category').cat.codes\n",
    "df_servidor[\"recurso_revista\"].unique()"
   ]
  },
  {
   "cell_type": "code",
   "execution_count": null,
   "id": "07064130-f811-432d-9bd0-06fb52957b5e",
   "metadata": {},
   "outputs": [],
   "source": [
    "df_servidor"
   ]
  },
  {
   "cell_type": "markdown",
   "id": "dcc20850-6819-4ef5-b2ef-1fb7627b1aa5",
   "metadata": {},
   "source": [
    "### Normalização (Min-Max Scaling)"
   ]
  },
  {
   "cell_type": "code",
   "execution_count": null,
   "id": "941285d8-6d7a-4289-ace8-e37547ca9ab3",
   "metadata": {},
   "outputs": [],
   "source": [
    "scaler = MinMaxScaler()\n",
    "df_normalizado = pd.DataFrame(scaler.fit_transform(df_servidor), columns=df_servidor.columns)\n",
    "df_normalizado"
   ]
  },
  {
   "cell_type": "code",
   "execution_count": null,
   "id": "ae9336f1-793a-4f4c-9d4e-48fec23d6894",
   "metadata": {},
   "outputs": [],
   "source": [
    "# Salvar o scaler ajustado\n",
    "joblib.dump(scaler, '../models/scaler.pkl')"
   ]
  },
  {
   "cell_type": "code",
   "execution_count": null,
   "id": "22453ea5-2476-4910-b68f-5fa44526834c",
   "metadata": {},
   "outputs": [],
   "source": [
    "# Salvar o DataFrame como um arquivo CSV\n",
    "df_normalizado.to_csv('../data/processed/tempo_audiencias.csv', index=False)"
   ]
  }
 ],
 "metadata": {
  "kernelspec": {
   "display_name": "Python 3 (ipykernel)",
   "language": "python",
   "name": "python3"
  },
  "language_info": {
   "codemirror_mode": {
    "name": "ipython",
    "version": 3
   },
   "file_extension": ".py",
   "mimetype": "text/x-python",
   "name": "python",
   "nbconvert_exporter": "python",
   "pygments_lexer": "ipython3",
   "version": "3.11.7"
  }
 },
 "nbformat": 4,
 "nbformat_minor": 5
}
