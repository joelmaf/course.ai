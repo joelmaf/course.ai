{
 "cells": [
  {
   "cell_type": "markdown",
   "id": "172a8e50-0de1-4af5-a17c-513b795304d1",
   "metadata": {},
   "source": [
    "# UNIDADE 5:  Redes Neurais"
   ]
  },
  {
   "cell_type": "markdown",
   "id": "4add8ee8-ccb8-4b01-a637-4d39e13210e9",
   "metadata": {},
   "source": [
    "<div style=\"border: 2px solid #00008B; padding: 15px; border-radius: 10px; background-color: #00008B; color: #FFFFFF; font-family: Arial;\">\n",
    "  <h1 style=\"margin-top: 0;\"> Predição de Tempo de Atravessamento de Ações na Justiça</h1>\n",
    "  <p>Descrição: Prever o tempo de atravessamento do processo (da solicitação até a efetiva entrega) utilizando informações históricas e considerando as características do processo no momento de autuação.\n",
    "</p>\n",
    "</div>"
   ]
  },
  {
   "cell_type": "markdown",
   "id": "5b32c809-065d-4a3a-89c6-3ba080772535",
   "metadata": {},
   "source": [
    "<div style=\"background-color: #f0f8ff; padding: 20px; border-radius: 10px;\">\n",
    "  <ul>\n",
    "    <li>Rito (valores: trabalhista ou sumaríssimo)</li>\n",
    "    <li>Tempo de Serviço do Reclamante (valores: tempo em meses até a data da despensa)</li>\n",
    "    <li>Último salário do reclamante  (valores: número real)</li>\n",
    "    <li>Profissão do reclamante (valores: comércio, indústria ou serviço)</li>\n",
    "    <li>Cargo do reclamante (valores: direção ou execução)</li>\n",
    "    <li>Objeto do processo (valores: falta de registro em carteira, diferença salarial, verbas recisórias, multa do Art, 477, multa do Art. 467, horas extras e reflexos, fundo de garantia por tempo de serviço, indenização por dados morais, seguro desemprego, vale transporte, adicional de insalubridade, adicional noturno, plano de saúde)</li>\n",
    "    <li>Quantidade de depoimentos em cada audiência (valores: número inteiro entre 1 e 200)</li>\n",
    "    <li>Acordo (valores: presença ou ausência)</li>\n",
    "    <li>Necessidade de perícia (valores: S para Sim e N para Não)</li>\n",
    "    <li>Solicitação de recurso ordinário contra sentença emitida pelo Juiz de 1 grau  (valores: S para Sim e N para Não)</li>\n",
    "    <li>Solicitação de recurso de revista contra acordão (valores: S para Sim e N para Não)</li>\n",
    "    <li>Número de audiências até a emissão da sentença (valores: número inteiro entre 1 e 200)</li>\n",
    "    <li>Tempo médio de cada audiência (valor inteiro em minutos entre 30 e 1000)</li>\n",
    "    <li>Duração do processo (valor inteiro em meses entre 1 e 500)</li>\n",
    " </ul>\n",
    "</div>\n"
   ]
  },
  {
   "cell_type": "code",
   "execution_count": null,
   "id": "ea7ff843-ca34-459b-9115-375de4908a8d",
   "metadata": {},
   "outputs": [],
   "source": [
    "#!pip install torch torchvision torchaudio"
   ]
  },
  {
   "cell_type": "code",
   "execution_count": null,
   "id": "9ec52181-e6ad-46f4-8d1b-6c93cea8896c",
   "metadata": {},
   "outputs": [],
   "source": [
    "import torch\n",
    "print(torch.__version__)"
   ]
  },
  {
   "cell_type": "code",
   "execution_count": null,
   "id": "2fabe743-02dd-4e24-abb6-5564c623678b",
   "metadata": {
    "id": "d36cbb02-d052-43eb-9157-98be9029c25b"
   },
   "outputs": [],
   "source": [
    "import pandas as pd\n",
    "import numpy as np\n",
    "\n",
    "import streamlit as st\n",
    "import joblib\n",
    "\n",
    "from sklearn.model_selection import train_test_split\n",
    "import torch\n",
    "import torch.nn as nn\n",
    "import torch.optim as optim\n",
    "from sklearn.model_selection import train_test_split\n",
    "\n",
    "from sklearn.preprocessing import MinMaxScaler"
   ]
  },
  {
   "cell_type": "markdown",
   "id": "a1c49b3f-db71-4085-944e-e2f130be71a0",
   "metadata": {},
   "source": [
    "### Carregando e preparando os dados"
   ]
  },
  {
   "cell_type": "code",
   "execution_count": null,
   "id": "62d81af5-43cd-4cbb-8f15-b9506c56ea4b",
   "metadata": {},
   "outputs": [],
   "source": [
    "df_normalizado = pd.read_csv(\"../data/processed/tempo_audiencias.csv\")"
   ]
  },
  {
   "cell_type": "code",
   "execution_count": null,
   "id": "ee8cee5c-a4a6-468d-a039-446002ceefc2",
   "metadata": {},
   "outputs": [],
   "source": [
    "df_normalizado.columns"
   ]
  },
  {
   "cell_type": "code",
   "execution_count": null,
   "id": "8eb1d344-473c-4cda-b590-04286d8dcf5d",
   "metadata": {
    "id": "8eb1d344-473c-4cda-b590-04286d8dcf5d"
   },
   "outputs": [],
   "source": [
    "X = df_normalizado.loc[:, df_normalizado.columns != 'duracao_processo']\n",
    "y = df_normalizado[\"duracao_processo\"]"
   ]
  },
  {
   "cell_type": "code",
   "execution_count": null,
   "id": "00cd514c-a925-402c-9891-daac17204be6",
   "metadata": {},
   "outputs": [],
   "source": [
    "# Dividindo os dados em treino e teste\n",
    "X_train, X_test, y_train, y_test = train_test_split(X, y, test_size=0.2, random_state=42)"
   ]
  },
  {
   "cell_type": "code",
   "execution_count": null,
   "id": "4ed7489f-7965-4e65-84dc-a9c6c323f543",
   "metadata": {},
   "outputs": [],
   "source": [
    "X_train = X_train.to_numpy()\n",
    "X_test = X_test.to_numpy()\n",
    "y_train = y_train.to_numpy()\n",
    "y_test = y_test.to_numpy()"
   ]
  },
  {
   "cell_type": "markdown",
   "id": "59781b45-631b-4126-8971-31219b35d376",
   "metadata": {},
   "source": [
    "### Convertendo para tensores do PyTorch"
   ]
  },
  {
   "cell_type": "markdown",
   "id": "95eee735-bc7a-4079-a6a4-d1df90a50bfc",
   "metadata": {},
   "source": [
    "<div style=\"background-color: #f0f8ff; padding: 20px; border-radius: 10px;\">\n",
    "Um tensor é uma estrutura de dados multi-dimensional, semelhante a arrays e matrizes, mas com a vantagem de que pode ser utilizado em GPUs para acelerar cálculos intensivos. Tensors são a unidade básica para a manipulação de dados em PyTorch, por exemplo.\n",
    "</div>"
   ]
  },
  {
   "cell_type": "markdown",
   "id": "27a062b2-4fd9-415a-a1a5-8c17c0d29d9c",
   "metadata": {},
   "source": [
    " *   **torch.tensor** converte o array para um tensor do PyTorch especificando que o tipo de dado dos elementos do tensor será float32.\n",
    " *   **view(-1, 1)** redimensiona o tensor para ter uma dimensão de (n, 1), onde n é o número de exemplos array. O -1 permite que o PyTorch infira automaticamente o tamanho dessa dimensão. O redimensionamento das labels com .view(-1, 1) é uma prática comum para garantir que as labels tenham a forma adequada para <span style=\"color:red\">a maioria dos algoritmos de aprendizado supervisionado, que geralmente esperam que os labels sejam vetores colunares</span>."
   ]
  },
  {
   "cell_type": "code",
   "execution_count": null,
   "id": "44a20b7f-6d7f-4c56-87e9-70170e2b0122",
   "metadata": {},
   "outputs": [],
   "source": []
  },
  {
   "cell_type": "markdown",
   "id": "a156bde2-4dd3-400f-8e3a-993330f5c010",
   "metadata": {
    "id": "a156bde2-4dd3-400f-8e3a-993330f5c010"
   },
   "source": [
    "### Definição da arquitetura da rede"
   ]
  },
  {
   "cell_type": "markdown",
   "id": "17153872-233f-45fa-9985-2ece07751af7",
   "metadata": {},
   "source": [
    "<div style=\"background-color: #f0f8ff; padding: 20px; border-radius: 10px;\">\n",
    "O método forward define como os dados fluem através da rede. Ele recebe um tensor x e aplica as camadas da rede, bem como funções de ativação.\n",
    "</div>"
   ]
  },
  {
   "cell_type": "markdown",
   "id": "c5d8a736-09e5-4b0d-aafc-39e894ba050a",
   "metadata": {},
   "source": [
    "* **nn.Linear(n, m)** define uma camada totalmente conectada (fully connected) com n entradas e m saídas\n",
    "* **torch.relu(self.fc1(x))** Aplica a primeira camada (self.fc1) aos dados de entrada x e, em seguida, aplica a função de ativação ReLU (Rectified Linear Unit)."
   ]
  },
  {
   "cell_type": "code",
   "execution_count": null,
   "id": "e2d0bb94-12ab-493e-b5cd-03d72790f097",
   "metadata": {},
   "outputs": [],
   "source": [
    "# Definindo o modelo da rede neural\n"
   ]
  },
  {
   "cell_type": "code",
   "execution_count": null,
   "id": "fa8f05ae-c6ea-4606-afc5-2b7812df9afb",
   "metadata": {},
   "outputs": [],
   "source": [
    "# Instanciando o modelo\n"
   ]
  },
  {
   "cell_type": "markdown",
   "id": "bbec0ca8-d6ca-4142-85ad-3ffc141de49b",
   "metadata": {},
   "source": [
    "### Função de Perda\n",
    "\n",
    "A função de perda mede a diferença entre as previsões do modelo e os valores reais dos dados. Durante o treinamento, o objetivo é minimizar essa perda ajustando os pesos da rede neural.\n",
    "\n",
    "#### MSELoss\n",
    "\n",
    "`nn.MSELoss` é uma classe do PyTorch que implementa a função de perda de erro quadrático médio (Mean Squared Error, MSE). \n",
    "\n",
    "#### Fórmula do MSE\n",
    "\n",
    "A fórmula do MSE para um conjunto de \\( n \\) exemplos é dada por:\n",
    "\n",
    "$$ \\text{MSE} = \\frac{1}{n} \\sum_{i=1}^{n} (y_i - \\hat{y}_i)^2 $$\n",
    "\n"
   ]
  },
  {
   "cell_type": "markdown",
   "id": "d689a05f-083a-4c61-a3a6-c89416c40dac",
   "metadata": {},
   "source": [
    "Durante o treinamento, a função de perda é usada da seguinte maneira:\n",
    "\n",
    "*  **Forward Pass:** Os dados de entrada são passados através da rede para obter as previsões.\n",
    "*  **Cálculo da Perda:**  A função de perda é usada para calcular a diferença entre as previsões e os valores reais.\n",
    "*  **Backward Pass:**  O gradiente da perda em relação aos pesos da rede é calculado (backpropagation).\n",
    "*  **Atualização dos Pesos:**  Os pesos da rede são atualizados para minimizar a perda.\n"
   ]
  },
  {
   "cell_type": "code",
   "execution_count": null,
   "id": "20263500-8b54-41b9-9cdf-2a82ea69a911",
   "metadata": {},
   "outputs": [],
   "source": [
    "# Instanciando a função de perda \n",
    "criterion = nn.MSELoss()"
   ]
  },
  {
   "cell_type": "markdown",
   "id": "f7dd33d3-5a06-446c-ad34-972cbec43e2c",
   "metadata": {},
   "source": [
    "### Otimizadores\n",
    "\n",
    "Otimizadores são usados para atualizar os parâmetros do modelo (ou seja, os pesos da rede neural) com base no gradiente calculado durante o processo de backpropagation. O objetivo do otimizador é minimizar a função de perda ajustando os parâmetros do modelo.\n",
    "\n",
    "`Adam Optimizer` é uma estratégia de otimização, Adam (abreviação de Adaptive Moment Estimation) combina as vantagens dos algoritmos AdaGrad e RMSProp, sendo eficiente em termos de memória e bem adequado para problemas com grandes dados e parâmetros.\n",
    "\n",
    "*  **model.parameters()** retorna um iterador sobre os parâmetros do modelo que serão otimizados. Estes parâmetros são os pesos e vieses (biases) das várias camadas da rede neural definidas no modelo model.\n",
    "*  **lr** significa \"learning rate\" (taxa de aprendizado). A taxa de aprendizado é um hiperparâmetro que controla o tamanho dos passos que o otimizador dá ao ajustar os parâmetros do modelo."
   ]
  },
  {
   "cell_type": "code",
   "execution_count": null,
   "id": "4c06f9ee-ddc8-480e-8ad6-f5551a194193",
   "metadata": {},
   "outputs": [],
   "source": [
    "# Instanciando o otimizador\n",
    "optimizer = optim.Adam(model.parameters(), lr=0.001)"
   ]
  },
  {
   "cell_type": "markdown",
   "id": "5a36f2bc-d276-4fd7-86e4-d9c1e3b4a237",
   "metadata": {},
   "source": [
    "### Treinando o modelo"
   ]
  },
  {
   "cell_type": "markdown",
   "id": "14841a9f-6310-4fbb-96e7-a27b364ab30e",
   "metadata": {},
   "source": [
    "1. **model.train()**\n",
    "Coloca o modelo em modo de treinamento. Em PyTorch, certos módulos, como dropout e batch normalization, comportam-se de maneira diferente durante o treinamento e a inferência. O método model.train() garante que esses módulos estejam no modo de treinamento.\n",
    "\n",
    "2. **outputs = model(X_train)**\n",
    "Dados de entradas são passados pelo modelo para obter as previsões. Esta é a fase de \"forward pass\" onde o modelo gera suas saídas com base nos pesos atuais.\n",
    "\n",
    "3. **loss = criterion(outputs, y_train)**\n",
    "A função de perda é calculada comparando as previsões (outputs) com os valores reais (y_train). Esta perda quantifica o quão bem o modelo está performando.\n",
    "\n",
    "4. **optimizer.zero_grad()**\n",
    "Antes de realizar a backpropagation, é necessário zerar os gradientes acumulados dos passos anteriores. Isso é feito para evitar a acumulação de gradientes de múltiplas iterações.\n",
    "\n",
    "5. **loss.backward()**\n",
    "Realiza a backpropagation, calculando os gradientes da perda em relação aos parâmetros do modelo. Esses gradientes serão usados para atualizar os parâmetros.\n",
    "\n",
    "6. **optimizer.step()**\n",
    "Atualiza os parâmetros do modelo com base nos gradientes calculados durante a backpropagation. Este é o passo onde o otimizador ajusta os pesos para minimizar a função de perda."
   ]
  },
  {
   "cell_type": "code",
   "execution_count": null,
   "id": "61affa4a-a63d-450d-83e5-ccc1accedd2d",
   "metadata": {},
   "outputs": [],
   "source": [
    "num_epochs = 500\n",
    "for epoch in range(num_epochs):\n",
    "\n",
    "    \n",
    "    if (epoch+1) % 10 == 0:\n",
    "        print(f'Epoch [{epoch+1}/{num_epochs}], Loss: {loss.item():.4f}')"
   ]
  },
  {
   "cell_type": "markdown",
   "id": "211d33f7-cd01-4d8e-977c-56d5f542ec50",
   "metadata": {},
   "source": [
    "1. **model.eval()**\n",
    "Coloca o modelo em modo de avaliação. Isto é importante porque certos módulos, como dropout e batch normalization, se comportam de maneira diferente durante o treinamento e a inferência. No modo de avaliação, dropout é desativado e batch normalization usa as estatísticas calculadas durante o treinamento.\n",
    "\n",
    "2. **with torch.no_grad()**\n",
    "Este contexto desabilita o cálculo de gradientes. Durante a avaliação, não é necessário calcular gradientes porque não estamos ajustando os pesos do modelo. Isso economiza memória e computação.\n",
    "\n",
    "3. **model(X_test)**\n",
    "Os dados de entrada de teste X_test são passados pelo modelo para obter as previsões. Esta é a fase de \"forward pass\" onde o modelo gera suas saídas com base nos pesos treinados.\n",
    "\n",
    "4. **criterion(predictions, y_test)**\n",
    "A função de perda é calculada comparando as previsões (predictions) com os valores reais de teste (y_test). Esta perda quantifica o quão bem o modelo está performando nos dados de teste."
   ]
  },
  {
   "cell_type": "markdown",
   "id": "c0b0bc3c-bea5-45c8-9a97-e3777dafb504",
   "metadata": {},
   "source": [
    "### Avaliando o modelo"
   ]
  },
  {
   "cell_type": "code",
   "execution_count": null,
   "id": "fcedd0e0-f2bc-4cb5-8002-7cfc72822362",
   "metadata": {},
   "outputs": [],
   "source": [
    "model.eval()\n",
    "with torch.no_grad():\n",
    "    predictions = model(X_test)\n",
    "    test_loss = criterion(predictions, y_test)\n",
    "    print(f'Perda: {test_loss.item():.4f}')"
   ]
  },
  {
   "cell_type": "markdown",
   "id": "e7cfdf76-d652-4df6-be00-f2d4f45885a4",
   "metadata": {},
   "source": [
    "### Exibindo as previsões"
   ]
  },
  {
   "cell_type": "markdown",
   "id": "b4c448f5-7b6d-44fb-9e8d-4992508443a7",
   "metadata": {},
   "source": [
    "**Métrica de Performance:** O valor 0.0155 é o resultado da função de perda aplicada aos dados de teste. Ele quantifica a média dos quadrados das diferenças entre as previsões do modelo e os valores reais. Um valor mais baixo de perda indica que as previsões do modelo estão mais próximas dos valores reais."
   ]
  },
  {
   "cell_type": "code",
   "execution_count": null,
   "id": "fe561022-b064-482f-8ac8-9c8d531eba02",
   "metadata": {},
   "outputs": [],
   "source": [
    "print(predictions[:10])"
   ]
  },
  {
   "cell_type": "code",
   "execution_count": null,
   "id": "1154a036-ab95-4936-a5bc-e41b9487232a",
   "metadata": {},
   "outputs": [],
   "source": [
    "torch.save(model, '../models/model.pth')"
   ]
  },
  {
   "cell_type": "code",
   "execution_count": null,
   "id": "8e838a4c-220c-49f2-8395-abcf63b4243d",
   "metadata": {},
   "outputs": [],
   "source": [
    "#!streamlit run ../app.py"
   ]
  }
 ],
 "metadata": {
  "colab": {
   "provenance": []
  },
  "kernelspec": {
   "display_name": "Python 3 (ipykernel)",
   "language": "python",
   "name": "python3"
  },
  "language_info": {
   "codemirror_mode": {
    "name": "ipython",
    "version": 3
   },
   "file_extension": ".py",
   "mimetype": "text/x-python",
   "name": "python",
   "nbconvert_exporter": "python",
   "pygments_lexer": "ipython3",
   "version": "3.11.7"
  }
 },
 "nbformat": 4,
 "nbformat_minor": 5
}
