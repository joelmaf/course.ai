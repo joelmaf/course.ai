{
 "cells": [
  {
   "cell_type": "markdown",
   "id": "172a8e50-0de1-4af5-a17c-513b795304d1",
   "metadata": {},
   "source": [
    "# UNIDADE 5:  Redes Neurais"
   ]
  },
  {
   "cell_type": "markdown",
   "id": "4add8ee8-ccb8-4b01-a637-4d39e13210e9",
   "metadata": {},
   "source": [
    "<div style=\"border: 2px solid #00008B; padding: 15px; border-radius: 10px; background-color: #00008B; color: #FFFFFF; font-family: Arial;\">\n",
    "  <h1 style=\"margin-top: 0;\"> Predição de Tempo de Atravessamento de Ações na Justiça</h1>\n",
    "  <p>Descrição: Prever o tempo de atravessamento do processo (da solicitação até a efetiva entrega) utilizando informações históricas e considerando as características do processo no momento de autuação.\n",
    "</p>\n",
    "</div>"
   ]
  },
  {
   "cell_type": "markdown",
   "id": "5b32c809-065d-4a3a-89c6-3ba080772535",
   "metadata": {},
   "source": [
    "<div style=\"background-color: #f0f8ff; padding: 20px; border-radius: 10px;\">\n",
    "  <ul>\n",
    "    <li>Rito (valores: trabalhista ou sumaríssimo)</li>\n",
    "    <li>Tempo de Serviço do Reclamante (valores: tempo em meses até a data da despensa)</li>\n",
    "    <li>Último salário do reclamante  (valores: número real)</li>\n",
    "    <li>Profissão do reclamante (valores: comércio, indústria ou serviço)</li>\n",
    "    <li>Cargo do reclamante (valores: direção ou execução)</li>\n",
    "    <li>Objeto do processo (valores: falta de registro em carteira, diferença salarial, verbas recisórias, multa do Art, 477, multa do Art. 467, horas extras e reflexos, fundo de garantia por tempo de serviço, indenização por dados morais, seguro desemprego, vale transporte, adicional de insalubridade, adicional noturno, plano de saúde)</li>\n",
    "    <li>Quantidade de depoimentos em cada audiência (valores: número inteiro entre 1 e 200)</li>\n",
    "    <li>Acordo (valores: presença ou ausência)</li>\n",
    "    <li>Necessidade de perícia (valores: S para Sim e N para Não)</li>\n",
    "    <li>Solicitação de recurso ordinário contra sentença emitida pelo Juiz de 1 grau  (valores: S para Sim e N para Não)</li>\n",
    "    <li>Solicitação de recurso de revista contra acordão (valores: S para Sim e N para Não)</li>\n",
    "    <li>Número de audiências até a emissão da sentença (valores: número inteiro entre 1 e 200)</li>\n",
    "    <li>Tempo médio de cada audiência (valor inteiro em minutos entre 30 e 1000)</li>\n",
    "    <li>Duração do processo (valor inteiro em meses entre 1 e 500)</li>\n",
    " </ul>\n",
    "</div>\n"
   ]
  },
  {
   "cell_type": "code",
   "execution_count": 1,
   "id": "ea7ff843-ca34-459b-9115-375de4908a8d",
   "metadata": {},
   "outputs": [],
   "source": [
    "#!pip install torch torchvision torchaudio"
   ]
  },
  {
   "cell_type": "code",
   "execution_count": 2,
   "id": "9ec52181-e6ad-46f4-8d1b-6c93cea8896c",
   "metadata": {},
   "outputs": [
    {
     "name": "stdout",
     "output_type": "stream",
     "text": [
      "2.3.1+cpu\n"
     ]
    }
   ],
   "source": [
    "import torch\n",
    "print(torch.__version__)"
   ]
  },
  {
   "cell_type": "code",
   "execution_count": 3,
   "id": "2fabe743-02dd-4e24-abb6-5564c623678b",
   "metadata": {
    "id": "d36cbb02-d052-43eb-9157-98be9029c25b"
   },
   "outputs": [],
   "source": [
    "import pandas as pd\n",
    "import numpy as np\n",
    "\n",
    "import streamlit as st\n",
    "import joblib\n",
    "\n",
    "from sklearn.model_selection import train_test_split\n",
    "import torch\n",
    "import torch.nn as nn\n",
    "import torch.optim as optim\n",
    "from sklearn.model_selection import train_test_split\n",
    "\n",
    "from sklearn.preprocessing import MinMaxScaler"
   ]
  },
  {
   "cell_type": "markdown",
   "id": "a1c49b3f-db71-4085-944e-e2f130be71a0",
   "metadata": {},
   "source": [
    "### Carregando e preparando os dados"
   ]
  },
  {
   "cell_type": "code",
   "execution_count": 4,
   "id": "62d81af5-43cd-4cbb-8f15-b9506c56ea4b",
   "metadata": {},
   "outputs": [],
   "source": [
    "df_normalizado = pd.read_csv(\"../data/processed/tempo_audiencias.csv\")"
   ]
  },
  {
   "cell_type": "code",
   "execution_count": 5,
   "id": "ee8cee5c-a4a6-468d-a039-446002ceefc2",
   "metadata": {},
   "outputs": [
    {
     "data": {
      "text/plain": [
       "Index(['rito', 'tempo_servico', 'salario', 'profissao', 'cargo',\n",
       "       'objeto_processo', 'quantidade_depoimento', 'acordo', 'pericia',\n",
       "       'recurso_ordinario', 'recurso_revista', 'audiencias',\n",
       "       'duracao_processo', 'tempo_audiencia'],\n",
       "      dtype='object')"
      ]
     },
     "execution_count": 5,
     "metadata": {},
     "output_type": "execute_result"
    }
   ],
   "source": [
    "df_normalizado.columns"
   ]
  },
  {
   "cell_type": "code",
   "execution_count": 6,
   "id": "8eb1d344-473c-4cda-b590-04286d8dcf5d",
   "metadata": {
    "id": "8eb1d344-473c-4cda-b590-04286d8dcf5d"
   },
   "outputs": [],
   "source": [
    "X = df_normalizado.loc[:, df_normalizado.columns != 'duracao_processo']\n",
    "y = df_normalizado[\"duracao_processo\"]"
   ]
  },
  {
   "cell_type": "code",
   "execution_count": 7,
   "id": "00cd514c-a925-402c-9891-daac17204be6",
   "metadata": {},
   "outputs": [],
   "source": [
    "# Dividindo os dados em treino e teste\n",
    "X_train, X_test, y_train, y_test = train_test_split(X, y, test_size=0.2, random_state=42)"
   ]
  },
  {
   "cell_type": "code",
   "execution_count": 8,
   "id": "4ed7489f-7965-4e65-84dc-a9c6c323f543",
   "metadata": {},
   "outputs": [],
   "source": [
    "X_train = X_train.to_numpy()\n",
    "X_test = X_test.to_numpy()\n",
    "y_train = y_train.to_numpy()\n",
    "y_test = y_test.to_numpy()"
   ]
  },
  {
   "cell_type": "markdown",
   "id": "59781b45-631b-4126-8971-31219b35d376",
   "metadata": {},
   "source": [
    "### Convertendo para tensores do PyTorch"
   ]
  },
  {
   "cell_type": "markdown",
   "id": "95eee735-bc7a-4079-a6a4-d1df90a50bfc",
   "metadata": {},
   "source": [
    "<div style=\"background-color: #f0f8ff; padding: 20px; border-radius: 10px;\">\n",
    "Um tensor é uma estrutura de dados multi-dimensional, semelhante a arrays e matrizes, mas com a vantagem de que pode ser utilizado em GPUs para acelerar cálculos intensivos. Tensors são a unidade básica para a manipulação de dados em PyTorch, por exemplo.\n",
    "</div>"
   ]
  },
  {
   "cell_type": "markdown",
   "id": "27a062b2-4fd9-415a-a1a5-8c17c0d29d9c",
   "metadata": {},
   "source": [
    " *   **torch.tensor** converte o array para um tensor do PyTorch especificando que o tipo de dado dos elementos do tensor será float32.\n",
    " *   **view(-1, 1)** redimensiona o tensor para ter uma dimensão de (n, 1), onde n é o número de exemplos array. O -1 permite que o PyTorch infira automaticamente o tamanho dessa dimensão. O redimensionamento das labels com .view(-1, 1) é uma prática comum para garantir que as labels tenham a forma adequada para <span style=\"color:red\">a maioria dos algoritmos de aprendizado supervisionado, que geralmente esperam que os labels sejam vetores colunares</span>."
   ]
  },
  {
   "cell_type": "code",
   "execution_count": 9,
   "id": "44a20b7f-6d7f-4c56-87e9-70170e2b0122",
   "metadata": {},
   "outputs": [],
   "source": [
    "X_train = torch.tensor(X_train, dtype=torch.float32)\n",
    "X_test = torch.tensor(X_test, dtype=torch.float32)\n",
    "y_train = torch.tensor(y_train, dtype=torch.float32).view(-1, 1)\n",
    "y_test = torch.tensor(y_test, dtype=torch.float32).view(-1, 1)"
   ]
  },
  {
   "cell_type": "code",
   "execution_count": 22,
   "id": "aa148d2a-472c-406e-a932-df41665d1cb5",
   "metadata": {},
   "outputs": [
    {
     "name": "stdout",
     "output_type": "stream",
     "text": [
      "Using cpu device\n"
     ]
    }
   ],
   "source": [
    "device = (\n",
    "    \"cuda\"\n",
    "    if torch.cuda.is_available()\n",
    "    else \"mps\"\n",
    "    if torch.backends.mps.is_available()\n",
    "    else \"cpu\"\n",
    ")\n",
    "print(f\"Usando {device}\")"
   ]
  },
  {
   "cell_type": "markdown",
   "id": "a156bde2-4dd3-400f-8e3a-993330f5c010",
   "metadata": {
    "id": "a156bde2-4dd3-400f-8e3a-993330f5c010"
   },
   "source": [
    "### Definição da arquitetura da rede"
   ]
  },
  {
   "cell_type": "markdown",
   "id": "17153872-233f-45fa-9985-2ece07751af7",
   "metadata": {},
   "source": [
    "<div style=\"background-color: #f0f8ff; padding: 20px; border-radius: 10px;\">\n",
    "\n",
    "Definimos nossa rede neural criando uma subclasse do nn.Module e inicializamos as camadas da rede neural em __init__. Cada subclasse nn.Module implementa as operações nos dados de entrada no método forward\n",
    "    \n",
    "O método forward define como os dados fluem através da rede. Ele recebe um tensor x e aplica as camadas da rede, bem como funções de ativação.\n",
    "</div>"
   ]
  },
  {
   "cell_type": "markdown",
   "id": "c5d8a736-09e5-4b0d-aafc-39e894ba050a",
   "metadata": {},
   "source": [
    "* **nn.Sequential** é um contêiner ordenado de módulos. Os dados são passados ​​por todos os módulos na mesma ordem definida.\n",
    "* **nn.Linear(n, m)** define uma camada totalmente conectada (fully connected) com n entradas e m saídas\n",
    "* **torch.relu(self.fc1(x))** Aplica a primeira camada (self.fc1) aos dados de entrada x e, em seguida, aplica a função de ativação ReLU (Rectified Linear Unit)."
   ]
  },
  {
   "cell_type": "code",
   "execution_count": 77,
   "id": "5abb2576-e7a7-4435-bdd3-b419efb4c732",
   "metadata": {},
   "outputs": [],
   "source": [
    "# Definindo o modelo da rede neural\n",
    "class NeuralNet(nn.Module):\n",
    "    def __init__(self,input_size):\n",
    "        super().__init__()\n",
    "        self.linear_stack = nn.Sequential(\n",
    "            nn.Linear(input_size, 64),\n",
    "            nn.ReLU(),\n",
    "            nn.Dropout(0.25),\n",
    "            nn.Linear(64, 32),\n",
    "            nn.ReLU(),\n",
    "            nn.Linear(32, 1)\n",
    "        )\n",
    "\n",
    "    def forward(self, x):\n",
    "        logits = self.linear_stack(x)\n",
    "        return logits"
   ]
  },
  {
   "cell_type": "code",
   "execution_count": 70,
   "id": "fa8f05ae-c6ea-4606-afc5-2b7812df9afb",
   "metadata": {},
   "outputs": [],
   "source": [
    "# Instanciando o modelo\n",
    "input_size = X_train.shape[1]\n",
    "model = NeuralNet(input_size).to(device)"
   ]
  },
  {
   "cell_type": "markdown",
   "id": "bbec0ca8-d6ca-4142-85ad-3ffc141de49b",
   "metadata": {},
   "source": [
    "### Função de Perda\n",
    "\n",
    "A função de perda mede a diferença entre as previsões do modelo e os valores reais dos dados. Durante o treinamento, o objetivo é minimizar essa perda ajustando os pesos da rede neural.\n",
    "\n",
    "#### MSELoss\n",
    "\n",
    "`nn.MSELoss` é uma classe do PyTorch que implementa a função de perda de erro quadrático médio (Mean Squared Error, MSE). \n",
    "\n",
    "#### Fórmula do MSE\n",
    "\n",
    "A fórmula do MSE para um conjunto de \\( n \\) exemplos é dada por:\n",
    "\n",
    "$$ \\text{MSE} = \\frac{1}{n} \\sum_{i=1}^{n} (y_i - \\hat{y}_i)^2 $$\n",
    "\n"
   ]
  },
  {
   "cell_type": "markdown",
   "id": "d689a05f-083a-4c61-a3a6-c89416c40dac",
   "metadata": {},
   "source": [
    "Durante o treinamento, a função de perda é usada da seguinte maneira:\n",
    "\n",
    "*  **Forward Pass:** Os dados de entrada são passados através da rede para obter as previsões.\n",
    "*  **Cálculo da Perda:**  A função de perda é usada para calcular a diferença entre as previsões e os valores reais.\n",
    "*  **Backward Pass:**  O gradiente da perda em relação aos pesos da rede é calculado (backpropagation).\n",
    "*  **Atualização dos Pesos:**  Os pesos da rede são atualizados para minimizar a perda.\n"
   ]
  },
  {
   "cell_type": "code",
   "execution_count": 71,
   "id": "20263500-8b54-41b9-9cdf-2a82ea69a911",
   "metadata": {},
   "outputs": [],
   "source": [
    "# Instanciando a função de perda \n",
    "criterion = nn.MSELoss()"
   ]
  },
  {
   "cell_type": "markdown",
   "id": "f7dd33d3-5a06-446c-ad34-972cbec43e2c",
   "metadata": {},
   "source": [
    "### Otimizadores\n",
    "\n",
    "Otimizadores são usados para atualizar os parâmetros do modelo (ou seja, os pesos da rede neural) com base no gradiente calculado durante o processo de backpropagation. O objetivo do otimizador é minimizar a função de perda ajustando os parâmetros do modelo.\n",
    "\n",
    "`Adam Optimizer` é uma estratégia de otimização, Adam (abreviação de Adaptive Moment Estimation) combina as vantagens dos algoritmos AdaGrad e RMSProp, sendo eficiente em termos de memória e bem adequado para problemas com grandes dados e parâmetros.\n",
    "\n",
    "*  **model.parameters()** retorna um iterador sobre os parâmetros do modelo que serão otimizados. Estes parâmetros são os pesos e vieses (biases) das várias camadas da rede neural definidas no modelo model.\n",
    "*  **lr** significa \"learning rate\" (taxa de aprendizado). A taxa de aprendizado é um hiperparâmetro que controla o tamanho dos passos que o otimizador dá ao ajustar os parâmetros do modelo."
   ]
  },
  {
   "cell_type": "code",
   "execution_count": 72,
   "id": "4c06f9ee-ddc8-480e-8ad6-f5551a194193",
   "metadata": {},
   "outputs": [],
   "source": [
    "# Instanciando o otimizador\n",
    "optimizer = optim.Adam(model.parameters(), lr=0.001)\n",
    "#optimizer = torch.optim.SGD(model.parameters(), lr=1e-3)"
   ]
  },
  {
   "cell_type": "markdown",
   "id": "5a36f2bc-d276-4fd7-86e4-d9c1e3b4a237",
   "metadata": {},
   "source": [
    "### Treinando o modelo"
   ]
  },
  {
   "cell_type": "markdown",
   "id": "14841a9f-6310-4fbb-96e7-a27b364ab30e",
   "metadata": {},
   "source": [
    "1. **model.train()**\n",
    "Coloca o modelo em modo de treinamento. Em PyTorch, certos módulos, como dropout e batch normalization, comportam-se de maneira diferente durante o treinamento e a inferência. O método model.train() garante que esses módulos estejam no modo de treinamento.\n",
    "\n",
    "2. **outputs = model(X_train)**\n",
    "Dados de entradas são passados pelo modelo para obter as previsões. Esta é a fase de \"forward pass\" onde o modelo gera suas saídas com base nos pesos atuais.\n",
    "\n",
    "3. **loss = criterion(outputs, y_train)**\n",
    "A função de perda é calculada comparando as previsões (outputs) com os valores reais (y_train). Esta perda quantifica o quão bem o modelo está performando.\n",
    "\n",
    "4. **optimizer.zero_grad()**\n",
    "Antes de realizar a backpropagation, é necessário zerar os gradientes acumulados dos passos anteriores. Isso é feito para evitar a acumulação de gradientes de múltiplas iterações.\n",
    "\n",
    "5. **loss.backward()**\n",
    "Realiza a backpropagation, calculando os gradientes da perda em relação aos parâmetros do modelo. Esses gradientes serão usados para atualizar os parâmetros.\n",
    "\n",
    "6. **optimizer.step()**\n",
    "Atualiza os parâmetros do modelo com base nos gradientes calculados durante a backpropagation. Este é o passo onde o otimizador ajusta os pesos para minimizar a função de perda."
   ]
  },
  {
   "cell_type": "code",
   "execution_count": 73,
   "id": "61affa4a-a63d-450d-83e5-ccc1accedd2d",
   "metadata": {},
   "outputs": [
    {
     "name": "stdout",
     "output_type": "stream",
     "text": [
      "Epoch [10/500], Loss: 0.0615\n",
      "Epoch [20/500], Loss: 0.0575\n",
      "Epoch [30/500], Loss: 0.0444\n",
      "Epoch [40/500], Loss: 0.0354\n",
      "Epoch [50/500], Loss: 0.0291\n",
      "Epoch [60/500], Loss: 0.0248\n",
      "Epoch [70/500], Loss: 0.0216\n",
      "Epoch [80/500], Loss: 0.0193\n",
      "Epoch [90/500], Loss: 0.0178\n",
      "Epoch [100/500], Loss: 0.0169\n",
      "Epoch [110/500], Loss: 0.0164\n",
      "Epoch [120/500], Loss: 0.0161\n",
      "Epoch [130/500], Loss: 0.0158\n",
      "Epoch [140/500], Loss: 0.0157\n",
      "Epoch [150/500], Loss: 0.0155\n",
      "Epoch [160/500], Loss: 0.0154\n",
      "Epoch [170/500], Loss: 0.0153\n",
      "Epoch [180/500], Loss: 0.0151\n",
      "Epoch [190/500], Loss: 0.0150\n",
      "Epoch [200/500], Loss: 0.0149\n",
      "Epoch [210/500], Loss: 0.0147\n",
      "Epoch [220/500], Loss: 0.0146\n",
      "Epoch [230/500], Loss: 0.0145\n",
      "Epoch [240/500], Loss: 0.0143\n",
      "Epoch [250/500], Loss: 0.0142\n",
      "Epoch [260/500], Loss: 0.0141\n",
      "Epoch [270/500], Loss: 0.0139\n",
      "Epoch [280/500], Loss: 0.0138\n",
      "Epoch [290/500], Loss: 0.0137\n",
      "Epoch [300/500], Loss: 0.0136\n",
      "Epoch [310/500], Loss: 0.0134\n",
      "Epoch [320/500], Loss: 0.0133\n",
      "Epoch [330/500], Loss: 0.0131\n",
      "Epoch [340/500], Loss: 0.0130\n",
      "Epoch [350/500], Loss: 0.0128\n",
      "Epoch [360/500], Loss: 0.0127\n",
      "Epoch [370/500], Loss: 0.0125\n",
      "Epoch [380/500], Loss: 0.0124\n",
      "Epoch [390/500], Loss: 0.0123\n",
      "Epoch [400/500], Loss: 0.0121\n",
      "Epoch [410/500], Loss: 0.0120\n",
      "Epoch [420/500], Loss: 0.0119\n",
      "Epoch [430/500], Loss: 0.0117\n",
      "Epoch [440/500], Loss: 0.0116\n",
      "Epoch [450/500], Loss: 0.0115\n",
      "Epoch [460/500], Loss: 0.0113\n",
      "Epoch [470/500], Loss: 0.0112\n",
      "Epoch [480/500], Loss: 0.0111\n",
      "Epoch [490/500], Loss: 0.0110\n",
      "Epoch [500/500], Loss: 0.0109\n"
     ]
    }
   ],
   "source": [
    "num_epochs = 500\n",
    "for epoch in range(num_epochs):\n",
    "    X_train, y_train = X_train.to(device), y_train.to(device)\n",
    "    \n",
    "    model.train()\n",
    "    outputs = model(X_train)\n",
    "    loss = criterion(outputs, y_train)\n",
    "\n",
    "    # Backpropagation\n",
    "    loss.backward()\n",
    "    optimizer.step()\n",
    "    optimizer.zero_grad()   \n",
    "\n",
    "    if (epoch+1) % 10 == 0:\n",
    "        print(f'Epoch [{epoch+1}/{num_epochs}], Loss: {loss.item():.4f}')"
   ]
  },
  {
   "cell_type": "markdown",
   "id": "211d33f7-cd01-4d8e-977c-56d5f542ec50",
   "metadata": {},
   "source": [
    "1. **model.eval()**\n",
    "Coloca o modelo em modo de avaliação. Isto é importante porque certos módulos, como dropout e batch normalization, se comportam de maneira diferente durante o treinamento e a inferência. No modo de avaliação, dropout é desativado e batch normalization usa as estatísticas calculadas durante o treinamento.\n",
    "\n",
    "2. **with torch.no_grad()**\n",
    "Este contexto desabilita o cálculo de gradientes. Durante a avaliação, não é necessário calcular gradientes porque não estamos ajustando os pesos do modelo. Isso economiza memória e computação.\n",
    "\n",
    "3. **model(X_test)**\n",
    "Os dados de entrada de teste X_test são passados pelo modelo para obter as previsões. Esta é a fase de \"forward pass\" onde o modelo gera suas saídas com base nos pesos treinados.\n",
    "\n",
    "4. **criterion(predictions, y_test)**\n",
    "A função de perda é calculada comparando as previsões (predictions) com os valores reais de teste (y_test). Esta perda quantifica o quão bem o modelo está performando nos dados de teste."
   ]
  },
  {
   "cell_type": "markdown",
   "id": "c0b0bc3c-bea5-45c8-9a97-e3777dafb504",
   "metadata": {},
   "source": [
    "### Avaliando o modelo"
   ]
  },
  {
   "cell_type": "code",
   "execution_count": 74,
   "id": "fcedd0e0-f2bc-4cb5-8002-7cfc72822362",
   "metadata": {},
   "outputs": [
    {
     "name": "stdout",
     "output_type": "stream",
     "text": [
      "Perda: 0.0164\n"
     ]
    }
   ],
   "source": [
    "model.eval()\n",
    "with torch.no_grad():\n",
    "    X_test, y_test = X_test.to(device), y_test.to(device)\n",
    "    predictions = model(X_test)\n",
    "    test_loss = criterion(predictions, y_test)\n",
    "    print(f'Perda: {test_loss.item():.4f}')"
   ]
  },
  {
   "cell_type": "markdown",
   "id": "e7cfdf76-d652-4df6-be00-f2d4f45885a4",
   "metadata": {},
   "source": [
    "### Exibindo as previsões"
   ]
  },
  {
   "cell_type": "markdown",
   "id": "b4c448f5-7b6d-44fb-9e8d-4992508443a7",
   "metadata": {},
   "source": [
    "**Métrica de Performance:** O valor 0.0155 é o resultado da função de perda aplicada aos dados de teste. Ele quantifica a média dos quadrados das diferenças entre as previsões do modelo e os valores reais. Um valor mais baixo de perda indica que as previsões do modelo estão mais próximas dos valores reais."
   ]
  },
  {
   "cell_type": "code",
   "execution_count": null,
   "id": "fe561022-b064-482f-8ac8-9c8d531eba02",
   "metadata": {},
   "outputs": [],
   "source": [
    "print(predictions[:10])"
   ]
  },
  {
   "cell_type": "markdown",
   "id": "ad69a9f1-531d-4f62-90cb-1566c9f02869",
   "metadata": {},
   "source": [
    "*  **torch.save()**: permite salvar um objeto PyTorch no formato pickle do Python. Exemplo: torch.save(model, ‘model.pth’) salva o modelo inteiro.\n",
    "*  **torch.load()**: Permite carregar um objeto PyTorch salvo. Exemplo: model = torch.load(‘model.pth’) carrega o modelo inteiro.\n",
    "*  **torch.nn.Module.load_state_dict()**: Permite carregar o dicionário de estado salvo de um modelo, que inclui todos os parâmetros e seus valores finais que resultaram em perda mínima."
   ]
  },
  {
   "cell_type": "code",
   "execution_count": 66,
   "id": "1154a036-ab95-4936-a5bc-e41b9487232a",
   "metadata": {},
   "outputs": [],
   "source": [
    "torch.save(model, '../models/model.pth')"
   ]
  },
  {
   "cell_type": "code",
   "execution_count": 68,
   "id": "8bc6aef7-1847-405b-a5b3-2e0212c59cb2",
   "metadata": {},
   "outputs": [
    {
     "data": {
      "text/plain": [
       "<All keys matched successfully>"
      ]
     },
     "execution_count": 68,
     "metadata": {},
     "output_type": "execute_result"
    }
   ],
   "source": [
    "#torch.save(model.state_dict(), '../models/model.pth')\n",
    "#model = NeuralNet(input_size).to(device)\n",
    "#model.load_state_dict(torch.load(\"../models/model.pth\"))\n",
    "#model.state_dict()"
   ]
  },
  {
   "cell_type": "code",
   "execution_count": null,
   "id": "b17358b9-6414-4728-bf68-0ca524d62d9b",
   "metadata": {},
   "outputs": [],
   "source": [
    "#model.eval()\n",
    "#with torch.no_grad():\n",
    "#    loaded_model_preds = model(X_test)\n",
    "#y_preds == loaded_model_preds"
   ]
  },
  {
   "cell_type": "code",
   "execution_count": null,
   "id": "8e838a4c-220c-49f2-8395-abcf63b4243d",
   "metadata": {},
   "outputs": [],
   "source": [
    "!streamlit run ../app.py"
   ]
  }
 ],
 "metadata": {
  "colab": {
   "provenance": []
  },
  "kernelspec": {
   "display_name": "Python 3 (ipykernel)",
   "language": "python",
   "name": "python3"
  },
  "language_info": {
   "codemirror_mode": {
    "name": "ipython",
    "version": 3
   },
   "file_extension": ".py",
   "mimetype": "text/x-python",
   "name": "python",
   "nbconvert_exporter": "python",
   "pygments_lexer": "ipython3",
   "version": "3.11.5"
  }
 },
 "nbformat": 4,
 "nbformat_minor": 5
}
