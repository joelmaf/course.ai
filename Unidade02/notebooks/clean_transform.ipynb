{
 "cells": [
  {
   "cell_type": "markdown",
   "id": "651ead5b-6190-405b-a1ef-2241f567a72b",
   "metadata": {},
   "source": [
    "# UNIDADE 2: Tratamento dos dados\n",
    "\n",
    "2.1. Análise exploratória de dados (EDA)</br>\n",
    "2.2. Limpeza de dados</br>\n",
    "2.3. Transformação de dados</br>\n",
    "2.3.1. Divisão dos dados</br>\n",
    "2.3.2. Balanceamento</br>\n",
    "2.3.3. Escalonamento</br>\n",
    "2.3.4. Codificação e criação de features</br>\n",
    "2.4. Redução de dimensionalidade</br>\n"
   ]
  },
  {
   "cell_type": "markdown",
   "id": "e0a7f61e-e105-4a32-b5c8-0bcb6adab90b",
   "metadata": {},
   "source": [
    "# Classificação Binária\n",
    "\n",
    "A classificação em uma de duas classes é um problema comum em aprendizado de máquina. Você pode querer prever se um cliente provavelmente fará uma compra ou não, se uma transação de cartão de crédito foi fraudulenta ou não. Todos esses são problemas de <span style=\"color:red\">classificação binária por terem apenas duas possibilidades de resposta</span>.\n",
    "\n",
    "Nos seus dados brutos, as classes podem ser representadas por strings como \"Sim\" e \"Não\". <span style=\"color:red\">Antes de usar esses dados, atribuiremos um rótulo de classe: uma classe será 0 e a outra será 1</span>."
   ]
  },
  {
   "cell_type": "markdown",
   "id": "6c1d5bf1-933b-41ac-b1c9-a7bfc1a6e4ef",
   "metadata": {},
   "source": [
    "<div style=\"border: 2px solid #00008B; padding: 15px; border-radius: 10px; background-color: #00008B; color: #FFFFFF; font-family: Arial;\">\n",
    "  <h1 style=\"margin-top: 0;\">Planejamento de Sucessão</h1>\n",
    "  <p>Descrição: Identificar funcionários com potencial para ocupar cargos de liderança no futuro e planejar a sucessão de cargos críticos</p>\n",
    "  <p>Dados sintéticos produzidos pelo ChatGPT, baseado no projeto Google Oxygen: Como a Google usou dados para ver se os gerentes fazem diferença?</p>\n",
    "</div>"
   ]
  },
  {
   "cell_type": "markdown",
   "id": "26a5aebe-ae21-4beb-b033-cb81b4bfc86d",
   "metadata": {},
   "source": [
    "\n",
    "<div style=\"background-color: #f0f8ff; padding: 20px; border-radius: 10px;\">\n",
    "  <ul>\n",
    "    <li>Idade do funcionário (valores inteiros  de 18 a 75)</li>\n",
    "    <li>Nível de educação (valores Superior, Médio, Doutorado, Especialização)</li>\n",
    "    <li>Avaliação de desempenho (valores inteiros  entre 0 e 5)</li>\n",
    "    <li>Experiência em cargos de liderança(valores 0 ou 1)</li>\n",
    "    <li>Habilidades e competências (valores inteiros entre 0 a 10)</li>\n",
    "    <li>Participação em treinamentos de liderança (valores S ou N)</li>\n",
    "    <li>Feedback de supervisores (valores reais enter 0.0 e 1.0)</li>\n",
    "    <li>Satisfação no trabalho (valores inteiros entre 0 e 5)</li>\n",
    "    <li>É um bom coach (valores S ou N)</li>\n",
    "    <li>Empodera a equipe e não faz microgestão (valores S ou N)</li> \n",
    "    <li>Exprime interesse e preocupação pelo sucesso e bem-estar pessoal dos membros da equipe (valores S ou N)</li>\n",
    "    <li>É produtivo e orientado para os resultados (valores S ou N)</li>\n",
    "    <li>É bom comunicador - escuta e compartilha informações (valores S ou N)</li>\n",
    "    <li>Ajuda com desenvolvimento de carreira (valores S ou N)</li>\n",
    "    <li>Tem uma visão clara e estratégia para a equipe (valores S ou N)</li>\n",
    "    <li>Possui habilidades técnicas fundamentais que o ajudam a aconselhar a equipe (valores S ou N)</li>\n",
    "    <li><b>Lider (valores S ou N)</b></li>\n",
    "  </ul>\n",
    "</div>\n"
   ]
  },
  {
   "cell_type": "markdown",
   "id": "c7e39f7d-e5ab-42ed-a1aa-742bfa9afaa6",
   "metadata": {},
   "source": [
    "<div style=\"background-color: #f0f8ff; padding: 20px; border-radius: 10px;\">\n",
    "  <h3>Fluxo no Pipeline</h3>\n",
    "  <ul>\n",
    "    <li><b>Ingestão de Dados</b>: Coleta e armazenamento de dados brutos.</li>\n",
    "    <li><b>Análise Exploratória</b>: Utilização dos dados para EDA.</li>\n",
    "    <li><b><span style=\"color:red\">Pré-processamento</b>: Limpeza e transformação dos dados.</span></li>\n",
    "    <li><b><span style=\"color:red\">Normalização e Engenharia de Features</b>: Criação de datasets normalizados e finalizados para treinamento.</span></li>\n",
    "    <li><b>Treinamento de Modelos</b>: Utilização dos dados de treinamento e validação para treinar e validar modelos.</li>\n",
    "    <li><b>Implantação de Modelos</b>: Armazenamento dos modelos treinados em um Model Registry.</li>\n",
    "    <li><b>Inferência</b>: Utilização de dados de inferência para obter predições dos modelos em produção.</li>\n",
    "  </ul>\n",
    "\n",
    "Considerações de MLOps\n",
    "\n",
    "  <ul>\n",
    "    <li><b>Versionamento</b>: Versionar tanto os dados quanto os modelos para garantir a reprodutibilidade.</li>\n",
    "    <li><b>Monitoramento</b>: Implementar monitoramento contínuo dos modelos em produção para detectar drifts de desempenho.</li>\n",
    "    <li><b>Automatização</b>: Automatizar o pipeline de dados e modelos utilizando ferramentas de CI/CD.</li>\n",
    "    <li><b>Segurança</b>: Garantir a segurança e conformidade dos dados, especialmente se envolver dados sensíveis.</li>\n",
    "  </ul>\n",
    "\n",
    "</div>\n"
   ]
  },
  {
   "cell_type": "code",
   "execution_count": null,
   "id": "2dd836fa-45d2-4f00-8ac0-1bc7b6ba3fe2",
   "metadata": {},
   "outputs": [],
   "source": [
    "import pandas as pd\n",
    "import numpy as np\n",
    "\n",
    "pd.set_option('display.float_format', '{:.5f}'.format)\n",
    "np.random.seed(0)\n",
    "\n",
    "from sklearn import preprocessing\n",
    "from sklearn.preprocessing import MinMaxScaler\n",
    "from sklearn.preprocessing import StandardScaler\n",
    "from sklearn.impute import SimpleImputer\n",
    "\n",
    "import joblib\n",
    "\n",
    "from tqdm import tqdm\n",
    "tqdm.pandas()\n",
    "\n",
    "import seaborn as sns\n",
    "import matplotlib.cm as cm\n",
    "import matplotlib.pyplot as plt\n",
    "%matplotlib inline\n",
    "\n",
    "import plotly.express as px\n",
    "import plotly.graph_objects as go\n",
    "import plotly.figure_factory as ff\n",
    "from plotly.subplots import make_subplots"
   ]
  },
  {
   "cell_type": "code",
   "execution_count": null,
   "id": "48b2fd11-b078-4353-9159-c3c023958486",
   "metadata": {},
   "outputs": [],
   "source": [
    "import warnings\n",
    "warnings.filterwarnings('ignore')"
   ]
  },
  {
   "cell_type": "markdown",
   "id": "8d008914-43c3-41ef-affc-5742e7e234ce",
   "metadata": {},
   "source": [
    "# Ingestão de Dados"
   ]
  },
  {
   "cell_type": "code",
   "execution_count": null,
   "id": "23d07fe9-9109-453a-be16-b1e029b0282f",
   "metadata": {
    "scrolled": true
   },
   "outputs": [],
   "source": [
    "df_servidor = pd.read_csv(\"../data/raw/planejamento_sucessao.csv\", sep=\";\")"
   ]
  },
  {
   "cell_type": "code",
   "execution_count": null,
   "id": "ee90333f-2e50-4797-b87b-6dcd3e793ad2",
   "metadata": {
    "scrolled": true
   },
   "outputs": [],
   "source": [
    "df_servidor.head(5)"
   ]
  },
  {
   "cell_type": "markdown",
   "id": "4867e0f8-497f-4818-8690-439dfd95b35e",
   "metadata": {},
   "source": [
    "# Limpeza e transformação de dados\n",
    "\n",
    "A limpeza e transformação de dados são passos que garantem a qualidade e a usabilidade dos dados para análises e modelagens subsequentes. Essas etapas ajudam a eliminar ruídos, melhorar a precisão dos modelos."
   ]
  },
  {
   "cell_type": "markdown",
   "id": "44be9c8e-3216-4807-969a-c826414d8560",
   "metadata": {},
   "source": [
    "\n",
    "### Limpeza de Dados\n"
   ]
  },
  {
   "cell_type": "markdown",
   "id": "d0e00028-7718-4dc9-96e8-cdd44a8a4eea",
   "metadata": {},
   "source": [
    "<div style=\"background-color: #ffcccc; padding: 20px; border-radius: 10px;\">\n",
    "<h3>Correção de Erros de Digitação</h3>\n",
    "Identificação e correção de valores que foram inseridos incorretamente devido a erros de digitação ou inconsistências de formato.\n",
    "</div>"
   ]
  },
  {
   "cell_type": "code",
   "execution_count": null,
   "id": "77f6ccf8-ab70-4485-87a7-ac363661b2bf",
   "metadata": {},
   "outputs": [],
   "source": [
    "df_servidor[\"Treinamento_lideranca\"].unique()"
   ]
  },
  {
   "cell_type": "code",
   "execution_count": null,
   "id": "935098da-088e-4cf1-a36b-5dd54842fffb",
   "metadata": {},
   "outputs": [],
   "source": [
    "# Transformar os valores com erros de digitação\n",
    "df_servidor['Treinamento_lideranca'] = df_servidor['Treinamento_lideranca'].replace('n', 'N')\n",
    "df_servidor = df_servidor[df_servidor['Treinamento_lideranca'] != 'D']"
   ]
  },
  {
   "cell_type": "code",
   "execution_count": null,
   "id": "503ed3bf-21ac-41f8-95dc-048ed28435e2",
   "metadata": {},
   "outputs": [],
   "source": [
    "df_servidor[\"Treinamento_lideranca\"].unique()"
   ]
  },
  {
   "cell_type": "markdown",
   "id": "e9c5ceb9-8828-4702-b122-892b39822392",
   "metadata": {},
   "source": [
    "<div style=\"background-color: #ffcccc; padding: 20px; border-radius: 10px;\">\n",
    "<h3>Remoção de Duplicata</h3>\n",
    "Identificação e remoção de registros duplicados para evitar a contagem redundante de dados.\n",
    "</div>"
   ]
  },
  {
   "cell_type": "markdown",
   "id": "51c01137-e204-4551-b514-a7ad5a080234",
   "metadata": {},
   "source": [
    "*  **duplicated():**  retorna uma Series booleana indicando se uma linha é duplicada ou não.\n",
    "*  **keep='first':** especifica qual duplicata deve ser marcada como não duplicada:\n",
    "     *  **'first':** a primeira ocorrência de uma linha não será marcada como duplicada (False), enquanto as ocorrências subsequentes serão (True).\n",
    "    *  **'last':** Marca todas as ocorrências, exceto a última, como duplicadas.\n",
    "    *  **False:** Marca todas as ocorrências de duplicatas como True."
   ]
  },
  {
   "cell_type": "code",
   "execution_count": null,
   "id": "d420d777",
   "metadata": {},
   "outputs": [],
   "source": [
    "#Identificando se tem duplicatas\n",
    "df_servidor.duplicated(keep='first')"
   ]
  },
  {
   "cell_type": "code",
   "execution_count": null,
   "id": "cde0508c-26f3-44ee-96a3-fb78f133f023",
   "metadata": {},
   "outputs": [],
   "source": [
    "duplicadas = df_servidor.duplicated(keep='first')\n",
    "linhas_duplicadas = df_servidor[duplicadas]"
   ]
  },
  {
   "cell_type": "code",
   "execution_count": null,
   "id": "b66af2b0-9eaa-4aab-9c05-f62ce0719d3a",
   "metadata": {},
   "outputs": [],
   "source": [
    "linhas_duplicadas"
   ]
  },
  {
   "cell_type": "markdown",
   "id": "22c60715-0226-4da2-8089-70e5606ec382",
   "metadata": {},
   "source": [
    "*  **drop_duplicates():** remove as linhas duplicadas do DataFrame. Por padrão, mantém a primeira ocorrência de cada linha duplicada e remove as ocorrências subsequentes."
   ]
  },
  {
   "cell_type": "code",
   "execution_count": null,
   "id": "d6d0cf02-b7f7-4134-a65f-f938e648176e",
   "metadata": {},
   "outputs": [],
   "source": [
    "#Apagando as duplictas\n",
    "df_servidor = df_servidor.drop_duplicates()"
   ]
  },
  {
   "cell_type": "code",
   "execution_count": null,
   "id": "3bdc6a68-388d-4789-86c3-75aa7a757115",
   "metadata": {},
   "outputs": [],
   "source": [
    "df_servidor[df_servidor.duplicated(keep='first')]"
   ]
  },
  {
   "cell_type": "markdown",
   "id": "1c741e5f-0bfd-4742-accf-c6bece4abf94",
   "metadata": {},
   "source": [
    "<div style=\"background-color: #ffcccc; padding: 20px; border-radius: 10px;\">\n",
    "<h3>Tratamento de Ausentes</h3>\n",
    "    - <b>Remoção de Linhas/Colunas</b>: Linhas ou colunas com muitos valores ausentes podem ser removidas.</br>\n",
    "    - <b>Imputação</b>: Valores ausentes podem ser substituídos por valores como a média, mediana, moda ou valores derivados de métodos mais sofisticados, como K-Nearest Neighbors.\n",
    "</div>"
   ]
  },
  {
   "cell_type": "code",
   "execution_count": null,
   "id": "77ab150c-22fa-483e-a0e0-04206311af6b",
   "metadata": {},
   "outputs": [],
   "source": [
    "df_servidor.isna().sum()"
   ]
  },
  {
   "cell_type": "markdown",
   "id": "c000735f-bcd4-4dab-8c35-6d89f1a7044b",
   "metadata": {},
   "source": [
    "*  **dropna():** remove linhas ou colunas com valores nulos."
   ]
  },
  {
   "cell_type": "code",
   "execution_count": null,
   "id": "9e7fef99-f30f-4046-98e1-293e456c185f",
   "metadata": {},
   "outputs": [],
   "source": [
    "# Eliminando as linhas com valores ausentes\n",
    "df_servidor = df_servidor.dropna(subset=['Feedback_supervisores'])\n",
    "df_servidor.isna().sum()"
   ]
  },
  {
   "cell_type": "markdown",
   "id": "9d28de83-636e-46ac-abf8-06b78f7c7209",
   "metadata": {},
   "source": [
    "*  **fillna():** preencher valores nulos com um valor específico."
   ]
  },
  {
   "cell_type": "code",
   "execution_count": null,
   "id": "593fe2bb-6ac5-43b2-be69-3cbb866180c1",
   "metadata": {},
   "outputs": [],
   "source": [
    "# Imputar a média para a satisfação no trabalho\n",
    "df_servidor['Satisfacao_trabalho'].fillna(df_servidor['Satisfacao_trabalho'].mean(), inplace=True)\n",
    "df_servidor.isna().sum()"
   ]
  },
  {
   "cell_type": "code",
   "execution_count": null,
   "id": "4f5ac246-0e26-4af4-8087-54f29451ea7d",
   "metadata": {},
   "outputs": [],
   "source": [
    "df_servidor[\"Habilidades_competencias\"].unique()"
   ]
  },
  {
   "cell_type": "code",
   "execution_count": null,
   "id": "a177b274-f224-4ec5-bd75-bee5c6763c17",
   "metadata": {},
   "outputs": [],
   "source": [
    "# Imputar a média para a habilidades e competencias\n",
    "df_servidor['Habilidades_competencias'].fillna(df_servidor['Habilidades_competencias'].mean(), inplace=True)\n",
    "df_servidor.isna().sum()"
   ]
  },
  {
   "cell_type": "code",
   "execution_count": null,
   "id": "18403ca4-e538-4dd4-a8b9-95f1b02a247a",
   "metadata": {},
   "outputs": [],
   "source": [
    "# Imputar 0 para a experiencia em cargos de lideranca\n",
    "df_servidor['Experiencia_cargos_lideranca'].fillna(0, inplace=True)\n",
    "df_servidor.isna().sum()"
   ]
  },
  {
   "cell_type": "markdown",
   "id": "40ce2200",
   "metadata": {},
   "source": [
    "**SimpleImputer** com a estratégia most_frequent, que substitui os **valores ausentes pelo valor mais frequente (moda)** na coluna."
   ]
  },
  {
   "cell_type": "code",
   "execution_count": null,
   "id": "1c331daa-7354-4dd9-8e90-382d7cbad8f6",
   "metadata": {},
   "outputs": [],
   "source": [
    "# Imputação da avaliação de desempenho com o mais frequente\n",
    "imputer = SimpleImputer(strategy='most_frequent')\n",
    "df_servidor['Avaliacao_desempenho'] = imputer.fit_transform(df_servidor[['Avaliacao_desempenho']])\n",
    "df_servidor.isna().sum()"
   ]
  },
  {
   "cell_type": "code",
   "execution_count": null,
   "id": "0490b8c0-ae45-4437-98ad-acd6fdddf8fb",
   "metadata": {},
   "outputs": [],
   "source": [
    "# Imputar Não Especifica para a Nivel_educacao\n",
    "df_servidor['Nivel_educacao'].fillna('Não Especifica', inplace=True)\n",
    "df_servidor.isna().sum()"
   ]
  },
  {
   "cell_type": "code",
   "execution_count": null,
   "id": "3ce003a7-9427-49d3-b5ca-b0b5f3684829",
   "metadata": {},
   "outputs": [],
   "source": [
    "df_servidor['Idade'].isna().sum()"
   ]
  },
  {
   "cell_type": "code",
   "execution_count": null,
   "id": "9f57186b-f377-4731-b925-18aaed7bd428",
   "metadata": {},
   "outputs": [],
   "source": [
    "# Imputar a média para a idade\n",
    "#df_servidor['Idade'].fillna(df_servidor['Idade'].mean(), inplace=True)\n",
    "\n",
    "# Eliminando as linhas com valores ausentes\n",
    "df_servidor = df_servidor.dropna(subset=['Idade'])"
   ]
  },
  {
   "cell_type": "code",
   "execution_count": null,
   "id": "78ffb20d-af06-42c4-b394-bb2f87f16e02",
   "metadata": {},
   "outputs": [],
   "source": [
    "df_servidor['Idade'].isna().sum()"
   ]
  },
  {
   "cell_type": "markdown",
   "id": "472ce162-e739-4be5-a653-78c65748e074",
   "metadata": {},
   "source": [
    "<div style=\"background-color: #ffcccc; padding: 20px; border-radius: 10px;\">\n",
    "<h3>Tratamento de Outliers</h3>\n",
    "Aplicar métodos como o desvio interquartil ou z-score para identificar e tratar valores que se afastam significativamente dos demais dados.</br></br>\n",
    "- <b>Remoção</b>: Outliers que são claramente erros podem ser removidos.</br>\n",
    "- <b>Transformação</b>: Aplicação de transformações como logarítmica para reduzir o impacto de outliers.</br>\n",
    "- <b>Substituição</b>: Substituir outliers por valores que estejam dentro de um intervalo aceitável.</br>\n",
    "</div>"
   ]
  },
  {
   "cell_type": "code",
   "execution_count": null,
   "id": "6382b701-f631-425f-952e-cc25b81bbcfc",
   "metadata": {},
   "outputs": [],
   "source": [
    "Q1 = df_servidor['Idade'].quantile(0.25)\n",
    "Q3 = df_servidor['Idade'].quantile(0.75)\n",
    "\n",
    "# Calcular o IQR (Intervalo Interquartil)\n",
    "IQR = Q3 - Q1\n",
    "\n",
    "# Definir os limites inferior e superior\n",
    "limite_inferior = Q1 - 1.5 * IQR\n",
    "limite_superior = Q3 + 1.5 * IQR\n",
    "\n",
    "# Filtrar o DataFrame para remover linhas com outliers\n",
    "df_servidor = df_servidor[(df_servidor['Idade'] >= limite_inferior) & (df_servidor['Idade'] <= limite_superior)]\n",
    "\n",
    "plt.figure(figsize=(6, 3))\n",
    "sns.boxplot(x=df_servidor['Idade'])\n",
    "plt.title('Box Plot da Idade')\n",
    "plt.xlabel('Idade')\n",
    "plt.show()"
   ]
  },
  {
   "cell_type": "code",
   "execution_count": null,
   "id": "176bb6fe-7773-4521-80b2-9b8ad69cc83c",
   "metadata": {},
   "outputs": [],
   "source": [
    "Q1 = df_servidor['Habilidades_competencias'].quantile(0.25)\n",
    "Q3 = df_servidor['Habilidades_competencias'].quantile(0.75)\n",
    "\n",
    "# Calcular o IQR (Intervalo Interquartil)\n",
    "IQR = Q3 - Q1\n",
    "\n",
    "# Definir os limites inferior e superior\n",
    "limite_inferior = Q1 - 1.5 * IQR\n",
    "limite_superior = Q3 + 1.5 * IQR\n",
    "\n",
    "# Filtrar o DataFrame para remover linhas com outliers\n",
    "df_servidor = df_servidor[(df_servidor['Habilidades_competencias'] >= limite_inferior) & (df_servidor['Habilidades_competencias'] <= limite_superior)]\n",
    "\n",
    "plt.figure(figsize=(6, 3))\n",
    "sns.boxplot(x=df_servidor['Habilidades_competencias'])\n",
    "plt.title('Box Plot da Habilidades_competencias')\n",
    "plt.xlabel('Habilidades_competencias')\n",
    "plt.show()"
   ]
  },
  {
   "cell_type": "markdown",
   "id": "0d67fedb-492c-4bf8-990f-889cdfe2b670",
   "metadata": {},
   "source": [
    "### Transformação de Dados\n",
    "\n",
    "\n",
    "2. **Criação de Novas Features (Feature Engineering)**:\n",
    "    - **Combinação de Variáveis**: Criar novas variáveis combinando variáveis existentes.\n",
    "    - **Transformações Matemáticas**: Aplicação de transformações como logaritmo, raiz quadrada ou quadrado para criar novas features.\n",
    "\n",
    "4. **Transformação Logarítmica**:\n",
    "    - Aplicada para reduzir a variação em dados altamente dispersos e trazer a distribuição mais próxima de uma distribuição normal.\n",
    "\n",
    "6. **Agregação de Dados**:\n",
    "    - Resumir dados detalhados em dados agregados, por exemplo, transformando dados diários em dados mensais para análise em nível superior.\n",
    "\n",
    "7. **Transformações Baseadas em Domínio**:\n",
    "    - Transformações específicas baseadas no conhecimento do domínio, como transformar vari modelos e fornecer uma base sólida para a tomada de decisões baseada em dados.\n",
    "lida para a tomada de decisões baseada em dados.\n"
   ]
  },
  {
   "cell_type": "markdown",
   "id": "01db6cd0-9e19-47cb-a898-a118fa6938e8",
   "metadata": {},
   "source": [
    "<div style=\"background-color: #ffcccc; padding: 20px; border-radius: 10px;\">\n",
    "<h3>Binning (ou Discretização)</h3>\n",
    "Binning é o processo de transformar variáveis numéricas contínuas em variáveis categóricas discretas, dividindo o intervalo dos dados em bins (ou faixas). Isso pode ser útil para simplificar o modelo ou para lidar com a não-linearidade dos dados. Cada bin é rotulado com uma categoria específica.\n",
    "</div>"
   ]
  },
  {
   "cell_type": "markdown",
   "id": "6bbd6789-58d1-44bd-b12e-339d0ea9277f",
   "metadata": {},
   "source": [
    "*  **cut():** usada para segmentar e classificar os dados em intervalos.\n",
    "    *  **bins:** Define os limites dos intervalos (bins). Pode ser uma lista de valores ou um número inteiro que define o número de bins de tamanho igual a serem criados.\n",
    "    *  **labels:** Define os rótulos a serem atribuídos a cada intervalo. Deve ter o mesmo comprimento que bins menos um.\n",
    "    *  **right=True:** Inclui o limite superior do intervalo (default é True).\n",
    "    *  **include_lowest=True:** Inclui o menor valor no primeiro intervalo."
   ]
  },
  {
   "cell_type": "code",
   "execution_count": null,
   "id": "e78ad51e-2867-4dcb-b64e-abb047d70094",
   "metadata": {},
   "outputs": [],
   "source": [
    "bins = [18, 30, 40, 50, 60, 75, 80, 85]\n",
    "labels = ['18-29', '30-39', '40-49', '50-59', '60-69', '70-79', '80-89']\n",
    "df_servidor['Idade'] = pd.cut(df_servidor['Idade'], bins=bins, labels=labels, right=True, include_lowest=True)\n",
    "df_servidor[\"Idade\"].unique()"
   ]
  },
  {
   "cell_type": "code",
   "execution_count": null,
   "id": "2b1007aa-2ad0-486e-bba6-6dd06b897de4",
   "metadata": {},
   "outputs": [],
   "source": [
    "df_servidor"
   ]
  },
  {
   "cell_type": "markdown",
   "id": "b99957d6-d758-4205-b703-2923d403f890",
   "metadata": {},
   "source": [
    "<div style=\"background-color: #ffcccc; padding: 20px; border-radius: 10px;\">\n",
    "<h3>Codificação de Variáveis Categóricas</h3>\n",
    "\n",
    "A maioria dos algoritmos de aprendizado de máquina, como regressão linear, SVM, redes neurais, entre outros, operam com dados numéricos. Variáveis categóricas precisam ser convertidas para um formato numérico para que esses algoritmos possam processá-las.</br>\n",
    "<b>Label Encoding</b>: Converte categorias em valores numéricos. Esta técnica é simples, mas pode introduzir uma ordem que não existe nas categorias originais.</br>\n",
    "<b>One-Hot Encoding</b>: Cria colunas binárias para cada categoria, indicando a presença ou ausência da categoria.  Cada coluna representa uma categoria, e contém 1 se a categoria está presente ou 0 caso contrário. Isso evita a introdução de ordens artificiais.\n",
    "\n",
    "<img src=\"../imagens/estado.png\" width=\"500\" height=\"200\" />\n",
    "<img src=\"../imagens/one-Hot.png\" width=\"500\" height=\"200\" />\n",
    "\n",
    "https://medium.com/@ingoreichertjr/label-encoding-e-one-hot-encoding-na-pr%C3%A1tica-6d2cb100e11e\n",
    "</div>"
   ]
  },
  {
   "cell_type": "markdown",
   "id": "c18dd366-d80c-4836-8dbd-4b9df889886b",
   "metadata": {},
   "source": [
    "*  **astype('category'):** Converte a coluna para o tipo de dado categórico.\n",
    "*  **cat:** Acessa os atributos de categorização da coluna convertida.\n",
    "*  **categories:** extrai as categorias únicas da coluna categórica."
   ]
  },
  {
   "cell_type": "code",
   "execution_count": null,
   "id": "ffe306b5-ac37-4c63-bc27-8c84ea2626d3",
   "metadata": {},
   "outputs": [],
   "source": [
    "categorias = df_servidor['Nivel_educacao'].astype('category').cat.categories\n",
    "codigos = df_servidor['Nivel_educacao'].astype('category').cat.codes\n",
    "\n",
    "print({codigo: categoria for codigo, categoria in enumerate(categorias)})"
   ]
  },
  {
   "cell_type": "code",
   "execution_count": null,
   "id": "c34b7c2c-02b4-4d4c-8580-9fcf51525542",
   "metadata": {},
   "outputs": [],
   "source": [
    "# Label Encoding\n",
    "df_servidor['Nivel_educacao'] = df_servidor['Nivel_educacao'].astype('category').cat.codes\n",
    "df_servidor[\"Nivel_educacao\"].unique()"
   ]
  },
  {
   "cell_type": "code",
   "execution_count": null,
   "id": "2e697aa8-d574-4401-8fe9-62eaa079fb74",
   "metadata": {},
   "outputs": [],
   "source": [
    "categorias = df_servidor['Treinamento_lideranca'].astype('category').cat.categories\n",
    "codigos = df_servidor['Treinamento_lideranca'].astype('category').cat.codes\n",
    "print({codigo: categoria for codigo, categoria in enumerate(categorias)})\n",
    "\n",
    "# Label Encoding\n",
    "df_servidor['Treinamento_lideranca'] = df_servidor['Treinamento_lideranca'].astype('category').cat.codes\n",
    "df_servidor[\"Treinamento_lideranca\"].unique()"
   ]
  },
  {
   "cell_type": "code",
   "execution_count": null,
   "id": "3cfbb557-ce9c-43e1-8c43-6020f301d50e",
   "metadata": {},
   "outputs": [],
   "source": [
    "categorias = df_servidor['Lider'].astype('category').cat.categories\n",
    "codigos = df_servidor['Lider'].astype('category').cat.codes\n",
    "print({codigo: categoria for codigo, categoria in enumerate(categorias)})\n",
    "\n",
    "# Label Encoding\n",
    "df_servidor['Lider'] = df_servidor['Lider'].astype('category').cat.codes\n",
    "df_servidor[\"Lider\"].unique()"
   ]
  },
  {
   "cell_type": "code",
   "execution_count": null,
   "id": "bb1b17df-20e6-4adb-a676-12283948e49f",
   "metadata": {},
   "outputs": [],
   "source": [
    "categorias = df_servidor['Coach'].astype('category').cat.categories\n",
    "codigos = df_servidor['Coach'].astype('category').cat.codes\n",
    "print({codigo: categoria for codigo, categoria in enumerate(categorias)})\n",
    "\n",
    "# Label Encoding\n",
    "df_servidor['Coach'] = df_servidor['Coach'].astype('category').cat.codes\n",
    "df_servidor[\"Coach\"].unique()"
   ]
  },
  {
   "cell_type": "code",
   "execution_count": null,
   "id": "c0505b3f-24ad-4bc1-89de-fe52b3ae1bbe",
   "metadata": {},
   "outputs": [],
   "source": [
    "categorias = df_servidor['Empodera'].astype('category').cat.categories\n",
    "codigos = df_servidor['Empodera'].astype('category').cat.codes\n",
    "print({codigo: categoria for codigo, categoria in enumerate(categorias)})\n",
    "\n",
    "# Label Encoding\n",
    "df_servidor['Empodera'] = df_servidor['Empodera'].astype('category').cat.codes\n",
    "df_servidor[\"Empodera\"].unique()"
   ]
  },
  {
   "cell_type": "code",
   "execution_count": null,
   "id": "198a9f15-13c6-4c2f-aec7-aab3b227acda",
   "metadata": {
    "scrolled": true
   },
   "outputs": [],
   "source": [
    "categorias = df_servidor['Orientado_resultados'].astype('category').cat.categories\n",
    "codigos = df_servidor['Orientado_resultados'].astype('category').cat.codes\n",
    "print({codigo: categoria for codigo, categoria in enumerate(categorias)})\n",
    "\n",
    "# Label Encoding\n",
    "df_servidor['Orientado_resultados'] = df_servidor['Orientado_resultados'].astype('category').cat.codes\n",
    "df_servidor[\"Orientado_resultados\"].unique()"
   ]
  },
  {
   "cell_type": "code",
   "execution_count": null,
   "id": "8f7832a6-2a0c-4644-a3b6-f4fef82c4535",
   "metadata": {},
   "outputs": [],
   "source": [
    "categorias = df_servidor['Sucesso_membros'].astype('category').cat.categories\n",
    "codigos = df_servidor['Sucesso_membros'].astype('category').cat.codes\n",
    "print({codigo: categoria for codigo, categoria in enumerate(categorias)})\n",
    "\n",
    "# Label Encoding\n",
    "df_servidor['Sucesso_membros'] = df_servidor['Sucesso_membros'].astype('category').cat.codes\n",
    "df_servidor[\"Sucesso_membros\"].unique()"
   ]
  },
  {
   "cell_type": "code",
   "execution_count": null,
   "id": "a30e1d14-2546-4e84-9c25-124a8501ec1c",
   "metadata": {},
   "outputs": [],
   "source": [
    "categorias = df_servidor['Comunicador'].astype('category').cat.categories\n",
    "codigos = df_servidor['Comunicador'].astype('category').cat.codes\n",
    "print({codigo: categoria for codigo, categoria in enumerate(categorias)})\n",
    "\n",
    "# Label Encoding\n",
    "df_servidor['Comunicador'] = df_servidor['Comunicador'].astype('category').cat.codes\n",
    "df_servidor[\"Comunicador\"].unique()"
   ]
  },
  {
   "cell_type": "code",
   "execution_count": null,
   "id": "109799f3-0d2e-48f6-9e8c-0f9085c162ff",
   "metadata": {},
   "outputs": [],
   "source": [
    "categorias = df_servidor['Desenvolvimento_carreira'].astype('category').cat.categories\n",
    "codigos = df_servidor['Desenvolvimento_carreira'].astype('category').cat.codes\n",
    "print({codigo: categoria for codigo, categoria in enumerate(categorias)})\n",
    "\n",
    "# Label Encoding\n",
    "df_servidor['Desenvolvimento_carreira'] = df_servidor['Desenvolvimento_carreira'].astype('category').cat.codes\n",
    "df_servidor[\"Desenvolvimento_carreira\"].unique()"
   ]
  },
  {
   "cell_type": "code",
   "execution_count": null,
   "id": "6acb619c-58f3-4bef-b81b-288183d94599",
   "metadata": {},
   "outputs": [],
   "source": [
    "categorias = df_servidor['Estrategia_equipe'].astype('category').cat.categories\n",
    "codigos = df_servidor['Estrategia_equipe'].astype('category').cat.codes\n",
    "print({codigo: categoria for codigo, categoria in enumerate(categorias)})\n",
    "\n",
    "# Label Encoding\n",
    "df_servidor['Estrategia_equipe'] = df_servidor['Estrategia_equipe'].astype('category').cat.codes\n",
    "df_servidor[\"Estrategia_equipe\"].unique()"
   ]
  },
  {
   "cell_type": "code",
   "execution_count": null,
   "id": "bb6affc5-0437-4b4a-9be7-86f1e233dbfc",
   "metadata": {},
   "outputs": [],
   "source": [
    "categorias = df_servidor['Habilidades_tecnicas'].astype('category').cat.categories\n",
    "codigos = df_servidor['Habilidades_tecnicas'].astype('category').cat.codes\n",
    "print({codigo: categoria for codigo, categoria in enumerate(categorias)})\n",
    "\n",
    "# Label Encoding\n",
    "df_servidor['Habilidades_tecnicas'] = df_servidor['Habilidades_tecnicas'].astype('category').cat.codes\n",
    "df_servidor[\"Habilidades_tecnicas\"].unique()"
   ]
  },
  {
   "cell_type": "markdown",
   "id": "f75b880e-d61c-4f64-8cd7-ec058b176471",
   "metadata": {},
   "source": [
    "*  **get_dummies():** Converte a coluna categórica 'Idade' em várias colunas dummy, onde cada coluna representa uma categoria única da coluna original.\n",
    "    *  **columns=['Idade']:** Especifica que a coluna 'Idade' deve ser convertida em variáveis dummy.\n",
    "    *  **prefix='Idade':** Define um prefixo para os nomes das novas colunas dummy."
   ]
  },
  {
   "cell_type": "code",
   "execution_count": null,
   "id": "45557c7c-945b-445d-87f5-e38f46b2ef46",
   "metadata": {},
   "outputs": [],
   "source": [
    "# One-Hot Encoding\n",
    "df_servidor = pd.get_dummies(df_servidor, columns=['Idade'], prefix='Idade')\n",
    "df_servidor"
   ]
  },
  {
   "cell_type": "code",
   "execution_count": null,
   "id": "7250b0a8-d464-444b-b4db-5e63e2e2f153",
   "metadata": {},
   "outputs": [],
   "source": [
    "# Transformano em valores numéricos\n",
    "dummy_columns = [col for col in df_servidor.columns if col.startswith('Idade')]\n",
    "df_servidor[dummy_columns] = df_servidor[dummy_columns].astype(int)\n",
    "df_servidor"
   ]
  },
  {
   "cell_type": "markdown",
   "id": "a5b433e0-84aa-45a5-b388-0c5649673009",
   "metadata": {},
   "source": [
    "<div style=\"background-color: #ffcccc; padding: 20px; border-radius: 10px;\">\n",
    "<h3>Criação de features</h3>\n",
    "A criação de features, ou feature engineering, é o processo de usar o conhecimento do domínio para extrair novas variáveis (features) a partir dos dados brutos existentes. Essa etapa ajuda a melhorar o desempenho do modelo, pois permite capturar informações que não são imediatamente aparentes nos dados originais. \n",
    "</div>"
   ]
  },
  {
   "cell_type": "code",
   "execution_count": null,
   "id": "4808814f-f77a-4954-93e5-985856d2dc58",
   "metadata": {},
   "outputs": [],
   "source": [
    "df_servidor['Indice_lideranca'] = (df_servidor['Experiencia_cargos_lideranca'] + df_servidor['Treinamento_lideranca'] + df_servidor['Feedback_supervisores']) / 3\n",
    "df_servidor['Indice_competencias'] = (df_servidor['Habilidades_competencias'] + df_servidor['Avaliacao_desempenho']) / 2\n",
    "df_servidor['Engajamento_desenvolvimento'] = (df_servidor['Treinamento_lideranca'] + df_servidor['Feedback_supervisores'] + df_servidor['Avaliacao_desempenho']) / 3"
   ]
  },
  {
   "cell_type": "code",
   "execution_count": null,
   "id": "0dc3abc7-ec8e-474c-ba56-aac3bdff3756",
   "metadata": {},
   "outputs": [],
   "source": [
    "# Salvar o DataFrame como um arquivo CSV\n",
    "df_servidor.to_csv('../data/interim/sucessao_processado.csv', index=False)"
   ]
  },
  {
   "cell_type": "markdown",
   "id": "233e7d41-27b5-4c53-8abe-edd9806e82db",
   "metadata": {},
   "source": [
    "<div style=\"background-color: #ffcccc; padding: 20px; border-radius: 10px;\">\n",
    "<h3>Escalonamento: Normalização e Padronização dos dados</h3>\n",
    "\n",
    "<b>Padronização (Z-score Scaling):</b> Escala os dados com base na média e desvio padrão. Use quando for necessário comparar dados com diferentes escalas ou unidades, centralizando os dados em torno de uma média de 0 e um desvio padrão de 1.\n",
    "\n",
    "<b>Normalização (Min-Max Scaling):</b> Utilize quando precisar que seus dados estejam em uma faixa específica, como 0 a 1, mantendo a proporcionalidade entre os valores.\n",
    "\n",
    "</div>"
   ]
  },
  {
   "cell_type": "markdown",
   "id": "fbd720fe-20a0-493b-a7a6-2f69314f5fcd",
   "metadata": {},
   "source": [
    "### Padronização (Z-score Scaling)\n",
    "\n",
    "Padronização é o processo de transformar os dados para que <b>tenham uma média de 0 e um desvio padrão de 1</b>. Isso é útil quando você quer <b>comparar dados que podem ter diferentes escalas ou unidades</b>. Após a padronização, os dados seguem uma distribuição normal padrão.\n",
    "\n",
    "A fórmula para padronização é:\n",
    "\n",
    "$z = \\frac{x - \\mu}{\\sigma}$\n"
   ]
  },
  {
   "cell_type": "code",
   "execution_count": null,
   "id": "61f21983-8d16-4a9c-95af-4dc03bb5fe48",
   "metadata": {},
   "outputs": [],
   "source": [
    "coluna_classe = df_servidor['Lider']\n",
    "colunas_para_normalizar = df_servidor.drop(columns=['Lider'])\n",
    "\n",
    "scaler = StandardScaler()\n",
    "colunas_normalizadas = pd.DataFrame(scaler.fit_transform(colunas_para_normalizar), columns=colunas_para_normalizar.columns)\n",
    "\n",
    "# Combinar as colunas normalizadas com a coluna excluída\n",
    "df_normalizado = colunas_normalizadas.copy()\n",
    "df_normalizado['Lider'] = coluna_classe.values\n",
    "df_normalizado"
   ]
  },
  {
   "cell_type": "markdown",
   "id": "64645658-c500-4c21-bc60-35ed38a14d6f",
   "metadata": {},
   "source": [
    "### Normalização (Min-Max Scaling)\n",
    "\n",
    "Normalização é o processo de transformar os dados para que fiquem em uma <b>faixa específica, geralmente entre 0 e 1</b>. Esse método é útil quando você quer <b>manter a proporcionalidade dos dados</b>, ou seja, o relacionamento entre os valores permanece o mesmo.\n",
    "\n",
    "A fórmula para normalização é:\n",
    "\n",
    "$z = \\frac{x - \\min(x)}{\\max(x) - \\min(x)}$"
   ]
  },
  {
   "cell_type": "code",
   "execution_count": null,
   "id": "74ccee12-cef7-43a2-9ecc-a87155e144dc",
   "metadata": {},
   "outputs": [],
   "source": [
    "coluna_classe = df_servidor['Lider']\n",
    "colunas_para_normalizar = df_servidor.drop(columns=['Lider'])\n",
    "\n",
    "scaler = MinMaxScaler()\n",
    "colunas_normalizadas = pd.DataFrame(scaler.fit_transform(colunas_para_normalizar), columns=colunas_para_normalizar.columns)\n",
    "\n",
    "# Combinar as colunas normalizadas com a coluna excluída\n",
    "df_normalizado = colunas_normalizadas.copy()\n",
    "df_normalizado['Lider'] = coluna_classe.values\n",
    "df_normalizado\n"
   ]
  },
  {
   "cell_type": "code",
   "execution_count": null,
   "id": "3673bbaa-c270-4577-bcda-e7c99e09fcbd",
   "metadata": {},
   "outputs": [],
   "source": [
    "# Salvar o scaler ajustado\n",
    "joblib.dump(scaler, '../models/scaler.pkl')"
   ]
  },
  {
   "cell_type": "code",
   "execution_count": null,
   "id": "0978bdae-5ffe-423a-9ce2-388a4cd5b93d",
   "metadata": {},
   "outputs": [],
   "source": [
    "# Salvar o DataFrame como um arquivo CSV\n",
    "df_normalizado.to_csv('../data/processed/sucessao_normalizado.csv', index=False)"
   ]
  }
 ],
 "metadata": {
  "colab": {
   "provenance": []
  },
  "kernelspec": {
   "display_name": "Python 3 (ipykernel)",
   "language": "python",
   "name": "python3"
  },
  "language_info": {
   "codemirror_mode": {
    "name": "ipython",
    "version": 3
   },
   "file_extension": ".py",
   "mimetype": "text/x-python",
   "name": "python",
   "nbconvert_exporter": "python",
   "pygments_lexer": "ipython3",
   "version": "3.11.7"
  }
 },
 "nbformat": 4,
 "nbformat_minor": 5
}
