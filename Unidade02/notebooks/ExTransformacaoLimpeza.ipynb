{
 "cells": [
  {
   "cell_type": "code",
   "execution_count": 26,
   "id": "6c8bbad6-3d85-49a1-bbd7-f06ef93c3d6a",
   "metadata": {},
   "outputs": [],
   "source": [
    "import warnings\n",
    "warnings.filterwarnings('ignore')"
   ]
  },
  {
   "cell_type": "markdown",
   "id": "b59ec826-c0fc-4827-bc22-55d004238cb5",
   "metadata": {},
   "source": [
    "# Criação do Dataset Fictício"
   ]
  },
  {
   "cell_type": "code",
   "execution_count": 43,
   "id": "f528fbfc-7751-426f-91ac-0656e1a89d29",
   "metadata": {},
   "outputs": [
    {
     "data": {
      "text/html": [
       "<div>\n",
       "<style scoped>\n",
       "    .dataframe tbody tr th:only-of-type {\n",
       "        vertical-align: middle;\n",
       "    }\n",
       "\n",
       "    .dataframe tbody tr th {\n",
       "        vertical-align: top;\n",
       "    }\n",
       "\n",
       "    .dataframe thead th {\n",
       "        text-align: right;\n",
       "    }\n",
       "</style>\n",
       "<table border=\"1\" class=\"dataframe\">\n",
       "  <thead>\n",
       "    <tr style=\"text-align: right;\">\n",
       "      <th></th>\n",
       "      <th>id</th>\n",
       "      <th>idade</th>\n",
       "      <th>salario</th>\n",
       "      <th>experiencia</th>\n",
       "      <th>categoria</th>\n",
       "      <th>data_admissao</th>\n",
       "      <th>score</th>\n",
       "    </tr>\n",
       "  </thead>\n",
       "  <tbody>\n",
       "    <tr>\n",
       "      <th>0</th>\n",
       "      <td>1</td>\n",
       "      <td>58</td>\n",
       "      <td>5387.211846</td>\n",
       "      <td>35</td>\n",
       "      <td>C</td>\n",
       "      <td>2000-07-31 00:00:00</td>\n",
       "      <td>33.125724</td>\n",
       "    </tr>\n",
       "    <tr>\n",
       "      <th>1</th>\n",
       "      <td>2</td>\n",
       "      <td>48</td>\n",
       "      <td>5159.052145</td>\n",
       "      <td>18</td>\n",
       "      <td>A</td>\n",
       "      <td>2002-03-31 00:00:00</td>\n",
       "      <td>69.228806</td>\n",
       "    </tr>\n",
       "    <tr>\n",
       "      <th>2</th>\n",
       "      <td>3</td>\n",
       "      <td>34</td>\n",
       "      <td>4347.905398</td>\n",
       "      <td>25</td>\n",
       "      <td>D</td>\n",
       "      <td>2000-06-30 00:00:00</td>\n",
       "      <td>49.573678</td>\n",
       "    </tr>\n",
       "    <tr>\n",
       "      <th>3</th>\n",
       "      <td>4</td>\n",
       "      <td>62</td>\n",
       "      <td>2112.638582</td>\n",
       "      <td>2</td>\n",
       "      <td>C</td>\n",
       "      <td>2006-03-31 00:00:00</td>\n",
       "      <td>24.253633</td>\n",
       "    </tr>\n",
       "    <tr>\n",
       "      <th>4</th>\n",
       "      <td>5</td>\n",
       "      <td>27</td>\n",
       "      <td>3590.739233</td>\n",
       "      <td>18</td>\n",
       "      <td>D</td>\n",
       "      <td>2006-09-30 00:00:00</td>\n",
       "      <td>34.355579</td>\n",
       "    </tr>\n",
       "    <tr>\n",
       "      <th>5</th>\n",
       "      <td>6</td>\n",
       "      <td>40</td>\n",
       "      <td>NaN</td>\n",
       "      <td>19</td>\n",
       "      <td>B</td>\n",
       "      <td>2007-10-31 00:00:00</td>\n",
       "      <td>69.897075</td>\n",
       "    </tr>\n",
       "    <tr>\n",
       "      <th>6</th>\n",
       "      <td>7</td>\n",
       "      <td>58</td>\n",
       "      <td>NaN</td>\n",
       "      <td>31</td>\n",
       "      <td>A</td>\n",
       "      <td>2006-12-31 00:00:00</td>\n",
       "      <td>56.729730</td>\n",
       "    </tr>\n",
       "    <tr>\n",
       "      <th>7</th>\n",
       "      <td>8</td>\n",
       "      <td>38</td>\n",
       "      <td>NaN</td>\n",
       "      <td>6</td>\n",
       "      <td>B</td>\n",
       "      <td>2005-05-31 00:00:00</td>\n",
       "      <td>48.819025</td>\n",
       "    </tr>\n",
       "    <tr>\n",
       "      <th>8</th>\n",
       "      <td>9</td>\n",
       "      <td>42</td>\n",
       "      <td>NaN</td>\n",
       "      <td>32</td>\n",
       "      <td>C</td>\n",
       "      <td>2001-03-31 00:00:00</td>\n",
       "      <td>16.748584</td>\n",
       "    </tr>\n",
       "    <tr>\n",
       "      <th>9</th>\n",
       "      <td>10</td>\n",
       "      <td>30</td>\n",
       "      <td>NaN</td>\n",
       "      <td>39</td>\n",
       "      <td>B</td>\n",
       "      <td>2006-01-31 00:00:00</td>\n",
       "      <td>70.843495</td>\n",
       "    </tr>\n",
       "  </tbody>\n",
       "</table>\n",
       "</div>"
      ],
      "text/plain": [
       "   id  idade      salario  experiencia categoria        data_admissao  \\\n",
       "0   1     58  5387.211846           35         C  2000-07-31 00:00:00   \n",
       "1   2     48  5159.052145           18         A  2002-03-31 00:00:00   \n",
       "2   3     34  4347.905398           25         D  2000-06-30 00:00:00   \n",
       "3   4     62  2112.638582            2         C  2006-03-31 00:00:00   \n",
       "4   5     27  3590.739233           18         D  2006-09-30 00:00:00   \n",
       "5   6     40          NaN           19         B  2007-10-31 00:00:00   \n",
       "6   7     58          NaN           31         A  2006-12-31 00:00:00   \n",
       "7   8     38          NaN            6         B  2005-05-31 00:00:00   \n",
       "8   9     42          NaN           32         C  2001-03-31 00:00:00   \n",
       "9  10     30          NaN           39         B  2006-01-31 00:00:00   \n",
       "\n",
       "       score  \n",
       "0  33.125724  \n",
       "1  69.228806  \n",
       "2  49.573678  \n",
       "3  24.253633  \n",
       "4  34.355579  \n",
       "5  69.897075  \n",
       "6  56.729730  \n",
       "7  48.819025  \n",
       "8  16.748584  \n",
       "9  70.843495  "
      ]
     },
     "execution_count": 43,
     "metadata": {},
     "output_type": "execute_result"
    }
   ],
   "source": [
    "\n",
    "import pandas as pd\n",
    "import numpy as np\n",
    "\n",
    "# Criação do dataset fictício\n",
    "np.random.seed(42)\n",
    "data = {\n",
    "    'id': range(1, 101),\n",
    "    'idade': np.random.randint(20, 70, size=100),\n",
    "    'salario': np.random.uniform(2000, 10000, size=100),\n",
    "    'experiencia': np.random.randint(0, 40, size=100),\n",
    "    'categoria': np.random.choice(['A', 'B', 'C', 'D'], size=100),\n",
    "    'data_admissao': pd.date_range(start='2000-01-01', periods=100, freq='M').to_series().sample(100).values,\n",
    "    'score': np.random.normal(loc=50, scale=15, size=100)\n",
    "}\n",
    "\n",
    "df = pd.DataFrame(data)\n",
    "\n",
    "# Introdução de valores ausentes, duplicatas e inconsistências\n",
    "df.loc[5:10, 'salario'] = np.nan\n",
    "df.loc[15:20, 'categoria'] = np.nan\n",
    "df = pd.concat([df, df.iloc[0:5]])\n",
    "df.loc[25, 'score'] = 300  # outlier\n",
    "df.loc[30, 'data_admissao'] = '01-2000-20'  # erro de formato\n",
    "df.loc[35, 'categoria'] = 'erro'  # erro de digitação\n",
    "df.loc[40:45, 'salario'] = 100000  # outliers\n",
    "\n",
    "# Exibição do dataset inicial\n",
    "df.head(10)\n"
   ]
  },
  {
   "cell_type": "markdown",
   "id": "62df31d8-dd07-4b55-ac4e-cb0187de3a9c",
   "metadata": {},
   "source": [
    "# Análise Exploratória de Dados (EDA)"
   ]
  },
  {
   "cell_type": "code",
   "execution_count": 44,
   "id": "2bc6d608-5c11-4e91-a4bd-b9f9366ce8b6",
   "metadata": {},
   "outputs": [
    {
     "name": "stdout",
     "output_type": "stream",
     "text": [
      "Estatísticas descritivas:\n",
      "                id       idade        salario  experiencia       score\n",
      "count  105.000000  105.000000      99.000000   105.000000  105.000000\n",
      "mean    48.238095   44.152381   11327.331365    21.980952   49.665396\n",
      "std     30.076672   14.407384   22731.408842    11.419434   29.683489\n",
      "min      1.000000   20.000000    2004.163016     0.000000   -0.461433\n",
      "25%     22.000000   33.000000    4003.165907    15.000000   34.387248\n",
      "50%     48.000000   43.000000    5514.692015    24.000000   47.542021\n",
      "75%     74.000000   58.000000    7565.315573    32.000000   60.997600\n",
      "max    100.000000   69.000000  100000.000000    39.000000  300.000000\n"
     ]
    },
    {
     "data": {
      "image/png": "[encoded data removed]",
      "text/plain": [
       "<Figure size 640x480 with 1 Axes>"
      ]
     },
     "metadata": {},
     "output_type": "display_data"
    }
   ],
   "source": [
    "# Estatísticas descritivas\n",
    "print(\"Estatísticas descritivas:\\n\", df.describe())\n",
    "\n",
    "# Visualização de distribuições\n",
    "import seaborn as sns\n",
    "import matplotlib.pyplot as plt\n",
    "\n",
    "sns.histplot(df['idade'])\n",
    "plt.show()"
   ]
  },
  {
   "cell_type": "markdown",
   "id": "3eaa4a5f-f6b6-4643-aa6a-3849b91a119f",
   "metadata": {},
   "source": [
    "# Limpeza de Dados"
   ]
  },
  {
   "cell_type": "markdown",
   "id": "7df48584-ebc8-4a35-8768-61ae88b06b7d",
   "metadata": {},
   "source": [
    "## Remoção de Linhas/Colunas"
   ]
  },
  {
   "cell_type": "code",
   "execution_count": 45,
   "id": "01d974e6-2566-4486-a4c1-143b2b2617b6",
   "metadata": {},
   "outputs": [],
   "source": [
    "# Remoção de linhas com muitos valores ausentes\n",
    "df.dropna(thresh=len(df.columns) - 2, inplace=True)\n",
    "\n",
    "# Remoção de colunas com muitos valores ausentes\n",
    "#df.dropna(axis=1, thresh=len(df) - 2, inplace=True)\n"
   ]
  },
  {
   "cell_type": "code",
   "execution_count": 46,
   "id": "cdfe957b-70c8-46c4-a4b4-77a3323d58d0",
   "metadata": {},
   "outputs": [
    {
     "data": {
      "text/html": [
       "<div>\n",
       "<style scoped>\n",
       "    .dataframe tbody tr th:only-of-type {\n",
       "        vertical-align: middle;\n",
       "    }\n",
       "\n",
       "    .dataframe tbody tr th {\n",
       "        vertical-align: top;\n",
       "    }\n",
       "\n",
       "    .dataframe thead th {\n",
       "        text-align: right;\n",
       "    }\n",
       "</style>\n",
       "<table border=\"1\" class=\"dataframe\">\n",
       "  <thead>\n",
       "    <tr style=\"text-align: right;\">\n",
       "      <th></th>\n",
       "      <th>id</th>\n",
       "      <th>idade</th>\n",
       "      <th>salario</th>\n",
       "      <th>experiencia</th>\n",
       "      <th>categoria</th>\n",
       "      <th>data_admissao</th>\n",
       "      <th>score</th>\n",
       "    </tr>\n",
       "  </thead>\n",
       "  <tbody>\n",
       "    <tr>\n",
       "      <th>0</th>\n",
       "      <td>1</td>\n",
       "      <td>58</td>\n",
       "      <td>5387.211846</td>\n",
       "      <td>35</td>\n",
       "      <td>C</td>\n",
       "      <td>2000-07-31 00:00:00</td>\n",
       "      <td>33.125724</td>\n",
       "    </tr>\n",
       "    <tr>\n",
       "      <th>1</th>\n",
       "      <td>2</td>\n",
       "      <td>48</td>\n",
       "      <td>5159.052145</td>\n",
       "      <td>18</td>\n",
       "      <td>A</td>\n",
       "      <td>2002-03-31 00:00:00</td>\n",
       "      <td>69.228806</td>\n",
       "    </tr>\n",
       "    <tr>\n",
       "      <th>2</th>\n",
       "      <td>3</td>\n",
       "      <td>34</td>\n",
       "      <td>4347.905398</td>\n",
       "      <td>25</td>\n",
       "      <td>D</td>\n",
       "      <td>2000-06-30 00:00:00</td>\n",
       "      <td>49.573678</td>\n",
       "    </tr>\n",
       "    <tr>\n",
       "      <th>3</th>\n",
       "      <td>4</td>\n",
       "      <td>62</td>\n",
       "      <td>2112.638582</td>\n",
       "      <td>2</td>\n",
       "      <td>C</td>\n",
       "      <td>2006-03-31 00:00:00</td>\n",
       "      <td>24.253633</td>\n",
       "    </tr>\n",
       "    <tr>\n",
       "      <th>4</th>\n",
       "      <td>5</td>\n",
       "      <td>27</td>\n",
       "      <td>3590.739233</td>\n",
       "      <td>18</td>\n",
       "      <td>D</td>\n",
       "      <td>2006-09-30 00:00:00</td>\n",
       "      <td>34.355579</td>\n",
       "    </tr>\n",
       "    <tr>\n",
       "      <th>...</th>\n",
       "      <td>...</td>\n",
       "      <td>...</td>\n",
       "      <td>...</td>\n",
       "      <td>...</td>\n",
       "      <td>...</td>\n",
       "      <td>...</td>\n",
       "      <td>...</td>\n",
       "    </tr>\n",
       "    <tr>\n",
       "      <th>0</th>\n",
       "      <td>1</td>\n",
       "      <td>58</td>\n",
       "      <td>5387.211846</td>\n",
       "      <td>35</td>\n",
       "      <td>C</td>\n",
       "      <td>2000-07-31 00:00:00</td>\n",
       "      <td>33.125724</td>\n",
       "    </tr>\n",
       "    <tr>\n",
       "      <th>1</th>\n",
       "      <td>2</td>\n",
       "      <td>48</td>\n",
       "      <td>5159.052145</td>\n",
       "      <td>18</td>\n",
       "      <td>A</td>\n",
       "      <td>2002-03-31 00:00:00</td>\n",
       "      <td>69.228806</td>\n",
       "    </tr>\n",
       "    <tr>\n",
       "      <th>2</th>\n",
       "      <td>3</td>\n",
       "      <td>34</td>\n",
       "      <td>4347.905398</td>\n",
       "      <td>25</td>\n",
       "      <td>D</td>\n",
       "      <td>2000-06-30 00:00:00</td>\n",
       "      <td>49.573678</td>\n",
       "    </tr>\n",
       "    <tr>\n",
       "      <th>3</th>\n",
       "      <td>4</td>\n",
       "      <td>62</td>\n",
       "      <td>2112.638582</td>\n",
       "      <td>2</td>\n",
       "      <td>C</td>\n",
       "      <td>2006-03-31 00:00:00</td>\n",
       "      <td>24.253633</td>\n",
       "    </tr>\n",
       "    <tr>\n",
       "      <th>4</th>\n",
       "      <td>5</td>\n",
       "      <td>27</td>\n",
       "      <td>3590.739233</td>\n",
       "      <td>18</td>\n",
       "      <td>D</td>\n",
       "      <td>2006-09-30 00:00:00</td>\n",
       "      <td>34.355579</td>\n",
       "    </tr>\n",
       "  </tbody>\n",
       "</table>\n",
       "<p>105 rows × 7 columns</p>\n",
       "</div>"
      ],
      "text/plain": [
       "    id  idade      salario  experiencia categoria        data_admissao  \\\n",
       "0    1     58  5387.211846           35         C  2000-07-31 00:00:00   \n",
       "1    2     48  5159.052145           18         A  2002-03-31 00:00:00   \n",
       "2    3     34  4347.905398           25         D  2000-06-30 00:00:00   \n",
       "3    4     62  2112.638582            2         C  2006-03-31 00:00:00   \n",
       "4    5     27  3590.739233           18         D  2006-09-30 00:00:00   \n",
       "..  ..    ...          ...          ...       ...                  ...   \n",
       "0    1     58  5387.211846           35         C  2000-07-31 00:00:00   \n",
       "1    2     48  5159.052145           18         A  2002-03-31 00:00:00   \n",
       "2    3     34  4347.905398           25         D  2000-06-30 00:00:00   \n",
       "3    4     62  2112.638582            2         C  2006-03-31 00:00:00   \n",
       "4    5     27  3590.739233           18         D  2006-09-30 00:00:00   \n",
       "\n",
       "        score  \n",
       "0   33.125724  \n",
       "1   69.228806  \n",
       "2   49.573678  \n",
       "3   24.253633  \n",
       "4   34.355579  \n",
       "..        ...  \n",
       "0   33.125724  \n",
       "1   69.228806  \n",
       "2   49.573678  \n",
       "3   24.253633  \n",
       "4   34.355579  \n",
       "\n",
       "[105 rows x 7 columns]"
      ]
     },
     "execution_count": 46,
     "metadata": {},
     "output_type": "execute_result"
    }
   ],
   "source": [
    "df"
   ]
  },
  {
   "cell_type": "markdown",
   "id": "188de2a7-c14b-4b16-a4d1-e01488e42672",
   "metadata": {},
   "source": [
    "# Imputação"
   ]
  },
  {
   "cell_type": "code",
   "execution_count": 47,
   "id": "0e419f0f-7e29-47de-85cc-f77c69ebaa17",
   "metadata": {},
   "outputs": [],
   "source": [
    "# Imputação com média\n",
    "df['salario'].fillna(df['salario'].mean(), inplace=True)\n",
    "\n",
    "# Imputação com moda\n",
    "df['categoria'].fillna(df['categoria'].mode()[0], inplace=True)\n"
   ]
  },
  {
   "cell_type": "markdown",
   "id": "8ce0f901-2967-4245-a0a5-254b9c085098",
   "metadata": {},
   "source": [
    "# Remoção de Duplicatas"
   ]
  },
  {
   "cell_type": "code",
   "execution_count": 48,
   "id": "f6ccb486-d599-4e87-bbc3-d12693be24ba",
   "metadata": {},
   "outputs": [],
   "source": [
    "# Identificação e remoção de duplicatas\n",
    "df.drop_duplicates(inplace=True)\n"
   ]
  },
  {
   "cell_type": "markdown",
   "id": "c6588bc9-6fb0-49fb-bcef-1634b1d68e46",
   "metadata": {},
   "source": [
    "## Correção de Valores Anômalos (Outliers)"
   ]
  },
  {
   "cell_type": "markdown",
   "id": "699d5b1e-a950-4f3f-91df-161d60d13642",
   "metadata": {},
   "source": [
    "### Remoção"
   ]
  },
  {
   "cell_type": "code",
   "execution_count": 49,
   "id": "ff5b6fe1-b1fa-486e-bbc8-eb45bd72b977",
   "metadata": {},
   "outputs": [],
   "source": [
    "# Remoção de outliers com base em um limiar\n",
    "df = df[(df['score'] > 0) & (df['score'] < 100)]"
   ]
  },
  {
   "cell_type": "markdown",
   "id": "c25b9f84-d216-47fe-9a20-f5ecba0dac19",
   "metadata": {},
   "source": [
    "### Transformação"
   ]
  },
  {
   "cell_type": "code",
   "execution_count": 50,
   "id": "8f67d2c4-e9a6-4fd4-b162-2b369d000418",
   "metadata": {},
   "outputs": [],
   "source": [
    "# Aplicação de transformação logarítmica\n",
    "df['score_log'] = np.log(df['score'] + 1)"
   ]
  },
  {
   "cell_type": "markdown",
   "id": "d70a1b39-ce1b-4255-8337-980331a564e4",
   "metadata": {},
   "source": [
    "### Substituição"
   ]
  },
  {
   "cell_type": "code",
   "execution_count": 51,
   "id": "b4fff925-1504-4d7e-a888-6123a6a4563b",
   "metadata": {},
   "outputs": [],
   "source": [
    "# Substituição de outliers por um valor limite\n",
    "upper_threshold = 20000\n",
    "df.loc[df['salario'] > upper_threshold, 'salario'] = upper_threshold\n"
   ]
  },
  {
   "cell_type": "markdown",
   "id": "fee91680-4c60-4c59-a6c5-483dd148e706",
   "metadata": {},
   "source": [
    "## Correção de Erros de Digitação"
   ]
  },
  {
   "cell_type": "code",
   "execution_count": 52,
   "id": "dd74eb30-98ae-497d-9179-d6348bd6b242",
   "metadata": {},
   "outputs": [],
   "source": [
    "# Correção de valores incorretos\n",
    "df['categoria'] = df['categoria'].str.replace('erro', 'A')"
   ]
  },
  {
   "cell_type": "markdown",
   "id": "0c5cd349-f657-48f4-92ac-9a0d1787ac53",
   "metadata": {},
   "source": [
    "## Normalização"
   ]
  },
  {
   "cell_type": "code",
   "execution_count": 53,
   "id": "d0c64f54-8a21-4166-a5df-80eeaa36c8e9",
   "metadata": {},
   "outputs": [],
   "source": [
    "from sklearn.preprocessing import MinMaxScaler\n",
    "scaler = MinMaxScaler()\n",
    "df['salario_normalizado'] = scaler.fit_transform(df[['salario']])"
   ]
  },
  {
   "cell_type": "markdown",
   "id": "e75a6361-66aa-4688-bf14-dd765d85947a",
   "metadata": {},
   "source": [
    "## Padronização"
   ]
  },
  {
   "cell_type": "code",
   "execution_count": 54,
   "id": "29bd835b-3a9d-437f-b114-7bde84d3d09c",
   "metadata": {},
   "outputs": [],
   "source": [
    "from sklearn.preprocessing import StandardScaler\n",
    "scaler = StandardScaler()\n",
    "df['score_padronizado'] = scaler.fit_transform(df[['score']])\n"
   ]
  },
  {
   "cell_type": "markdown",
   "id": "7f74a907-b734-4576-a6e3-d70728c542b9",
   "metadata": {},
   "source": [
    "## Correção de Inconsistências de Formato"
   ]
  },
  {
   "cell_type": "markdown",
   "id": "56c45af4-8739-4858-a273-03925831b470",
   "metadata": {},
   "source": [
    "### Uniformização de formato de datas"
   ]
  },
  {
   "cell_type": "code",
   "execution_count": 55,
   "id": "c655f17d-1db1-447d-95aa-969b92a86dd6",
   "metadata": {},
   "outputs": [],
   "source": [
    "df['data_admissao'] = pd.to_datetime(df['data_admissao'], errors='coerce', format='%Y-%m-%d')"
   ]
  },
  {
   "cell_type": "markdown",
   "id": "08c4c758-560f-4698-bcea-eb594a7a65bd",
   "metadata": {},
   "source": [
    "### Tratamento de valores nulos gerados pela conversão de datas"
   ]
  },
  {
   "cell_type": "code",
   "execution_count": 56,
   "id": "fd86d7ae-e534-4133-b52b-4763247af143",
   "metadata": {},
   "outputs": [],
   "source": [
    "df['data_admissao'].fillna(pd.to_datetime('2000-01-01'), inplace=True)"
   ]
  },
  {
   "cell_type": "markdown",
   "id": "e2dd6591-fc81-4b3b-a18f-e82797e1ae92",
   "metadata": {},
   "source": [
    "### Transformação da data em características numéricas"
   ]
  },
  {
   "cell_type": "code",
   "execution_count": 57,
   "id": "9668364f-785f-41fd-9399-9b6254e6a484",
   "metadata": {},
   "outputs": [],
   "source": [
    "df['ano_admissao'] = df['data_admissao'].dt.year\n",
    "df['mes_admissao'] = df['data_admissao'].dt.month\n",
    "df['dia_admissao'] = df['data_admissao'].dt.day"
   ]
  },
  {
   "cell_type": "markdown",
   "id": "014193c4-7d8e-4c38-9dee-2e58401a18a7",
   "metadata": {},
   "source": [
    "## Codificação e criação de features"
   ]
  },
  {
   "cell_type": "markdown",
   "id": "5d25a21b-866f-43d0-94c0-65f7f6e93bdb",
   "metadata": {},
   "source": [
    "### # One-Hot Encoding"
   ]
  },
  {
   "cell_type": "code",
   "execution_count": 58,
   "id": "55cea440-78ed-44d3-8b35-819ca04e0f30",
   "metadata": {},
   "outputs": [],
   "source": [
    "df = pd.get_dummies(df, columns=['categoria'])"
   ]
  },
  {
   "cell_type": "markdown",
   "id": "14daffd0-78af-439a-83ad-94142946e480",
   "metadata": {},
   "source": [
    "## Redução de dimensionalidade"
   ]
  },
  {
   "cell_type": "markdown",
   "id": "38e0b44e-eb55-442d-bc39-921976cdda9a",
   "metadata": {},
   "source": [
    "### Preparação dos dados para PCA (selecionando apenas colunas numéricas)"
   ]
  },
  {
   "cell_type": "code",
   "execution_count": 59,
   "id": "ad6f9048-9c6e-4948-84bb-46945264835e",
   "metadata": {},
   "outputs": [],
   "source": [
    "features = ['idade', 'salario_normalizado', 'experiencia', 'score_padronizado', 'ano_admissao', 'mes_admissao', 'dia_admissao']\n",
    "X = df[features]"
   ]
  },
  {
   "cell_type": "markdown",
   "id": "b9f87694-3276-4a43-be1d-ee3fa4c3864b",
   "metadata": {},
   "source": [
    "### Aplicação do PCA"
   ]
  },
  {
   "cell_type": "code",
   "execution_count": 60,
   "id": "6e7497d4-1fbe-4aeb-85fc-3b75cb183948",
   "metadata": {},
   "outputs": [],
   "source": [
    "from sklearn.decomposition import PCA\n",
    "\n",
    "pca = PCA(n_components=2)\n",
    "X_pca = pca.fit_transform(X)\n",
    "\n",
    "df['PCA1'] = X_pca[:, 0]\n",
    "df['PCA2'] = X_pca[:, 1]"
   ]
  },
  {
   "cell_type": "markdown",
   "id": "82cb4d97-7e1b-412b-a4e7-689ee13aa2d1",
   "metadata": {},
   "source": [
    "# Exibição do dataset final"
   ]
  },
  {
   "cell_type": "code",
   "execution_count": 61,
   "id": "7a9f0a95-ecad-4ab5-9220-c3fa963f6ded",
   "metadata": {},
   "outputs": [
    {
     "name": "stdout",
     "output_type": "stream",
     "text": [
      "Dataset final:\n",
      "    id  idade       salario  experiencia data_admissao      score  score_log  \\\n",
      "0   1     58   5387.211846           35    2000-07-31  33.125724   3.530051   \n",
      "1   2     48   5159.052145           18    2002-03-31  69.228806   4.251759   \n",
      "2   3     34   4347.905398           25    2000-06-30  49.573678   3.923431   \n",
      "3   4     62   2112.638582            2    2006-03-31  24.253633   3.228970   \n",
      "4   5     27   3590.739233           18    2006-09-30  34.355579   3.565456   \n",
      "5   6     40  11327.331365           19    2007-10-31  69.897075   4.261229   \n",
      "6   7     58  11327.331365           31    2006-12-31  56.729730   4.055772   \n",
      "7   8     38  11327.331365            6    2005-05-31  48.819025   3.908397   \n",
      "8   9     42  11327.331365           32    2001-03-31  16.748584   2.876306   \n",
      "9  10     30  11327.331365           39    2006-01-31  70.843495   4.274490   \n",
      "\n",
      "   salario_normalizado  score_padronizado  ano_admissao  mes_admissao  \\\n",
      "0             0.187991          -0.938381          2000             7   \n",
      "1             0.175312           1.338037          2002             3   \n",
      "2             0.130238           0.098717          2000             6   \n",
      "3             0.006028          -1.497795          2006             3   \n",
      "4             0.088164          -0.860834          2006             9   \n",
      "5             0.518074           1.380174          2007            10   \n",
      "6             0.518074           0.549929          2006            12   \n",
      "7             0.518074           0.051134          2005             5   \n",
      "8             0.518074          -1.971013          2001             3   \n",
      "9             0.518074           1.439849          2006             1   \n",
      "\n",
      "   dia_admissao  categoria_A  categoria_B  categoria_C  categoria_D  \\\n",
      "0            31            0            0            1            0   \n",
      "1            31            1            0            0            0   \n",
      "2            30            0            0            0            1   \n",
      "3            31            0            0            1            0   \n",
      "4            30            0            0            0            1   \n",
      "5            31            0            1            0            0   \n",
      "6            31            1            0            0            0   \n",
      "7            31            0            1            0            0   \n",
      "8            31            0            0            1            0   \n",
      "9            31            0            1            0            0   \n",
      "\n",
      "        PCA1       PCA2  \n",
      "0  12.943167 -13.362881  \n",
      "1   3.949783   4.149169  \n",
      "2 -10.395835  -1.881363  \n",
      "3  18.859548  19.161036  \n",
      "4 -16.990839   5.428498  \n",
      "5  -4.088544   3.583889  \n",
      "6  13.167496  -9.466129  \n",
      "7  -5.309722  16.685049  \n",
      "8  -2.886675  -9.426954  \n",
      "9 -15.362002 -15.778283  \n"
     ]
    }
   ],
   "source": [
    "print(\"Dataset final:\\n\", df.head(10))"
   ]
  }
 ],
 "metadata": {
  "kernelspec": {
   "display_name": "Python 3 (ipykernel)",
   "language": "python",
   "name": "python3"
  },
  "language_info": {
   "codemirror_mode": {
    "name": "ipython",
    "version": 3
   },
   "file_extension": ".py",
   "mimetype": "text/x-python",
   "name": "python",
   "nbconvert_exporter": "python",
   "pygments_lexer": "ipython3",
   "version": "3.11.7"
  }
 },
 "nbformat": 4,
 "nbformat_minor": 5
}
