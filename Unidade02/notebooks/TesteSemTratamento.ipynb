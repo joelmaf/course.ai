{
 "cells": [
  {
   "cell_type": "code",
   "execution_count": 1,
   "id": "0eb6a64b-aefc-47f7-9d8c-0d17a5be8452",
   "metadata": {},
   "outputs": [],
   "source": [
    "import pandas as pd\n",
    "from sklearn.pipeline import Pipeline\n",
    "\n",
    "from sklearn.linear_model import LogisticRegression\n",
    "from sklearn.tree import DecisionTreeClassifier\n",
    "from sklearn.ensemble import RandomForestClassifier\n",
    "from sklearn.model_selection import train_test_split\n",
    "from sklearn.model_selection import cross_val_score"
   ]
  },
  {
   "cell_type": "code",
   "execution_count": 2,
   "id": "b5918ea2-64f7-416c-8ef9-5f4af75f782a",
   "metadata": {},
   "outputs": [],
   "source": [
    "import warnings\n",
    "warnings.filterwarnings('ignore')"
   ]
  },
  {
   "cell_type": "code",
   "execution_count": 3,
   "id": "6dcde658-0768-4baa-978b-e668d8f1c4f7",
   "metadata": {},
   "outputs": [],
   "source": [
    "df_servidor = pd.read_csv(\"../data/raw/planejamento_sucessao2.csv\", sep=\";\")\n",
    "df_servidor_copy = df_servidor.copy()"
   ]
  },
  {
   "cell_type": "code",
   "execution_count": 4,
   "id": "cf472bc3-a76a-4678-9574-08cca51e9365",
   "metadata": {},
   "outputs": [],
   "source": [
    "df_servidor = pd.read_csv(\"../data/processed/sucessao_normalizado_temp.csv\")\n",
    "df_servidor_copy = df_servidor.copy()"
   ]
  },
  {
   "cell_type": "code",
   "execution_count": 21,
   "id": "6c50df9e-ba7c-4c19-8946-6afaa6e1d450",
   "metadata": {},
   "outputs": [
    {
     "name": "stdout",
     "output_type": "stream",
     "text": [
      "LogisticRegression: 0.999702 \n",
      "DecisionTree: 0.998214 \n",
      "RandomForest: 0.999405 \n"
     ]
    }
   ],
   "source": [
    "# Label Encoding\n",
    "df_servidor_copy['Nivel_educacao'] = df_servidor_copy['Nivel_educacao'].astype('category').cat.codes\n",
    "df_servidor_copy['Treinamento_lideranca'] = df_servidor_copy['Treinamento_lideranca'].astype('category').cat.codes\n",
    "df_servidor_copy['Lider'] = df_servidor_copy['Lider'].astype('category').cat.codes\n",
    "df_servidor_copy['Coach'] = df_servidor_copy['Coach'].astype('category').cat.codes\n",
    "df_servidor_copy['Empodera'] = df_servidor_copy['Empodera'].astype('category').cat.codes\n",
    "df_servidor_copy['Sucesso_membros'] = df_servidor_copy['Sucesso_membros'].astype('category').cat.codes\n",
    "df_servidor_copy['Orientado_resultados'] = df_servidor_copy['Orientado_resultados'].astype('category').cat.codes\n",
    "df_servidor_copy['Comunicador'] = df_servidor_copy['Comunicador'].astype('category').cat.codes\n",
    "df_servidor_copy['Desenvolvimento_carreira'] = df_servidor_copy['Desenvolvimento_carreira'].astype('category').cat.codes\n",
    "df_servidor_copy['Estrategia_equipe'] = df_servidor_copy['Estrategia_equipe'].astype('category').cat.codes\n",
    "df_servidor_copy['Habilidades_tecnicas'] = df_servidor_copy['Habilidades_tecnicas'].astype('category').cat.codes\n",
    "\n",
    "# Eliminando as linhas com valores ausentes\n",
    "df_servidor_copy = df_servidor_copy.dropna()\n",
    "\n",
    "X = df_servidor_copy.loc[:, df_servidor_copy.columns != 'Lider']\n",
    "y = df_servidor_copy[\"Lider\"]\n",
    "\n",
    "X_train, X_test, y_train, y_test = train_test_split(X,y,test_size=0.3,random_state=42)\n",
    "\n",
    "pipeline_lr=Pipeline([('model_lr',LogisticRegression(random_state=42))])\n",
    "pipeline_dt=Pipeline([('model_dt',DecisionTreeClassifier(random_state=42))])\n",
    "pipeline_rf=Pipeline([('model_rf',RandomForestClassifier())])\n",
    "\n",
    "pipelines = [pipeline_lr, pipeline_dt, pipeline_rf]\n",
    "pipelines_dict = {0: 'LogisticRegression', 1: 'DecisionTree', 2: 'RandomForest'}\n",
    "for pipe in pipelines:\n",
    "    pipe.fit(X_train, y_train)\n",
    "    \n",
    "accuracy = []\n",
    "for i, model in enumerate(pipelines):\n",
    "    scores = cross_val_score(model, X_train,y_train, cv=10)\n",
    "    accuracy.append(scores)\n",
    "    print(\"%s: %f \" % (pipelines_dict[i], scores.mean()))"
   ]
  },
  {
   "cell_type": "code",
   "execution_count": null,
   "id": "593c1a84-1ec0-48ee-98bf-d68e71ba75bc",
   "metadata": {},
   "outputs": [],
   "source": []
  }
 ],
 "metadata": {
  "kernelspec": {
   "display_name": "Python 3 (ipykernel)",
   "language": "python",
   "name": "python3"
  },
  "language_info": {
   "codemirror_mode": {
    "name": "ipython",
    "version": 3
   },
   "file_extension": ".py",
   "mimetype": "text/x-python",
   "name": "python",
   "nbconvert_exporter": "python",
   "pygments_lexer": "ipython3",
   "version": "3.11.7"
  }
 },
 "nbformat": 4,
 "nbformat_minor": 5
}
