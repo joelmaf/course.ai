{
 "cells": [
  {
   "cell_type": "markdown",
   "id": "651ead5b-6190-405b-a1ef-2241f567a72b",
   "metadata": {},
   "source": [
    "# UNIDADE 2: Tratamento dos dados\n",
    "\n",
    "2.1. Análise exploratória de dados (EDA)</br>\n",
    "2.2. Limpeza de dados</br>\n",
    "2.3. Transformação de dados</br>\n",
    "2.3.1. Divisão dos dados</br>\n",
    "2.3.2. Balanceamento</br>\n",
    "2.3.3. Escalonamento</br>\n",
    "2.3.4. Codificação e criação de features</br>\n",
    "2.4. Redução de dimensionalidade</br>\n"
   ]
  },
  {
   "cell_type": "markdown",
   "id": "e0a7f61e-e105-4a32-b5c8-0bcb6adab90b",
   "metadata": {},
   "source": [
    "# Classificação Binária\n",
    "\n",
    "A classificação em uma de duas classes é um problema comum em aprendizado de máquina. Você pode querer prever se um cliente provavelmente fará uma compra ou não, se uma transação de cartão de crédito foi fraudulenta ou não. Todos esses são problemas de <span style=\"color:red\">classificação binária por terem apenas duas possibilidades de resposta</span>.\n",
    "\n",
    "Nos seus dados brutos, as classes podem ser representadas por strings como \"Sim\" e \"Não\". <span style=\"color:red\">Antes de usar esses dados, atribuiremos um rótulo de classe: uma classe será 0 e a outra será 1</span>."
   ]
  },
  {
   "cell_type": "markdown",
   "id": "6c1d5bf1-933b-41ac-b1c9-a7bfc1a6e4ef",
   "metadata": {},
   "source": [
    "<div style=\"border: 2px solid #00008B; padding: 15px; border-radius: 10px; background-color: #00008B; color: #FFFFFF; font-family: Arial;\">\n",
    "  <h1 style=\"margin-top: 0;\">Planejamento de Sucessão</h1>\n",
    "  <p>Descrição: Identificar funcionários com potencial para ocupar cargos de liderança no futuro e planejar a sucessão de cargos críticos</p>\n",
    "  <p>Dados sintéticos produzidos pelo ChatGPT, baseado no projeto Google Oxygen: Como a Google usou dados para ver se os gerentes fazem diferença?</p>\n",
    "\n",
    "</div>"
   ]
  },
  {
   "cell_type": "markdown",
   "id": "7394b3be-7604-4663-8c7b-acc8557552de",
   "metadata": {},
   "source": [
    "\n",
    "- https://www.linkedin.com/pulse/project-oxygen-8-conselhos-do-google-para-o-gerente-david/</br>\n",
    "- https://www.feedz.com.br/blog/projeto-oxigenio-do-google</br>\n"
   ]
  },
  {
   "cell_type": "markdown",
   "id": "26a5aebe-ae21-4beb-b033-cb81b4bfc86d",
   "metadata": {},
   "source": [
    "\n",
    "<div style=\"background-color: #f0f8ff; padding: 20px; border-radius: 10px;\">\n",
    "  <ul>\n",
    "    <li>Idade do funcionário (valores inteiros  de 18 a 75)</li>\n",
    "    <li>Nível de educação (valores Superior, Médio, Doutorado, Especialização)</li>\n",
    "    <li>Avaliação de desempenho (valores inteiros  entre 0 e 5)</li>\n",
    "    <li>Experiência em cargos de liderança(valores 0 ou 1)</li>\n",
    "    <li>Habilidades e competências (valores inteiros entre 0 a 10)</li>\n",
    "    <li>Participação em treinamentos de liderança (valores S ou N)</li>\n",
    "    <li>Feedback de supervisores (valores reais enter 0.0 e 1.0)</li>\n",
    "    <li>Satisfação no trabalho (valores inteiros entre 0 e 5)</li>\n",
    "    <li>É um bom coach (valores S ou N)</li>\n",
    "    <li>Empodera a equipe e não faz microgestão (valores S ou N)</li> \n",
    "    <li>Exprime interesse e preocupação pelo sucesso e bem-estar pessoal dos membros da equipe (valores S ou N)</li>\n",
    "    <li>É produtivo e orientado para os resultados (valores S ou N)</li>\n",
    "    <li>É bom comunicador - escuta e compartilha informações (valores S ou N)</li>\n",
    "    <li>Ajuda com desenvolvimento de carreira (valores S ou N)</li>\n",
    "    <li>Tem uma visão clara e estratégia para a equipe (valores S ou N)</li>\n",
    "    <li>Possui habilidades técnicas fundamentais que o ajudam a aconselhar a equipe (valores S ou N)</li>\n",
    "    <li><b>Lider (valores S ou N)</b></li>\n",
    "  </ul>\n",
    "</div>\n"
   ]
  },
  {
   "cell_type": "markdown",
   "id": "d2c573f0-401e-45b5-99b3-9a7cece25434",
   "metadata": {},
   "source": [
    "<div style=\"background-color: #f0f8ff; padding: 20px; border-radius: 10px;\">\n",
    "  <h3>Fluxo no Pipeline</h3>\n",
    "  <ul>\n",
    "    <li><b>Ingestão de Dados</b>: Coleta e armazenamento de dados brutos.</li>\n",
    "    <li><b><span style=\"color:red\">Análise Exploratória</b>: Utilização dos dados para EDA.</span></li>\n",
    "    <li><b>Pré-processamento</b>: Limpeza e transformação dos dados.</li>\n",
    "    <li><b>Normalização e Engenharia de Features</b>: Criação de datasets normalizados e finalizados para treinamento.</li>\n",
    "    <li><b>Treinamento de Modelos</b>: Utilização dos dados de treinamento e validação para treinar e validar modelos.</li>\n",
    "    <li><b>Implantação de Modelos</b>: Armazenamento dos modelos treinados em um Model Registry.</li>\n",
    "    <li><b>Inferência</b>: Utilização de dados de inferência para obter predições dos modelos em produção.</li>\n",
    "  </ul>\n",
    "\n",
    "Considerações de MLOps\n",
    "\n",
    "  <ul>\n",
    "    <li><b>Versionamento</b>: Versionar tanto os dados quanto os modelos para garantir a reprodutibilidade.</li>\n",
    "    <li><b>Monitoramento</b>: Implementar monitoramento contínuo dos modelos em produção para detectar drifts de desempenho.</li>\n",
    "    <li><b>Automatização</b>: Automatizar o pipeline de dados e modelos utilizando ferramentas de CI/CD.</li>\n",
    "    <li><b>Segurança</b>: Garantir a segurança e conformidade dos dados, especialmente se envolver dados sensíveis.</li>\n",
    "  </ul>\n",
    "\n",
    "</div>\n",
    "\n"
   ]
  },
  {
   "cell_type": "markdown",
   "id": "f763b29b",
   "metadata": {},
   "source": [
    "<img src=\"../imagens/pipeline.png\" width=\"500\" height=\"200\" />"
   ]
  },
  {
   "cell_type": "code",
   "execution_count": null,
   "id": "48b2fd11-b078-4353-9159-c3c023958486",
   "metadata": {},
   "outputs": [],
   "source": [
    "import warnings\n",
    "warnings.filterwarnings('ignore')"
   ]
  },
  {
   "cell_type": "code",
   "execution_count": null,
   "id": "5c02abc0-025d-4492-ac22-daa23d902eff",
   "metadata": {},
   "outputs": [],
   "source": [
    "#!pip install ydata-profiling"
   ]
  },
  {
   "cell_type": "code",
   "execution_count": null,
   "id": "398d9840-0e38-456d-bf0f-c68adef81323",
   "metadata": {},
   "outputs": [],
   "source": [
    "#Se estiver no Windows usando o Anaconda Navidator e tiver problemas na instalação tente ir ao terminal do Anaconda Navigator e executar\n",
    "#!pip uninstall numba visions ydata_profiling joblib \n",
    "\n",
    "#conda update conda\n",
    "#conda update charset-normalizer jsonpatch packaging\n",
    "#conda install -c conda-forge ydata-profiling"
   ]
  },
  {
   "cell_type": "code",
   "execution_count": null,
   "id": "483585f1-fa12-41e8-b692-b4342490f7a6",
   "metadata": {},
   "outputs": [],
   "source": [
    "#!pip install sweetviz"
   ]
  },
  {
   "cell_type": "code",
   "execution_count": null,
   "id": "3414cbbd-ff3d-4be0-873b-a9c5a3e72247",
   "metadata": {},
   "outputs": [],
   "source": [
    "#Se tiver probelmas na instalação tente ir ao terminal do Anaconda Navigator e executar\n",
    "#!pip uninstall markupsafe jinja2\n",
    "\n",
    "#!pip install jinja2==3.0.3\n",
    "#!pip install markupsafe==2.0.1\n",
    "#!pip install sweetviz"
   ]
  },
  {
   "cell_type": "code",
   "execution_count": null,
   "id": "2dd836fa-45d2-4f00-8ac0-1bc7b6ba3fe2",
   "metadata": {},
   "outputs": [],
   "source": [
    "import pandas as pd\n",
    "import numpy as np\n",
    "\n",
    "pd.set_option('display.float_format', '{:.5f}'.format)\n",
    "np.random.seed(0)\n",
    "\n",
    "from sklearn import preprocessing\n",
    "from sklearn.preprocessing import MinMaxScaler\n",
    "from sklearn.preprocessing import StandardScaler\n",
    "from sklearn.impute import SimpleImputer\n",
    "\n",
    "import joblib\n",
    "\n",
    "from tqdm import tqdm\n",
    "tqdm.pandas()\n",
    "\n",
    "import seaborn as sns\n",
    "\n",
    "import matplotlib.cm as cm\n",
    "import matplotlib.pyplot as plt\n",
    "%matplotlib inline\n",
    "\n",
    "import plotly.express as px\n",
    "import plotly.graph_objects as go\n",
    "import plotly.figure_factory as ff\n",
    "from plotly.subplots import make_subplots"
   ]
  },
  {
   "cell_type": "markdown",
   "id": "8d008914-43c3-41ef-affc-5742e7e234ce",
   "metadata": {},
   "source": [
    "# Ingestão de Dados"
   ]
  },
  {
   "cell_type": "code",
   "execution_count": null,
   "id": "23d07fe9-9109-453a-be16-b1e029b0282f",
   "metadata": {
    "scrolled": true
   },
   "outputs": [],
   "source": [
    "df_servidor = pd.read_csv(\"../data/raw/planejamento_sucessao.csv\", sep=\";\")"
   ]
  },
  {
   "cell_type": "code",
   "execution_count": null,
   "id": "ee90333f-2e50-4797-b87b-6dcd3e793ad2",
   "metadata": {
    "scrolled": true
   },
   "outputs": [],
   "source": [
    "df_servidor.head(5)"
   ]
  },
  {
   "cell_type": "markdown",
   "id": "d4d08067-5833-4fd9-8dcb-b8c0558ef1ba",
   "metadata": {
    "id": "d4d08067-5833-4fd9-8dcb-b8c0558ef1ba"
   },
   "source": [
    "# Análise Exploratória dos Dados (EDA)\n",
    "\n",
    "A Análise Exploratória dos Dados (EDA, do inglês Exploratory Data Analysis) é um processo que visa <b>entender e resumir as principais características de um conjunto de dados</b>. A EDA utiliza uma combinação de <b>estatísticas descritivas, gráficos e outras ferramentas visuais</b> para identificar padrões, detectar anomalias, testar hipóteses e verificar pressupostos. O <b>objetivo principal da EDA é obter insights sobre os dados, guiar a seleção de modelos</b> e informar decisões subsequentes em projetos de análise de dados."
   ]
  },
  {
   "cell_type": "markdown",
   "id": "ab8eefbf",
   "metadata": {},
   "source": [
    "<img src=\"../imagens/eda.png\" width=\"500\" height=\"200\" />\n",
    "\n",
    "https://www.dataimd.com/scripts/explorando-os-segredos-dos-dados-uma-jornada-de-descobertas-atrav-s-da-an-lise-explorat-ria/"
   ]
  },
  {
   "cell_type": "markdown",
   "id": "2bfacc7f",
   "metadata": {},
   "source": [
    "<div style=\"background-color: #f0f8ff; padding: 20px; border-radius: 10px;\">\n",
    "<h3>Poderíamos fazer algumas perguntas: </h3>\n",
    "    \n",
    "1. * Qual a **dimensão** da base de dados?\n",
    "2. * Como está a **distribuição** dos dados?\n",
    "3. Qual o nível de experiência em cargos de liderança da maioria dos profissionais?\n",
    "4. * Quais os **valores únicos** de cada variável?\n",
    "5. * Existem **valores ausentes** nas features?\n",
    "6. * Os dados estão **balanceamento** nas classes?\n",
    "7. Quais são os principais níveis educacionais?\n",
    "8. Existe alguma relação entre o nível de educação e o feedback dos supervisores?\n",
    "9. Existe relação entre Nivel Educacao,Treinamento Lideranca e Avaliacao Desempenho\n",
    "10. * Existem campos com **outliers**?\n",
    " \n",
    "    \n",
    "</div>"
   ]
  },
  {
   "cell_type": "markdown",
   "id": "578d4aa9",
   "metadata": {},
   "source": [
    "<div style=\"background-color: #f0f8cc; padding: 20px; border-radius: 10px;\">\n",
    "<h3>Qual a dimensão da base de dados? </h3> \n",
    "    \n",
    "Saber quantas linhas e colunas estão presentes ajuda a **entender a escala do trabalho**. Isso é essencial para planejar a análise e **definir a abordagem metodológica**.\n",
    "</div>\n"
   ]
  },
  {
   "cell_type": "code",
   "execution_count": null,
   "id": "c0e1a08e-6987-497d-a7aa-5f73dc5878a6",
   "metadata": {},
   "outputs": [],
   "source": [
    "# Quantidade de linhas e colunas\n",
    "df_servidor.shape"
   ]
  },
  {
   "cell_type": "code",
   "execution_count": null,
   "id": "167c652e-c1a4-4055-8576-3088a27924b9",
   "metadata": {},
   "outputs": [],
   "source": [
    "# Tipo de dados\n",
    "df_servidor.info()"
   ]
  },
  {
   "cell_type": "markdown",
   "id": "34e34238",
   "metadata": {},
   "source": [
    "<div style=\"background-color: #f0f8cc; padding: 20px; border-radius: 10px;\">\n",
    "<h3>Como está a distribuição dos dados?</h3>\n",
    "    \n",
    "A distribuição dos dados revela padrões importantes, como a frequência de valores, a presença de picos, vales, e assimetrias. Permite **identificar medidas** de tendência central (média, mediana, moda) e como os dados estão espalhados em torno dessas medidas. **Anomalias ou valores extremos** podem ser facilmente identificados ao analisar a distribuição, ajudando a entender se esses valores são erros ou observações significativas. Análises de distribuição ajudam a **identificar possíveis problemas com os dados**, como valores faltantes ou registros incorretos.\n",
    "</div>"
   ]
  },
  {
   "cell_type": "code",
   "execution_count": null,
   "id": "2d4ab2e5",
   "metadata": {
    "scrolled": true
   },
   "outputs": [],
   "source": [
    "# Estatísticas descritivas básicas para dados numéricos\n",
    "df_servidor['Idade'].describe()"
   ]
  },
  {
   "cell_type": "code",
   "execution_count": null,
   "id": "123cb832-ef6d-4935-82a0-f32bc9a8fbc3",
   "metadata": {
    "scrolled": true
   },
   "outputs": [],
   "source": [
    "# Estatísticas descritivas básicas para dados numéricos: todas as colunas\n",
    "df_servidor.describe()"
   ]
  },
  {
   "cell_type": "code",
   "execution_count": null,
   "id": "80629077",
   "metadata": {},
   "outputs": [],
   "source": [
    "# Estatísticas descritivas básicas para dados categóricos\n",
    "df_servidor.describe(include=['O'])"
   ]
  },
  {
   "cell_type": "code",
   "execution_count": null,
   "id": "18b699e0",
   "metadata": {},
   "outputs": [],
   "source": [
    "# Estatísticas descritivas básicas para todos os tipos de dados\n",
    "df_servidor.describe(include='all')"
   ]
  },
  {
   "cell_type": "code",
   "execution_count": null,
   "id": "d07b0121-8de2-4437-9b8f-9ad29b7d8fcb",
   "metadata": {},
   "outputs": [],
   "source": [
    "#Transpõe o DataFrame resultante: troca linhas por colunas\n",
    "df_servidor.describe().T"
   ]
  },
  {
   "cell_type": "markdown",
   "id": "a4240a9e",
   "metadata": {},
   "source": [
    "<div style=\"background-color: #f0f8ff; padding: 20px; border-radius: 10px;\">\n",
    "<h3>Qual o nível de experiência em cargos de liderança da maioria dos profissionais?</h3>\n",
    "    \n",
    "**Contar o número total de observações** (linhas) e variáveis (colunas) fornece uma visão geral da dimensão do conjunto de dados. Contar as frequências de categorias em variáveis categóricas ajuda a **entender a distribuição e a prevalência de diferentes categorias**.\n",
    "\n",
    "</div>"
   ]
  },
  {
   "cell_type": "markdown",
   "id": "0af20e66",
   "metadata": {},
   "source": [
    "*  **value_counts()**: contar a frequência de valores únicos em uma série ou coluna de um DataFrame"
   ]
  },
  {
   "cell_type": "code",
   "execution_count": null,
   "id": "b4f2e3f8",
   "metadata": {},
   "outputs": [],
   "source": [
    "counts = df_servidor['Experiencia_cargos_lideranca'].value_counts()\n",
    "counts"
   ]
  },
  {
   "cell_type": "code",
   "execution_count": null,
   "id": "53f9bd9d",
   "metadata": {},
   "outputs": [],
   "source": [
    "plt.figure(figsize=(5, 5))\n",
    "ax = counts.plot(kind='bar')\n",
    "plt.xlabel('Nível de experiência')\n",
    "plt.ylabel('Frequência Absoluta')\n",
    "plt.title('Nível de Experiência em Cargos de Liderança da Maioria dos Profissionais')\n",
    "plt.show()"
   ]
  },
  {
   "cell_type": "markdown",
   "id": "b89d0d76-369c-4aec-b959-06d98d07b624",
   "metadata": {},
   "source": [
    "<div style=\"background-color: #f0f8cc; padding: 20px; border-radius: 10px;\">\n",
    "<h3>Quais os valores únicos de cada variável?</h3>\n",
    "    \n",
    "    \n",
    "Verificar os valores únicos das variáveis categóricas ajuda a <b>entender melhor os dados</b>. Isso permite identificar todas as categorias presentes em uma variável e verificar se elas fazem sentido no contexto do problema. \n",
    "    \n",
    "Ao verificar os valores únicos, é possível <b>identificar erros e inconsistências nos dados</b>. Por exemplo, uma variável categórica que deveria ter apenas valores como 'Sim' e 'Não' pode conter erros tipográficos como 'sim', 'SIM', 'nao', 'Nao', etc. Corrigir esses erros é crucial para garantir a qualidade dos dados.\n",
    "</div>"
   ]
  },
  {
   "cell_type": "markdown",
   "id": "17c1415c",
   "metadata": {},
   "source": [
    "*  **unique()**: retornar os valores únicos presentes em uma série ou coluna de um DataFrame"
   ]
  },
  {
   "cell_type": "code",
   "execution_count": null,
   "id": "34958b7a-a205-4fa8-84c5-59dd45e5c279",
   "metadata": {},
   "outputs": [],
   "source": [
    "df_servidor[\"Nivel_educacao\"].unique()"
   ]
  },
  {
   "cell_type": "code",
   "execution_count": null,
   "id": "b5f79aa4-a51c-4171-92b1-00755bd8167f",
   "metadata": {},
   "outputs": [],
   "source": [
    "df_servidor[\"Treinamento_lideranca\"].unique()"
   ]
  },
  {
   "cell_type": "code",
   "execution_count": null,
   "id": "27c98a0e-6c93-43c4-9fb0-1e8e9a733478",
   "metadata": {},
   "outputs": [],
   "source": [
    "df_servidor[\"Lider\"].unique()"
   ]
  },
  {
   "cell_type": "code",
   "execution_count": null,
   "id": "e6d77a07-b7cc-4321-a782-d7cdcc7af742",
   "metadata": {},
   "outputs": [],
   "source": [
    "df_servidor[\"Coach\"].unique()"
   ]
  },
  {
   "cell_type": "code",
   "execution_count": null,
   "id": "45bd2867-4f5f-4aaf-a190-1f547d3fe3a1",
   "metadata": {},
   "outputs": [],
   "source": [
    "df_servidor[\"Empodera\"].unique()"
   ]
  },
  {
   "cell_type": "code",
   "execution_count": null,
   "id": "bcf3a02f-5429-48bb-9b95-40e5483186e8",
   "metadata": {},
   "outputs": [],
   "source": [
    "df_servidor[\"Sucesso_membros\"].unique()"
   ]
  },
  {
   "cell_type": "code",
   "execution_count": null,
   "id": "a1acb160-2f1d-446b-8db4-599df9f6d5eb",
   "metadata": {},
   "outputs": [],
   "source": [
    "df_servidor[\"Orientado_resultados\"].unique()"
   ]
  },
  {
   "cell_type": "code",
   "execution_count": null,
   "id": "41584b32-48c0-4464-89d8-5361954c698e",
   "metadata": {},
   "outputs": [],
   "source": [
    "df_servidor[\"Comunicador\"].unique()"
   ]
  },
  {
   "cell_type": "code",
   "execution_count": null,
   "id": "af624312-a590-4a17-81af-e30bd3ad1925",
   "metadata": {},
   "outputs": [],
   "source": [
    "df_servidor[\"Desenvolvimento_carreira\"].unique()"
   ]
  },
  {
   "cell_type": "code",
   "execution_count": null,
   "id": "cb25f27a-48dc-450f-b53e-e27cd917e79d",
   "metadata": {},
   "outputs": [],
   "source": [
    "df_servidor[\"Estrategia_equipe\"].unique()"
   ]
  },
  {
   "cell_type": "code",
   "execution_count": null,
   "id": "0ea57283-6fc7-4c6c-9a9a-0a95cf25611c",
   "metadata": {},
   "outputs": [],
   "source": [
    "df_servidor[\"Habilidades_tecnicas\"].unique()"
   ]
  },
  {
   "cell_type": "markdown",
   "id": "0a38e5d0",
   "metadata": {},
   "source": [
    "*  **select_dtypes()**: Éselecionar colunas de um DataFrame com base em seus tipos de dados"
   ]
  },
  {
   "cell_type": "code",
   "execution_count": null,
   "id": "c9dac2cc",
   "metadata": {},
   "outputs": [],
   "source": [
    "df_servidor.select_dtypes(include=['object'])"
   ]
  },
  {
   "cell_type": "markdown",
   "id": "059da2fa",
   "metadata": {},
   "source": [
    "*  **columns**:  obter os nomes das colunas do Dataframe"
   ]
  },
  {
   "cell_type": "code",
   "execution_count": null,
   "id": "d99ce3f6",
   "metadata": {},
   "outputs": [],
   "source": [
    "df_servidor.select_dtypes(include=['object']).columns"
   ]
  },
  {
   "cell_type": "code",
   "execution_count": null,
   "id": "5b1f00f1",
   "metadata": {},
   "outputs": [],
   "source": [
    "# Mostrando as contagens de cada categoria\n",
    "[print(f'\\n{df_servidor[col].value_counts()}\\n') for col in df_servidor.select_dtypes(include=['object']).columns]"
   ]
  },
  {
   "cell_type": "markdown",
   "id": "41a52c20-c334-4808-ad59-9a73b52018ea",
   "metadata": {},
   "source": [
    "<div style=\"background-color: #f0f8cc; padding: 20px; border-radius: 10px;\">\n",
    "<h3>Existem valores ausentes nas features?</h3>\n",
    "<p>Valores ausentes podem <b>levar a análises incorretas ou incompletas</b>. Identificar e tratar esses valores garante que os dados utilizados para treinamento e teste sejam consistentes e completos.</p>\n",
    "\n",
    "<p><b>Muitos algoritmos de aprendizado de máquina não conseguem lidar diretamente com valores ausentes</b>, resultando em erros ou desempenho subótimo. Por exemplo, algoritmos como regressão linear ou SVM requerem que todas as entradas sejam completas. </p>\n",
    "\n",
    "<p>Uma outra coisa, valores ausentes <b>podem introduzir bias nos resultados do modelo</b>b> se não forem tratados adequadamente. Por exemplo, se os valores ausentes não são aleatórios e estão concentrados em uma classe ou grupo específico, isso pode distorcer os resultados e a precisão do modelo.</p>\n",
    "</div>"
   ]
  },
  {
   "cell_type": "markdown",
   "id": "487e8dbd",
   "metadata": {},
   "source": [
    "*  **isna()**: retorna um DataFrame ou Série, onde cada elemento é um valor booleano indicando se o elemento correspondente é um valor ausente (NaN) ou não.\n",
    "\n",
    "* **sum()**: aplicado a um DataFrame ou Série de valores booleanos, o método sum() conta o número de valores True "
   ]
  },
  {
   "cell_type": "code",
   "execution_count": null,
   "id": "3a09d713-b773-40d6-909e-b616532185bf",
   "metadata": {},
   "outputs": [],
   "source": [
    "df_servidor.isna().sum()"
   ]
  },
  {
   "cell_type": "markdown",
   "id": "c150d413-4f11-4b77-819c-467213bf1e2e",
   "metadata": {},
   "source": [
    "<div style=\"background-color: #f0f8cc; padding: 20px; border-radius: 10px;\">\n",
    "<h3>Os dados estão balanceamento nas classes?</h3>\n",
    "    \n",
    "A plotagem de contagem dos alvos indica um <b>desequilíbrio nos dados</b>. Este é um caso que tende a fornecer uma <b>precisão de classificação enganosa</b>. Se uma categoria é muito mais frequente do que outras, pode ser necessário aplicar técnicas de balanceamento, como oversampling, undersampling ou a geração de novos exemplos sintéticos para equilibrar a distribuição das classes.\n",
    "</div>"
   ]
  },
  {
   "cell_type": "code",
   "execution_count": null,
   "id": "d7d2b0f2-2107-4b44-961d-e0b10f8eaa69",
   "metadata": {},
   "outputs": [],
   "source": [
    "count = df_servidor[\"Nivel_educacao\"].value_counts()"
   ]
  },
  {
   "cell_type": "code",
   "execution_count": null,
   "id": "fcdd7bed",
   "metadata": {},
   "outputs": [],
   "source": [
    "# Usano o matplotlib: https://matplotlib.org/\n",
    "\n",
    "plt.figure(figsize=(6, 3))\n",
    "ax = count.plot(kind='bar', color='skyblue', edgecolor='black')\n",
    "plt.title('Distribuição do Nível de Educação')\n",
    "plt.xlabel('Nível de Educação')\n",
    "plt.ylabel('Contagem')\n",
    "plt.xticks(rotation=45) \n",
    "plt.show()"
   ]
  },
  {
   "cell_type": "code",
   "execution_count": null,
   "id": "48dac54f",
   "metadata": {},
   "outputs": [],
   "source": [
    "count = df_servidor[\"Treinamento_lideranca\"].value_counts()\n",
    "count"
   ]
  },
  {
   "cell_type": "markdown",
   "id": "659be891",
   "metadata": {},
   "source": [
    "*  **reset_index()**: reseta o índice da Série resultante de value_counts(), transformando-a em um DataFrame"
   ]
  },
  {
   "cell_type": "code",
   "execution_count": null,
   "id": "81ff51ae",
   "metadata": {},
   "outputs": [],
   "source": [
    "count = df_servidor[\"Treinamento_lideranca\"].value_counts().reset_index()\n",
    "count"
   ]
  },
  {
   "cell_type": "code",
   "execution_count": null,
   "id": "2250dd04",
   "metadata": {},
   "outputs": [],
   "source": [
    "count.columns = ['Treinamento_lideranca', 'Contagem']\n",
    "count.columns"
   ]
  },
  {
   "cell_type": "code",
   "execution_count": null,
   "id": "4c081965",
   "metadata": {},
   "outputs": [],
   "source": [
    "count"
   ]
  },
  {
   "cell_type": "code",
   "execution_count": null,
   "id": "c974eb0c-2f2f-41f5-9650-941c53646b17",
   "metadata": {},
   "outputs": [],
   "source": [
    "# Usando o Seaborn:  https://seaborn.pydata.org/\n",
    "\n",
    "plt.figure(figsize=(6, 3))\n",
    "sns.barplot(data=count, x='Treinamento_lideranca', y='Contagem', palette='viridis')\n",
    "plt.title('Distribuição do Treinamento de liderança')\n",
    "plt.xlabel('Treinamento liderança')\n",
    "plt.ylabel('Contagem')\n",
    "plt.xticks(rotation=45) \n",
    "plt.show()"
   ]
  },
  {
   "cell_type": "code",
   "execution_count": null,
   "id": "7511b3f1-dfec-441f-b7ae-b616b01d78f4",
   "metadata": {},
   "outputs": [],
   "source": [
    "count = df_servidor[\"Lider\"].value_counts().reset_index()\n",
    "count.columns = ['Lider', 'Contagem']\n",
    "\n",
    "\n",
    "# Usando o Plotly:  https://plotly.com/\n",
    "fig = px.bar(count, x='Lider', y='Contagem', \n",
    "             title='Distribuição da Liderança', \n",
    "             labels={'Lider':'Lider', 'Contagem':'Contagem'}, \n",
    "             color='Contagem', color_continuous_scale='Viridis')\n",
    "fig.update_layout(xaxis_title='Distribuição da Liderança', yaxis_title='Contagem', xaxis_tickangle=-45)\n",
    "fig.show()"
   ]
  },
  {
   "cell_type": "code",
   "execution_count": null,
   "id": "ab35ad4f-cd96-4783-aa53-a38b5ce0a129",
   "metadata": {},
   "outputs": [],
   "source": [
    "count = df_servidor[\"Experiencia_cargos_lideranca\"].value_counts().reset_index()\n",
    "count.columns = ['Experiencia_cargos_lideranca', 'Contagem']\n",
    "\n",
    "plt.figure(figsize=(6, 3))\n",
    "sns.barplot(data=count, x='Experiencia_cargos_lideranca', y='Contagem', palette='viridis')\n",
    "plt.title('Distribuição Experiencia em cargos de liderança')\n",
    "plt.xlabel('Experiencia em cargos de liderança')\n",
    "plt.ylabel('Contagem')\n",
    "plt.xticks(rotation=45) \n",
    "plt.show()"
   ]
  },
  {
   "cell_type": "markdown",
   "id": "708544cd",
   "metadata": {},
   "source": [
    "<div style=\"background-color: #f0f8ff; padding: 20px; border-radius: 10px;\">\n",
    "<h3>Existe alguma relação entre o nível de educação e o feedback dos supervisores?</h3>\n",
    "    \n",
    "**Agrupar os dados** permite **identificar padrões e tendências que podem ser específicos a determinados grupos** ou categorias, proporcionando insights mais detalhados e relevantes. Permite identificar outliers que são específicos a certos grupos, que podem ser perdidos em uma análise global. Permite **criar modelos preditivos mais precisos e específicos para diferentes grupos**, melhorando a acurácia e a relevância das previsões.\n",
    "</div>"
   ]
  },
  {
   "cell_type": "markdown",
   "id": "1b561757",
   "metadata": {},
   "source": [
    "*  **copy()** é utilizado para criar uma cópia completa (deep copy) do DataFrame\n",
    "*  **cut()**  do pandas é usada para segmentar e classificar dados em bins (intervalos)"
   ]
  },
  {
   "cell_type": "code",
   "execution_count": null,
   "id": "bf54f268",
   "metadata": {},
   "outputs": [],
   "source": [
    "df_servidor_temp = df_servidor.copy()\n",
    "df_servidor_temp['Feedback_supervisores_range'] = pd.cut(df_servidor_temp['Feedback_supervisores'], \n",
    "                                                    bins=3, \n",
    "                                                    labels=['baixo', 'médio', 'alto'])\n",
    "\n",
    "df_servidor_temp[['Feedback_supervisores','Feedback_supervisores_range']]"
   ]
  },
  {
   "cell_type": "markdown",
   "id": "bff98080",
   "metadata": {},
   "source": [
    "*  **groupby**:  usada para dividir um DataFrame em grupos baseados em valores de uma ou mais colunas, aplicar uma função a cada grupo de forma independente e combinar os resultados em um DataFrame, Série ou outra estrutura de dados pandas. Esse processo é frequentemente descrito pelo paradigma \"split-apply-combine\".\n",
    "\n",
    "Funções comuns incluem sum(), mean(), count(), min(), max(), agg(), entre outras.\n"
   ]
  },
  {
   "cell_type": "code",
   "execution_count": null,
   "id": "0c20fe18",
   "metadata": {},
   "outputs": [],
   "source": [
    "grouped_data = df_servidor_temp.groupby(['Nivel_educacao', 'Feedback_supervisores_range']).size().reset_index(name='Qtd')\n",
    "grouped_data"
   ]
  },
  {
   "cell_type": "markdown",
   "id": "066b4a32",
   "metadata": {},
   "source": [
    "*  **grouped_data.groupby('Nivel_educacao')**: Agrupa grouped_data pela coluna Nivel_educacao e calcula a soma de Qtd dentro de cada grupo.\n",
    "\n",
    "*  **transform('sum')**: Aplica a soma a cada grupo e retorna uma Série de mesmo comprimento que grouped_data, onde cada valor é a soma total de Qtd dentro do respectivo grupo Nivel_educacao."
   ]
  },
  {
   "cell_type": "code",
   "execution_count": null,
   "id": "fd862114",
   "metadata": {},
   "outputs": [],
   "source": [
    "total_counts  = grouped_data.groupby('Nivel_educacao')['Qtd'].transform('sum')\n",
    "total_counts"
   ]
  },
  {
   "cell_type": "code",
   "execution_count": null,
   "id": "19a98209",
   "metadata": {},
   "outputs": [],
   "source": [
    "grouped_data['Porcentagem'] = round(grouped_data['Qtd'] /total_counts, 3)\n",
    "grouped_data"
   ]
  },
  {
   "cell_type": "code",
   "execution_count": null,
   "id": "566705dd",
   "metadata": {},
   "outputs": [],
   "source": [
    "fig = px.bar(grouped_data, \n",
    "             x='Nivel_educacao', \n",
    "             y='Porcentagem', \n",
    "             color='Feedback_supervisores_range', \n",
    "             barmode='stack',\n",
    "             title='Relação entre o Nível Educacional e o Feedback dos Supervisores',\n",
    "             labels={'Nivel_educacao': 'Nível Educacional', 'Porcentagem': 'Porcentagem', 'Feedback_supervisores_range': 'Feedback Supervisores'})\n",
    "\n",
    "# Mostrar o gráfico\n",
    "fig.show()\n"
   ]
  },
  {
   "cell_type": "markdown",
   "id": "ac14a299-eb6a-4bbb-829d-028362931b56",
   "metadata": {},
   "source": [
    "<div style=\"background-color: #f0f8ff; padding: 20px; border-radius: 10px;\">\n",
    "<h3>Existe relação entre Nivel Educacao,Treinamento Lideranca e Avaliacao Desempenho?</h3>\n",
    "</div>"
   ]
  },
  {
   "cell_type": "code",
   "execution_count": null,
   "id": "ef8abd5d",
   "metadata": {},
   "outputs": [],
   "source": [
    "grouped = df_servidor.groupby(['Nivel_educacao','Treinamento_lideranca'])['Avaliacao_desempenho'].mean()\n",
    "grouped"
   ]
  },
  {
   "cell_type": "code",
   "execution_count": null,
   "id": "1158e563-33fe-40d1-a689-87e3104ab029",
   "metadata": {
    "scrolled": true
   },
   "outputs": [],
   "source": [
    "grouped = df_servidor.groupby(['Nivel_educacao','Treinamento_lideranca'])['Avaliacao_desempenho'].mean().unstack()\n",
    "grouped"
   ]
  },
  {
   "cell_type": "code",
   "execution_count": null,
   "id": "ca1758f9-c04f-44f9-bf81-f3ae70a898e0",
   "metadata": {},
   "outputs": [],
   "source": [
    "df_servidor.groupby('Experiencia_cargos_lideranca').size().sort_values(ascending = True).plot(kind = 'bar')"
   ]
  },
  {
   "cell_type": "code",
   "execution_count": null,
   "id": "abbe413f-0dfb-41a3-aac2-e24cc2b8bd7a",
   "metadata": {},
   "outputs": [],
   "source": [
    "df_servidor.groupby('Idade').size().sort_values(ascending = True).plot(kind = 'bar')"
   ]
  },
  {
   "cell_type": "markdown",
   "id": "7f2df44d-8fb7-438e-bf4f-e1ff0db96fd0",
   "metadata": {},
   "source": [
    "<div style=\"background-color: #f0f8cc; padding: 20px; border-radius: 10px;\">\n",
    "<h3>Existem campos com outliers?</h3>\n",
    "    \n",
    "Outliers são pontos de dados que <b>se desviam significativamente da maioria dos outros dados em um conjunto</b>. Eles podem surgir devido a variações normais nos dados, erros de medição, erros de entrada de dados, ou eventos raros. Identificar e tratar outliers é uma parte importante do pré-processamento de dados, pois eles <b>podem influenciar negativamente os resultados de análises estatísticas e modelos</b> de aprendizado de máquina.\n",
    "</div>"
   ]
  },
  {
   "cell_type": "markdown",
   "id": "7a15e1bf-23b1-4b97-b83e-e95a70728e02",
   "metadata": {},
   "source": [
    "<div style=\"background-color: #f0f8cc; padding: 20px; border-radius: 10px;\">\n",
    "Quartis são valores que dividem um conjunto de dados em quatro partes iguais. Eles são usados para entender a distribuição dos dados, identificando onde se situam os 25%, 50% e 75% dos valores. Aqui estão os quartis principais:\n",
    "</br></br>\n",
    "<b>Q1 (Primeiro Quartil)</b>: Marca o ponto abaixo do qual 25% dos dados se encontram. </br>\n",
    "<b>Q2 (Mediana ou Segundo Quartil)</b>: Divide os dados ao meio, onde 50% dos valores estão abaixo e 50% acima.</br>\n",
    "<b>Q3 (Terceiro Quartil)</b>: Indica o ponto abaixo do qual 75% dos dados estão. </br>\n",
    "</div>\n",
    "\n",
    "https://fernandafperes.com.br/blog/interpretacao-boxplot/\n"
   ]
  },
  {
   "cell_type": "markdown",
   "id": "d58aaf39",
   "metadata": {},
   "source": [
    "*  **dropna()** remover entradas com valores ausentes (NaN)"
   ]
  },
  {
   "cell_type": "code",
   "execution_count": null,
   "id": "256d8d59-da52-4be2-84a4-784239428852",
   "metadata": {},
   "outputs": [],
   "source": [
    "df_servidor_temp = df_servidor.copy()\n",
    "df_servidor_temp = df_servidor_temp.dropna(subset=['Idade'])\n",
    "\n",
    "# Calcular Q1, Q3, Mediana e IQR\n",
    "Q1 = df_servidor_temp['Idade'].quantile(0.25)\n",
    "Q3 = df_servidor_temp['Idade'].quantile(0.75)\n",
    "median = df_servidor_temp['Idade'].median()\n",
    "IQR = Q3 - Q1\n",
    "\n",
    "# Definir os limites inferior e superior para detectar outliers\n",
    "limite_inferior = Q1 - 1.5 * IQR\n",
    "limite_superior = Q3 + 1.5 * IQR\n",
    "\n",
    "fig = go.Figure()\n",
    "\n",
    "fig.add_trace(go.Box(\n",
    "    y=df_servidor_temp['Idade'],\n",
    "    boxpoints='all', \n",
    "    jitter=0.3,     \n",
    "    pointpos=-1.8,  \n",
    "    name='Idade',\n",
    "    marker=dict(color='lightseagreen'),\n",
    "    line=dict(color='darkblue')\n",
    "))\n",
    "\n",
    "# Adicionar linhas verticais para Q1, Q3, Mediana e Limites\n",
    "# Mediana\n",
    "fig.add_trace(go.Scatter(\n",
    "    x=[-0.2, 0.2], \n",
    "    y=[median, median], \n",
    "    mode='lines', \n",
    "    line=dict(color='blue', dash='solid'), \n",
    "    name='Mediana (Q2)'\n",
    "))\n",
    "\n",
    "# Q1\n",
    "fig.add_trace(go.Scatter(\n",
    "    x=[-0.2, 0.2], \n",
    "    y=[Q1, Q1], \n",
    "    mode='lines', \n",
    "    line=dict(color='red', dash='dash'), \n",
    "    name='Q1 (1º Quartil)'\n",
    "))\n",
    "\n",
    "# Q3\n",
    "fig.add_trace(go.Scatter(\n",
    "    x=[-0.2, 0.2], \n",
    "    y=[Q3, Q3], \n",
    "    mode='lines', \n",
    "    line=dict(color='green', dash='dash'), \n",
    "    name='Q3 (3º Quartil)'\n",
    "))\n",
    "\n",
    "# Limite Inferior\n",
    "fig.add_trace(go.Scatter(\n",
    "    x=[-0.2, 0.2], \n",
    "    y=[limite_inferior, limite_inferior], \n",
    "    mode='lines', \n",
    "    line=dict(color='cyan', dash='dot'), \n",
    "    name='Limite Inferior'\n",
    "))\n",
    "\n",
    "# Limite Superior\n",
    "fig.add_trace(go.Scatter(\n",
    "    x=[-0.2, 0.2], \n",
    "    y=[limite_superior, limite_superior], \n",
    "    mode='lines', \n",
    "    line=dict(color='magenta', dash='dot'), \n",
    "    name='Limite Superior'\n",
    "))\n",
    "\n",
    "fig.update_layout(\n",
    "    title='Box Plot da Idade com Quartis e Limites para Outliers',\n",
    "    yaxis_title='Idade',\n",
    "    xaxis=dict(\n",
    "        showticklabels=False  \n",
    "    ),\n",
    "    showlegend=True,\n",
    "    height=800  \n",
    ")\n",
    "fig.show()\n"
   ]
  },
  {
   "cell_type": "code",
   "execution_count": null,
   "id": "696631f0-f546-430c-9c02-f6adc0864b46",
   "metadata": {},
   "outputs": [],
   "source": [
    "outliers = df_servidor_temp[(df_servidor_temp['Idade'] < limite_inferior) | (df_servidor_temp['Idade'] > limite_superior)]\n",
    "outliers"
   ]
  },
  {
   "cell_type": "code",
   "execution_count": null,
   "id": "749b2008-e563-4e52-aa32-82aa190b2080",
   "metadata": {},
   "outputs": [],
   "source": [
    "plt.figure(figsize=(6, 3))\n",
    "sns.boxplot(x=df_servidor_temp['Idade'])\n",
    "plt.title('Box Plot da Idade')\n",
    "plt.xlabel('Idade')\n",
    "plt.show()"
   ]
  },
  {
   "cell_type": "code",
   "execution_count": null,
   "id": "6f96feb9-ae30-46c5-abbd-27f1b1f346d0",
   "metadata": {},
   "outputs": [],
   "source": [
    "df_servidor_temp = df_servidor_temp.dropna(subset=['Habilidades_competencias'])\n",
    "\n",
    "Q1 = df_servidor_temp['Habilidades_competencias'].quantile(0.25)\n",
    "Q3 = df_servidor_temp['Habilidades_competencias'].quantile(0.75)\n",
    "IQR = Q3 - Q1\n",
    "\n",
    "# Definir os limites inferior e superior para detectar outliers\n",
    "limite_inferior = Q1 - 1.5 * IQR\n",
    "limite_superior = Q3 + 1.5 * IQR\n",
    "\n",
    "outliers = df_servidor_temp[(df_servidor_temp['Habilidades_competencias'] < limite_inferior) | (df_servidor_temp['Habilidades_competencias'] > limite_superior)]\n",
    "outliers"
   ]
  },
  {
   "cell_type": "code",
   "execution_count": null,
   "id": "87d2f337-7e25-4741-a1ad-6f503d795db9",
   "metadata": {},
   "outputs": [],
   "source": [
    "plt.figure(figsize=(6, 3))\n",
    "sns.boxplot(x=df_servidor_temp['Habilidades_competencias'])\n",
    "plt.title('Box Plot da Idade')\n",
    "plt.xlabel('Habilidades_competencias')\n",
    "plt.show()"
   ]
  },
  {
   "cell_type": "markdown",
   "id": "7c69cb52",
   "metadata": {},
   "source": [
    "<div style=\"background-color: #f0f8ff; padding: 20px; border-radius: 10px;\">\n",
    "<h3>Quais são os principais níveis educacionais?</h3>\n",
    "    \n",
    "**Diferentes visualizações** podem revelar **diferentes padrões nos dados** que não são imediatamente óbvios a partir de simples estatísticas descritivas.\n",
    "</div>"
   ]
  },
  {
   "cell_type": "code",
   "execution_count": null,
   "id": "42d119e4",
   "metadata": {},
   "outputs": [],
   "source": [
    "count = df_servidor['Nivel_educacao'].value_counts().reset_index()\n",
    "count.columns = ['Nivel_educacao', 'N']\n",
    "count['Porcentagem'] = round(count['N'] / count['N'].sum(), 3)\n",
    "count = count.sort_values(by='Porcentagem', ascending=False)\n",
    "\n",
    "fig = px.treemap(count, \n",
    "                 path=['Nivel_educacao'], \n",
    "                 values='N', \n",
    "                 color='Porcentagem',\n",
    "                 color_continuous_scale='Blues',\n",
    "                 title='Distribuição dos Principais Níveis Educacionais',\n",
    "                 labels={'Nivel_educacao': 'Nível Educação', 'N': 'Número de Observações'})\n",
    "#fig.dat+a[0].textinfo = 'label+text+value'\n",
    "fig.show()"
   ]
  },
  {
   "cell_type": "markdown",
   "id": "6e3b62d0-05fe-4cb5-adb6-cd0f9c6e628f",
   "metadata": {},
   "source": [
    "<div style=\"background-color: #f0f8ff; padding: 20px; border-radius: 10px;\">\n",
    "<h3>Ferramenta de análise de dados</h3>\n",
    "    \n",
    "Algumas bibliotecas permitem a criação de relatórios exploratórios completos para um DataFrame do pandas. O relatório inclui informações sobre distribuição de variáveis, estatísticas descritivas, correlações, valores ausentes, entre outros.\n",
    "Sweetviz  e ProfileReport são bibliotecas de EDA que gera relatórios detalhados e interativos de forma rápida.\n",
    "</div>"
   ]
  },
  {
   "cell_type": "markdown",
   "id": "386ba505-f2d2-4e79-a8b9-c5ea3baa802c",
   "metadata": {},
   "source": [
    "# Relatório pandas-profiling"
   ]
  },
  {
   "cell_type": "code",
   "execution_count": null,
   "id": "b9c7d4d0-a9ef-45bb-a2dd-d4a383c3c57e",
   "metadata": {},
   "outputs": [],
   "source": []
  },
  {
   "cell_type": "markdown",
   "id": "75a40979-ae81-4e78-8668-352dd3a93282",
   "metadata": {},
   "source": [
    "# Relatório sweetviz"
   ]
  },
  {
   "cell_type": "code",
   "execution_count": null,
   "id": "badbd251-5bee-42f0-9f69-936265ce4ef9",
   "metadata": {},
   "outputs": [],
   "source": []
  }
 ],
 "metadata": {
  "colab": {
   "provenance": []
  },
  "kernelspec": {
   "display_name": "Python 3 (ipykernel)",
   "language": "python",
   "name": "python3"
  },
  "language_info": {
   "codemirror_mode": {
    "name": "ipython",
    "version": 3
   },
   "file_extension": ".py",
   "mimetype": "text/x-python",
   "name": "python",
   "nbconvert_exporter": "python",
   "pygments_lexer": "ipython3",
   "version": "3.11.7"
  }
 },
 "nbformat": 4,
 "nbformat_minor": 5
}
