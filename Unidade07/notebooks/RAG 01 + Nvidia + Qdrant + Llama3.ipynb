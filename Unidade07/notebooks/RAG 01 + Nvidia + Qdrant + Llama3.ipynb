{
 "cells": [
  {
   "cell_type": "markdown",
   "metadata": {
    "id": "LL_UxU8rwZfv"
   },
   "source": [
    "# Orientação: Caso deseje executar no Google Colab\n",
    "\n",
    "Faça a importação do notebook e leve também o diretório **data**.\n",
    "\n",
    "https://colab.research.google.com/"
   ]
  },
  {
   "cell_type": "markdown",
   "metadata": {
    "id": "pPxQl8NAzImL"
   },
   "source": [
    "Descrição: Criar um motor de busca em documentos públicos recuperados do site do tribunal.\n",
    "\n",
    "*  ouvidoria_tjdft.txt\n",
    "*  sobre_nos.txt\n",
    "*  canais_comunicacao.txt\n",
    "*  cartilha_justica_comunitaria.txt\n",
    "*  carta_servicos.txt\n",
    "*  comite_distrital_saude.txt\n",
    "*  atendimento_ao_cidadao.txt\n",
    "*  regulamentacao.txt\n",
    "\n",
    "Fontes:\n",
    "\n",
    "https://www.tjdft.jus.br/ouvidoria\n",
    "\n",
    "https://www.tjdft.jus.br/informacoes/cidadania/justica-comunitaria/publicacoes/arquivos/Cartilha_JusCom.pdf\n",
    "\n"
   ]
  },
  {
   "cell_type": "markdown",
   "metadata": {
    "id": "v0RDCRbkwZfx"
   },
   "source": [
    "# Retrieval Augmented Generation (RAG)\n",
    "\n",
    "\n",
    "\"O futuro da IA reside na engenharia cuidadosa de sistemas. De acordo com Zaharia et al., resultados da Databricks revelam que '60% das aplicações de LLM utilizam alguma forma de RAG, enquanto 30% utilizam cadeias multi-etapas.'\"\n",
    "https://qdrant.tech/articles/rag-is-dead/\n",
    "\n",
    "\n",
    "Retrieval Augmented Generation (RAG) combina dois tipos de memória: um que é como o conhecimento prévio do modelo e outro que é como um mecanismo de busca, tornando-o mais inteligente no acesso e uso da informação.\n",
    "\n",
    "O artigo que a primira vez falou de RAG, foi um escrito pelos pesquisadores do Facebook **Retrieval-Augmented Generation for\n",
    "Knowledge-Intensive NLP Tasks**: https://arxiv.org/pdf/2005.11401\n",
    "\n",
    "\n",
    "https://cookbook.openai.com/examples/vector_databases/qdrant/qa_with_langchain_qdrant_and_openai\n",
    "\n",
    "https://blogs.nvidia.com/blog/what-is-retrieval-augmented-generation/"
   ]
  },
  {
   "cell_type": "markdown",
   "metadata": {
    "id": "R6bkJiaOvRNK"
   },
   "source": [
    "#### Vantagens\n",
    "\n",
    "*   Informações atualizadas\n",
    "*   Maior confiança na respostas"
   ]
  },
  {
   "cell_type": "code",
   "execution_count": 1,
   "metadata": {
    "id": "6vYvey2UwZfx"
   },
   "outputs": [],
   "source": [
    "from IPython.display import Image"
   ]
  },
  {
   "cell_type": "code",
   "execution_count": 2,
   "metadata": {
    "id": "xjtScD8b2fc2"
   },
   "outputs": [
    {
     "data": {
      "text/html": [
       "<img src=\"../images/rag.png\" width=\"800\" height=\"200\"/>"
      ],
      "text/plain": [
       "<IPython.core.display.Image object>"
      ]
     },
     "execution_count": 2,
     "metadata": {},
     "output_type": "execute_result"
    }
   ],
   "source": [
    "Image(url=\"../images/rag.png\", width=800, height=200)"
   ]
  },
  {
   "cell_type": "code",
   "execution_count": 3,
   "metadata": {
    "colab": {
     "base_uri": "https://localhost:8080/",
     "height": 222,
     "resources": {
      "http://localhost:8080/images/fig31.png": {
       "data": "",
       "headers": [
        [
         "content-length",
         "0"
        ]
       ],
       "ok": false,
       "status": 404,
       "status_text": ""
      }
     }
    },
    "id": "COFXVgimwZfy",
    "outputId": "3450b48c-2c0f-4d1d-986c-751444360cd1"
   },
   "outputs": [
    {
     "data": {
      "text/html": [
       "<img src=\"../images/fig31.png\" width=\"800\" height=\"200\"/>"
      ],
      "text/plain": [
       "<IPython.core.display.Image object>"
      ]
     },
     "execution_count": 3,
     "metadata": {},
     "output_type": "execute_result"
    }
   ],
   "source": [
    "Image(url=\"../images/fig31.png\", width=800, height=200)"
   ]
  },
  {
   "cell_type": "markdown",
   "metadata": {
    "id": "YdRrr4W0v9fc"
   },
   "source": [
    "### Infraestrutura\n"
   ]
  },
  {
   "cell_type": "markdown",
   "metadata": {
    "id": "4Swtk0-2r1JB"
   },
   "source": [
    "Criar uma aplicação de Retrieval Augmented Generation (RAG) exige a integração eficiente de vários componentes complexos. Servidores são elementos da infraestrutura RAG que hospedagem e o gerenciamento de modelos LLMs e modelos de embeddings requerem recursos computacionais significativos. A implementação de RAG envolve a integração de diversos componentes, como recuperadores, geradores e fontes de dados externas. Esses servidores ainda oferecem APIs e endpoints para facilitar a integração das diferentes partes do pipeline RAG, orquestrando o fluxo de trabalho e gerenciando o fluxo de dados entre as etapas de recuperação e geração. Além disso, eles garantem a alocação otimizada de recursos, como GPUs, memória e armazenamento, e lidam com o balanceamento de carga para distribuir a carga de trabalho computacional.\n",
    "\n",
    "Para rodar local tempos algumas opções de frameworks de inferencia:\n",
    "\n",
    "*  Ollama\n",
    "\n",
    "*  llama.cpp\n",
    "\n",
    "*  GPT4All\n",
    "\n",
    "*  LM Studio\n",
    "\n",
    "*  jan.ai\n",
    "\n",
    "*  h2oGPT\n",
    "\n",
    "*  localllm\n",
    "\n",
    "\n",
    "Por questões de praticidade, neste projeto, não vamos rodar o LLM local, utilizaremos o serviço da Nvidia para armazenar o modelo."
   ]
  },
  {
   "cell_type": "markdown",
   "metadata": {
    "id": "yNi4EPChwZfz"
   },
   "source": [
    "# Crie uma conta na Nvidia"
   ]
  },
  {
   "cell_type": "markdown",
   "metadata": {
    "id": "L6FPmegowZfz"
   },
   "source": [
    "### Passo 1:\n",
    "\n",
    "Vá ao site da Nvidia https://build.nvidia.com/explore/discover e crie uma conta"
   ]
  },
  {
   "cell_type": "code",
   "execution_count": 4,
   "metadata": {
    "colab": {
     "base_uri": "https://localhost:8080/",
     "height": 222,
     "resources": {
      "http://localhost:8080/images/fig32.png": {
       "data": "",
       "headers": [
        [
         "content-length",
         "0"
        ]
       ],
       "ok": false,
       "status": 404,
       "status_text": ""
      }
     }
    },
    "id": "6hLFShk9wZfz",
    "outputId": "a0940d86-d209-4ec7-8c9a-89ba692aef79"
   },
   "outputs": [
    {
     "data": {
      "text/html": [
       "<img src=\"../images/fig32.png\" width=\"800\" height=\"200\"/>"
      ],
      "text/plain": [
       "<IPython.core.display.Image object>"
      ]
     },
     "execution_count": 4,
     "metadata": {},
     "output_type": "execute_result"
    }
   ],
   "source": [
    "Image(url=\"../images/fig32.png\", width=800, height=200)"
   ]
  },
  {
   "cell_type": "markdown",
   "metadata": {
    "id": "nXhsNuEwwZf0"
   },
   "source": [
    "### Passo 2:\n",
    "\n",
    "Escolha o modelo que quer usar. No curso usaremos o **meta/llama-3.1-405b-instruct**"
   ]
  },
  {
   "cell_type": "code",
   "execution_count": 4,
   "metadata": {
    "colab": {
     "base_uri": "https://localhost:8080/",
     "height": 222,
     "resources": {
      "http://localhost:8080/images/fig34.png": {
       "data": "",
       "headers": [
        [
         "content-length",
         "0"
        ]
       ],
       "ok": false,
       "status": 404,
       "status_text": ""
      }
     }
    },
    "id": "58dUnIl_wZf0",
    "outputId": "6bf0733b-d8ad-40b2-d6a5-ddf4ecbd097a"
   },
   "outputs": [
    {
     "data": {
      "text/html": [
       "<img src=\"../images/fig34.png\" width=\"800\" height=\"200\"/>"
      ],
      "text/plain": [
       "<IPython.core.display.Image object>"
      ]
     },
     "execution_count": 4,
     "metadata": {},
     "output_type": "execute_result"
    }
   ],
   "source": [
    "Image(url=\"../images/fig34.png\", width=800, height=200)"
   ]
  },
  {
   "cell_type": "markdown",
   "metadata": {
    "id": "LDrZk4BEwZf0"
   },
   "source": [
    "### Passo 3:\n",
    "\n",
    "**Gere API Key** "
   ]
  },
  {
   "cell_type": "code",
   "execution_count": 5,
   "metadata": {
    "colab": {
     "base_uri": "https://localhost:8080/",
     "height": 222,
     "resources": {
      "http://localhost:8080/images/fig33.png": {
       "data": "",
       "headers": [
        [
         "content-length",
         "0"
        ]
       ],
       "ok": false,
       "status": 404,
       "status_text": ""
      }
     }
    },
    "id": "ewdd6a0PwZf0",
    "outputId": "76b936ee-bd5b-4258-ec50-f55000377514"
   },
   "outputs": [
    {
     "data": {
      "text/html": [
       "<img src=\"../images/fig33.png\" width=\"800\" height=\"200\"/>"
      ],
      "text/plain": [
       "<IPython.core.display.Image object>"
      ]
     },
     "execution_count": 5,
     "metadata": {},
     "output_type": "execute_result"
    }
   ],
   "source": [
    "Image(url=\"../images/fig33.png\", width=800, height=200)"
   ]
  },
  {
   "cell_type": "markdown",
   "metadata": {},
   "source": [
    "Caso esteja executando no Google Colab configure a  **API Key**\n",
    "\n",
    "Para poder usar a API Key no Google Colab:\n",
    "\n",
    "*  Abra o Google Colab e vá para Secrets.\n",
    "*  Digite o Nome e o Valor do segredo. Embora o Valor possa ser alterado, o Nome não pode ser alterado. Neste código sugiro NVIDIA_KEY, mas você pode alterar\n",
    "*  Ative o acesso ao Notebook.\n",
    "*  Finalmente, para usá-lo no notebook, use o código fornecido com o nome do seu segredo no lugar de <secretName>"
   ]
  },
  {
   "cell_type": "code",
   "execution_count": 7,
   "metadata": {
    "id": "PqeQKpKp4j9E"
   },
   "outputs": [
    {
     "name": "stdout",
     "output_type": "stream",
     "text": [
      "Collecting tiktoken\n",
      "  Downloading tiktoken-0.7.0-cp312-cp312-win_amd64.whl.metadata (6.8 kB)\n",
      "Collecting openai\n",
      "  Downloading openai-1.37.1-py3-none-any.whl.metadata (22 kB)\n",
      "Requirement already satisfied: langchain-community in c:\\users\\joelma\\anaconda3\\envs\\rag\\lib\\site-packages (0.2.10)\n",
      "Requirement already satisfied: langchain_text_splitters in c:\\users\\joelma\\anaconda3\\envs\\rag\\lib\\site-packages (0.2.2)\n",
      "Collecting langchain_huggingface\n",
      "  Downloading langchain_huggingface-0.0.3-py3-none-any.whl.metadata (1.2 kB)\n",
      "Collecting langchain_qdrant\n",
      "  Downloading langchain_qdrant-0.1.3-py3-none-any.whl.metadata (1.7 kB)\n",
      "Collecting qdrant-client\n",
      "  Downloading qdrant_client-1.10.1-py3-none-any.whl.metadata (10 kB)\n",
      "Collecting regex>=2022.1.18 (from tiktoken)\n",
      "  Downloading regex-2024.7.24-cp312-cp312-win_amd64.whl.metadata (41 kB)\n",
      "     ---------------------------------------- 0.0/41.5 kB ? eta -:--:--\n",
      "     ---------------------------------------- 41.5/41.5 kB 1.0 MB/s eta 0:00:00\n",
      "Requirement already satisfied: requests>=2.26.0 in c:\\users\\joelma\\anaconda3\\envs\\rag\\lib\\site-packages (from tiktoken) (2.32.3)\n",
      "Requirement already satisfied: anyio<5,>=3.5.0 in c:\\users\\joelma\\anaconda3\\envs\\rag\\lib\\site-packages (from openai) (4.2.0)\n",
      "Collecting distro<2,>=1.7.0 (from openai)\n",
      "  Downloading distro-1.9.0-py3-none-any.whl.metadata (6.8 kB)\n",
      "Collecting httpx<1,>=0.23.0 (from openai)\n",
      "  Using cached httpx-0.27.0-py3-none-any.whl.metadata (7.2 kB)\n",
      "Requirement already satisfied: pydantic<3,>=1.9.0 in c:\\users\\joelma\\anaconda3\\envs\\rag\\lib\\site-packages (from openai) (2.8.2)\n",
      "Requirement already satisfied: sniffio in c:\\users\\joelma\\anaconda3\\envs\\rag\\lib\\site-packages (from openai) (1.3.0)\n",
      "Collecting tqdm>4 (from openai)\n",
      "  Using cached tqdm-4.66.4-py3-none-any.whl.metadata (57 kB)\n",
      "Requirement already satisfied: typing-extensions<5,>=4.7 in c:\\users\\joelma\\anaconda3\\envs\\rag\\lib\\site-packages (from openai) (4.11.0)\n",
      "Requirement already satisfied: PyYAML>=5.3 in c:\\users\\joelma\\anaconda3\\envs\\rag\\lib\\site-packages (from langchain-community) (6.0.1)\n",
      "Requirement already satisfied: SQLAlchemy<3,>=1.4 in c:\\users\\joelma\\anaconda3\\envs\\rag\\lib\\site-packages (from langchain-community) (2.0.31)\n",
      "Requirement already satisfied: aiohttp<4.0.0,>=3.8.3 in c:\\users\\joelma\\anaconda3\\envs\\rag\\lib\\site-packages (from langchain-community) (3.10.0)\n",
      "Requirement already satisfied: dataclasses-json<0.7,>=0.5.7 in c:\\users\\joelma\\anaconda3\\envs\\rag\\lib\\site-packages (from langchain-community) (0.6.7)\n",
      "Requirement already satisfied: langchain<0.3.0,>=0.2.9 in c:\\users\\joelma\\anaconda3\\envs\\rag\\lib\\site-packages (from langchain-community) (0.2.11)\n",
      "Requirement already satisfied: langchain-core<0.3.0,>=0.2.23 in c:\\users\\joelma\\anaconda3\\envs\\rag\\lib\\site-packages (from langchain-community) (0.2.25)\n",
      "Requirement already satisfied: langsmith<0.2.0,>=0.1.0 in c:\\users\\joelma\\anaconda3\\envs\\rag\\lib\\site-packages (from langchain-community) (0.1.94)\n",
      "Requirement already satisfied: numpy<2.0.0,>=1.26.0 in c:\\users\\joelma\\anaconda3\\envs\\rag\\lib\\site-packages (from langchain-community) (1.26.4)\n",
      "Requirement already satisfied: tenacity!=8.4.0,<9.0.0,>=8.1.0 in c:\\users\\joelma\\anaconda3\\envs\\rag\\lib\\site-packages (from langchain-community) (8.5.0)\n",
      "Collecting huggingface-hub>=0.23.0 (from langchain_huggingface)\n",
      "  Downloading huggingface_hub-0.24.5-py3-none-any.whl.metadata (13 kB)\n",
      "Collecting sentence-transformers>=2.6.0 (from langchain_huggingface)\n",
      "  Downloading sentence_transformers-3.0.1-py3-none-any.whl.metadata (10 kB)\n",
      "Collecting tokenizers>=0.19.1 (from langchain_huggingface)\n",
      "  Downloading tokenizers-0.19.1-cp312-none-win_amd64.whl.metadata (6.9 kB)\n",
      "Collecting transformers>=4.39.0 (from langchain_huggingface)\n",
      "  Downloading transformers-4.43.3-py3-none-any.whl.metadata (43 kB)\n",
      "     ---------------------------------------- 0.0/43.7 kB ? eta -:--:--\n",
      "     ---------------------------------------- 43.7/43.7 kB 2.1 MB/s eta 0:00:00\n",
      "Collecting grpcio>=1.41.0 (from qdrant-client)\n",
      "  Downloading grpcio-1.65.2-cp312-cp312-win_amd64.whl.metadata (3.4 kB)\n",
      "Collecting grpcio-tools>=1.41.0 (from qdrant-client)\n",
      "  Downloading grpcio_tools-1.65.2-cp312-cp312-win_amd64.whl.metadata (5.5 kB)\n",
      "Collecting portalocker<3.0.0,>=2.7.0 (from qdrant-client)\n",
      "  Downloading portalocker-2.10.1-py3-none-any.whl.metadata (8.5 kB)\n",
      "Requirement already satisfied: urllib3<3,>=1.26.14 in c:\\users\\joelma\\anaconda3\\envs\\rag\\lib\\site-packages (from qdrant-client) (2.2.2)\n",
      "Requirement already satisfied: aiohappyeyeballs>=2.3.0 in c:\\users\\joelma\\anaconda3\\envs\\rag\\lib\\site-packages (from aiohttp<4.0.0,>=3.8.3->langchain-community) (2.3.2)\n",
      "Requirement already satisfied: aiosignal>=1.1.2 in c:\\users\\joelma\\anaconda3\\envs\\rag\\lib\\site-packages (from aiohttp<4.0.0,>=3.8.3->langchain-community) (1.3.1)\n",
      "Requirement already satisfied: attrs>=17.3.0 in c:\\users\\joelma\\anaconda3\\envs\\rag\\lib\\site-packages (from aiohttp<4.0.0,>=3.8.3->langchain-community) (23.1.0)\n",
      "Requirement already satisfied: frozenlist>=1.1.1 in c:\\users\\joelma\\anaconda3\\envs\\rag\\lib\\site-packages (from aiohttp<4.0.0,>=3.8.3->langchain-community) (1.4.1)\n",
      "Requirement already satisfied: multidict<7.0,>=4.5 in c:\\users\\joelma\\anaconda3\\envs\\rag\\lib\\site-packages (from aiohttp<4.0.0,>=3.8.3->langchain-community) (6.0.5)\n",
      "Requirement already satisfied: yarl<2.0,>=1.0 in c:\\users\\joelma\\anaconda3\\envs\\rag\\lib\\site-packages (from aiohttp<4.0.0,>=3.8.3->langchain-community) (1.9.4)\n",
      "Requirement already satisfied: idna>=2.8 in c:\\users\\joelma\\anaconda3\\envs\\rag\\lib\\site-packages (from anyio<5,>=3.5.0->openai) (3.7)\n",
      "Requirement already satisfied: marshmallow<4.0.0,>=3.18.0 in c:\\users\\joelma\\anaconda3\\envs\\rag\\lib\\site-packages (from dataclasses-json<0.7,>=0.5.7->langchain-community) (3.21.3)\n",
      "Requirement already satisfied: typing-inspect<1,>=0.4.0 in c:\\users\\joelma\\anaconda3\\envs\\rag\\lib\\site-packages (from dataclasses-json<0.7,>=0.5.7->langchain-community) (0.9.0)\n",
      "Requirement already satisfied: protobuf<6.0dev,>=5.26.1 in c:\\users\\joelma\\anaconda3\\envs\\rag\\lib\\site-packages (from grpcio-tools>=1.41.0->qdrant-client) (5.27.2)\n",
      "Requirement already satisfied: setuptools in c:\\users\\joelma\\anaconda3\\envs\\rag\\lib\\site-packages (from grpcio-tools>=1.41.0->qdrant-client) (69.5.1)\n",
      "Requirement already satisfied: certifi in c:\\users\\joelma\\anaconda3\\envs\\rag\\lib\\site-packages (from httpx<1,>=0.23.0->openai) (2024.7.4)\n",
      "Collecting httpcore==1.* (from httpx<1,>=0.23.0->openai)\n",
      "  Using cached httpcore-1.0.5-py3-none-any.whl.metadata (20 kB)\n",
      "Collecting h11<0.15,>=0.13 (from httpcore==1.*->httpx<1,>=0.23.0->openai)\n",
      "  Using cached h11-0.14.0-py3-none-any.whl.metadata (8.2 kB)\n",
      "Collecting h2<5,>=3 (from httpx[http2]>=0.20.0->qdrant-client)\n",
      "  Downloading h2-4.1.0-py3-none-any.whl.metadata (3.6 kB)\n",
      "Collecting filelock (from huggingface-hub>=0.23.0->langchain_huggingface)\n",
      "  Downloading filelock-3.15.4-py3-none-any.whl.metadata (2.9 kB)\n",
      "Collecting fsspec>=2023.5.0 (from huggingface-hub>=0.23.0->langchain_huggingface)\n",
      "  Downloading fsspec-2024.6.1-py3-none-any.whl.metadata (11 kB)\n",
      "Requirement already satisfied: packaging>=20.9 in c:\\users\\joelma\\anaconda3\\envs\\rag\\lib\\site-packages (from huggingface-hub>=0.23.0->langchain_huggingface) (24.1)\n",
      "Requirement already satisfied: jsonpatch<2.0,>=1.33 in c:\\users\\joelma\\anaconda3\\envs\\rag\\lib\\site-packages (from langchain-core<0.3.0,>=0.2.23->langchain-community) (1.33)\n",
      "Requirement already satisfied: orjson<4.0.0,>=3.9.14 in c:\\users\\joelma\\anaconda3\\envs\\rag\\lib\\site-packages (from langsmith<0.2.0,>=0.1.0->langchain-community) (3.10.6)\n",
      "Requirement already satisfied: pywin32>=226 in c:\\users\\joelma\\appdata\\roaming\\python\\python312\\site-packages (from portalocker<3.0.0,>=2.7.0->qdrant-client) (306)\n",
      "Requirement already satisfied: annotated-types>=0.4.0 in c:\\users\\joelma\\anaconda3\\envs\\rag\\lib\\site-packages (from pydantic<3,>=1.9.0->openai) (0.7.0)\n",
      "Requirement already satisfied: pydantic-core==2.20.1 in c:\\users\\joelma\\anaconda3\\envs\\rag\\lib\\site-packages (from pydantic<3,>=1.9.0->openai) (2.20.1)\n",
      "Requirement already satisfied: charset-normalizer<4,>=2 in c:\\users\\joelma\\anaconda3\\envs\\rag\\lib\\site-packages (from requests>=2.26.0->tiktoken) (3.3.2)\n",
      "Collecting torch>=1.11.0 (from sentence-transformers>=2.6.0->langchain_huggingface)\n",
      "  Downloading torch-2.4.0-cp312-cp312-win_amd64.whl.metadata (27 kB)\n",
      "Collecting scikit-learn (from sentence-transformers>=2.6.0->langchain_huggingface)\n",
      "  Using cached scikit_learn-1.5.1-cp312-cp312-win_amd64.whl.metadata (12 kB)\n",
      "Collecting scipy (from sentence-transformers>=2.6.0->langchain_huggingface)\n",
      "  Using cached scipy-1.14.0-cp312-cp312-win_amd64.whl.metadata (60 kB)\n",
      "Requirement already satisfied: Pillow in c:\\users\\joelma\\anaconda3\\envs\\rag\\lib\\site-packages (from sentence-transformers>=2.6.0->langchain_huggingface) (10.4.0)\n",
      "Requirement already satisfied: greenlet!=0.4.17 in c:\\users\\joelma\\anaconda3\\envs\\rag\\lib\\site-packages (from SQLAlchemy<3,>=1.4->langchain-community) (3.0.3)\n",
      "Requirement already satisfied: colorama in c:\\users\\joelma\\anaconda3\\envs\\rag\\lib\\site-packages (from tqdm>4->openai) (0.4.6)\n",
      "Collecting safetensors>=0.4.1 (from transformers>=4.39.0->langchain_huggingface)\n",
      "  Downloading safetensors-0.4.3-cp312-none-win_amd64.whl.metadata (3.9 kB)\n",
      "Collecting hyperframe<7,>=6.0 (from h2<5,>=3->httpx[http2]>=0.20.0->qdrant-client)\n",
      "  Downloading hyperframe-6.0.1-py3-none-any.whl.metadata (2.7 kB)\n",
      "Collecting hpack<5,>=4.0 (from h2<5,>=3->httpx[http2]>=0.20.0->qdrant-client)\n",
      "  Downloading hpack-4.0.0-py3-none-any.whl.metadata (2.5 kB)\n",
      "Requirement already satisfied: jsonpointer>=1.9 in c:\\users\\joelma\\anaconda3\\envs\\rag\\lib\\site-packages (from jsonpatch<2.0,>=1.33->langchain-core<0.3.0,>=0.2.23->langchain-community) (3.0.0)\n",
      "Collecting sympy (from torch>=1.11.0->sentence-transformers>=2.6.0->langchain_huggingface)\n",
      "  Downloading sympy-1.13.1-py3-none-any.whl.metadata (12 kB)\n",
      "Collecting networkx (from torch>=1.11.0->sentence-transformers>=2.6.0->langchain_huggingface)\n",
      "  Using cached networkx-3.3-py3-none-any.whl.metadata (5.1 kB)\n",
      "Requirement already satisfied: jinja2 in c:\\users\\joelma\\anaconda3\\envs\\rag\\lib\\site-packages (from torch>=1.11.0->sentence-transformers>=2.6.0->langchain_huggingface) (3.1.4)\n",
      "Requirement already satisfied: mypy-extensions>=0.3.0 in c:\\users\\joelma\\anaconda3\\envs\\rag\\lib\\site-packages (from typing-inspect<1,>=0.4.0->dataclasses-json<0.7,>=0.5.7->langchain-community) (1.0.0)\n",
      "Collecting joblib>=1.2.0 (from scikit-learn->sentence-transformers>=2.6.0->langchain_huggingface)\n",
      "  Using cached joblib-1.4.2-py3-none-any.whl.metadata (5.4 kB)\n",
      "Collecting threadpoolctl>=3.1.0 (from scikit-learn->sentence-transformers>=2.6.0->langchain_huggingface)\n",
      "  Using cached threadpoolctl-3.5.0-py3-none-any.whl.metadata (13 kB)\n",
      "Requirement already satisfied: MarkupSafe>=2.0 in c:\\users\\joelma\\anaconda3\\envs\\rag\\lib\\site-packages (from jinja2->torch>=1.11.0->sentence-transformers>=2.6.0->langchain_huggingface) (2.1.3)\n",
      "Collecting mpmath<1.4,>=1.1.0 (from sympy->torch>=1.11.0->sentence-transformers>=2.6.0->langchain_huggingface)\n",
      "  Downloading mpmath-1.3.0-py3-none-any.whl.metadata (8.6 kB)\n",
      "Downloading tiktoken-0.7.0-cp312-cp312-win_amd64.whl (799 kB)\n",
      "   ---------------------------------------- 0.0/799.3 kB ? eta -:--:--\n",
      "   ---- ----------------------------------- 92.2/799.3 kB 2.6 MB/s eta 0:00:01\n",
      "   ------------- -------------------------- 266.2/799.3 kB 2.8 MB/s eta 0:00:01\n",
      "   ------------------------ --------------- 481.3/799.3 kB 3.8 MB/s eta 0:00:01\n",
      "   ---------------------------------------  798.7/799.3 kB 4.6 MB/s eta 0:00:01\n",
      "   ---------------------------------------- 799.3/799.3 kB 3.9 MB/s eta 0:00:00\n",
      "Downloading openai-1.37.1-py3-none-any.whl (337 kB)\n",
      "   ---------------------------------------- 0.0/337.0 kB ? eta -:--:--\n",
      "   ------------------------------------- - 327.7/337.0 kB 19.8 MB/s eta 0:00:01\n",
      "   ---------------------------------------- 337.0/337.0 kB 7.0 MB/s eta 0:00:00\n",
      "Downloading langchain_huggingface-0.0.3-py3-none-any.whl (17 kB)\n",
      "Downloading langchain_qdrant-0.1.3-py3-none-any.whl (22 kB)\n",
      "Downloading qdrant_client-1.10.1-py3-none-any.whl (254 kB)\n",
      "   ---------------------------------------- 0.0/254.1 kB ? eta -:--:--\n",
      "   -------------------------------------- - 245.8/254.1 kB 7.4 MB/s eta 0:00:01\n",
      "   ---------------------------------------- 254.1/254.1 kB 5.2 MB/s eta 0:00:00\n",
      "Downloading distro-1.9.0-py3-none-any.whl (20 kB)\n",
      "Downloading grpcio-1.65.2-cp312-cp312-win_amd64.whl (4.1 MB)\n",
      "   ---------------------------------------- 0.0/4.1 MB ? eta -:--:--\n",
      "   --- ------------------------------------ 0.4/4.1 MB 12.2 MB/s eta 0:00:01\n",
      "   ------- -------------------------------- 0.8/4.1 MB 10.4 MB/s eta 0:00:01\n",
      "   ----------- ---------------------------- 1.2/4.1 MB 9.2 MB/s eta 0:00:01\n",
      "   -------------- ------------------------- 1.5/4.1 MB 8.4 MB/s eta 0:00:01\n",
      "   ---------------- ----------------------- 1.8/4.1 MB 7.9 MB/s eta 0:00:01\n",
      "   -------------------- ------------------- 2.1/4.1 MB 7.8 MB/s eta 0:00:01\n",
      "   ---------------------- ----------------- 2.3/4.1 MB 7.8 MB/s eta 0:00:01\n",
      "   -------------------------- ------------- 2.7/4.1 MB 7.9 MB/s eta 0:00:01\n",
      "   ------------------------------ --------- 3.1/4.1 MB 8.0 MB/s eta 0:00:01\n",
      "   --------------------------------- ------ 3.5/4.1 MB 7.7 MB/s eta 0:00:01\n",
      "   ------------------------------------- -- 3.9/4.1 MB 8.0 MB/s eta 0:00:01\n",
      "   ---------------------------------------  4.1/4.1 MB 7.8 MB/s eta 0:00:01\n",
      "   ---------------------------------------  4.1/4.1 MB 7.8 MB/s eta 0:00:01\n",
      "   ---------------------------------------  4.1/4.1 MB 7.8 MB/s eta 0:00:01\n",
      "   ---------------------------------------  4.1/4.1 MB 7.8 MB/s eta 0:00:01\n",
      "   ---------------------------------------  4.1/4.1 MB 7.8 MB/s eta 0:00:01\n",
      "   ---------------------------------------  4.1/4.1 MB 7.8 MB/s eta 0:00:01\n",
      "   ---------------------------------------- 4.1/4.1 MB 5.1 MB/s eta 0:00:00\n",
      "Downloading grpcio_tools-1.65.2-cp312-cp312-win_amd64.whl (1.1 MB)\n",
      "   ---------------------------------------- 0.0/1.1 MB ? eta -:--:--\n",
      "   ---------- ----------------------------- 0.3/1.1 MB 5.9 MB/s eta 0:00:01\n",
      "   ------------------------ --------------- 0.7/1.1 MB 8.4 MB/s eta 0:00:01\n",
      "   ----------------------------------- ---- 1.0/1.1 MB 6.8 MB/s eta 0:00:01\n",
      "   ---------------------------------------- 1.1/1.1 MB 6.8 MB/s eta 0:00:00\n",
      "Using cached httpx-0.27.0-py3-none-any.whl (75 kB)\n",
      "Using cached httpcore-1.0.5-py3-none-any.whl (77 kB)\n",
      "Downloading huggingface_hub-0.24.5-py3-none-any.whl (417 kB)\n",
      "   ---------------------------------------- 0.0/417.5 kB ? eta -:--:--\n",
      "   --------------------------------------  409.6/417.5 kB 12.9 MB/s eta 0:00:01\n",
      "   ---------------------------------------- 417.5/417.5 kB 6.6 MB/s eta 0:00:00\n",
      "Downloading portalocker-2.10.1-py3-none-any.whl (18 kB)\n",
      "Downloading regex-2024.7.24-cp312-cp312-win_amd64.whl (269 kB)\n",
      "   ---------------------------------------- 0.0/269.2 kB ? eta -:--:--\n",
      "   ---------------------------------------- 269.2/269.2 kB 8.4 MB/s eta 0:00:00\n",
      "Downloading sentence_transformers-3.0.1-py3-none-any.whl (227 kB)\n",
      "   ---------------------------------------- 0.0/227.1 kB ? eta -:--:--\n",
      "   ---------------------------------------  225.3/227.1 kB 6.9 MB/s eta 0:00:01\n",
      "   ---------------------------------------- 227.1/227.1 kB 4.6 MB/s eta 0:00:00\n",
      "Downloading tokenizers-0.19.1-cp312-none-win_amd64.whl (2.2 MB)\n",
      "   ---------------------------------------- 0.0/2.2 MB ? eta -:--:--\n",
      "   ----- ---------------------------------- 0.3/2.2 MB 9.2 MB/s eta 0:00:01\n",
      "   ------------ --------------------------- 0.7/2.2 MB 7.4 MB/s eta 0:00:01\n",
      "   ------------------ --------------------- 1.0/2.2 MB 8.0 MB/s eta 0:00:01\n",
      "   -------------------------- ------------- 1.5/2.2 MB 7.7 MB/s eta 0:00:01\n",
      "   --------------------------------- ------ 1.9/2.2 MB 7.9 MB/s eta 0:00:01\n",
      "   ---------------------------------------  2.2/2.2 MB 7.8 MB/s eta 0:00:01\n",
      "   ---------------------------------------- 2.2/2.2 MB 7.4 MB/s eta 0:00:00\n",
      "Using cached tqdm-4.66.4-py3-none-any.whl (78 kB)\n",
      "Downloading transformers-4.43.3-py3-none-any.whl (9.4 MB)\n",
      "   ---------------------------------------- 0.0/9.4 MB ? eta -:--:--\n",
      "   ---- ----------------------------------- 1.1/9.4 MB 73.0 MB/s eta 0:00:01\n",
      "   ------ --------------------------------- 1.4/9.4 MB 18.4 MB/s eta 0:00:01\n",
      "   ------- -------------------------------- 1.8/9.4 MB 12.8 MB/s eta 0:00:01\n",
      "   -------- ------------------------------- 2.1/9.4 MB 12.0 MB/s eta 0:00:01\n",
      "   ---------- ----------------------------- 2.4/9.4 MB 10.4 MB/s eta 0:00:01\n",
      "   ----------- ---------------------------- 2.8/9.4 MB 10.5 MB/s eta 0:00:01\n",
      "   ------------- -------------------------- 3.1/9.4 MB 10.0 MB/s eta 0:00:01\n",
      "   -------------- ------------------------- 3.5/9.4 MB 9.3 MB/s eta 0:00:01\n",
      "   ---------------- ----------------------- 3.8/9.4 MB 9.4 MB/s eta 0:00:01\n",
      "   ----------------- ---------------------- 4.2/9.4 MB 9.2 MB/s eta 0:00:01\n",
      "   ------------------- -------------------- 4.6/9.4 MB 9.1 MB/s eta 0:00:01\n",
      "   -------------------- ------------------- 4.9/9.4 MB 8.7 MB/s eta 0:00:01\n",
      "   ---------------------- ----------------- 5.3/9.4 MB 8.6 MB/s eta 0:00:01\n",
      "   ----------------------- ---------------- 5.5/9.4 MB 8.6 MB/s eta 0:00:01\n",
      "   ------------------------ --------------- 5.8/9.4 MB 8.4 MB/s eta 0:00:01\n",
      "   -------------------------- ------------- 6.1/9.4 MB 8.3 MB/s eta 0:00:01\n",
      "   --------------------------- ------------ 6.4/9.4 MB 8.1 MB/s eta 0:00:01\n",
      "   ---------------------------- ----------- 6.8/9.4 MB 8.0 MB/s eta 0:00:01\n",
      "   ------------------------------ --------- 7.1/9.4 MB 8.1 MB/s eta 0:00:01\n",
      "   ------------------------------- -------- 7.5/9.4 MB 8.0 MB/s eta 0:00:01\n",
      "   --------------------------------- ------ 7.9/9.4 MB 8.0 MB/s eta 0:00:01\n",
      "   ----------------------------------- ---- 8.3/9.4 MB 8.0 MB/s eta 0:00:01\n",
      "   ------------------------------------ --- 8.6/9.4 MB 7.9 MB/s eta 0:00:01\n",
      "   ------------------------------------- -- 8.8/9.4 MB 7.8 MB/s eta 0:00:01\n",
      "   -------------------------------------- - 9.1/9.4 MB 7.8 MB/s eta 0:00:01\n",
      "   ---------------------------------------  9.4/9.4 MB 7.8 MB/s eta 0:00:01\n",
      "   ---------------------------------------  9.4/9.4 MB 7.8 MB/s eta 0:00:01\n",
      "   ---------------------------------------- 9.4/9.4 MB 6.5 MB/s eta 0:00:00\n",
      "Downloading fsspec-2024.6.1-py3-none-any.whl (177 kB)\n",
      "   ---------------------------------------- 0.0/177.6 kB ? eta -:--:--\n",
      "   --------------------------------------  174.1/177.6 kB 10.2 MB/s eta 0:00:01\n",
      "   ---------------------------------------- 177.6/177.6 kB 5.4 MB/s eta 0:00:00\n",
      "Downloading h2-4.1.0-py3-none-any.whl (57 kB)\n",
      "   ---------------------------------------- 0.0/57.5 kB ? eta -:--:--\n",
      "   ---------------------------------------- 57.5/57.5 kB ? eta 0:00:00\n",
      "Downloading safetensors-0.4.3-cp312-none-win_amd64.whl (289 kB)\n",
      "   ---------------------------------------- 0.0/289.4 kB ? eta -:--:--\n",
      "   ---------------------------------------- 289.4/289.4 kB 5.9 MB/s eta 0:00:00\n",
      "Downloading torch-2.4.0-cp312-cp312-win_amd64.whl (197.8 MB)\n",
      "   ---------------------------------------- 0.0/197.8 MB ? eta -:--:--\n",
      "   ---------------------------------------- 0.3/197.8 MB 9.9 MB/s eta 0:00:20\n",
      "   ---------------------------------------- 0.7/197.8 MB 8.4 MB/s eta 0:00:24\n",
      "   ---------------------------------------- 1.0/197.8 MB 7.7 MB/s eta 0:00:26\n",
      "   ---------------------------------------- 1.3/197.8 MB 7.8 MB/s eta 0:00:26\n",
      "   ---------------------------------------- 1.6/197.8 MB 7.8 MB/s eta 0:00:26\n",
      "   ---------------------------------------- 1.9/197.8 MB 7.3 MB/s eta 0:00:27\n",
      "   ---------------------------------------- 2.2/197.8 MB 7.4 MB/s eta 0:00:27\n",
      "    --------------------------------------- 2.5/197.8 MB 7.4 MB/s eta 0:00:27\n",
      "    --------------------------------------- 2.9/197.8 MB 7.5 MB/s eta 0:00:27\n",
      "    --------------------------------------- 3.3/197.8 MB 7.2 MB/s eta 0:00:28\n",
      "    --------------------------------------- 3.6/197.8 MB 7.2 MB/s eta 0:00:27\n",
      "    --------------------------------------- 4.0/197.8 MB 7.3 MB/s eta 0:00:27\n",
      "    --------------------------------------- 4.4/197.8 MB 7.4 MB/s eta 0:00:27\n",
      "    --------------------------------------- 4.6/197.8 MB 7.3 MB/s eta 0:00:27\n",
      "   - -------------------------------------- 5.0/197.8 MB 7.2 MB/s eta 0:00:27\n",
      "   - -------------------------------------- 5.3/197.8 MB 7.2 MB/s eta 0:00:27\n",
      "   - -------------------------------------- 5.6/197.8 MB 7.3 MB/s eta 0:00:27\n",
      "   - -------------------------------------- 6.1/197.8 MB 7.3 MB/s eta 0:00:27\n",
      "   - -------------------------------------- 6.4/197.8 MB 7.3 MB/s eta 0:00:27\n",
      "   - -------------------------------------- 6.8/197.8 MB 7.3 MB/s eta 0:00:27\n",
      "   - -------------------------------------- 7.1/197.8 MB 7.2 MB/s eta 0:00:27\n",
      "   - -------------------------------------- 7.5/197.8 MB 7.3 MB/s eta 0:00:27\n",
      "   - -------------------------------------- 7.8/197.8 MB 7.2 MB/s eta 0:00:27\n",
      "   - -------------------------------------- 8.2/197.8 MB 7.3 MB/s eta 0:00:27\n",
      "   - -------------------------------------- 8.5/197.8 MB 7.2 MB/s eta 0:00:27\n",
      "   - -------------------------------------- 8.8/197.8 MB 7.2 MB/s eta 0:00:27\n",
      "   - -------------------------------------- 9.1/197.8 MB 7.2 MB/s eta 0:00:27\n",
      "   - -------------------------------------- 9.5/197.8 MB 7.3 MB/s eta 0:00:26\n",
      "   - -------------------------------------- 9.9/197.8 MB 7.3 MB/s eta 0:00:26\n",
      "   -- ------------------------------------- 10.2/197.8 MB 7.3 MB/s eta 0:00:26\n",
      "   -- ------------------------------------- 10.6/197.8 MB 7.2 MB/s eta 0:00:27\n",
      "   -- ------------------------------------- 10.9/197.8 MB 7.3 MB/s eta 0:00:26\n",
      "   -- ------------------------------------- 11.3/197.8 MB 7.4 MB/s eta 0:00:26\n",
      "   -- ------------------------------------- 11.7/197.8 MB 7.3 MB/s eta 0:00:26\n",
      "   -- ------------------------------------- 12.0/197.8 MB 7.4 MB/s eta 0:00:26\n",
      "   -- ------------------------------------- 12.3/197.8 MB 7.3 MB/s eta 0:00:26\n",
      "   -- ------------------------------------- 12.7/197.8 MB 7.4 MB/s eta 0:00:26\n",
      "   -- ------------------------------------- 13.0/197.8 MB 7.3 MB/s eta 0:00:26\n",
      "   -- ------------------------------------- 13.4/197.8 MB 7.3 MB/s eta 0:00:26\n",
      "   -- ------------------------------------- 13.7/197.8 MB 7.3 MB/s eta 0:00:26\n",
      "   -- ------------------------------------- 14.1/197.8 MB 7.4 MB/s eta 0:00:25\n",
      "   -- ------------------------------------- 14.4/197.8 MB 7.4 MB/s eta 0:00:25\n",
      "   -- ------------------------------------- 14.8/197.8 MB 7.3 MB/s eta 0:00:26\n",
      "   --- ------------------------------------ 15.0/197.8 MB 7.4 MB/s eta 0:00:25\n",
      "   --- ------------------------------------ 15.3/197.8 MB 7.3 MB/s eta 0:00:26\n",
      "   --- ------------------------------------ 15.7/197.8 MB 7.4 MB/s eta 0:00:25\n",
      "   --- ------------------------------------ 16.0/197.8 MB 7.4 MB/s eta 0:00:25\n",
      "   --- ------------------------------------ 16.4/197.8 MB 7.4 MB/s eta 0:00:25\n",
      "   --- ------------------------------------ 16.8/197.8 MB 7.4 MB/s eta 0:00:25\n",
      "   --- ------------------------------------ 17.1/197.8 MB 7.4 MB/s eta 0:00:25\n",
      "   --- ------------------------------------ 17.4/197.8 MB 7.4 MB/s eta 0:00:25\n",
      "   --- ------------------------------------ 17.7/197.8 MB 7.3 MB/s eta 0:00:25\n",
      "   --- ------------------------------------ 18.1/197.8 MB 7.4 MB/s eta 0:00:25\n",
      "   --- ------------------------------------ 18.4/197.8 MB 7.4 MB/s eta 0:00:25\n",
      "   --- ------------------------------------ 18.8/197.8 MB 7.4 MB/s eta 0:00:25\n",
      "   --- ------------------------------------ 19.2/197.8 MB 7.5 MB/s eta 0:00:24\n",
      "   --- ------------------------------------ 19.6/197.8 MB 7.5 MB/s eta 0:00:24\n",
      "   ---- ----------------------------------- 20.0/197.8 MB 7.5 MB/s eta 0:00:24\n",
      "   ---- ----------------------------------- 20.4/197.8 MB 7.5 MB/s eta 0:00:24\n",
      "   ---- ----------------------------------- 20.7/197.8 MB 7.5 MB/s eta 0:00:24\n",
      "   ---- ----------------------------------- 21.1/197.8 MB 7.5 MB/s eta 0:00:24\n",
      "   ---- ----------------------------------- 21.4/197.8 MB 7.5 MB/s eta 0:00:24\n",
      "   ---- ----------------------------------- 21.8/197.8 MB 7.4 MB/s eta 0:00:24\n",
      "   ---- ----------------------------------- 22.2/197.8 MB 7.5 MB/s eta 0:00:24\n",
      "   ---- ----------------------------------- 22.6/197.8 MB 7.5 MB/s eta 0:00:24\n",
      "   ---- ----------------------------------- 22.9/197.8 MB 7.6 MB/s eta 0:00:23\n",
      "   ---- ----------------------------------- 23.3/197.8 MB 7.5 MB/s eta 0:00:24\n",
      "   ---- ----------------------------------- 23.7/197.8 MB 7.5 MB/s eta 0:00:24\n",
      "   ---- ----------------------------------- 24.1/197.8 MB 7.6 MB/s eta 0:00:23\n",
      "   ---- ----------------------------------- 24.3/197.8 MB 7.4 MB/s eta 0:00:24\n",
      "   ---- ----------------------------------- 24.7/197.8 MB 7.5 MB/s eta 0:00:24\n",
      "   ----- ---------------------------------- 25.0/197.8 MB 7.5 MB/s eta 0:00:23\n",
      "   ----- ---------------------------------- 25.4/197.8 MB 7.5 MB/s eta 0:00:23\n",
      "   ----- ---------------------------------- 25.7/197.8 MB 7.5 MB/s eta 0:00:23\n",
      "   ----- ---------------------------------- 26.0/197.8 MB 7.5 MB/s eta 0:00:23\n",
      "   ----- ---------------------------------- 26.4/197.8 MB 7.4 MB/s eta 0:00:24\n",
      "   ----- ---------------------------------- 26.8/197.8 MB 7.5 MB/s eta 0:00:23\n",
      "   ----- ---------------------------------- 27.1/197.8 MB 7.4 MB/s eta 0:00:23\n",
      "   ----- ---------------------------------- 27.5/197.8 MB 7.5 MB/s eta 0:00:23\n",
      "   ----- ---------------------------------- 27.9/197.8 MB 7.6 MB/s eta 0:00:23\n",
      "   ----- ---------------------------------- 28.2/197.8 MB 7.5 MB/s eta 0:00:23\n",
      "   ----- ---------------------------------- 28.6/197.8 MB 7.5 MB/s eta 0:00:23\n",
      "   ----- ---------------------------------- 28.9/197.8 MB 7.5 MB/s eta 0:00:23\n",
      "   ----- ---------------------------------- 29.3/197.8 MB 7.4 MB/s eta 0:00:23\n",
      "   ----- ---------------------------------- 29.7/197.8 MB 7.5 MB/s eta 0:00:23\n",
      "   ------ --------------------------------- 30.0/197.8 MB 7.5 MB/s eta 0:00:23\n",
      "   ------ --------------------------------- 30.4/197.8 MB 7.5 MB/s eta 0:00:23\n",
      "   ------ --------------------------------- 30.7/197.8 MB 7.4 MB/s eta 0:00:23\n",
      "   ------ --------------------------------- 31.1/197.8 MB 7.5 MB/s eta 0:00:23\n",
      "   ------ --------------------------------- 31.5/197.8 MB 7.4 MB/s eta 0:00:23\n",
      "   ------ --------------------------------- 31.9/197.8 MB 7.5 MB/s eta 0:00:23\n",
      "   ------ --------------------------------- 32.3/197.8 MB 7.5 MB/s eta 0:00:22\n",
      "   ------ --------------------------------- 32.6/197.8 MB 7.4 MB/s eta 0:00:23\n",
      "   ------ --------------------------------- 33.0/197.8 MB 7.5 MB/s eta 0:00:22\n",
      "   ------ --------------------------------- 33.3/197.8 MB 7.4 MB/s eta 0:00:23\n",
      "   ------ --------------------------------- 33.7/197.8 MB 7.4 MB/s eta 0:00:23\n",
      "   ------ --------------------------------- 34.0/197.8 MB 7.4 MB/s eta 0:00:23\n",
      "   ------ --------------------------------- 34.3/197.8 MB 7.4 MB/s eta 0:00:22\n",
      "   ------- -------------------------------- 34.7/197.8 MB 7.5 MB/s eta 0:00:22\n",
      "   ------- -------------------------------- 35.1/197.8 MB 7.6 MB/s eta 0:00:22\n",
      "   ------- -------------------------------- 35.4/197.8 MB 7.4 MB/s eta 0:00:22\n",
      "   ------- -------------------------------- 35.7/197.8 MB 7.5 MB/s eta 0:00:22\n",
      "   ------- -------------------------------- 36.1/197.8 MB 7.6 MB/s eta 0:00:22\n",
      "   ------- -------------------------------- 36.5/197.8 MB 7.7 MB/s eta 0:00:21\n",
      "   ------- -------------------------------- 36.9/197.8 MB 7.6 MB/s eta 0:00:22\n",
      "   ------- -------------------------------- 37.2/197.8 MB 7.7 MB/s eta 0:00:21\n",
      "   ------- -------------------------------- 37.6/197.8 MB 7.6 MB/s eta 0:00:22\n",
      "   ------- -------------------------------- 38.0/197.8 MB 7.6 MB/s eta 0:00:21\n",
      "   ------- -------------------------------- 38.4/197.8 MB 7.8 MB/s eta 0:00:21\n",
      "   ------- -------------------------------- 38.7/197.8 MB 7.6 MB/s eta 0:00:21\n",
      "   ------- -------------------------------- 39.1/197.8 MB 7.7 MB/s eta 0:00:21\n",
      "   ------- -------------------------------- 39.4/197.8 MB 7.7 MB/s eta 0:00:21\n",
      "   -------- ------------------------------- 39.8/197.8 MB 7.7 MB/s eta 0:00:21\n",
      "   -------- ------------------------------- 40.2/197.8 MB 7.7 MB/s eta 0:00:21\n",
      "   -------- ------------------------------- 40.5/197.8 MB 7.7 MB/s eta 0:00:21\n",
      "   -------- ------------------------------- 40.9/197.8 MB 7.7 MB/s eta 0:00:21\n",
      "   -------- ------------------------------- 41.2/197.8 MB 7.7 MB/s eta 0:00:21\n",
      "   -------- ------------------------------- 41.6/197.8 MB 7.6 MB/s eta 0:00:21\n",
      "   -------- ------------------------------- 42.0/197.8 MB 7.6 MB/s eta 0:00:21\n",
      "   -------- ------------------------------- 42.3/197.8 MB 7.6 MB/s eta 0:00:21\n",
      "   -------- ------------------------------- 42.7/197.8 MB 7.6 MB/s eta 0:00:21\n",
      "   -------- ------------------------------- 43.2/197.8 MB 7.7 MB/s eta 0:00:21\n",
      "   -------- ------------------------------- 43.5/197.8 MB 7.6 MB/s eta 0:00:21\n",
      "   -------- ------------------------------- 43.8/197.8 MB 7.6 MB/s eta 0:00:21\n",
      "   -------- ------------------------------- 44.1/197.8 MB 7.6 MB/s eta 0:00:21\n",
      "   -------- ------------------------------- 44.5/197.8 MB 7.5 MB/s eta 0:00:21\n",
      "   --------- ------------------------------ 44.8/197.8 MB 7.5 MB/s eta 0:00:21\n",
      "   --------- ------------------------------ 45.1/197.8 MB 7.4 MB/s eta 0:00:21\n",
      "   --------- ------------------------------ 45.5/197.8 MB 7.5 MB/s eta 0:00:21\n",
      "   --------- ------------------------------ 45.8/197.8 MB 7.5 MB/s eta 0:00:21\n",
      "   --------- ------------------------------ 46.2/197.8 MB 7.5 MB/s eta 0:00:21\n",
      "   --------- ------------------------------ 46.5/197.8 MB 7.6 MB/s eta 0:00:20\n",
      "   --------- ------------------------------ 46.8/197.8 MB 7.5 MB/s eta 0:00:21\n",
      "   --------- ------------------------------ 47.1/197.8 MB 7.5 MB/s eta 0:00:21\n",
      "   --------- ------------------------------ 47.4/197.8 MB 7.5 MB/s eta 0:00:20\n",
      "   --------- ------------------------------ 47.8/197.8 MB 7.6 MB/s eta 0:00:20\n",
      "   --------- ------------------------------ 48.1/197.8 MB 7.4 MB/s eta 0:00:21\n",
      "   --------- ------------------------------ 48.4/197.8 MB 7.5 MB/s eta 0:00:20\n",
      "   --------- ------------------------------ 48.8/197.8 MB 7.4 MB/s eta 0:00:21\n",
      "   --------- ------------------------------ 49.2/197.8 MB 7.4 MB/s eta 0:00:20\n",
      "   ---------- ----------------------------- 49.6/197.8 MB 7.5 MB/s eta 0:00:20\n",
      "   ---------- ----------------------------- 49.9/197.8 MB 7.5 MB/s eta 0:00:20\n",
      "   ---------- ----------------------------- 50.3/197.8 MB 7.4 MB/s eta 0:00:20\n",
      "   ---------- ----------------------------- 50.7/197.8 MB 7.4 MB/s eta 0:00:20\n",
      "   ---------- ----------------------------- 51.1/197.8 MB 7.5 MB/s eta 0:00:20\n",
      "   ---------- ----------------------------- 51.3/197.8 MB 7.4 MB/s eta 0:00:20\n",
      "   ---------- ----------------------------- 51.7/197.8 MB 7.4 MB/s eta 0:00:20\n",
      "   ---------- ----------------------------- 52.0/197.8 MB 7.5 MB/s eta 0:00:20\n",
      "   ---------- ----------------------------- 52.3/197.8 MB 7.4 MB/s eta 0:00:20\n",
      "   ---------- ----------------------------- 52.6/197.8 MB 7.4 MB/s eta 0:00:20\n",
      "   ---------- ----------------------------- 52.9/197.8 MB 7.4 MB/s eta 0:00:20\n",
      "   ---------- ----------------------------- 53.3/197.8 MB 7.4 MB/s eta 0:00:20\n",
      "   ---------- ----------------------------- 53.5/197.8 MB 7.4 MB/s eta 0:00:20\n",
      "   ---------- ----------------------------- 53.8/197.8 MB 7.4 MB/s eta 0:00:20\n",
      "   ---------- ----------------------------- 54.2/197.8 MB 7.5 MB/s eta 0:00:20\n",
      "   ----------- ---------------------------- 54.5/197.8 MB 7.5 MB/s eta 0:00:20\n",
      "   ----------- ---------------------------- 54.9/197.8 MB 7.5 MB/s eta 0:00:19\n",
      "   ----------- ---------------------------- 55.2/197.8 MB 7.6 MB/s eta 0:00:19\n",
      "   ----------- ---------------------------- 55.5/197.8 MB 7.5 MB/s eta 0:00:19\n",
      "   ----------- ---------------------------- 55.9/197.8 MB 7.5 MB/s eta 0:00:19\n",
      "   ----------- ---------------------------- 56.2/197.8 MB 7.5 MB/s eta 0:00:19\n",
      "   ----------- ---------------------------- 56.6/197.8 MB 7.4 MB/s eta 0:00:19\n",
      "   ----------- ---------------------------- 56.9/197.8 MB 7.4 MB/s eta 0:00:19\n",
      "   ----------- ---------------------------- 57.2/197.8 MB 7.5 MB/s eta 0:00:19\n",
      "   ----------- ---------------------------- 57.6/197.8 MB 7.4 MB/s eta 0:00:19\n",
      "   ----------- ---------------------------- 57.9/197.8 MB 7.4 MB/s eta 0:00:19\n",
      "   ----------- ---------------------------- 58.2/197.8 MB 7.4 MB/s eta 0:00:19\n",
      "   ----------- ---------------------------- 58.6/197.8 MB 7.4 MB/s eta 0:00:19\n",
      "   ----------- ---------------------------- 58.9/197.8 MB 7.4 MB/s eta 0:00:19\n",
      "   ----------- ---------------------------- 59.2/197.8 MB 7.5 MB/s eta 0:00:19\n",
      "   ------------ --------------------------- 59.6/197.8 MB 7.4 MB/s eta 0:00:19\n",
      "   ------------ --------------------------- 59.9/197.8 MB 7.4 MB/s eta 0:00:19\n",
      "   ------------ --------------------------- 60.2/197.8 MB 7.4 MB/s eta 0:00:19\n",
      "   ------------ --------------------------- 60.5/197.8 MB 7.4 MB/s eta 0:00:19\n",
      "   ------------ --------------------------- 60.9/197.8 MB 7.4 MB/s eta 0:00:19\n",
      "   ------------ --------------------------- 61.2/197.8 MB 7.4 MB/s eta 0:00:19\n",
      "   ------------ --------------------------- 61.5/197.8 MB 7.4 MB/s eta 0:00:19\n",
      "   ------------ --------------------------- 61.8/197.8 MB 7.4 MB/s eta 0:00:19\n",
      "   ------------ --------------------------- 62.2/197.8 MB 7.4 MB/s eta 0:00:19\n",
      "   ------------ --------------------------- 62.5/197.8 MB 7.4 MB/s eta 0:00:19\n",
      "   ------------ --------------------------- 62.8/197.8 MB 7.5 MB/s eta 0:00:18\n",
      "   ------------ --------------------------- 63.1/197.8 MB 7.4 MB/s eta 0:00:19\n",
      "   ------------ --------------------------- 63.4/197.8 MB 7.4 MB/s eta 0:00:19\n",
      "   ------------ --------------------------- 63.7/197.8 MB 7.4 MB/s eta 0:00:19\n",
      "   ------------ --------------------------- 64.0/197.8 MB 7.4 MB/s eta 0:00:18\n",
      "   ------------ --------------------------- 64.2/197.8 MB 7.4 MB/s eta 0:00:18\n",
      "   ------------- -------------------------- 64.5/197.8 MB 7.3 MB/s eta 0:00:19\n",
      "   ------------- -------------------------- 64.9/197.8 MB 7.4 MB/s eta 0:00:19\n",
      "   ------------- -------------------------- 65.2/197.8 MB 7.4 MB/s eta 0:00:19\n",
      "   ------------- -------------------------- 65.6/197.8 MB 7.4 MB/s eta 0:00:18\n",
      "   ------------- -------------------------- 65.9/197.8 MB 7.4 MB/s eta 0:00:18\n",
      "   ------------- -------------------------- 66.3/197.8 MB 7.4 MB/s eta 0:00:18\n",
      "   ------------- -------------------------- 66.6/197.8 MB 7.4 MB/s eta 0:00:18\n",
      "   ------------- -------------------------- 66.9/197.8 MB 7.4 MB/s eta 0:00:18\n",
      "   ------------- -------------------------- 67.2/197.8 MB 7.4 MB/s eta 0:00:18\n",
      "   ------------- -------------------------- 67.6/197.8 MB 7.4 MB/s eta 0:00:18\n",
      "   ------------- -------------------------- 67.9/197.8 MB 7.4 MB/s eta 0:00:18\n",
      "   ------------- -------------------------- 68.3/197.8 MB 7.4 MB/s eta 0:00:18\n",
      "   ------------- -------------------------- 68.6/197.8 MB 7.4 MB/s eta 0:00:18\n",
      "   ------------- -------------------------- 69.0/197.8 MB 7.4 MB/s eta 0:00:18\n",
      "   -------------- ------------------------- 69.3/197.8 MB 7.4 MB/s eta 0:00:18\n",
      "   -------------- ------------------------- 69.5/197.8 MB 7.4 MB/s eta 0:00:18\n",
      "   -------------- ------------------------- 69.8/197.8 MB 7.4 MB/s eta 0:00:18\n",
      "   -------------- ------------------------- 70.1/197.8 MB 7.3 MB/s eta 0:00:18\n",
      "   -------------- ------------------------- 70.4/197.8 MB 7.3 MB/s eta 0:00:18\n",
      "   -------------- ------------------------- 70.7/197.8 MB 7.3 MB/s eta 0:00:18\n",
      "   -------------- ------------------------- 71.0/197.8 MB 7.3 MB/s eta 0:00:18\n",
      "   -------------- ------------------------- 71.0/197.8 MB 7.3 MB/s eta 0:00:18\n",
      "   -------------- ------------------------- 71.0/197.8 MB 7.3 MB/s eta 0:00:18\n",
      "   -------------- ------------------------- 71.0/197.8 MB 7.3 MB/s eta 0:00:18\n",
      "   -------------- ------------------------- 72.1/197.8 MB 7.0 MB/s eta 0:00:19\n",
      "   -------------- ------------------------- 72.1/197.8 MB 6.8 MB/s eta 0:00:19\n",
      "   -------------- ------------------------- 72.3/197.8 MB 6.8 MB/s eta 0:00:19\n",
      "   -------------- ------------------------- 72.6/197.8 MB 6.7 MB/s eta 0:00:19\n",
      "   -------------- ------------------------- 72.9/197.8 MB 6.7 MB/s eta 0:00:19\n",
      "   -------------- ------------------------- 73.2/197.8 MB 6.7 MB/s eta 0:00:19\n",
      "   -------------- ------------------------- 73.5/197.8 MB 6.7 MB/s eta 0:00:19\n",
      "   -------------- ------------------------- 73.8/197.8 MB 6.7 MB/s eta 0:00:19\n",
      "   -------------- ------------------------- 74.0/197.8 MB 6.7 MB/s eta 0:00:19\n",
      "   --------------- ------------------------ 74.2/197.8 MB 6.5 MB/s eta 0:00:19\n",
      "   --------------- ------------------------ 74.5/197.8 MB 6.5 MB/s eta 0:00:19\n",
      "   --------------- ------------------------ 74.7/197.8 MB 6.5 MB/s eta 0:00:19\n",
      "   --------------- ------------------------ 75.0/197.8 MB 6.6 MB/s eta 0:00:19\n",
      "   --------------- ------------------------ 75.3/197.8 MB 6.5 MB/s eta 0:00:19\n",
      "   --------------- ------------------------ 75.6/197.8 MB 6.5 MB/s eta 0:00:19\n",
      "   --------------- ------------------------ 75.8/197.8 MB 6.5 MB/s eta 0:00:19\n",
      "   --------------- ------------------------ 76.0/197.8 MB 6.5 MB/s eta 0:00:19\n",
      "   --------------- ------------------------ 76.3/197.8 MB 6.4 MB/s eta 0:00:19\n",
      "   --------------- ------------------------ 76.5/197.8 MB 6.3 MB/s eta 0:00:20\n",
      "   --------------- ------------------------ 76.8/197.8 MB 6.4 MB/s eta 0:00:20\n",
      "   --------------- ------------------------ 77.1/197.8 MB 6.4 MB/s eta 0:00:19\n",
      "   --------------- ------------------------ 77.5/197.8 MB 6.4 MB/s eta 0:00:19\n",
      "   --------------- ------------------------ 77.7/197.8 MB 6.4 MB/s eta 0:00:19\n",
      "   --------------- ------------------------ 78.1/197.8 MB 6.3 MB/s eta 0:00:20\n",
      "   --------------- ------------------------ 78.3/197.8 MB 6.4 MB/s eta 0:00:19\n",
      "   --------------- ------------------------ 78.7/197.8 MB 6.3 MB/s eta 0:00:19\n",
      "   --------------- ------------------------ 78.9/197.8 MB 6.2 MB/s eta 0:00:20\n",
      "   ---------------- ----------------------- 79.1/197.8 MB 6.2 MB/s eta 0:00:20\n",
      "   ---------------- ----------------------- 79.4/197.8 MB 6.2 MB/s eta 0:00:19\n",
      "   ---------------- ----------------------- 79.7/197.8 MB 6.2 MB/s eta 0:00:20\n",
      "   ---------------- ----------------------- 80.0/197.8 MB 6.2 MB/s eta 0:00:20\n",
      "   ---------------- ----------------------- 80.3/197.8 MB 6.3 MB/s eta 0:00:19\n",
      "   ---------------- ----------------------- 80.5/197.8 MB 6.2 MB/s eta 0:00:19\n",
      "   ---------------- ----------------------- 80.7/197.8 MB 6.2 MB/s eta 0:00:19\n",
      "   ---------------- ----------------------- 81.0/197.8 MB 6.1 MB/s eta 0:00:20\n",
      "   ---------------- ----------------------- 81.3/197.8 MB 6.8 MB/s eta 0:00:18\n",
      "   ---------------- ----------------------- 81.6/197.8 MB 6.6 MB/s eta 0:00:18\n",
      "   ---------------- ----------------------- 81.9/197.8 MB 6.5 MB/s eta 0:00:18\n",
      "   ---------------- ----------------------- 82.2/197.8 MB 6.4 MB/s eta 0:00:19\n",
      "   ---------------- ----------------------- 82.4/197.8 MB 6.5 MB/s eta 0:00:18\n",
      "   ---------------- ----------------------- 82.8/197.8 MB 6.5 MB/s eta 0:00:18\n",
      "   ---------------- ----------------------- 83.2/197.8 MB 6.5 MB/s eta 0:00:18\n",
      "   ---------------- ----------------------- 83.5/197.8 MB 6.5 MB/s eta 0:00:18\n",
      "   ---------------- ----------------------- 83.9/197.8 MB 6.6 MB/s eta 0:00:18\n",
      "   ----------------- ---------------------- 84.2/197.8 MB 6.7 MB/s eta 0:00:18\n",
      "   ----------------- ---------------------- 84.6/197.8 MB 6.8 MB/s eta 0:00:17\n",
      "   ----------------- ---------------------- 84.9/197.8 MB 6.8 MB/s eta 0:00:17\n",
      "   ----------------- ---------------------- 85.2/197.8 MB 6.8 MB/s eta 0:00:17\n",
      "   ----------------- ---------------------- 85.4/197.8 MB 6.8 MB/s eta 0:00:17\n",
      "   ----------------- ---------------------- 85.7/197.8 MB 6.7 MB/s eta 0:00:17\n",
      "   ----------------- ---------------------- 85.9/197.8 MB 6.7 MB/s eta 0:00:17\n",
      "   ----------------- ---------------------- 86.2/197.8 MB 6.7 MB/s eta 0:00:17\n",
      "   ----------------- ---------------------- 86.6/197.8 MB 6.8 MB/s eta 0:00:17\n",
      "   ----------------- ---------------------- 86.9/197.8 MB 6.9 MB/s eta 0:00:17\n",
      "   ----------------- ---------------------- 87.2/197.8 MB 6.9 MB/s eta 0:00:17\n",
      "   ----------------- ---------------------- 87.5/197.8 MB 7.0 MB/s eta 0:00:16\n",
      "   ----------------- ---------------------- 87.8/197.8 MB 7.0 MB/s eta 0:00:16\n",
      "   ----------------- ---------------------- 88.1/197.8 MB 7.0 MB/s eta 0:00:16\n",
      "   ----------------- ---------------------- 88.3/197.8 MB 6.9 MB/s eta 0:00:16\n",
      "   ----------------- ---------------------- 88.6/197.8 MB 6.9 MB/s eta 0:00:16\n",
      "   ------------------ --------------------- 89.0/197.8 MB 7.0 MB/s eta 0:00:16\n",
      "   ------------------ --------------------- 89.3/197.8 MB 7.0 MB/s eta 0:00:16\n",
      "   ------------------ --------------------- 89.7/197.8 MB 7.1 MB/s eta 0:00:16\n",
      "   ------------------ --------------------- 90.1/197.8 MB 7.1 MB/s eta 0:00:16\n",
      "   ------------------ --------------------- 90.3/197.8 MB 7.1 MB/s eta 0:00:16\n",
      "   ------------------ --------------------- 90.6/197.8 MB 7.1 MB/s eta 0:00:16\n",
      "   ------------------ --------------------- 90.8/197.8 MB 7.1 MB/s eta 0:00:16\n",
      "   ------------------ --------------------- 91.1/197.8 MB 7.2 MB/s eta 0:00:15\n",
      "   ------------------ --------------------- 91.5/197.8 MB 7.3 MB/s eta 0:00:15\n",
      "   ------------------ --------------------- 91.9/197.8 MB 7.3 MB/s eta 0:00:15\n",
      "   ------------------ --------------------- 92.3/197.8 MB 7.3 MB/s eta 0:00:15\n",
      "   ------------------ --------------------- 92.5/197.8 MB 7.4 MB/s eta 0:00:15\n",
      "   ------------------ --------------------- 92.9/197.8 MB 7.4 MB/s eta 0:00:15\n",
      "   ------------------ --------------------- 93.2/197.8 MB 7.4 MB/s eta 0:00:15\n",
      "   ------------------ --------------------- 93.5/197.8 MB 7.3 MB/s eta 0:00:15\n",
      "   ------------------ --------------------- 93.6/197.8 MB 7.3 MB/s eta 0:00:15\n",
      "   ------------------ --------------------- 93.9/197.8 MB 7.1 MB/s eta 0:00:15\n",
      "   ------------------- -------------------- 94.2/197.8 MB 7.1 MB/s eta 0:00:15\n",
      "   ------------------- -------------------- 94.5/197.8 MB 7.1 MB/s eta 0:00:15\n",
      "   ------------------- -------------------- 94.8/197.8 MB 7.1 MB/s eta 0:00:15\n",
      "   ------------------- -------------------- 95.2/197.8 MB 7.2 MB/s eta 0:00:15\n",
      "   ------------------- -------------------- 95.5/197.8 MB 7.1 MB/s eta 0:00:15\n",
      "   ------------------- -------------------- 95.8/197.8 MB 7.2 MB/s eta 0:00:15\n",
      "   ------------------- -------------------- 96.0/197.8 MB 7.2 MB/s eta 0:00:15\n",
      "   ------------------- -------------------- 96.3/197.8 MB 7.2 MB/s eta 0:00:15\n",
      "   ------------------- -------------------- 96.6/197.8 MB 7.2 MB/s eta 0:00:15\n",
      "   ------------------- -------------------- 96.9/197.8 MB 7.3 MB/s eta 0:00:14\n",
      "   ------------------- -------------------- 97.3/197.8 MB 7.2 MB/s eta 0:00:14\n",
      "   ------------------- -------------------- 97.6/197.8 MB 7.2 MB/s eta 0:00:14\n",
      "   ------------------- -------------------- 98.0/197.8 MB 7.2 MB/s eta 0:00:14\n",
      "   ------------------- -------------------- 98.3/197.8 MB 7.3 MB/s eta 0:00:14\n",
      "   ------------------- -------------------- 98.6/197.8 MB 7.2 MB/s eta 0:00:14\n",
      "   -------------------- ------------------- 99.0/197.8 MB 7.2 MB/s eta 0:00:14\n",
      "   -------------------- ------------------- 99.3/197.8 MB 7.2 MB/s eta 0:00:14\n",
      "   -------------------- ------------------- 99.6/197.8 MB 7.3 MB/s eta 0:00:14\n",
      "   -------------------- ------------------- 99.9/197.8 MB 7.2 MB/s eta 0:00:14\n",
      "   -------------------- ------------------- 100.3/197.8 MB 7.2 MB/s eta 0:00:14\n",
      "   -------------------- ------------------- 100.7/197.8 MB 7.2 MB/s eta 0:00:14\n",
      "   -------------------- ------------------- 101.0/197.8 MB 7.4 MB/s eta 0:00:14\n",
      "   -------------------- ------------------- 101.3/197.8 MB 7.4 MB/s eta 0:00:14\n",
      "   -------------------- ------------------- 101.6/197.8 MB 7.3 MB/s eta 0:00:14\n",
      "   -------------------- ------------------- 101.9/197.8 MB 7.4 MB/s eta 0:00:14\n",
      "   -------------------- ------------------- 102.3/197.8 MB 7.4 MB/s eta 0:00:13\n",
      "   -------------------- ------------------- 102.6/197.8 MB 7.4 MB/s eta 0:00:13\n",
      "   -------------------- ------------------- 103.0/197.8 MB 7.4 MB/s eta 0:00:13\n",
      "   -------------------- ------------------- 103.3/197.8 MB 7.4 MB/s eta 0:00:13\n",
      "   -------------------- ------------------- 103.7/197.8 MB 7.4 MB/s eta 0:00:13\n",
      "   --------------------- ------------------ 104.0/197.8 MB 7.5 MB/s eta 0:00:13\n",
      "   --------------------- ------------------ 104.4/197.8 MB 7.5 MB/s eta 0:00:13\n",
      "   --------------------- ------------------ 104.6/197.8 MB 7.4 MB/s eta 0:00:13\n",
      "   --------------------- ------------------ 104.9/197.8 MB 7.4 MB/s eta 0:00:13\n",
      "   --------------------- ------------------ 105.3/197.8 MB 7.4 MB/s eta 0:00:13\n",
      "   --------------------- ------------------ 105.7/197.8 MB 7.5 MB/s eta 0:00:13\n",
      "   --------------------- ------------------ 106.1/197.8 MB 7.6 MB/s eta 0:00:13\n",
      "   --------------------- ------------------ 106.4/197.8 MB 7.6 MB/s eta 0:00:13\n",
      "   --------------------- ------------------ 106.7/197.8 MB 7.5 MB/s eta 0:00:13\n",
      "   --------------------- ------------------ 107.0/197.8 MB 7.5 MB/s eta 0:00:13\n",
      "   --------------------- ------------------ 107.4/197.8 MB 7.5 MB/s eta 0:00:13\n",
      "   --------------------- ------------------ 107.8/197.8 MB 7.5 MB/s eta 0:00:12\n",
      "   --------------------- ------------------ 108.1/197.8 MB 7.5 MB/s eta 0:00:12\n",
      "   --------------------- ------------------ 108.4/197.8 MB 7.4 MB/s eta 0:00:13\n",
      "   --------------------- ------------------ 108.8/197.8 MB 7.5 MB/s eta 0:00:12\n",
      "   ---------------------- ----------------- 109.0/197.8 MB 7.4 MB/s eta 0:00:12\n",
      "   ---------------------- ----------------- 109.3/197.8 MB 7.5 MB/s eta 0:00:12\n",
      "   ---------------------- ----------------- 109.6/197.8 MB 7.4 MB/s eta 0:00:12\n",
      "   ---------------------- ----------------- 109.9/197.8 MB 7.5 MB/s eta 0:00:12\n",
      "   ---------------------- ----------------- 110.3/197.8 MB 7.5 MB/s eta 0:00:12\n",
      "   ---------------------- ----------------- 110.6/197.8 MB 7.4 MB/s eta 0:00:12\n",
      "   ---------------------- ----------------- 110.9/197.8 MB 7.5 MB/s eta 0:00:12\n",
      "   ---------------------- ----------------- 111.3/197.8 MB 7.5 MB/s eta 0:00:12\n",
      "   ---------------------- ----------------- 111.7/197.8 MB 7.5 MB/s eta 0:00:12\n",
      "   ---------------------- ----------------- 111.9/197.8 MB 7.4 MB/s eta 0:00:12\n",
      "   ---------------------- ----------------- 112.3/197.8 MB 7.5 MB/s eta 0:00:12\n",
      "   ---------------------- ----------------- 112.6/197.8 MB 7.5 MB/s eta 0:00:12\n",
      "   ---------------------- ----------------- 112.9/197.8 MB 7.5 MB/s eta 0:00:12\n",
      "   ---------------------- ----------------- 113.2/197.8 MB 7.5 MB/s eta 0:00:12\n",
      "   ---------------------- ----------------- 113.6/197.8 MB 7.5 MB/s eta 0:00:12\n",
      "   ----------------------- ---------------- 114.0/197.8 MB 7.5 MB/s eta 0:00:12\n",
      "   ----------------------- ---------------- 114.3/197.8 MB 7.4 MB/s eta 0:00:12\n",
      "   ----------------------- ---------------- 114.6/197.8 MB 7.5 MB/s eta 0:00:12\n",
      "   ----------------------- ---------------- 114.9/197.8 MB 7.6 MB/s eta 0:00:11\n",
      "   ----------------------- ---------------- 115.2/197.8 MB 7.5 MB/s eta 0:00:11\n",
      "   ----------------------- ---------------- 115.5/197.8 MB 7.5 MB/s eta 0:00:11\n",
      "   ----------------------- ---------------- 115.8/197.8 MB 7.5 MB/s eta 0:00:11\n",
      "   ----------------------- ---------------- 116.2/197.8 MB 7.4 MB/s eta 0:00:11\n",
      "   ----------------------- ---------------- 116.5/197.8 MB 7.6 MB/s eta 0:00:11\n",
      "   ----------------------- ---------------- 116.8/197.8 MB 7.6 MB/s eta 0:00:11\n",
      "   ----------------------- ---------------- 117.2/197.8 MB 7.6 MB/s eta 0:00:11\n",
      "   ----------------------- ---------------- 117.6/197.8 MB 7.7 MB/s eta 0:00:11\n",
      "   ----------------------- ---------------- 117.9/197.8 MB 7.5 MB/s eta 0:00:11\n",
      "   ----------------------- ---------------- 118.2/197.8 MB 7.6 MB/s eta 0:00:11\n",
      "   ----------------------- ---------------- 118.6/197.8 MB 7.5 MB/s eta 0:00:11\n",
      "   ------------------------ --------------- 118.9/197.8 MB 7.6 MB/s eta 0:00:11\n",
      "   ------------------------ --------------- 119.3/197.8 MB 7.6 MB/s eta 0:00:11\n",
      "   ------------------------ --------------- 119.7/197.8 MB 7.6 MB/s eta 0:00:11\n",
      "   ------------------------ --------------- 120.1/197.8 MB 7.6 MB/s eta 0:00:11\n",
      "   ------------------------ --------------- 120.4/197.8 MB 7.6 MB/s eta 0:00:11\n",
      "   ------------------------ --------------- 120.7/197.8 MB 7.6 MB/s eta 0:00:11\n",
      "   ------------------------ --------------- 121.0/197.8 MB 7.6 MB/s eta 0:00:11\n",
      "   ------------------------ --------------- 121.4/197.8 MB 7.6 MB/s eta 0:00:11\n",
      "   ------------------------ --------------- 121.8/197.8 MB 7.6 MB/s eta 0:00:10\n",
      "   ------------------------ --------------- 122.2/197.8 MB 7.7 MB/s eta 0:00:10\n",
      "   ------------------------ --------------- 122.5/197.8 MB 7.6 MB/s eta 0:00:10\n",
      "   ------------------------ --------------- 122.9/197.8 MB 7.7 MB/s eta 0:00:10\n",
      "   ------------------------ --------------- 123.3/197.8 MB 7.7 MB/s eta 0:00:10\n",
      "   ------------------------- -------------- 123.7/197.8 MB 7.7 MB/s eta 0:00:10\n",
      "   ------------------------- -------------- 124.0/197.8 MB 7.7 MB/s eta 0:00:10\n",
      "   ------------------------- -------------- 124.4/197.8 MB 7.7 MB/s eta 0:00:10\n",
      "   ------------------------- -------------- 124.7/197.8 MB 7.7 MB/s eta 0:00:10\n",
      "   ------------------------- -------------- 125.2/197.8 MB 7.7 MB/s eta 0:00:10\n",
      "   ------------------------- -------------- 125.5/197.8 MB 7.8 MB/s eta 0:00:10\n",
      "   ------------------------- -------------- 125.9/197.8 MB 7.8 MB/s eta 0:00:10\n",
      "   ------------------------- -------------- 126.2/197.8 MB 7.7 MB/s eta 0:00:10\n",
      "   ------------------------- -------------- 126.5/197.8 MB 7.7 MB/s eta 0:00:10\n",
      "   ------------------------- -------------- 126.9/197.8 MB 7.7 MB/s eta 0:00:10\n",
      "   ------------------------- -------------- 127.3/197.8 MB 7.7 MB/s eta 0:00:10\n",
      "   ------------------------- -------------- 127.6/197.8 MB 7.8 MB/s eta 0:00:10\n",
      "   ------------------------- -------------- 127.9/197.8 MB 7.8 MB/s eta 0:00:09\n",
      "   ------------------------- -------------- 128.3/197.8 MB 7.8 MB/s eta 0:00:09\n",
      "   -------------------------- ------------- 128.7/197.8 MB 7.7 MB/s eta 0:00:09\n",
      "   -------------------------- ------------- 128.9/197.8 MB 7.7 MB/s eta 0:00:09\n",
      "   -------------------------- ------------- 129.3/197.8 MB 7.8 MB/s eta 0:00:09\n",
      "   -------------------------- ------------- 129.6/197.8 MB 7.7 MB/s eta 0:00:09\n",
      "   -------------------------- ------------- 130.0/197.8 MB 7.8 MB/s eta 0:00:09\n",
      "   -------------------------- ------------- 130.4/197.8 MB 7.8 MB/s eta 0:00:09\n",
      "   -------------------------- ------------- 130.6/197.8 MB 7.7 MB/s eta 0:00:09\n",
      "   -------------------------- ------------- 131.0/197.8 MB 7.8 MB/s eta 0:00:09\n",
      "   -------------------------- ------------- 131.3/197.8 MB 7.7 MB/s eta 0:00:09\n",
      "   -------------------------- ------------- 131.7/197.8 MB 7.7 MB/s eta 0:00:09\n",
      "   -------------------------- ------------- 132.1/197.8 MB 7.7 MB/s eta 0:00:09\n",
      "   -------------------------- ------------- 132.5/197.8 MB 7.7 MB/s eta 0:00:09\n",
      "   -------------------------- ------------- 132.8/197.8 MB 7.8 MB/s eta 0:00:09\n",
      "   -------------------------- ------------- 133.1/197.8 MB 7.7 MB/s eta 0:00:09\n",
      "   --------------------------- ------------ 133.6/197.8 MB 7.6 MB/s eta 0:00:09\n",
      "   --------------------------- ------------ 134.0/197.8 MB 7.7 MB/s eta 0:00:09\n",
      "   --------------------------- ------------ 134.3/197.8 MB 7.7 MB/s eta 0:00:09\n",
      "   --------------------------- ------------ 134.6/197.8 MB 7.7 MB/s eta 0:00:09\n",
      "   --------------------------- ------------ 134.9/197.8 MB 7.6 MB/s eta 0:00:09\n",
      "   --------------------------- ------------ 135.3/197.8 MB 7.7 MB/s eta 0:00:09\n",
      "   --------------------------- ------------ 135.6/197.8 MB 7.7 MB/s eta 0:00:09\n",
      "   --------------------------- ------------ 136.0/197.8 MB 7.7 MB/s eta 0:00:09\n",
      "   --------------------------- ------------ 136.3/197.8 MB 7.7 MB/s eta 0:00:08\n",
      "   --------------------------- ------------ 136.7/197.8 MB 7.8 MB/s eta 0:00:08\n",
      "   --------------------------- ------------ 137.1/197.8 MB 7.8 MB/s eta 0:00:08\n",
      "   --------------------------- ------------ 137.5/197.8 MB 7.7 MB/s eta 0:00:08\n",
      "   --------------------------- ------------ 137.9/197.8 MB 7.8 MB/s eta 0:00:08\n",
      "   --------------------------- ------------ 138.3/197.8 MB 7.7 MB/s eta 0:00:08\n",
      "   ---------------------------- ----------- 138.6/197.8 MB 7.7 MB/s eta 0:00:08\n",
      "   ---------------------------- ----------- 139.0/197.8 MB 7.7 MB/s eta 0:00:08\n",
      "   ---------------------------- ----------- 139.4/197.8 MB 7.8 MB/s eta 0:00:08\n",
      "   ---------------------------- ----------- 139.7/197.8 MB 7.8 MB/s eta 0:00:08\n",
      "   ---------------------------- ----------- 140.0/197.8 MB 7.7 MB/s eta 0:00:08\n",
      "   ---------------------------- ----------- 140.4/197.8 MB 7.7 MB/s eta 0:00:08\n",
      "   ---------------------------- ----------- 140.7/197.8 MB 7.7 MB/s eta 0:00:08\n",
      "   ---------------------------- ----------- 141.1/197.8 MB 7.7 MB/s eta 0:00:08\n",
      "   ---------------------------- ----------- 141.5/197.8 MB 7.7 MB/s eta 0:00:08\n",
      "   ---------------------------- ----------- 141.9/197.8 MB 7.8 MB/s eta 0:00:08\n",
      "   ---------------------------- ----------- 142.2/197.8 MB 7.8 MB/s eta 0:00:08\n",
      "   ---------------------------- ----------- 142.6/197.8 MB 7.9 MB/s eta 0:00:07\n",
      "   ---------------------------- ----------- 142.9/197.8 MB 7.8 MB/s eta 0:00:08\n",
      "   ---------------------------- ----------- 143.2/197.8 MB 7.8 MB/s eta 0:00:08\n",
      "   ----------------------------- ---------- 143.6/197.8 MB 7.8 MB/s eta 0:00:07\n",
      "   ----------------------------- ---------- 143.9/197.8 MB 7.8 MB/s eta 0:00:07\n",
      "   ----------------------------- ---------- 144.2/197.8 MB 7.8 MB/s eta 0:00:07\n",
      "   ----------------------------- ---------- 144.6/197.8 MB 7.8 MB/s eta 0:00:07\n",
      "   ----------------------------- ---------- 145.0/197.8 MB 7.7 MB/s eta 0:00:07\n",
      "   ----------------------------- ---------- 145.5/197.8 MB 7.9 MB/s eta 0:00:07\n",
      "   ----------------------------- ---------- 145.8/197.8 MB 7.8 MB/s eta 0:00:07\n",
      "   ----------------------------- ---------- 146.1/197.8 MB 7.8 MB/s eta 0:00:07\n",
      "   ----------------------------- ---------- 146.4/197.8 MB 7.8 MB/s eta 0:00:07\n",
      "   ----------------------------- ---------- 146.7/197.8 MB 7.8 MB/s eta 0:00:07\n",
      "   ----------------------------- ---------- 147.1/197.8 MB 7.8 MB/s eta 0:00:07\n",
      "   ----------------------------- ---------- 147.4/197.8 MB 7.8 MB/s eta 0:00:07\n",
      "   ----------------------------- ---------- 147.7/197.8 MB 7.7 MB/s eta 0:00:07\n",
      "   ----------------------------- ---------- 148.0/197.8 MB 7.8 MB/s eta 0:00:07\n",
      "   ----------------------------- ---------- 148.3/197.8 MB 7.7 MB/s eta 0:00:07\n",
      "   ------------------------------ --------- 148.6/197.8 MB 7.7 MB/s eta 0:00:07\n",
      "   ------------------------------ --------- 149.0/197.8 MB 7.8 MB/s eta 0:00:07\n",
      "   ------------------------------ --------- 149.4/197.8 MB 7.8 MB/s eta 0:00:07\n",
      "   ------------------------------ --------- 149.6/197.8 MB 7.7 MB/s eta 0:00:07\n",
      "   ------------------------------ --------- 149.9/197.8 MB 7.7 MB/s eta 0:00:07\n",
      "   ------------------------------ --------- 150.4/197.8 MB 7.7 MB/s eta 0:00:07\n",
      "   ------------------------------ --------- 150.7/197.8 MB 7.7 MB/s eta 0:00:07\n",
      "   ------------------------------ --------- 151.1/197.8 MB 7.7 MB/s eta 0:00:07\n",
      "   ------------------------------ --------- 151.4/197.8 MB 7.7 MB/s eta 0:00:07\n",
      "   ------------------------------ --------- 151.7/197.8 MB 7.6 MB/s eta 0:00:07\n",
      "   ------------------------------ --------- 152.1/197.8 MB 7.6 MB/s eta 0:00:07\n",
      "   ------------------------------ --------- 152.4/197.8 MB 7.6 MB/s eta 0:00:06\n",
      "   ------------------------------ --------- 152.8/197.8 MB 7.5 MB/s eta 0:00:06\n",
      "   ------------------------------ --------- 153.2/197.8 MB 7.6 MB/s eta 0:00:06\n",
      "   ------------------------------- -------- 153.5/197.8 MB 7.5 MB/s eta 0:00:06\n",
      "   ------------------------------- -------- 153.9/197.8 MB 7.5 MB/s eta 0:00:06\n",
      "   ------------------------------- -------- 154.2/197.8 MB 7.5 MB/s eta 0:00:06\n",
      "   ------------------------------- -------- 154.5/197.8 MB 7.5 MB/s eta 0:00:06\n",
      "   ------------------------------- -------- 154.8/197.8 MB 7.5 MB/s eta 0:00:06\n",
      "   ------------------------------- -------- 155.1/197.8 MB 7.4 MB/s eta 0:00:06\n",
      "   ------------------------------- -------- 155.5/197.8 MB 7.4 MB/s eta 0:00:06\n",
      "   ------------------------------- -------- 155.8/197.8 MB 7.4 MB/s eta 0:00:06\n",
      "   ------------------------------- -------- 156.0/197.8 MB 7.2 MB/s eta 0:00:06\n",
      "   ------------------------------- -------- 156.4/197.8 MB 7.2 MB/s eta 0:00:06\n",
      "   ------------------------------- -------- 156.6/197.8 MB 7.1 MB/s eta 0:00:06\n",
      "   ------------------------------- -------- 156.8/197.8 MB 7.0 MB/s eta 0:00:06\n",
      "   ------------------------------- -------- 157.0/197.8 MB 7.0 MB/s eta 0:00:06\n",
      "   ------------------------------- -------- 157.4/197.8 MB 6.9 MB/s eta 0:00:06\n",
      "   ------------------------------- -------- 157.6/197.8 MB 6.9 MB/s eta 0:00:06\n",
      "   ------------------------------- -------- 157.9/197.8 MB 6.8 MB/s eta 0:00:06\n",
      "   ------------------------------- -------- 158.2/197.8 MB 6.7 MB/s eta 0:00:06\n",
      "   -------------------------------- ------- 158.4/197.8 MB 6.7 MB/s eta 0:00:06\n",
      "   -------------------------------- ------- 158.8/197.8 MB 6.7 MB/s eta 0:00:06\n",
      "   -------------------------------- ------- 159.1/197.8 MB 6.8 MB/s eta 0:00:06\n",
      "   -------------------------------- ------- 159.5/197.8 MB 6.8 MB/s eta 0:00:06\n",
      "   -------------------------------- ------- 159.9/197.8 MB 6.7 MB/s eta 0:00:06\n",
      "   -------------------------------- ------- 160.2/197.8 MB 6.7 MB/s eta 0:00:06\n",
      "   -------------------------------- ------- 160.5/197.8 MB 6.6 MB/s eta 0:00:06\n",
      "   -------------------------------- ------- 160.9/197.8 MB 6.7 MB/s eta 0:00:06\n",
      "   -------------------------------- ------- 161.2/197.8 MB 6.7 MB/s eta 0:00:06\n",
      "   -------------------------------- ------- 161.6/197.8 MB 6.8 MB/s eta 0:00:06\n",
      "   -------------------------------- ------- 162.0/197.8 MB 6.8 MB/s eta 0:00:06\n",
      "   -------------------------------- ------- 162.4/197.8 MB 6.8 MB/s eta 0:00:06\n",
      "   -------------------------------- ------- 162.8/197.8 MB 6.8 MB/s eta 0:00:06\n",
      "   -------------------------------- ------- 163.0/197.8 MB 6.7 MB/s eta 0:00:06\n",
      "   --------------------------------- ------ 163.4/197.8 MB 6.7 MB/s eta 0:00:06\n",
      "   --------------------------------- ------ 163.8/197.8 MB 6.7 MB/s eta 0:00:06\n",
      "   --------------------------------- ------ 164.1/197.8 MB 6.7 MB/s eta 0:00:06\n",
      "   --------------------------------- ------ 164.5/197.8 MB 6.7 MB/s eta 0:00:05\n",
      "   --------------------------------- ------ 164.9/197.8 MB 6.7 MB/s eta 0:00:05\n",
      "   --------------------------------- ------ 165.3/197.8 MB 6.8 MB/s eta 0:00:05\n",
      "   --------------------------------- ------ 165.6/197.8 MB 6.9 MB/s eta 0:00:05\n",
      "   --------------------------------- ------ 166.0/197.8 MB 6.9 MB/s eta 0:00:05\n",
      "   --------------------------------- ------ 166.4/197.8 MB 7.0 MB/s eta 0:00:05\n",
      "   --------------------------------- ------ 166.8/197.8 MB 7.0 MB/s eta 0:00:05\n",
      "   --------------------------------- ------ 167.1/197.8 MB 7.3 MB/s eta 0:00:05\n",
      "   --------------------------------- ------ 167.5/197.8 MB 7.4 MB/s eta 0:00:05\n",
      "   --------------------------------- ------ 167.9/197.8 MB 7.4 MB/s eta 0:00:05\n",
      "   ---------------------------------- ----- 168.2/197.8 MB 7.4 MB/s eta 0:00:04\n",
      "   ---------------------------------- ----- 168.6/197.8 MB 7.7 MB/s eta 0:00:04\n",
      "   ---------------------------------- ----- 169.0/197.8 MB 7.7 MB/s eta 0:00:04\n",
      "   ---------------------------------- ----- 169.3/197.8 MB 7.7 MB/s eta 0:00:04\n",
      "   ---------------------------------- ----- 169.7/197.8 MB 7.6 MB/s eta 0:00:04\n",
      "   ---------------------------------- ----- 170.0/197.8 MB 7.7 MB/s eta 0:00:04\n",
      "   ---------------------------------- ----- 170.4/197.8 MB 7.6 MB/s eta 0:00:04\n",
      "   ---------------------------------- ----- 170.7/197.8 MB 7.7 MB/s eta 0:00:04\n",
      "   ---------------------------------- ----- 171.1/197.8 MB 7.6 MB/s eta 0:00:04\n",
      "   ---------------------------------- ----- 171.5/197.8 MB 7.6 MB/s eta 0:00:04\n",
      "   ---------------------------------- ----- 171.8/197.8 MB 7.6 MB/s eta 0:00:04\n",
      "   ---------------------------------- ----- 172.2/197.8 MB 7.6 MB/s eta 0:00:04\n",
      "   ---------------------------------- ----- 172.6/197.8 MB 7.6 MB/s eta 0:00:04\n",
      "   ---------------------------------- ----- 173.0/197.8 MB 7.6 MB/s eta 0:00:04\n",
      "   ----------------------------------- ---- 173.4/197.8 MB 7.8 MB/s eta 0:00:04\n",
      "   ----------------------------------- ---- 173.8/197.8 MB 7.7 MB/s eta 0:00:04\n",
      "   ----------------------------------- ---- 174.1/197.8 MB 7.7 MB/s eta 0:00:04\n",
      "   ----------------------------------- ---- 174.5/197.8 MB 7.8 MB/s eta 0:00:03\n",
      "   ----------------------------------- ---- 174.9/197.8 MB 7.8 MB/s eta 0:00:03\n",
      "   ----------------------------------- ---- 175.3/197.8 MB 7.8 MB/s eta 0:00:03\n",
      "   ----------------------------------- ---- 175.7/197.8 MB 7.8 MB/s eta 0:00:03\n",
      "   ----------------------------------- ---- 176.0/197.8 MB 7.7 MB/s eta 0:00:03\n",
      "   ----------------------------------- ---- 176.4/197.8 MB 7.6 MB/s eta 0:00:03\n",
      "   ----------------------------------- ---- 176.7/197.8 MB 7.7 MB/s eta 0:00:03\n",
      "   ----------------------------------- ---- 177.1/197.8 MB 7.6 MB/s eta 0:00:03\n",
      "   ----------------------------------- ---- 177.4/197.8 MB 7.7 MB/s eta 0:00:03\n",
      "   ----------------------------------- ---- 177.8/197.8 MB 7.6 MB/s eta 0:00:03\n",
      "   ------------------------------------ --- 178.2/197.8 MB 7.6 MB/s eta 0:00:03\n",
      "   ------------------------------------ --- 178.5/197.8 MB 7.6 MB/s eta 0:00:03\n",
      "   ------------------------------------ --- 178.9/197.8 MB 7.6 MB/s eta 0:00:03\n",
      "   ------------------------------------ --- 179.3/197.8 MB 7.6 MB/s eta 0:00:03\n",
      "   ------------------------------------ --- 179.6/197.8 MB 7.6 MB/s eta 0:00:03\n",
      "   ------------------------------------ --- 179.9/197.8 MB 7.6 MB/s eta 0:00:03\n",
      "   ------------------------------------ --- 180.3/197.8 MB 7.6 MB/s eta 0:00:03\n",
      "   ------------------------------------ --- 180.6/197.8 MB 7.6 MB/s eta 0:00:03\n",
      "   ------------------------------------ --- 181.0/197.8 MB 7.6 MB/s eta 0:00:03\n",
      "   ------------------------------------ --- 181.4/197.8 MB 7.6 MB/s eta 0:00:03\n",
      "   ------------------------------------ --- 181.8/197.8 MB 7.7 MB/s eta 0:00:03\n",
      "   ------------------------------------ --- 182.2/197.8 MB 7.7 MB/s eta 0:00:03\n",
      "   ------------------------------------ --- 182.5/197.8 MB 7.7 MB/s eta 0:00:02\n",
      "   ------------------------------------ --- 182.9/197.8 MB 7.7 MB/s eta 0:00:02\n",
      "   ------------------------------------- -- 183.3/197.8 MB 7.7 MB/s eta 0:00:02\n",
      "   ------------------------------------- -- 183.7/197.8 MB 7.7 MB/s eta 0:00:02\n",
      "   ------------------------------------- -- 184.0/197.8 MB 7.6 MB/s eta 0:00:02\n",
      "   ------------------------------------- -- 184.3/197.8 MB 7.6 MB/s eta 0:00:02\n",
      "   ------------------------------------- -- 184.7/197.8 MB 7.6 MB/s eta 0:00:02\n",
      "   ------------------------------------- -- 185.0/197.8 MB 7.6 MB/s eta 0:00:02\n",
      "   ------------------------------------- -- 185.4/197.8 MB 7.5 MB/s eta 0:00:02\n",
      "   ------------------------------------- -- 185.8/197.8 MB 7.5 MB/s eta 0:00:02\n",
      "   ------------------------------------- -- 186.2/197.8 MB 7.6 MB/s eta 0:00:02\n",
      "   ------------------------------------- -- 186.5/197.8 MB 7.6 MB/s eta 0:00:02\n",
      "   ------------------------------------- -- 186.9/197.8 MB 7.6 MB/s eta 0:00:02\n",
      "   ------------------------------------- -- 187.2/197.8 MB 7.6 MB/s eta 0:00:02\n",
      "   ------------------------------------- -- 187.6/197.8 MB 7.6 MB/s eta 0:00:02\n",
      "   -------------------------------------- - 188.0/197.8 MB 7.6 MB/s eta 0:00:02\n",
      "   -------------------------------------- - 188.4/197.8 MB 7.7 MB/s eta 0:00:02\n",
      "   -------------------------------------- - 188.7/197.8 MB 7.6 MB/s eta 0:00:02\n",
      "   -------------------------------------- - 189.0/197.8 MB 7.6 MB/s eta 0:00:02\n",
      "   -------------------------------------- - 189.4/197.8 MB 7.7 MB/s eta 0:00:02\n",
      "   -------------------------------------- - 189.9/197.8 MB 7.8 MB/s eta 0:00:02\n",
      "   -------------------------------------- - 190.2/197.8 MB 7.8 MB/s eta 0:00:01\n",
      "   -------------------------------------- - 190.6/197.8 MB 7.6 MB/s eta 0:00:01\n",
      "   -------------------------------------- - 191.0/197.8 MB 7.8 MB/s eta 0:00:01\n",
      "   -------------------------------------- - 191.3/197.8 MB 7.7 MB/s eta 0:00:01\n",
      "   -------------------------------------- - 191.6/197.8 MB 7.7 MB/s eta 0:00:01\n",
      "   -------------------------------------- - 192.0/197.8 MB 7.7 MB/s eta 0:00:01\n",
      "   -------------------------------------- - 192.4/197.8 MB 7.7 MB/s eta 0:00:01\n",
      "   -------------------------------------- - 192.7/197.8 MB 7.5 MB/s eta 0:00:01\n",
      "   ---------------------------------------  193.1/197.8 MB 7.7 MB/s eta 0:00:01\n",
      "   ---------------------------------------  193.5/197.8 MB 7.6 MB/s eta 0:00:01\n",
      "   ---------------------------------------  193.9/197.8 MB 7.8 MB/s eta 0:00:01\n",
      "   ---------------------------------------  194.3/197.8 MB 7.7 MB/s eta 0:00:01\n",
      "   ---------------------------------------  194.6/197.8 MB 7.8 MB/s eta 0:00:01\n",
      "   ---------------------------------------  195.0/197.8 MB 7.7 MB/s eta 0:00:01\n",
      "   ---------------------------------------  195.3/197.8 MB 7.7 MB/s eta 0:00:01\n",
      "   ---------------------------------------  195.7/197.8 MB 7.7 MB/s eta 0:00:01\n",
      "   ---------------------------------------  196.1/197.8 MB 7.7 MB/s eta 0:00:01\n",
      "   ---------------------------------------  196.5/197.8 MB 7.8 MB/s eta 0:00:01\n",
      "   ---------------------------------------  196.9/197.8 MB 7.7 MB/s eta 0:00:01\n",
      "   ---------------------------------------  197.3/197.8 MB 7.8 MB/s eta 0:00:01\n",
      "   ---------------------------------------  197.7/197.8 MB 7.8 MB/s eta 0:00:01\n",
      "   ---------------------------------------  197.8/197.8 MB 7.8 MB/s eta 0:00:01\n",
      "   ---------------------------------------  197.8/197.8 MB 7.8 MB/s eta 0:00:01\n",
      "   ---------------------------------------  197.8/197.8 MB 7.8 MB/s eta 0:00:01\n",
      "   ---------------------------------------  197.8/197.8 MB 7.8 MB/s eta 0:00:01\n",
      "   ---------------------------------------  197.8/197.8 MB 7.8 MB/s eta 0:00:01\n",
      "   ---------------------------------------  197.8/197.8 MB 7.8 MB/s eta 0:00:01\n",
      "   ---------------------------------------  197.8/197.8 MB 7.8 MB/s eta 0:00:01\n",
      "   ---------------------------------------  197.8/197.8 MB 7.8 MB/s eta 0:00:01\n",
      "   ---------------------------------------  197.8/197.8 MB 7.8 MB/s eta 0:00:01\n",
      "   ---------------------------------------  197.8/197.8 MB 7.8 MB/s eta 0:00:01\n",
      "   ---------------------------------------  197.8/197.8 MB 7.8 MB/s eta 0:00:01\n",
      "   ---------------------------------------  197.8/197.8 MB 7.8 MB/s eta 0:00:01\n",
      "   ---------------------------------------  197.8/197.8 MB 7.8 MB/s eta 0:00:01\n",
      "   ---------------------------------------  197.8/197.8 MB 7.8 MB/s eta 0:00:01\n",
      "   ---------------------------------------  197.8/197.8 MB 7.8 MB/s eta 0:00:01\n",
      "   ---------------------------------------  197.8/197.8 MB 7.8 MB/s eta 0:00:01\n",
      "   ---------------------------------------  197.8/197.8 MB 7.8 MB/s eta 0:00:01\n",
      "   ---------------------------------------  197.8/197.8 MB 7.8 MB/s eta 0:00:01\n",
      "   ---------------------------------------- 197.8/197.8 MB 4.7 MB/s eta 0:00:00\n",
      "Downloading filelock-3.15.4-py3-none-any.whl (16 kB)\n",
      "Using cached scikit_learn-1.5.1-cp312-cp312-win_amd64.whl (10.9 MB)\n",
      "Using cached scipy-1.14.0-cp312-cp312-win_amd64.whl (44.5 MB)\n",
      "Using cached h11-0.14.0-py3-none-any.whl (58 kB)\n",
      "Downloading hpack-4.0.0-py3-none-any.whl (32 kB)\n",
      "Downloading hyperframe-6.0.1-py3-none-any.whl (12 kB)\n",
      "Using cached joblib-1.4.2-py3-none-any.whl (301 kB)\n",
      "Using cached threadpoolctl-3.5.0-py3-none-any.whl (18 kB)\n",
      "Using cached networkx-3.3-py3-none-any.whl (1.7 MB)\n",
      "Downloading sympy-1.13.1-py3-none-any.whl (6.2 MB)\n",
      "   ---------------------------------------- 0.0/6.2 MB ? eta -:--:--\n",
      "   -- ------------------------------------- 0.4/6.2 MB 11.2 MB/s eta 0:00:01\n",
      "   --- ------------------------------------ 0.6/6.2 MB 9.4 MB/s eta 0:00:01\n",
      "   ----- ---------------------------------- 0.9/6.2 MB 8.1 MB/s eta 0:00:01\n",
      "   ------- -------------------------------- 1.2/6.2 MB 7.8 MB/s eta 0:00:01\n",
      "   --------- ------------------------------ 1.5/6.2 MB 7.5 MB/s eta 0:00:01\n",
      "   ------------ --------------------------- 1.9/6.2 MB 7.7 MB/s eta 0:00:01\n",
      "   -------------- ------------------------- 2.2/6.2 MB 7.9 MB/s eta 0:00:01\n",
      "   ---------------- ----------------------- 2.6/6.2 MB 7.8 MB/s eta 0:00:01\n",
      "   ------------------ --------------------- 2.9/6.2 MB 8.0 MB/s eta 0:00:01\n",
      "   -------------------- ------------------- 3.2/6.2 MB 7.9 MB/s eta 0:00:01\n",
      "   ---------------------- ----------------- 3.5/6.2 MB 7.8 MB/s eta 0:00:01\n",
      "   ------------------------ --------------- 3.8/6.2 MB 7.9 MB/s eta 0:00:01\n",
      "   -------------------------- ------------- 4.1/6.2 MB 7.7 MB/s eta 0:00:01\n",
      "   ---------------------------- ----------- 4.4/6.2 MB 7.8 MB/s eta 0:00:01\n",
      "   ------------------------------ --------- 4.7/6.2 MB 7.7 MB/s eta 0:00:01\n",
      "   -------------------------------- ------- 5.0/6.2 MB 7.6 MB/s eta 0:00:01\n",
      "   ---------------------------------- ----- 5.3/6.2 MB 7.7 MB/s eta 0:00:01\n",
      "   ------------------------------------ --- 5.6/6.2 MB 7.7 MB/s eta 0:00:01\n",
      "   -------------------------------------- - 5.9/6.2 MB 7.7 MB/s eta 0:00:01\n",
      "   ---------------------------------------  6.2/6.2 MB 7.6 MB/s eta 0:00:01\n",
      "   ---------------------------------------- 6.2/6.2 MB 7.3 MB/s eta 0:00:00\n",
      "Downloading mpmath-1.3.0-py3-none-any.whl (536 kB)\n",
      "   ---------------------------------------- 0.0/536.2 kB ? eta -:--:--\n",
      "   -------------------------- ------------ 368.6/536.2 kB 11.2 MB/s eta 0:00:01\n",
      "   ---------------------------------------- 536.2/536.2 kB 8.3 MB/s eta 0:00:00\n",
      "Installing collected packages: mpmath, tqdm, threadpoolctl, sympy, scipy, safetensors, regex, portalocker, networkx, joblib, hyperframe, hpack, h11, grpcio, fsspec, filelock, distro, torch, tiktoken, scikit-learn, huggingface-hub, httpcore, h2, grpcio-tools, tokenizers, httpx, transformers, openai, sentence-transformers, qdrant-client, langchain_qdrant, langchain_huggingface\n",
      "Successfully installed distro-1.9.0 filelock-3.15.4 fsspec-2024.6.1 grpcio-1.65.2 grpcio-tools-1.65.2 h11-0.14.0 h2-4.1.0 hpack-4.0.0 httpcore-1.0.5 httpx-0.27.0 huggingface-hub-0.24.5 hyperframe-6.0.1 joblib-1.4.2 langchain_huggingface-0.0.3 langchain_qdrant-0.1.3 mpmath-1.3.0 networkx-3.3 openai-1.37.1 portalocker-2.10.1 qdrant-client-1.10.1 regex-2024.7.24 safetensors-0.4.3 scikit-learn-1.5.1 scipy-1.14.0 sentence-transformers-3.0.1 sympy-1.13.1 threadpoolctl-3.5.0 tiktoken-0.7.0 tokenizers-0.19.1 torch-2.4.0 tqdm-4.66.4 transformers-4.43.3\n"
     ]
    },
    {
     "name": "stderr",
     "output_type": "stream",
     "text": [
      "ERROR: pip's dependency resolver does not currently take into account all the packages that are installed. This behaviour is the source of the following dependency conflicts.\n",
      "fastapi 0.111.1 requires email_validator>=2.0.0, which is not installed.\n",
      "fastapi 0.111.1 requires python-multipart>=0.0.7, which is not installed.\n",
      "fastapi 0.111.1 requires uvicorn[standard]>=0.12.0, which is not installed.\n"
     ]
    }
   ],
   "source": [
    "!pip install tiktoken openai langchain-community langchain_text_splitters langchain_huggingface langchain_qdrant qdrant-client"
   ]
  },
  {
   "cell_type": "code",
   "execution_count": 9,
   "metadata": {
    "id": "oVSnz4d44C22"
   },
   "outputs": [],
   "source": [
    "import sys\n",
    "from os import listdir\n",
    "from os.path import isfile, join, isdir\n",
    "\n",
    "from langchain_text_splitters import TokenTextSplitter\n",
    "from langchain_text_splitters import RecursiveCharacterTextSplitter\n",
    "from langchain_text_splitters import CharacterTextSplitter\n",
    "from langchain_text_splitters import TokenTextSplitter\n",
    "from langchain_text_splitters import SentenceTransformersTokenTextSplitter\n",
    "\n",
    "from langchain_community.document_loaders import TextLoader\n",
    "\n",
    "from langchain_huggingface import HuggingFaceEmbeddings\n",
    "\n",
    "from qdrant_client import QdrantClient\n",
    "from qdrant_client.models import Distance, VectorParams\n",
    "from langchain_qdrant import Qdrant\n",
    "\n",
    "from openai import OpenAI\n",
    "import tiktoken\n",
    "#from google.colab import userdata"
   ]
  },
  {
   "cell_type": "code",
   "execution_count": 10,
   "metadata": {
    "colab": {
     "base_uri": "https://localhost:8080/",
     "height": 222,
     "resources": {
      "http://localhost:8080/images/flow-diagram.png": {
       "data": "",
       "headers": [
        [
         "content-length",
         "0"
        ]
       ],
       "ok": false,
       "status": 404,
       "status_text": ""
      }
     }
    },
    "id": "bFq-TxOSlIcc",
    "outputId": "0471065a-b10f-4fa1-bbe1-8b6db3e01cad"
   },
   "outputs": [
    {
     "data": {
      "text/html": [
       "<img src=\"../images/flow-diagram.png\" width=\"600\" height=\"200\"/>"
      ],
      "text/plain": [
       "<IPython.core.display.Image object>"
      ]
     },
     "execution_count": 10,
     "metadata": {},
     "output_type": "execute_result"
    }
   ],
   "source": [
    "Image(url=\"../images/flow-diagram.png\", width=600, height=200)"
   ]
  },
  {
   "cell_type": "markdown",
   "metadata": {
    "id": "bXlkKfKcQx6m"
   },
   "source": [
    "# Fase de Montagem da Estrutura dos Dados Externos"
   ]
  },
  {
   "cell_type": "markdown",
   "metadata": {
    "id": "ttYJe2cVN0iY"
   },
   "source": [
    "## Etapa 1: Criação de dados externos\n",
    "\n",
    "Os novos dados, que não fazem parte do conjunto de dados de treinamento original do LLM, são chamados de dados externos. Esses dados podem ser obtidos de múltiplas fontes, como APIs, bancos de dados ou repositórios de documentos. Os dados podem existir em vários formatos, como arquivos, registros de banco de dados ou texto longo.\n",
    "\n",
    "Fonte: https://aws.amazon.com/pt/what-is/retrieval-augmented-generation/\n"
   ]
  },
  {
   "cell_type": "code",
   "execution_count": 11,
   "metadata": {
    "colab": {
     "base_uri": "https://localhost:8080/"
    },
    "id": "QX8UQWWMwZf2",
    "outputId": "35c3fdc9-ec85-452b-e5c3-647f5c13e2a4"
   },
   "outputs": [
    {
     "data": {
      "text/plain": [
       "['../data/atendimento_ao_cidadao.txt',\n",
       " '../data/canais_comunicacao.txt',\n",
       " '../data/carta_servicos.txt',\n",
       " '../data/cartilha_justica_comunitaria.txt',\n",
       " '../data/comite_distrital_saude.txt',\n",
       " '../data/historico.txt',\n",
       " '../data/ouvidoria_tjdft.txt',\n",
       " '../data/regulamentacao.txt',\n",
       " '../data/sobre_nos.txt']"
      ]
     },
     "execution_count": 11,
     "metadata": {},
     "output_type": "execute_result"
    }
   ],
   "source": [
    "path = '../data/'\n",
    "file_list = []\n",
    "for f in listdir(path):\n",
    "    file_list.append(join(path, f))\n",
    "file_list"
   ]
  },
  {
   "cell_type": "code",
   "execution_count": 16,
   "metadata": {
    "colab": {
     "base_uri": "https://localhost:8080/"
    },
    "id": "4s8dGnjVwZf2",
    "outputId": "f3589bfc-1408-49f7-e3ab-b1aa22be84d9"
   },
   "outputs": [
    {
     "data": {
      "text/plain": [
       "{'content': 'Histórico\\n\\nNo TJDFT, a idéia de Ouvidoria nasceu no ano de 1997 quando a atividade foi estabelecida pela Estrutura Organizacional da Secretaria do Tribunal de Justiça do Distrito Federal e dos Territórios (REORG), aprovada pela Resolução nº 04/97, como sendo de Comunicação Social a ser desenvolvida pela Assessoria de Comunicação Social conforme descrito no art. 7º daquele documento:\\n\\n\"À Assessoria de Comunicação Social - ACS, subordinada à Presidência, compete assessorar o Presidente nas atividades de relações públicas, de ouvidoria , de assessoramento parlamentar e de imprensa; agendar compromissos sociais; promover eventos; manter arquivo jornalístico; zelar pela imagem do TJDFT; cumprir legislação específica e normas regulamentadoras e apresentar relatório anual de atividades desenvolvidas no exercício anterior.\"\\n\\nPara atender à determinação do Reorg, em outubro de 1998 a Ouvidoria foi implantada na ACS apenas com o canal Alô-Justiça e Ouvidor Virtual e, em julho de 1999, implementou-se o Selo-Justiça, momento em que a atividade cresceu em demanda e, sobretudo, em importância. O usuário passou a reconhecer a iniciativa como a oportunidade de obter informações de que sempre necessitou e, por outro lado, as unidades administrativas a reconhecerem a legitimidade das reclamações e sugestões do usuário.\\n\\nEssa via de mão dupla, esse diálogo mediado pela Ouvidoria passou a servir de base para o esclarecimento de dúvidas e para a implantação de ações administrativas simples e possíveis que possibilitaram a melhoria de muitos serviços. O resultado, embora satisfatório desde o início, ficava aquém das possibilidades de atendimento efetivo ao usuário dadas às inúmeras atividades desenvolvidas à época pela ACS (imprensa, cerimonial, relações públicas, assessoria parlamentar) e à grande demanda pela atividade de Ouvidoria.\\n\\nA estrutura física e de pessoal utilizada pela Ouvidoria era pequena, ou seja, apenas uma sala, um computador com impressora, um ramal com atendimento eletrônico (7078), um ramal para atendimento interno e de retorno ao usuário (7119); três servidores responsáveis pelo atendimento dos canais disponíveis, pelos encaminhamentos e retornos, pela indexação de dados estatísticos e arquivo de documentos.\\n\\nEste primeiro momento da Ouvidoria vinculada à Assessoria de Comunicação – ACS foi, na verdade, uma experiência piloto que, exitosa, levou a Assessora de Comunicação a propor a reestruturação da unidade, tornando-a diretamente ligada à Presidência com a criação do cargo de Ouvidor-Geral do TJDFT.\\n\\nVerificou-se a necessidade de um setor autônomo e independente tendo em vista, por um lado a grande demanda, por outro a constatação de que \"as ouvidorias fortalecem os direitos do cidadão (à informação, à qualidade e ao controle), aproximando-o da instituição. Agem em contato direto com o poder decisório e, coibindo abusos e a repetição de erros, estimulando o processo de melhoria contínua da qualidade\".\\n\\nOcorre que, especificamente no âmbito do judiciário, não havia canais adequados para que os cidadãos fizessem reivindicações ou obtivessem informações sobre o funcionamento desse poder, em geral, e sobre os trâmites processuais, em particular. A principal conseqüência desse distanciamento (entre prestador e receptor de serviços) era a insatisfação da população e o desconhecimento cada vez maior da dinâmica de funcionamento do Poder Judiciário.\\n\\nCom base nesses pressupostos, o Desembargador Hermenegildo Gonçalves, então Presidente do TJDFT, apresentou a proposta ao Pleno Administrativo que, em 27 de março do ano de 2000, aprovou a Resolução nº 03 de 27 de março de 2000, instituindo a OUVIDORIA-GERAL DO TJDFT.\\n\\nNo primeiro momento, as principais mudanças foram:\\n\\nA Ouvidoria passou a ser uma Unidade Administrativa;\\nSua subordinação passou a ser direta à Presidência;\\nCriou-se o cargo do Ouvidor-Geral Judiciário, garantindo maior credibilidade às ações do Setor;\\nAmpliou-se o atendimento telefônico com a instalação do 0800614646;\\nCriação do Formulário pré-selado intitulado Selo-Justiça;\\nCriou-se a página da Ouvidoria-Geral no site do TJDFT.\\nDaí em diante, a Ouvidoria passou a desenvolver seus trabalhos sempre com vistas a elevar o papel do usuário dos serviços do TJDFT ao de participante do processo de melhoria na prestação desses serviços, fortalecendo a cidadania e garantindo a escolha das ações efetivas que conduzem à excelência.\\n\\nAlém disso, verificou-se o forte exercício de uma função pedagógica no esclarecimento das dúvidas da população acerca do funcionamento, atribuições e linguagem utilizada no Poder Judiciário, minimizando impressões equivocadas decorrentes da desinformação.\\n\\nO TJDFT, como instituição pública do poder judiciário, esteve na vanguarda desse processo irreversível de valorização da cidadania, havendo instalado sua ouvidoria em 2000, como o 2º Tribunal de Justiça a oferecer esse serviço ao jurisdicionado.\\n\\nNo ano de 2004, um fato marcou a história da Ouvidoria-Geral do TJDFT. Por ocasião da interdição do Anexo A do Fórum da Circunscrição Judiciária Especial de Brasília, o então presidente, Desembargador José Jerônymo Bezerra de Souza, em entrevista coletiva à imprensa, assegurou aos repórteres que a população poderia ficar tranqüila, pois o Tribunal contava com uma Ouvidoria-Geral capaz de fornecer todas as informações institucionais relativas às mudanças decorrentes da interdição do prédio. A demanda aumentou vertiginosamente naqueles dias.\\n\\nSem uma adequada estrutura de pessoal, material e tecnológica, para, naquelas condições, oferecer esse tipo de atendimento com eficiência e eficácia e, mais, considerando o aumento anual de média de 30% das manifestações como um todo, a Ouvidoria-Geral constatou a necessidade de uma urgente reestruturação de forma a garantir um atendimento de qualidade para cumprir a sua função pedagógica de INFORMAR e, sobretudo, para otimizar o tempo usado em sua verdadeira missão de sistematizar as percepções dos usuários transformando-as em instrumentos capazes de promover o aprimoramento dos serviços prestados pelo TJDFT.\\n\\nDessa constatação nasceu o PROMOUV, Projeto de Modernização dos Serviços da Ouvidoria-Geral que veio elevar o padrão do relacionamento do TJDFT com seus públicos qualificando os serviços de atendimento feito através da Ouvidoria-Geral, tanto no fornecimento das informações e no esclarecimento de dúvidas por meio de uma Central de Atendimentos denominada ALO TJ, quanto no trato com as reclamações, denúncias, sugestões e elogios.\\n\\nAlém da reformulação do Sistema Informatizado de gerenciamento de manifestações (SISOUV), das adequações de instalações físicas e mobiliário, a criação da Central de Atendimento Alô TJ veio para atender variados segmentos da população que necessitam de informações jurídico-administrativas em geral. O maior beneficiário, entretanto, foi o setor mais carente da sociedade, que não dispõe de recursos financeiros e tecnológicos suficientes para utilizar os serviços já disponibilizados por este órgão, principalmente na Internet, e que, assim, recorre freqüentemente à ligação telefônica para buscar as soluções para seus problemas. Com um atendimento ágil, simplificado, igualitário a toda a comunidade, o Alô TJ colabora para evitar o acesso desnecessário às dependências do TJDFT, tanto em Brasília quanto nas cidades satélites, sem qualquer ônus para o cidadão/usuário.\\n\\nImplementado em 10 de agosto de 2006, o TJDFT mais uma vez demonstrou à população, de forma inequívoca, sua disposição em aproximar a Justiça Comum do cidadão, tornando-a mais compreensível e acessível.\\n\\nFinalmente, a Lei de Organização Judiciária do Distrito Federal (Lei 11.697/08), entrou em vigor e, traz em seu art. 82 a criação da Ouvidoria:\\n\\n\"Fica criada a Ouvidoria-Geral da Justiça do Distrito Federal e dos Territórios, que tem como missão tornar a Justiça mais próxima do cidadão, ouvindo sua opinião acerca dos serviços prestados pelo Tribunal de Justiça do Distrito Federal e dos Territórios, colaborando para elevar o nível de excelência das atividades necessárias à prestação jurisdicional, sugerindo medidas de aprimoramento e buscando soluções para os problemas apontados.\\n\\n§ 1º A estrutura da Ouvidoria-Geral compreende o estabelecido no Anexo III desta Lei, observado o cronograma previsto no Anexo V desta Lei e desde que atendidas as disposições constantes dos incisos I e II do § 1º do art. 169 da Constituição Federal.\\n§ 2º A organização e o detalhamento das competências da Ouvidoria-Geral serão definidos por ato próprio do Tribunal de Justiça.”',\n",
       " 'path': '../data/historico.txt'}"
      ]
     },
     "execution_count": 16,
     "metadata": {},
     "output_type": "execute_result"
    }
   ],
   "source": [
    "files = []\n",
    "for file_path in file_list:\n",
    "    raw_documents = TextLoader(file_path, encoding='utf-8').load()\n",
    "    files.append({\"content\": raw_documents[0].page_content, \"path\":file_path})\n",
    "files[5]"
   ]
  },
  {
   "cell_type": "code",
   "execution_count": 15,
   "metadata": {
    "id": "9DMiDfjE8OZu"
   },
   "outputs": [],
   "source": [
    "#file_path = '../data/atendimento_ao_cidadao.txt'\n",
    "#raw_documents = TextLoader(file_path, encoding='utf-8').load()\n",
    "#file_content = raw_documents[0].page_content"
   ]
  },
  {
   "cell_type": "markdown",
   "metadata": {
    "id": "N5HV0DASOUrg"
   },
   "source": [
    "## Etapa 2: Divisão dos dados em chunks\n",
    "\n",
    "Existem diversos motivos parea dividir o testo em chunks: dividir o texto em chunks com sobreposição (chunk_overlap) **ajuda a preservar o contexto**; modelos de linguagem têm **limitações no número de tokens** (palavras ou subpalavras) que podem processar de uma vez; processar partes menores de texto pode ser mais **rápido e eficiente**.\n",
    "\n",
    "Decidir o **tamanho do chunk (chunk_size) e a sobreposição do chunk (chunk_overlap)** é muito importante para evitar a **perda de contexto**. A sobreposição do chunk permite que parte do contexto do chunk anterior seja incluída no próximo chunk, o que possibilita um melhor fluxo e consistência do contexto"
   ]
  },
  {
   "cell_type": "markdown",
   "metadata": {
    "id": "oy1bb6TLeoH5"
   },
   "source": [
    " Splitting é o processo de simplesmente dividir seu texto em chunks de tamanho diverso, independentemente do seu conteúdo ou forma.\n",
    "\n",
    "\n",
    "*   **TokenTextSplitter**: Divide o texto com base no número de tokens, onde um token pode ser uma palavra, pontuação ou subpalavra, dependendo do modelo de tokenização. Útil quando você deseja garantir que cada chunk tenha um número específico de tokens.\n",
    "\n",
    "*   **CharacterTextSplitter**: Divide o texto com base no número de caracteres. Útil quando você deseja uma divisão mais simples baseada em caracteres, especialmente em cenários onde o comprimento em caracteres é mais relevante do que o número de tokens.\n",
    "\n",
    "*   **RecursiveCharacterTextSplitter**: Divide o texto (baseado no chunk_size) recursivamente com base em vários separadores, começando pelo primeiro separador na lista e progredindo para o próximo se necessário. Útil para garantir uma divisão mais natural do texto, preservando a integridade das frases e parágrafos. Por exemplo, tenta dividir por parágrafos primeiro, depois por frases, e finalmente por espaços, se necessário.\n",
    "\n",
    "*   **SentenceTransformersTokenTextSplitter**: Divide o texto usando o tokenizador dos modelos SentenceTransformers. Esses modelos são usados principalmente para gerar embeddings de sentenças. Útil quando se trabalha especificamente com modelos SentenceTransformers e se deseja que a divisão do texto esteja alinhada com a tokenização utilizada por esses modelos.\n",
    "\n",
    "Playgroud: www.chunkviz.com\n",
    "\n",
    "https://github.com/FullStackRetrieval-com/RetrievalTutorials/blob/a4570f3c4883eb9b835b0ee18990e62298f518ef/tutorials/LevelsOfTextSplitting/5_Levels_Of_Text_Splitting.ipynb"
   ]
  },
  {
   "cell_type": "markdown",
   "metadata": {
    "id": "BUwwetTlgqMc"
   },
   "source": [
    "Experimente testar com chunk_size e chunk_overlap diferentes, bem como com tipos diferentes de Splitter.\n",
    "\n",
    "*   chunk_size = 100, chunk_overlap = 50\n",
    "*   chunk_size = 1000, chunk_overlap = 300"
   ]
  },
  {
   "cell_type": "code",
   "execution_count": 17,
   "metadata": {
    "colab": {
     "base_uri": "https://localhost:8080/",
     "height": 222,
     "resources": {
      "http://localhost:8080/images/chunk.png": {
       "data": "",
       "headers": [
        [
         "content-length",
         "0"
        ]
       ],
       "ok": false,
       "status": 404,
       "status_text": ""
      }
     }
    },
    "id": "7QzpLN3ndFLb",
    "outputId": "ff59b575-c48c-43fe-e2a5-1fbdf5ea929f"
   },
   "outputs": [
    {
     "data": {
      "text/html": [
       "<img src=\"../images/chunk.png\" width=\"600\" height=\"200\"/>"
      ],
      "text/plain": [
       "<IPython.core.display.Image object>"
      ]
     },
     "execution_count": 17,
     "metadata": {},
     "output_type": "execute_result"
    }
   ],
   "source": [
    "Image(url=\"../images/chunk.png\", width=600, height=200)"
   ]
  },
  {
   "cell_type": "code",
   "execution_count": 18,
   "metadata": {
    "colab": {
     "base_uri": "https://localhost:8080/"
    },
    "id": "ca9SIyAqwZf2",
    "outputId": "b4a99dea-be14-44f4-bdd8-a77e3f491beb"
   },
   "outputs": [
    {
     "data": {
      "text/plain": [
       "{'chunks': ['Ouvidoria do TJDFT\\núltima modificação: 01/07/2024 12:18\\nA Ouvidoria é um canal de comunicação entre o cidadão e o Tribunal de Justiça do Distrito Federal e dos Territórios - TJDFT. Foi criada para esclarecer dúvidas sobre o funcionamento da instituição, além ser o canal para envio de reclamações, denúncias, sugestões, pedidos de acesso à informação e elogios relativos à atuação do órgão.',\n",
       "  'O principal objetivo da Ouvidoria é melhorar os nossos serviços, levando em consideração a opinião da população assistida pelo Tribunal.\\n\\nPor isso, não deixe de entrar em contato para registrar a sua manifestação, pois ela é muito importante para aprimorarmos nossas atividades.\\n\\nVocê pode falar com a nossa Ouvidoria:\\nFormulário eletrônico: tjdft.jus.br/ouvidoria/formulario-eletronico.\\nPor telefone: 0800 6146466, das 12h às 18h30, em dias úteis.\\nPor e-mail: ouvidoria@tjdft.jus.br.',\n",
       "  'Por e-mail: ouvidoria@tjdft.jus.br.\\nPor correspondência: TJDFT - Ouvidoria-Geral - Praça Municipal, Lote 1, Fórum Milton Sebastião Barbosa, Bloco A, 5º andar, ala C, sala 523, Brasília-DF, CEP 70094-900.\\nPresencialmente: TJDFT - Ouvidoria-Geral - Praça Municipal, Lote 1, Fórum Milton Sebastião Barbosa, Bloco A, 5º andar, sala 523, Brasília-DF (das 12h às 18h30, em dias úteis).'],\n",
       " 'metadata': '../data/ouvidoria_tjdft.txt'}"
      ]
     },
     "execution_count": 18,
     "metadata": {},
     "output_type": "execute_result"
    }
   ],
   "source": [
    "chunk_size = 500\n",
    "chunk_overlap = 50\n",
    "\n",
    "text_splitter = RecursiveCharacterTextSplitter(chunk_size = chunk_size, chunk_overlap = chunk_overlap, separators=[\"\\n\", \".\", \" \"], add_start_index = True)\n",
    "#text_splitter = TokenTextSplitter(chunk_size = chunk_size, chunk_overlap = chunk_overlap)\n",
    "#text_splitter = CharacterTextSplitter(chunk_size=chunk_size,chunk_overlap=chunk_overlap,separator=' ')\n",
    "#text_splitter = SentenceTransformersTokenTextSplitter()\n",
    "\n",
    "chunk_list = []\n",
    "for file in files:\n",
    "    chunk_file = text_splitter.split_text(file[\"content\"])\n",
    "    chunk_list.append({\"chunks\": chunk_file, \"metadata\":file[\"path\"]})\n",
    "chunk_list[6]"
   ]
  },
  {
   "cell_type": "code",
   "execution_count": 19,
   "metadata": {
    "id": "_ZvBr6s0OuLz"
   },
   "outputs": [],
   "source": [
    "#text_splitter = TokenTextSplitter(chunk_size = 500, chunk_overlap = 50)\n",
    "#chunks = text_splitter.split_text(file_content)\n",
    "#metadata = [{\"path\": file_path} for _ in chunks]"
   ]
  },
  {
   "cell_type": "markdown",
   "metadata": {
    "id": "05sIxYrkOwoS"
   },
   "source": [
    "## Etapa 3: Criação da banco de dados vetorial e armazenamento dos embeddings"
   ]
  },
  {
   "cell_type": "markdown",
   "metadata": {
    "id": "GPm7tSyxjF7I"
   },
   "source": [
    "### Definião do modelo de embeddings\n",
    "\n",
    "Uma embedding é uma representação vetorial densa de dados. Embeddings transformam dados de alta dimensionalidade, como palavras, frases, ou até mesmo imagens, em vetores de menor dimensionalidade que capturam as características semânticas dos dados originais.\n",
    "\n",
    "\n",
    "https://github.com/infoslack/qdrant-example/blob/main/Embeddings.ipynb"
   ]
  },
  {
   "cell_type": "code",
   "execution_count": 20,
   "metadata": {
    "colab": {
     "base_uri": "https://localhost:8080/",
     "height": 222,
     "resources": {
      "http://localhost:8080/images/word2.jpg": {
       "data": "",
       "headers": [
        [
         "content-length",
         "0"
        ]
       ],
       "ok": false,
       "status": 404,
       "status_text": ""
      }
     }
    },
    "id": "EA2ofz4Jkw4J",
    "outputId": "206b5a1e-eca7-4fdb-b951-8c6b15976fbf"
   },
   "outputs": [
    {
     "data": {
      "text/html": [
       "<img src=\"../images/word2.jpg\" width=\"600\" height=\"200\"/>"
      ],
      "text/plain": [
       "<IPython.core.display.Image object>"
      ]
     },
     "execution_count": 20,
     "metadata": {},
     "output_type": "execute_result"
    }
   ],
   "source": [
    "Image(url=\"../images/word2.jpg\", width=600, height=200)"
   ]
  },
  {
   "cell_type": "code",
   "execution_count": 21,
   "metadata": {
    "colab": {
     "base_uri": "https://localhost:8080/",
     "height": 222,
     "resources": {
      "http://localhost:8080/images/word.png": {
       "data": "",
       "headers": [
        [
         "content-length",
         "0"
        ]
       ],
       "ok": false,
       "status": 404,
       "status_text": ""
      }
     }
    },
    "id": "nq_uNAUwjUuG",
    "outputId": "dd8d333e-02e7-4224-e311-3e0d1b6a8a2d"
   },
   "outputs": [
    {
     "data": {
      "text/html": [
       "<img src=\"../images/word.png\" width=\"600\" height=\"200\"/>"
      ],
      "text/plain": [
       "<IPython.core.display.Image object>"
      ]
     },
     "execution_count": 21,
     "metadata": {},
     "output_type": "execute_result"
    }
   ],
   "source": [
    "Image(url=\"../images/word.png\", width=600, height=200)"
   ]
  },
  {
   "cell_type": "code",
   "execution_count": 22,
   "metadata": {
    "colab": {
     "base_uri": "https://localhost:8080/",
     "height": 426,
     "referenced_widgets": [
      "24f9bd4aa5eb423395df013f91c806cd",
      "c23bdd10f43147dab5e7fd48d3cb87c9",
      "d1696eadc8b745b6ac3b64e03dc5c2bd",
      "d50aea11d866434e93eba54d46b4d7ac",
      "8a27393430fe421984551023cc8e3f95",
      "1d0b6f02d1b846ca8cd06035d421dc8b",
      "e9a9cc8a20074c58a1e03d682fb2ea98",
      "b42535c19a5b4828909fd6a437c4ba70",
      "4700a847b1f14c68afc3e3c7b119ee0d",
      "03e2cf09679547bda65579e77dbd6467",
      "32f193c9f0bd48bf9958ae5b2f7a6999",
      "cc01e7afb02441fca30dd79e0404ce68",
      "a23cfbd79c884d04941a875d574c1e36",
      "8331f5c7701945b39d1e6a02496e070d",
      "e2ec3333a7084fd1ba656c2a709a4bfb",
      "5cc47f07824045f186ecd82c333b2d65",
      "fe726d8bf36f43398d6abd18ff9831f0",
      "41ea2267f70d4bbdaeb0b662a6a50034",
      "9e51689e661842eb93738f4116ca3431",
      "a126ecf48f6b458aab5a56fcd5678e9e",
      "21248fb8a8444d0e95b53c9a250b0aa6",
      "53f2e3ff78a34d5493182c6c8a539955",
      "a3c5d7b2b4fb4ff5bb7b118d763d9d71",
      "51d59175f32f4468a1f96cf8861f1135",
      "8a8a6442edf74f399be4b062147e2e30",
      "7cc35e3da381456ea409405f260a5b3a",
      "8b6ebac85c69401eb3259678455ba933",
      "efcb0a123bad4e32bf9717ff77ee0d1a",
      "9b0afa4a12dd4368a31dfd009b57b08a",
      "446053381d2f40fe80770473ff6aa701",
      "8a27a7df4ffd431f910c21096256ffe4",
      "0ecdbc4a133a4c2f894535e673227573",
      "6a3772cdb0064439b18ed00d5ff59c34",
      "95d0ef6e77a5402faf7caa07a81f5043",
      "b86616d2e5f44de09d441091f600b22f",
      "d9d145459aef48da9706bc270e156c3f",
      "5de0635a894b4a37b19e2bef52f60a1d",
      "9f009635f0534f939ec593f68b777c6c",
      "f1286b49e1414190aaf288d568f6311f",
      "bbe1d9cdb17b48618e99f2eb99b14e25",
      "9b2d8a559ec24f78842319ee99eb9c94",
      "baeb8ef12e5f4e1e95895521dac6e20f",
      "5cbd175753944dd2852c4c16d7d3fc14",
      "922e4e8658c64929aa0cf7cb6b8504c5",
      "1471179d6745473f8af026046d946322",
      "c79343e1805d4123a0ec45d27655df42",
      "4c4b6f03aed9445ea4ca0a2a662577a6",
      "43ac34d3f151453e93f3b0b5dd5036fe",
      "c6db4b7180ed42cdad05c54c5e95a00c",
      "a16f2a7bc1974c1da3c53fb09dd89f64",
      "00bbfd5cd1664a8fa814153866c48dd6",
      "c4eed780be214e878550ee566e3d3445",
      "9b66025edb904c6db6dd5f7bc145b1bc",
      "b504d9cd17534eb38deb25e51931c51c",
      "57e2c4bbb27f40ca8205e5687204ca7b",
      "6f40477949524742809233784ec325c6",
      "7adcecad1f3a40608aa28762ee17ee34",
      "ddeddbb30b014ddfaa519e0d59268891",
      "d6a593db4a48473a85f1e3b971012e3e",
      "3a8bd9fde6754ede8888c5216b1ff827",
      "fce2f28def784f398ed243417ba8d1ad",
      "82456159f4dd4166b076983a182c9f56",
      "0cd56ad613134294be8b72ce40066031",
      "1e3695beb3f944d583c9284dd4785603",
      "94885947a3a74f2184494de69a1bc84a",
      "84013d46de654385807a84979ae94d3b",
      "36508ebdbb9c466d8913f302a49cbe0f",
      "76bbeda220a744f6adaed6a1972a9f28",
      "3e00cb15b6024374b8441b4086f8ac44",
      "053f2658ea74479c8d6a1edabe7320d8",
      "7b026f0eb18d4ded989edfb0f90150c2",
      "87c34081499c4b02b92c87a33a9669a6",
      "c9ffeffc9cd244409d1cfb7c3d3d80cd",
      "ad18d5a792fd4a5dae4f61ad743c7851",
      "2ffa83afe7f546ae9ed9457a5ccc535a",
      "ea6885d1cfa04e458855ddac12139c88",
      "768d3f90e6e44ef5ac04216a0e178bbc",
      "77a97f65e0214c3a8ea97dcba32e3a5e",
      "3abdd9cac9d947538ed79725efbee2d3",
      "6e964f102b4e4667acaf63a8b4b83a5a",
      "390eabb7817b4a7fa703875548b77fc3",
      "f28d6ff3046a42549120073a018dc60d",
      "e8b4a453efe94830b0bc4cd69ae2f5e0",
      "9ee97ee5f01241b2bfac7b04bd2924a1",
      "3bccd99ebd2f4a798aab93e7ac31312d",
      "d7d2d3451d9c434497b697bbf98c6474",
      "0006dd1fbd8b418eb5dbe4e4148ea91a",
      "f6a848cda21b491c82cbaa0d270195a7",
      "0cdf5eab43bd444ba55939927bf50235",
      "935b3aa5b61540a39bfd1c350fae6cc9",
      "614a3f9c4a554304b818b0728eb2a4ce",
      "152bdc5ce4c6495888d31994eb8edef0",
      "0a28dc77a51648ce8010fc09d70d434b",
      "b5718caeb2764dfaa8472c6b390229ce",
      "17a682582ace45d6b71cee25087b2a5b",
      "d6a741bf31d646b08fcf48fb69159ace",
      "072c7b1ad63e40fcb70d7f8838c2fda0",
      "2c46dacd0e4342e58051beb1fcdf7a09",
      "840a922669c445968ad4448bb21d4798",
      "29fc5bab5b354f0dba6c06808cb08864",
      "aa25d308a6fb42fb886d61f80175bcbe",
      "90002b26742c4c23935be13c8a8c7061",
      "1862d570e39246c39f9a14d966ec5faf",
      "3580353927f04fa78295897d3abaa7f6",
      "9b9650a28f8f48ed83779d990be98073",
      "5d861c29e56540269b8c1e4fcf91a2eb",
      "0f4a491028df41aabe89c3d43a34fb9f",
      "d00272dce4e2492eb3cc695987930bc7",
      "cbdb9a8ac18c4529852ada6537076951",
      "10c9c526330e483a8863274b662dac36",
      "321884c4eb6046728012dc87160ac505",
      "defa5f6258a7487abd404dd1242fdd97",
      "03537911db8b409eabab8c2955c3bd67",
      "b01958eb98814047a244c7439958fc54",
      "06e59b2b92374eb98518e278bf673b8e",
      "76ef25840e67478080763fed7c33261f",
      "cc2198019ed34484ba501ed6311b95e1",
      "be85af2b30224934bcf1d03cc8c0bbdd",
      "a30e0c5108334c2695b9130deab31f9c",
      "6b948a6dd13042958c56455f9b5718d7",
      "588311ad82a1409682d0cf994c215a11"
     ]
    },
    "id": "OjkdSDLr5qyh",
    "outputId": "114e87c2-c3e2-4da4-ec4b-69cacae70c9c"
   },
   "outputs": [
    {
     "name": "stderr",
     "output_type": "stream",
     "text": [
      "C:\\Users\\joelma\\anaconda3\\envs\\rag\\Lib\\site-packages\\sentence_transformers\\cross_encoder\\CrossEncoder.py:11: TqdmWarning: IProgress not found. Please update jupyter and ipywidgets. See https://ipywidgets.readthedocs.io/en/stable/user_install.html\n",
      "  from tqdm.autonotebook import tqdm, trange\n"
     ]
    }
   ],
   "source": [
    "# Carga e configuração do modelo de embeddings\n",
    "embeddings = HuggingFaceEmbeddings(\n",
    "    model_name = \"sentence-transformers/msmarco-bert-base-dot-v5\",\n",
    "    model_kwargs = {'device': 'cpu'},\n",
    "    encode_kwargs = {'normalize_embeddings': True})  # indica que os embeddings devem ser normalizados (ajustados para que tenham magnitude 1)"
   ]
  },
  {
   "cell_type": "markdown",
   "metadata": {
    "id": "PD7P0wycPWuk"
   },
   "source": [
    "### Criação do banco"
   ]
  },
  {
   "cell_type": "code",
   "execution_count": 23,
   "metadata": {
    "colab": {
     "base_uri": "https://localhost:8080/"
    },
    "id": "VL7xdYsA9TST",
    "outputId": "69c0955a-c185-4799-8e48-ab48885102b0"
   },
   "outputs": [
    {
     "data": {
      "text/plain": [
       "True"
      ]
     },
     "execution_count": 23,
     "metadata": {},
     "output_type": "execute_result"
    }
   ],
   "source": [
    "db_path = \"../vectodb\"\n",
    "db_name = \"VectorDB\"\n",
    "\n",
    "clientq = QdrantClient(path=db_path)\n",
    "\n",
    "if clientq.collection_exists(db_name):\n",
    "    clientq.delete_collection(db_name)\n",
    "\n",
    "clientq.create_collection(\n",
    "    db_name,\n",
    "    vectors_config=VectorParams(size=768, distance=Distance.DOT)\n",
    "    #vectors_config=VectorParams(size=768, distance=Distance.EUCLID)\n",
    "    #vectors_config=VectorParams(size=768, distance=Distance.COSINE)\n",
    ")"
   ]
  },
  {
   "cell_type": "markdown",
   "metadata": {
    "id": "J54PYWM5b2RC"
   },
   "source": [
    "**VectorParams**\n",
    "\n",
    "*   size=768: Define o tamanho dos vetores que serão armazenados na coleção. Neste caso, os vetores terão 768 dimensões. Este tamanho deve corresponder ao tamanho dos embeddings gerados pelo modelo de linguagem que você está utilizando.\n",
    "\n",
    "*   distance=Distance.DOT: Define a métrica de distância que será usada para calcular a similaridade entre os vetores. Distance.DOT especifica que a distância de produto escalar (dot product) será usada.\n",
    "\n",
    "\n",
    "Teste com utras opções de distãncia de similaridade:\n",
    "*  Distance.EUCLID (distância euclidiana)\n",
    "*  Distance.COSINE (distância cosseno)"
   ]
  },
  {
   "cell_type": "code",
   "execution_count": 24,
   "metadata": {
    "colab": {
     "base_uri": "https://localhost:8080/",
     "height": 222,
     "resources": {
      "http://localhost:8080/images/cos.png": {
       "data": "",
       "headers": [
        [
         "content-length",
         "0"
        ]
       ],
       "ok": false,
       "status": 404,
       "status_text": ""
      }
     }
    },
    "id": "_xRaMICDku7f",
    "outputId": "33ca41cd-3b9e-45d7-df4a-15fb83319af7"
   },
   "outputs": [
    {
     "data": {
      "text/html": [
       "<img src=\"../images/cos.png\" width=\"600\" height=\"200\"/>"
      ],
      "text/plain": [
       "<IPython.core.display.Image object>"
      ]
     },
     "execution_count": 24,
     "metadata": {},
     "output_type": "execute_result"
    }
   ],
   "source": [
    "Image(url=\"../images/cos.png\", width=600, height=200)"
   ]
  },
  {
   "cell_type": "markdown",
   "metadata": {
    "id": "FEGzk4MDPdHD"
   },
   "source": [
    "### Geração e armazenamento dos embeddings\n"
   ]
  },
  {
   "cell_type": "code",
   "execution_count": 25,
   "metadata": {
    "colab": {
     "base_uri": "https://localhost:8080/"
    },
    "id": "OS0naOQpaAgU",
    "outputId": "5c3e8426-5022-41f4-abf1-1479224d21d6"
   },
   "outputs": [
    {
     "name": "stderr",
     "output_type": "stream",
     "text": [
      "C:\\Users\\joelma\\anaconda3\\envs\\rag\\Lib\\site-packages\\langchain_core\\_api\\deprecation.py:139: LangChainDeprecationWarning: The class `Qdrant` was deprecated in LangChain 0.1.2 and will be removed in 0.5.0. Use QdrantVectorStore instead.\n",
      "  warn_deprecated(\n"
     ]
    }
   ],
   "source": [
    "qdrant = Qdrant(clientq, db_name, embeddings)"
   ]
  },
  {
   "cell_type": "code",
   "execution_count": 26,
   "metadata": {
    "id": "oclqimXCwZf3"
   },
   "outputs": [],
   "source": [
    "# Separação dos chunks de cada arquivo\n",
    "for chunks in chunk_list:\n",
    "    file_path = chunks['metadata']\n",
    "    chunks = chunks['chunks']\n",
    "    metadata = [{\"path\": file_path} for _ in chunks]\n",
    "\n",
    "    #Função built-in que gera as embeddings para o texto e as carrega no banco vetoriaç\n",
    "    qdrant.add_texts(chunks, metadatas = metadata)\n"
   ]
  },
  {
   "cell_type": "code",
   "execution_count": 27,
   "metadata": {
    "colab": {
     "base_uri": "https://localhost:8080/",
     "height": 222,
     "resources": {
      "http://localhost:8080/images/vcdb.png": {
       "data": "",
       "headers": [
        [
         "content-length",
         "0"
        ]
       ],
       "ok": false,
       "status": 404,
       "status_text": ""
      }
     }
    },
    "id": "xpYCOGrDlAYa",
    "outputId": "d53bd0b3-d71a-4ec3-fd56-bf34ffe2d447"
   },
   "outputs": [
    {
     "data": {
      "text/html": [
       "<img src=\"../images/vcdb.png\" width=\"600\" height=\"200\"/>"
      ],
      "text/plain": [
       "<IPython.core.display.Image object>"
      ]
     },
     "execution_count": 27,
     "metadata": {},
     "output_type": "execute_result"
    }
   ],
   "source": [
    "Image(url=\"../images/vcdb.png\", width=600, height=200)"
   ]
  },
  {
   "cell_type": "code",
   "execution_count": 28,
   "metadata": {
    "id": "jOLyWgV_7bbA"
   },
   "outputs": [],
   "source": [
    "# Teste em apenas um arquivo\n",
    "#qdrant = Qdrant(clientq, db_name, llm_embedding)\n",
    "#qdrant.add_texts(chunks, metadatas = metadata)"
   ]
  },
  {
   "cell_type": "markdown",
   "metadata": {
    "id": "ZextrbxzDi2Q"
   },
   "source": [
    "# Fase de Utilização do RAG"
   ]
  },
  {
   "cell_type": "markdown",
   "metadata": {
    "id": "rNp1oGXKRFSN"
   },
   "source": [
    "### Etapa 1: Definição do modelo de embedding das perguntas"
   ]
  },
  {
   "cell_type": "code",
   "execution_count": 29,
   "metadata": {
    "id": "mLEPJdiIDwWZ"
   },
   "outputs": [],
   "source": [
    "embeddings = HuggingFaceEmbeddings(\n",
    "    model_name = \"sentence-transformers/msmarco-bert-base-dot-v5\",\n",
    "    model_kwargs = {'device': 'cpu'},\n",
    "    encode_kwargs = {'normalize_embeddings': True})"
   ]
  },
  {
   "cell_type": "markdown",
   "metadata": {
    "id": "bmtrrOJ8RSmt"
   },
   "source": [
    "### Etapa 2: Conexão com o banco de dados vetorial"
   ]
  },
  {
   "cell_type": "code",
   "execution_count": 30,
   "metadata": {
    "id": "BlhpjlrgCrRP"
   },
   "outputs": [],
   "source": [
    "#db_path = \"./vectodb\"\n",
    "#db_name = \"VectorDB\"\n",
    "#clientq = QdrantClient(path=db_path)\n",
    "qdrant = Qdrant(clientq, db_name, embeddings)"
   ]
  },
  {
   "cell_type": "markdown",
   "metadata": {
    "id": "xYzho_lVRYzy"
   },
   "source": [
    "### Etapa 3: Conexão com o servidor"
   ]
  },
  {
   "cell_type": "code",
   "execution_count": 31,
   "metadata": {
    "id": "oZctodE4AfQT"
   },
   "outputs": [],
   "source": [
    "client = OpenAI(\n",
    "  base_url = \"https://integrate.api.nvidia.com/v1\",\n",
    "  #api_key = userdata.get('NVIDIA_KEY')   # Se estiver executando no COLAB\n",
    "  #api_key = \"COLOQUE AQUI SUA KEY\"       # Se estiver executando LOCAL\n",
    "  api_key = \"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\"       # Se estiver executando LOCAL\n",
    ")"
   ]
  },
  {
   "cell_type": "markdown",
   "metadata": {
    "id": "Mel6GMZNRfHv"
   },
   "source": [
    "### Etapa 4: Leitura da pergunta do usuário e busca dos embeddings mais similares (Retriever)"
   ]
  },
  {
   "cell_type": "code",
   "execution_count": 32,
   "metadata": {
    "id": "T8yfgRf-wZf5"
   },
   "outputs": [],
   "source": [
    "#./data/ouvidoria_tjdft.txt\n",
    "#Resposta esperada:  Foi criada para esclarecer dúvidas sobre o funcionamento da instituição, além ser o canal para envio de reclamações, denúncias, sugestões, pedidos de acesso à informação e elogios relativos à atuação do órgão.\n",
    "query = \"Como a ouvidoria pode me ajudar?\"\n",
    "top_result_context = qdrant.similarity_search(query = query, k = 3)"
   ]
  },
  {
   "cell_type": "code",
   "execution_count": 33,
   "metadata": {
    "id": "RjRtvD8xwZf5"
   },
   "outputs": [],
   "source": [
    "#./data/atendimento_ao_cidadao.txt\n",
    "# Resposta esperada: O Tribunal tem até 20 dias para responder ao pedido, prazo que pode ser prorrogado por mais 10 dias, mediante justificativa expressa.\n",
    "query = \"Em qual prazo em média obtenho resposta à minha demanda?\"\n",
    "top_result_context = qdrant.similarity_search(query = query, k = 3)"
   ]
  },
  {
   "cell_type": "code",
   "execution_count": 34,
   "metadata": {
    "id": "FVWnakSBwZf5"
   },
   "outputs": [],
   "source": [
    "#./data/regulamentacao.txt\n",
    "# Resposta esperada: Portaria GPR 3028 de 19/12/2022\n",
    "query = \"Qual a portaria que fala sobre a revisão e a atualização da Transparência e Prestação de Contas?\"\n",
    "top_result_context = qdrant.similarity_search(query = query, k = 3)"
   ]
  },
  {
   "cell_type": "code",
   "execution_count": 35,
   "metadata": {
    "id": "N-a4jeN7wZf-"
   },
   "outputs": [],
   "source": [
    "#./data/comite_distrital_saude.txt\n",
    "query = \"Para que serve o Comitê Distrital da Saúde?\"\n",
    "top_result_context = qdrant.similarity_search(query = query, k = 3)"
   ]
  },
  {
   "cell_type": "code",
   "execution_count": 36,
   "metadata": {
    "id": "1BTB8sGjwZf-"
   },
   "outputs": [],
   "source": [
    "#./data/canais_comunicacao.txt\n",
    "# Resposta esperada: judicializacao.sesdf@gmail.com\n",
    "query = \"Qual o email do Núcleo de Judicialização?\"\n",
    "top_result_context = qdrant.similarity_search(query = query, k = 3)"
   ]
  },
  {
   "cell_type": "code",
   "execution_count": 37,
   "metadata": {
    "id": "qiknE8jCwZf-"
   },
   "outputs": [],
   "source": [
    "#./data/sobre_nos.txt\n",
    "# Resposta esperada: A estrutura organizacional da unidade está ilustrada na imagem seguinte e pode ser consultada no site do Tribunal.\n",
    "query = \"Qual a estrutura organizacional?\"\n",
    "top_result_context = qdrant.similarity_search(query = query, k = 3)"
   ]
  },
  {
   "cell_type": "markdown",
   "metadata": {
    "id": "Ed80U-MiRwef"
   },
   "source": [
    "### Etapa 5: Construção do contexto com os embeddings mais similares\n",
    "\n",
    "A idéia é guiar o LLM para montar a resposta com base no contexto dos embeddings similares a pergunta."
   ]
  },
  {
   "cell_type": "code",
   "execution_count": 38,
   "metadata": {
    "id": "RHjCrY4RRtwk"
   },
   "outputs": [],
   "source": [
    "response_list = []\n",
    "context = \"\"\n",
    "mappings = {}\n",
    "\n",
    "for i, res in enumerate(top_result_context):\n",
    "    context += f\"{i}\\n{res.page_content}\\n\\n\"\n",
    "    mappings[i] = res.metadata.get(\"path\")\n",
    "    response_list.append({\"id\": i, \"path\": res.metadata.get(\"path\"), \"content\": res.page_content})"
   ]
  },
  {
   "cell_type": "code",
   "execution_count": 39,
   "metadata": {
    "colab": {
     "base_uri": "https://localhost:8080/",
     "height": 110
    },
    "id": "hSGj3XDSlixJ",
    "outputId": "8d45dfab-322c-4711-c838-8d58e3a466e1"
   },
   "outputs": [
    {
     "data": {
      "text/plain": [
       "'0\\nEstrutura organizacional da Ouvidoria:\\nA estrutura organizacional da unidade está ilustrada na imagem seguinte e pode ser consultada no site do Tribunal.\\n\\norganograma.png\\n\\nCOMPOSIÇÃO\\nOuvidora-Geral do Tribunal de Justiça do DF e dos Territórios\\nDesembargadora Maria de Lourdes Abreu\\n\\nOuvidor-Geral Substituto do Tribunal de Justiça do DF e dos Territórios\\nDesembargador José Firmo Reis Soub\\n\\nCoordenação\\nMarília Barbosa de Barcelos - Secretária da Ouvidoria-Geral\\n\\n1\\nQual o prazo para envio da resposta à minha demanda?\\n\\n2\\n.\\n\\n'"
      ]
     },
     "execution_count": 39,
     "metadata": {},
     "output_type": "execute_result"
    }
   ],
   "source": [
    "context"
   ]
  },
  {
   "cell_type": "markdown",
   "metadata": {
    "id": "swTDb3alSFT3"
   },
   "source": [
    "### Etapa 6: Definição do prompt e mensagem a ser enviado ao LLM"
   ]
  },
  {
   "cell_type": "code",
   "execution_count": 40,
   "metadata": {
    "id": "F6Z_GX8OEde9"
   },
   "outputs": [],
   "source": [
    "prompt = {\"role\": \"system\",\n",
    "          \"content\": \"Responda à pergunta do usuário usando documentos fornecidos no contexto. No contexto estão documentos que devem conter uma resposta. Use apenas o contexo para responder. Monte uma resposta curta e objetiva. Responda sempre em português.\"}\n",
    "messages = [prompt, {\"role\": \"user\", \"content\": f\"Documents:\\n{context}\\n\\nQuestion: {query}\"}]\n"
   ]
  },
  {
   "cell_type": "markdown",
   "metadata": {
    "id": "yNq1kLgrSbCk"
   },
   "source": [
    "### Etapa 7: Acesso ao LLM escolhido\n",
    "\n",
    "Parâmetros:\n",
    "\n",
    "*  **model:** Nome do modelo a ser utilizado.\n",
    "*  **messages:** Lista de mensagens que formam o contexto da conversa.\n",
    "*  **temperature:** Controla a aleatoriedade da geração de texto.  Valores mais baixos tornam a resposta mais determinística, enquanto valores mais altos aumentam a diversidade.\n",
    "*  **top_p:** Controla a amostragem de núcleo para limitar a probabilidade acumulada. Define o limite de probabilidade acumulada para considerar as próximas palavras. Se top_p=1, considera todas as palavras possíveis.\n",
    "*  **max_tokens:** Define o número máximo de tokens (palavras ou subpalavras) que podem ser gerados na resposta.\n",
    "*  **stream:** Define se a resposta será transmitida em tempo real ou retornada de uma vez."
   ]
  },
  {
   "cell_type": "code",
   "execution_count": 41,
   "metadata": {
    "id": "DPCiYZd8DBbV"
   },
   "outputs": [],
   "source": [
    "answer = client.chat.completions.create(\n",
    "  model=\"meta/llama-3.1-405b-instruct\",\n",
    "  messages=messages,\n",
    "  temperature=0.2,\n",
    "  top_p=1,\n",
    "  max_tokens=1024,\n",
    "  stream=False\n",
    ")"
   ]
  },
  {
   "cell_type": "code",
   "execution_count": 42,
   "metadata": {
    "colab": {
     "base_uri": "https://localhost:8080/"
    },
    "id": "9feUxh0MFX5K",
    "outputId": "fb4514b9-2d09-43ef-d503-bd59d5ec925a"
   },
   "outputs": [
    {
     "name": "stdout",
     "output_type": "stream",
     "text": [
      "\"Resposta\": A estrutura organizacional da Ouvidoria está ilustrada no organograma e pode ser consultada no site do Tribunal.\n"
     ]
    }
   ],
   "source": [
    "print(f'\"Resposta\": {answer.choices[0].message.content}')"
   ]
  },
  {
   "cell_type": "code",
   "execution_count": 43,
   "metadata": {
    "colab": {
     "base_uri": "https://localhost:8080/"
    },
    "id": "A1qsTrnqKUUG",
    "outputId": "67f4912e-bb66-4e32-f58f-04ce8ab8c6fe"
   },
   "outputs": [
    {
     "name": "stdout",
     "output_type": "stream",
     "text": [
      "\"Contexto\": {'id': 0, 'path': '../data/sobre_nos.txt', 'content': 'Estrutura organizacional da Ouvidoria:\\nA estrutura organizacional da unidade está ilustrada na imagem seguinte e pode ser consultada no site do Tribunal.\\n\\norganograma.png\\n\\nCOMPOSIÇÃO\\nOuvidora-Geral do Tribunal de Justiça do DF e dos Territórios\\nDesembargadora Maria de Lourdes Abreu\\n\\nOuvidor-Geral Substituto do Tribunal de Justiça do DF e dos Territórios\\nDesembargador José Firmo Reis Soub\\n\\nCoordenação\\nMarília Barbosa de Barcelos - Secretária da Ouvidoria-Geral'}\n",
      "\"Contexto\": {'id': 1, 'path': '../data/atendimento_ao_cidadao.txt', 'content': 'Qual o prazo para envio da resposta à minha demanda?'}\n",
      "\"Contexto\": {'id': 2, 'path': '../data/historico.txt', 'content': '.'}\n"
     ]
    }
   ],
   "source": [
    "print(f'\"Contexto\": {response_list[0]}')\n",
    "print(f'\"Contexto\": {response_list[1]}')\n",
    "print(f'\"Contexto\": {response_list[2]}')"
   ]
  },
  {
   "cell_type": "code",
   "execution_count": null,
   "metadata": {},
   "outputs": [],
   "source": [
    "!streamlit run ../app_model.py"
   ]
  },
  {
   "cell_type": "markdown",
   "metadata": {
    "id": "jF_1rRKan0iy"
   },
   "source": [
    "# Para uma resposta em tempo real (streaming)"
   ]
  },
  {
   "cell_type": "code",
   "execution_count": 44,
   "metadata": {
    "colab": {
     "base_uri": "https://localhost:8080/"
    },
    "id": "Z83VknoenO01",
    "outputId": "951e6a4d-5171-4dcd-d571-a8aa323a00d1"
   },
   "outputs": [
    {
     "name": "stdout",
     "output_type": "stream",
     "text": [
      "A estrutura organizacional da Ouvidoria está ilustrada no organograma e pode ser consultada no site do Tribunal.\"Resposta\": A estrutura organizacional da Ouvidoria está ilustrada no organograma e pode ser consultada no site do Tribunal.\n"
     ]
    }
   ],
   "source": [
    "def handle_streaming_response(stream_response):\n",
    "    answer = \"\"\n",
    "    for chunk in stream_response:\n",
    "        if chunk.choices[0].delta.content:\n",
    "            content = chunk.choices[0].delta.content\n",
    "            answer += content\n",
    "            print(content, end='')\n",
    "    return answer\n",
    "\n",
    "stream_response = client.chat.completions.create(\n",
    "    model=\"meta/llama-3.1-405b-instruct\",\n",
    "    messages=messages,\n",
    "    temperature=0.2,\n",
    "    top_p=1,\n",
    "    max_tokens=1024,\n",
    "    stream=True\n",
    ")\n",
    "\n",
    "answer = handle_streaming_response(stream_response)\n",
    "print(f'\"Resposta\": {answer}')\n"
   ]
  },
  {
   "cell_type": "markdown",
   "metadata": {
    "id": "BL9Wi3E1wsCQ"
   },
   "source": [
    "# Métricas de avaliação\n",
    "\n",
    "\n",
    "1. **Fidelidade**: grau em que o texto gerado reflete com precisão as informações presentes nos documentos de origem recuperados.\n",
    "\n",
    "2. **Relevância das Respostas**: Mede a relevância das respostas geradas para as questões colocadas. Determina a utilidade do pipeline RAG em aplicações práticas.\n",
    "\n",
    "3.  **Recuperação de Contexto**: Avalia a capacidade do sistema RAG de recuperar todas as informações relevantes das fontes de dados externas. Uma elevada recuperação de contexto é indicativa de um sistema que pode utilizar de forma abrangente os dados disponíveis.\n",
    "\n",
    "4.  **Precisão do Contexto**: Em contraste com a recuperação, a precisão do contexto mede a proporção de informação recuperada que é relevante para a tarefa em questão. Essa métrica garante que o sistema RAG filtre com eficiência dados estranhos, concentrando-se na qualidade e não na quantidade em seu processo de aumento.\n",
    "\n",
    "5.  **Relevância do Contexto**: Combina aspectos de recuperação e precisão, avaliando a relevância geral do contexto utilizado pelo sistema RAG. Esta métrica sublinha a importância de uma abordagem equilibrada à recuperação de dados, onde tanto a amplitude como a especificidade da informação são otimizadas.\n",
    "\n",
    "6.  **Similaridade Semântica das Respostas**: Esta métrica avalia o alinhamento semântico entre as respostas geradas e a verdade básica (ou respostas esperadas), levando em consideração as nuances da linguagem. É essencial verificar se o sistema RAG capta os significados e não apenas os aspectos superficiais das respostas.\n",
    "\n",
    "7.  **Correção das Respostas**: Além da relevância e semelhança semântica, a correção das respostas avalia diretamente a precisão das informações fornecidas no texto gerado. Esta métrica é fundamental para garantir que os LLMs aumentados por RAG atuem como fontes confiáveis de informação.\n",
    "\n",
    "https://blog.dsacademy.com.br/principais-metricas-para-avaliar-pipelines-rag-com-llms/"
   ]
  }
 ],
 "metadata": {
  "colab": {
   "provenance": []
  },
  "kernelspec": {
   "display_name": "Python 3 (ipykernel)",
   "language": "python",
   "name": "python3"
  },
  "language_info": {
   "codemirror_mode": {
    "name": "ipython",
    "version": 3
   },
   "file_extension": ".py",
   "mimetype": "text/x-python",
   "name": "python",
   "nbconvert_exporter": "python",
   "pygments_lexer": "ipython3",
   "version": "3.12.4"
  },
  "widgets": {
   "application/vnd.jupyter.widget-state+json": {
    "0006dd1fbd8b418eb5dbe4e4148ea91a": {
     "model_module": "@jupyter-widgets/base",
     "model_module_version": "1.2.0",
     "model_name": "LayoutModel",
     "state": {
      "_model_module": "@jupyter-widgets/base",
      "_model_module_version": "1.2.0",
      "_model_name": "LayoutModel",
      "_view_count": null,
      "_view_module": "@jupyter-widgets/base",
      "_view_module_version": "1.2.0",
      "_view_name": "LayoutView",
      "align_content": null,
      "align_items": null,
      "align_self": null,
      "border": null,
      "bottom": null,
      "display": null,
      "flex": null,
      "flex_flow": null,
      "grid_area": null,
      "grid_auto_columns": null,
      "grid_auto_flow": null,
      "grid_auto_rows": null,
      "grid_column": null,
      "grid_gap": null,
      "grid_row": null,
      "grid_template_areas": null,
      "grid_template_columns": null,
      "grid_template_rows": null,
      "height": null,
      "justify_content": null,
      "justify_items": null,
      "left": null,
      "margin": null,
      "max_height": null,
      "max_width": null,
      "min_height": null,
      "min_width": null,
      "object_fit": null,
      "object_position": null,
      "order": null,
      "overflow": null,
      "overflow_x": null,
      "overflow_y": null,
      "padding": null,
      "right": null,
      "top": null,
      "visibility": null,
      "width": null
     }
    },
    "00bbfd5cd1664a8fa814153866c48dd6": {
     "model_module": "@jupyter-widgets/controls",
     "model_module_version": "1.5.0",
     "model_name": "DescriptionStyleModel",
     "state": {
      "_model_module": "@jupyter-widgets/controls",
      "_model_module_version": "1.5.0",
      "_model_name": "DescriptionStyleModel",
      "_view_count": null,
      "_view_module": "@jupyter-widgets/base",
      "_view_module_version": "1.2.0",
      "_view_name": "StyleView",
      "description_width": ""
     }
    },
    "03537911db8b409eabab8c2955c3bd67": {
     "model_module": "@jupyter-widgets/controls",
     "model_module_version": "1.5.0",
     "model_name": "FloatProgressModel",
     "state": {
      "_dom_classes": [],
      "_model_module": "@jupyter-widgets/controls",
      "_model_module_version": "1.5.0",
      "_model_name": "FloatProgressModel",
      "_view_count": null,
      "_view_module": "@jupyter-widgets/controls",
      "_view_module_version": "1.5.0",
      "_view_name": "ProgressView",
      "bar_style": "success",
      "description": "",
      "description_tooltip": null,
      "layout": "IPY_MODEL_be85af2b30224934bcf1d03cc8c0bbdd",
      "max": 190,
      "min": 0,
      "orientation": "horizontal",
      "style": "IPY_MODEL_a30e0c5108334c2695b9130deab31f9c",
      "value": 190
     }
    },
    "03e2cf09679547bda65579e77dbd6467": {
     "model_module": "@jupyter-widgets/base",
     "model_module_version": "1.2.0",
     "model_name": "LayoutModel",
     "state": {
      "_model_module": "@jupyter-widgets/base",
      "_model_module_version": "1.2.0",
      "_model_name": "LayoutModel",
      "_view_count": null,
      "_view_module": "@jupyter-widgets/base",
      "_view_module_version": "1.2.0",
      "_view_name": "LayoutView",
      "align_content": null,
      "align_items": null,
      "align_self": null,
      "border": null,
      "bottom": null,
      "display": null,
      "flex": null,
      "flex_flow": null,
      "grid_area": null,
      "grid_auto_columns": null,
      "grid_auto_flow": null,
      "grid_auto_rows": null,
      "grid_column": null,
      "grid_gap": null,
      "grid_row": null,
      "grid_template_areas": null,
      "grid_template_columns": null,
      "grid_template_rows": null,
      "height": null,
      "justify_content": null,
      "justify_items": null,
      "left": null,
      "margin": null,
      "max_height": null,
      "max_width": null,
      "min_height": null,
      "min_width": null,
      "object_fit": null,
      "object_position": null,
      "order": null,
      "overflow": null,
      "overflow_x": null,
      "overflow_y": null,
      "padding": null,
      "right": null,
      "top": null,
      "visibility": null,
      "width": null
     }
    },
    "053f2658ea74479c8d6a1edabe7320d8": {
     "model_module": "@jupyter-widgets/controls",
     "model_module_version": "1.5.0",
     "model_name": "HTMLModel",
     "state": {
      "_dom_classes": [],
      "_model_module": "@jupyter-widgets/controls",
      "_model_module_version": "1.5.0",
      "_model_name": "HTMLModel",
      "_view_count": null,
      "_view_module": "@jupyter-widgets/controls",
      "_view_module_version": "1.5.0",
      "_view_name": "HTMLView",
      "description": "",
      "description_tooltip": null,
      "layout": "IPY_MODEL_ea6885d1cfa04e458855ddac12139c88",
      "placeholder": "​",
      "style": "IPY_MODEL_768d3f90e6e44ef5ac04216a0e178bbc",
      "value": " 461/461 [00:00&lt;00:00, 31.1kB/s]"
     }
    },
    "06e59b2b92374eb98518e278bf673b8e": {
     "model_module": "@jupyter-widgets/base",
     "model_module_version": "1.2.0",
     "model_name": "LayoutModel",
     "state": {
      "_model_module": "@jupyter-widgets/base",
      "_model_module_version": "1.2.0",
      "_model_name": "LayoutModel",
      "_view_count": null,
      "_view_module": "@jupyter-widgets/base",
      "_view_module_version": "1.2.0",
      "_view_name": "LayoutView",
      "align_content": null,
      "align_items": null,
      "align_self": null,
      "border": null,
      "bottom": null,
      "display": null,
      "flex": null,
      "flex_flow": null,
      "grid_area": null,
      "grid_auto_columns": null,
      "grid_auto_flow": null,
      "grid_auto_rows": null,
      "grid_column": null,
      "grid_gap": null,
      "grid_row": null,
      "grid_template_areas": null,
      "grid_template_columns": null,
      "grid_template_rows": null,
      "height": null,
      "justify_content": null,
      "justify_items": null,
      "left": null,
      "margin": null,
      "max_height": null,
      "max_width": null,
      "min_height": null,
      "min_width": null,
      "object_fit": null,
      "object_position": null,
      "order": null,
      "overflow": null,
      "overflow_x": null,
      "overflow_y": null,
      "padding": null,
      "right": null,
      "top": null,
      "visibility": null,
      "width": null
     }
    },
    "072c7b1ad63e40fcb70d7f8838c2fda0": {
     "model_module": "@jupyter-widgets/controls",
     "model_module_version": "1.5.0",
     "model_name": "ProgressStyleModel",
     "state": {
      "_model_module": "@jupyter-widgets/controls",
      "_model_module_version": "1.5.0",
      "_model_name": "ProgressStyleModel",
      "_view_count": null,
      "_view_module": "@jupyter-widgets/base",
      "_view_module_version": "1.2.0",
      "_view_name": "StyleView",
      "bar_color": null,
      "description_width": ""
     }
    },
    "0a28dc77a51648ce8010fc09d70d434b": {
     "model_module": "@jupyter-widgets/base",
     "model_module_version": "1.2.0",
     "model_name": "LayoutModel",
     "state": {
      "_model_module": "@jupyter-widgets/base",
      "_model_module_version": "1.2.0",
      "_model_name": "LayoutModel",
      "_view_count": null,
      "_view_module": "@jupyter-widgets/base",
      "_view_module_version": "1.2.0",
      "_view_name": "LayoutView",
      "align_content": null,
      "align_items": null,
      "align_self": null,
      "border": null,
      "bottom": null,
      "display": null,
      "flex": null,
      "flex_flow": null,
      "grid_area": null,
      "grid_auto_columns": null,
      "grid_auto_flow": null,
      "grid_auto_rows": null,
      "grid_column": null,
      "grid_gap": null,
      "grid_row": null,
      "grid_template_areas": null,
      "grid_template_columns": null,
      "grid_template_rows": null,
      "height": null,
      "justify_content": null,
      "justify_items": null,
      "left": null,
      "margin": null,
      "max_height": null,
      "max_width": null,
      "min_height": null,
      "min_width": null,
      "object_fit": null,
      "object_position": null,
      "order": null,
      "overflow": null,
      "overflow_x": null,
      "overflow_y": null,
      "padding": null,
      "right": null,
      "top": null,
      "visibility": null,
      "width": null
     }
    },
    "0cd56ad613134294be8b72ce40066031": {
     "model_module": "@jupyter-widgets/base",
     "model_module_version": "1.2.0",
     "model_name": "LayoutModel",
     "state": {
      "_model_module": "@jupyter-widgets/base",
      "_model_module_version": "1.2.0",
      "_model_name": "LayoutModel",
      "_view_count": null,
      "_view_module": "@jupyter-widgets/base",
      "_view_module_version": "1.2.0",
      "_view_name": "LayoutView",
      "align_content": null,
      "align_items": null,
      "align_self": null,
      "border": null,
      "bottom": null,
      "display": null,
      "flex": null,
      "flex_flow": null,
      "grid_area": null,
      "grid_auto_columns": null,
      "grid_auto_flow": null,
      "grid_auto_rows": null,
      "grid_column": null,
      "grid_gap": null,
      "grid_row": null,
      "grid_template_areas": null,
      "grid_template_columns": null,
      "grid_template_rows": null,
      "height": null,
      "justify_content": null,
      "justify_items": null,
      "left": null,
      "margin": null,
      "max_height": null,
      "max_width": null,
      "min_height": null,
      "min_width": null,
      "object_fit": null,
      "object_position": null,
      "order": null,
      "overflow": null,
      "overflow_x": null,
      "overflow_y": null,
      "padding": null,
      "right": null,
      "top": null,
      "visibility": null,
      "width": null
     }
    },
    "0cdf5eab43bd444ba55939927bf50235": {
     "model_module": "@jupyter-widgets/controls",
     "model_module_version": "1.5.0",
     "model_name": "HBoxModel",
     "state": {
      "_dom_classes": [],
      "_model_module": "@jupyter-widgets/controls",
      "_model_module_version": "1.5.0",
      "_model_name": "HBoxModel",
      "_view_count": null,
      "_view_module": "@jupyter-widgets/controls",
      "_view_module_version": "1.5.0",
      "_view_name": "HBoxView",
      "box_style": "",
      "children": [
       "IPY_MODEL_935b3aa5b61540a39bfd1c350fae6cc9",
       "IPY_MODEL_614a3f9c4a554304b818b0728eb2a4ce",
       "IPY_MODEL_152bdc5ce4c6495888d31994eb8edef0"
      ],
      "layout": "IPY_MODEL_0a28dc77a51648ce8010fc09d70d434b"
     }
    },
    "0ecdbc4a133a4c2f894535e673227573": {
     "model_module": "@jupyter-widgets/base",
     "model_module_version": "1.2.0",
     "model_name": "LayoutModel",
     "state": {
      "_model_module": "@jupyter-widgets/base",
      "_model_module_version": "1.2.0",
      "_model_name": "LayoutModel",
      "_view_count": null,
      "_view_module": "@jupyter-widgets/base",
      "_view_module_version": "1.2.0",
      "_view_name": "LayoutView",
      "align_content": null,
      "align_items": null,
      "align_self": null,
      "border": null,
      "bottom": null,
      "display": null,
      "flex": null,
      "flex_flow": null,
      "grid_area": null,
      "grid_auto_columns": null,
      "grid_auto_flow": null,
      "grid_auto_rows": null,
      "grid_column": null,
      "grid_gap": null,
      "grid_row": null,
      "grid_template_areas": null,
      "grid_template_columns": null,
      "grid_template_rows": null,
      "height": null,
      "justify_content": null,
      "justify_items": null,
      "left": null,
      "margin": null,
      "max_height": null,
      "max_width": null,
      "min_height": null,
      "min_width": null,
      "object_fit": null,
      "object_position": null,
      "order": null,
      "overflow": null,
      "overflow_x": null,
      "overflow_y": null,
      "padding": null,
      "right": null,
      "top": null,
      "visibility": null,
      "width": null
     }
    },
    "0f4a491028df41aabe89c3d43a34fb9f": {
     "model_module": "@jupyter-widgets/base",
     "model_module_version": "1.2.0",
     "model_name": "LayoutModel",
     "state": {
      "_model_module": "@jupyter-widgets/base",
      "_model_module_version": "1.2.0",
      "_model_name": "LayoutModel",
      "_view_count": null,
      "_view_module": "@jupyter-widgets/base",
      "_view_module_version": "1.2.0",
      "_view_name": "LayoutView",
      "align_content": null,
      "align_items": null,
      "align_self": null,
      "border": null,
      "bottom": null,
      "display": null,
      "flex": null,
      "flex_flow": null,
      "grid_area": null,
      "grid_auto_columns": null,
      "grid_auto_flow": null,
      "grid_auto_rows": null,
      "grid_column": null,
      "grid_gap": null,
      "grid_row": null,
      "grid_template_areas": null,
      "grid_template_columns": null,
      "grid_template_rows": null,
      "height": null,
      "justify_content": null,
      "justify_items": null,
      "left": null,
      "margin": null,
      "max_height": null,
      "max_width": null,
      "min_height": null,
      "min_width": null,
      "object_fit": null,
      "object_position": null,
      "order": null,
      "overflow": null,
      "overflow_x": null,
      "overflow_y": null,
      "padding": null,
      "right": null,
      "top": null,
      "visibility": null,
      "width": null
     }
    },
    "10c9c526330e483a8863274b662dac36": {
     "model_module": "@jupyter-widgets/controls",
     "model_module_version": "1.5.0",
     "model_name": "DescriptionStyleModel",
     "state": {
      "_model_module": "@jupyter-widgets/controls",
      "_model_module_version": "1.5.0",
      "_model_name": "DescriptionStyleModel",
      "_view_count": null,
      "_view_module": "@jupyter-widgets/base",
      "_view_module_version": "1.2.0",
      "_view_name": "StyleView",
      "description_width": ""
     }
    },
    "1471179d6745473f8af026046d946322": {
     "model_module": "@jupyter-widgets/controls",
     "model_module_version": "1.5.0",
     "model_name": "HBoxModel",
     "state": {
      "_dom_classes": [],
      "_model_module": "@jupyter-widgets/controls",
      "_model_module_version": "1.5.0",
      "_model_name": "HBoxModel",
      "_view_count": null,
      "_view_module": "@jupyter-widgets/controls",
      "_view_module_version": "1.5.0",
      "_view_name": "HBoxView",
      "box_style": "",
      "children": [
       "IPY_MODEL_c79343e1805d4123a0ec45d27655df42",
       "IPY_MODEL_4c4b6f03aed9445ea4ca0a2a662577a6",
       "IPY_MODEL_43ac34d3f151453e93f3b0b5dd5036fe"
      ],
      "layout": "IPY_MODEL_c6db4b7180ed42cdad05c54c5e95a00c"
     }
    },
    "152bdc5ce4c6495888d31994eb8edef0": {
     "model_module": "@jupyter-widgets/controls",
     "model_module_version": "1.5.0",
     "model_name": "HTMLModel",
     "state": {
      "_dom_classes": [],
      "_model_module": "@jupyter-widgets/controls",
      "_model_module_version": "1.5.0",
      "_model_name": "HTMLModel",
      "_view_count": null,
      "_view_module": "@jupyter-widgets/controls",
      "_view_module_version": "1.5.0",
      "_view_name": "HTMLView",
      "description": "",
      "description_tooltip": null,
      "layout": "IPY_MODEL_2c46dacd0e4342e58051beb1fcdf7a09",
      "placeholder": "​",
      "style": "IPY_MODEL_840a922669c445968ad4448bb21d4798",
      "value": " 466k/466k [00:00&lt;00:00, 738kB/s]"
     }
    },
    "17a682582ace45d6b71cee25087b2a5b": {
     "model_module": "@jupyter-widgets/controls",
     "model_module_version": "1.5.0",
     "model_name": "DescriptionStyleModel",
     "state": {
      "_model_module": "@jupyter-widgets/controls",
      "_model_module_version": "1.5.0",
      "_model_name": "DescriptionStyleModel",
      "_view_count": null,
      "_view_module": "@jupyter-widgets/base",
      "_view_module_version": "1.2.0",
      "_view_name": "StyleView",
      "description_width": ""
     }
    },
    "1862d570e39246c39f9a14d966ec5faf": {
     "model_module": "@jupyter-widgets/controls",
     "model_module_version": "1.5.0",
     "model_name": "HTMLModel",
     "state": {
      "_dom_classes": [],
      "_model_module": "@jupyter-widgets/controls",
      "_model_module_version": "1.5.0",
      "_model_name": "HTMLModel",
      "_view_count": null,
      "_view_module": "@jupyter-widgets/controls",
      "_view_module_version": "1.5.0",
      "_view_name": "HTMLView",
      "description": "",
      "description_tooltip": null,
      "layout": "IPY_MODEL_cbdb9a8ac18c4529852ada6537076951",
      "placeholder": "​",
      "style": "IPY_MODEL_10c9c526330e483a8863274b662dac36",
      "value": " 112/112 [00:00&lt;00:00, 7.29kB/s]"
     }
    },
    "1d0b6f02d1b846ca8cd06035d421dc8b": {
     "model_module": "@jupyter-widgets/base",
     "model_module_version": "1.2.0",
     "model_name": "LayoutModel",
     "state": {
      "_model_module": "@jupyter-widgets/base",
      "_model_module_version": "1.2.0",
      "_model_name": "LayoutModel",
      "_view_count": null,
      "_view_module": "@jupyter-widgets/base",
      "_view_module_version": "1.2.0",
      "_view_name": "LayoutView",
      "align_content": null,
      "align_items": null,
      "align_self": null,
      "border": null,
      "bottom": null,
      "display": null,
      "flex": null,
      "flex_flow": null,
      "grid_area": null,
      "grid_auto_columns": null,
      "grid_auto_flow": null,
      "grid_auto_rows": null,
      "grid_column": null,
      "grid_gap": null,
      "grid_row": null,
      "grid_template_areas": null,
      "grid_template_columns": null,
      "grid_template_rows": null,
      "height": null,
      "justify_content": null,
      "justify_items": null,
      "left": null,
      "margin": null,
      "max_height": null,
      "max_width": null,
      "min_height": null,
      "min_width": null,
      "object_fit": null,
      "object_position": null,
      "order": null,
      "overflow": null,
      "overflow_x": null,
      "overflow_y": null,
      "padding": null,
      "right": null,
      "top": null,
      "visibility": null,
      "width": null
     }
    },
    "1e3695beb3f944d583c9284dd4785603": {
     "model_module": "@jupyter-widgets/controls",
     "model_module_version": "1.5.0",
     "model_name": "ProgressStyleModel",
     "state": {
      "_model_module": "@jupyter-widgets/controls",
      "_model_module_version": "1.5.0",
      "_model_name": "ProgressStyleModel",
      "_view_count": null,
      "_view_module": "@jupyter-widgets/base",
      "_view_module_version": "1.2.0",
      "_view_name": "StyleView",
      "bar_color": null,
      "description_width": ""
     }
    },
    "21248fb8a8444d0e95b53c9a250b0aa6": {
     "model_module": "@jupyter-widgets/base",
     "model_module_version": "1.2.0",
     "model_name": "LayoutModel",
     "state": {
      "_model_module": "@jupyter-widgets/base",
      "_model_module_version": "1.2.0",
      "_model_name": "LayoutModel",
      "_view_count": null,
      "_view_module": "@jupyter-widgets/base",
      "_view_module_version": "1.2.0",
      "_view_name": "LayoutView",
      "align_content": null,
      "align_items": null,
      "align_self": null,
      "border": null,
      "bottom": null,
      "display": null,
      "flex": null,
      "flex_flow": null,
      "grid_area": null,
      "grid_auto_columns": null,
      "grid_auto_flow": null,
      "grid_auto_rows": null,
      "grid_column": null,
      "grid_gap": null,
      "grid_row": null,
      "grid_template_areas": null,
      "grid_template_columns": null,
      "grid_template_rows": null,
      "height": null,
      "justify_content": null,
      "justify_items": null,
      "left": null,
      "margin": null,
      "max_height": null,
      "max_width": null,
      "min_height": null,
      "min_width": null,
      "object_fit": null,
      "object_position": null,
      "order": null,
      "overflow": null,
      "overflow_x": null,
      "overflow_y": null,
      "padding": null,
      "right": null,
      "top": null,
      "visibility": null,
      "width": null
     }
    },
    "24f9bd4aa5eb423395df013f91c806cd": {
     "model_module": "@jupyter-widgets/controls",
     "model_module_version": "1.5.0",
     "model_name": "HBoxModel",
     "state": {
      "_dom_classes": [],
      "_model_module": "@jupyter-widgets/controls",
      "_model_module_version": "1.5.0",
      "_model_name": "HBoxModel",
      "_view_count": null,
      "_view_module": "@jupyter-widgets/controls",
      "_view_module_version": "1.5.0",
      "_view_name": "HBoxView",
      "box_style": "",
      "children": [
       "IPY_MODEL_c23bdd10f43147dab5e7fd48d3cb87c9",
       "IPY_MODEL_d1696eadc8b745b6ac3b64e03dc5c2bd",
       "IPY_MODEL_d50aea11d866434e93eba54d46b4d7ac"
      ],
      "layout": "IPY_MODEL_8a27393430fe421984551023cc8e3f95"
     }
    },
    "29fc5bab5b354f0dba6c06808cb08864": {
     "model_module": "@jupyter-widgets/controls",
     "model_module_version": "1.5.0",
     "model_name": "HBoxModel",
     "state": {
      "_dom_classes": [],
      "_model_module": "@jupyter-widgets/controls",
      "_model_module_version": "1.5.0",
      "_model_name": "HBoxModel",
      "_view_count": null,
      "_view_module": "@jupyter-widgets/controls",
      "_view_module_version": "1.5.0",
      "_view_name": "HBoxView",
      "box_style": "",
      "children": [
       "IPY_MODEL_aa25d308a6fb42fb886d61f80175bcbe",
       "IPY_MODEL_90002b26742c4c23935be13c8a8c7061",
       "IPY_MODEL_1862d570e39246c39f9a14d966ec5faf"
      ],
      "layout": "IPY_MODEL_3580353927f04fa78295897d3abaa7f6"
     }
    },
    "2c46dacd0e4342e58051beb1fcdf7a09": {
     "model_module": "@jupyter-widgets/base",
     "model_module_version": "1.2.0",
     "model_name": "LayoutModel",
     "state": {
      "_model_module": "@jupyter-widgets/base",
      "_model_module_version": "1.2.0",
      "_model_name": "LayoutModel",
      "_view_count": null,
      "_view_module": "@jupyter-widgets/base",
      "_view_module_version": "1.2.0",
      "_view_name": "LayoutView",
      "align_content": null,
      "align_items": null,
      "align_self": null,
      "border": null,
      "bottom": null,
      "display": null,
      "flex": null,
      "flex_flow": null,
      "grid_area": null,
      "grid_auto_columns": null,
      "grid_auto_flow": null,
      "grid_auto_rows": null,
      "grid_column": null,
      "grid_gap": null,
      "grid_row": null,
      "grid_template_areas": null,
      "grid_template_columns": null,
      "grid_template_rows": null,
      "height": null,
      "justify_content": null,
      "justify_items": null,
      "left": null,
      "margin": null,
      "max_height": null,
      "max_width": null,
      "min_height": null,
      "min_width": null,
      "object_fit": null,
      "object_position": null,
      "order": null,
      "overflow": null,
      "overflow_x": null,
      "overflow_y": null,
      "padding": null,
      "right": null,
      "top": null,
      "visibility": null,
      "width": null
     }
    },
    "2ffa83afe7f546ae9ed9457a5ccc535a": {
     "model_module": "@jupyter-widgets/controls",
     "model_module_version": "1.5.0",
     "model_name": "ProgressStyleModel",
     "state": {
      "_model_module": "@jupyter-widgets/controls",
      "_model_module_version": "1.5.0",
      "_model_name": "ProgressStyleModel",
      "_view_count": null,
      "_view_module": "@jupyter-widgets/base",
      "_view_module_version": "1.2.0",
      "_view_name": "StyleView",
      "bar_color": null,
      "description_width": ""
     }
    },
    "321884c4eb6046728012dc87160ac505": {
     "model_module": "@jupyter-widgets/controls",
     "model_module_version": "1.5.0",
     "model_name": "HBoxModel",
     "state": {
      "_dom_classes": [],
      "_model_module": "@jupyter-widgets/controls",
      "_model_module_version": "1.5.0",
      "_model_name": "HBoxModel",
      "_view_count": null,
      "_view_module": "@jupyter-widgets/controls",
      "_view_module_version": "1.5.0",
      "_view_name": "HBoxView",
      "box_style": "",
      "children": [
       "IPY_MODEL_defa5f6258a7487abd404dd1242fdd97",
       "IPY_MODEL_03537911db8b409eabab8c2955c3bd67",
       "IPY_MODEL_b01958eb98814047a244c7439958fc54"
      ],
      "layout": "IPY_MODEL_06e59b2b92374eb98518e278bf673b8e"
     }
    },
    "32f193c9f0bd48bf9958ae5b2f7a6999": {
     "model_module": "@jupyter-widgets/controls",
     "model_module_version": "1.5.0",
     "model_name": "DescriptionStyleModel",
     "state": {
      "_model_module": "@jupyter-widgets/controls",
      "_model_module_version": "1.5.0",
      "_model_name": "DescriptionStyleModel",
      "_view_count": null,
      "_view_module": "@jupyter-widgets/base",
      "_view_module_version": "1.2.0",
      "_view_name": "StyleView",
      "description_width": ""
     }
    },
    "3580353927f04fa78295897d3abaa7f6": {
     "model_module": "@jupyter-widgets/base",
     "model_module_version": "1.2.0",
     "model_name": "LayoutModel",
     "state": {
      "_model_module": "@jupyter-widgets/base",
      "_model_module_version": "1.2.0",
      "_model_name": "LayoutModel",
      "_view_count": null,
      "_view_module": "@jupyter-widgets/base",
      "_view_module_version": "1.2.0",
      "_view_name": "LayoutView",
      "align_content": null,
      "align_items": null,
      "align_self": null,
      "border": null,
      "bottom": null,
      "display": null,
      "flex": null,
      "flex_flow": null,
      "grid_area": null,
      "grid_auto_columns": null,
      "grid_auto_flow": null,
      "grid_auto_rows": null,
      "grid_column": null,
      "grid_gap": null,
      "grid_row": null,
      "grid_template_areas": null,
      "grid_template_columns": null,
      "grid_template_rows": null,
      "height": null,
      "justify_content": null,
      "justify_items": null,
      "left": null,
      "margin": null,
      "max_height": null,
      "max_width": null,
      "min_height": null,
      "min_width": null,
      "object_fit": null,
      "object_position": null,
      "order": null,
      "overflow": null,
      "overflow_x": null,
      "overflow_y": null,
      "padding": null,
      "right": null,
      "top": null,
      "visibility": null,
      "width": null
     }
    },
    "36508ebdbb9c466d8913f302a49cbe0f": {
     "model_module": "@jupyter-widgets/controls",
     "model_module_version": "1.5.0",
     "model_name": "HBoxModel",
     "state": {
      "_dom_classes": [],
      "_model_module": "@jupyter-widgets/controls",
      "_model_module_version": "1.5.0",
      "_model_name": "HBoxModel",
      "_view_count": null,
      "_view_module": "@jupyter-widgets/controls",
      "_view_module_version": "1.5.0",
      "_view_name": "HBoxView",
      "box_style": "",
      "children": [
       "IPY_MODEL_76bbeda220a744f6adaed6a1972a9f28",
       "IPY_MODEL_3e00cb15b6024374b8441b4086f8ac44",
       "IPY_MODEL_053f2658ea74479c8d6a1edabe7320d8"
      ],
      "layout": "IPY_MODEL_7b026f0eb18d4ded989edfb0f90150c2"
     }
    },
    "390eabb7817b4a7fa703875548b77fc3": {
     "model_module": "@jupyter-widgets/controls",
     "model_module_version": "1.5.0",
     "model_name": "HTMLModel",
     "state": {
      "_dom_classes": [],
      "_model_module": "@jupyter-widgets/controls",
      "_model_module_version": "1.5.0",
      "_model_name": "HTMLModel",
      "_view_count": null,
      "_view_module": "@jupyter-widgets/controls",
      "_view_module_version": "1.5.0",
      "_view_name": "HTMLView",
      "description": "",
      "description_tooltip": null,
      "layout": "IPY_MODEL_0006dd1fbd8b418eb5dbe4e4148ea91a",
      "placeholder": "​",
      "style": "IPY_MODEL_f6a848cda21b491c82cbaa0d270195a7",
      "value": " 232k/232k [00:00&lt;00:00, 488kB/s]"
     }
    },
    "3a8bd9fde6754ede8888c5216b1ff827": {
     "model_module": "@jupyter-widgets/base",
     "model_module_version": "1.2.0",
     "model_name": "LayoutModel",
     "state": {
      "_model_module": "@jupyter-widgets/base",
      "_model_module_version": "1.2.0",
      "_model_name": "LayoutModel",
      "_view_count": null,
      "_view_module": "@jupyter-widgets/base",
      "_view_module_version": "1.2.0",
      "_view_name": "LayoutView",
      "align_content": null,
      "align_items": null,
      "align_self": null,
      "border": null,
      "bottom": null,
      "display": null,
      "flex": null,
      "flex_flow": null,
      "grid_area": null,
      "grid_auto_columns": null,
      "grid_auto_flow": null,
      "grid_auto_rows": null,
      "grid_column": null,
      "grid_gap": null,
      "grid_row": null,
      "grid_template_areas": null,
      "grid_template_columns": null,
      "grid_template_rows": null,
      "height": null,
      "justify_content": null,
      "justify_items": null,
      "left": null,
      "margin": null,
      "max_height": null,
      "max_width": null,
      "min_height": null,
      "min_width": null,
      "object_fit": null,
      "object_position": null,
      "order": null,
      "overflow": null,
      "overflow_x": null,
      "overflow_y": null,
      "padding": null,
      "right": null,
      "top": null,
      "visibility": null,
      "width": null
     }
    },
    "3abdd9cac9d947538ed79725efbee2d3": {
     "model_module": "@jupyter-widgets/controls",
     "model_module_version": "1.5.0",
     "model_name": "HTMLModel",
     "state": {
      "_dom_classes": [],
      "_model_module": "@jupyter-widgets/controls",
      "_model_module_version": "1.5.0",
      "_model_name": "HTMLModel",
      "_view_count": null,
      "_view_module": "@jupyter-widgets/controls",
      "_view_module_version": "1.5.0",
      "_view_name": "HTMLView",
      "description": "",
      "description_tooltip": null,
      "layout": "IPY_MODEL_e8b4a453efe94830b0bc4cd69ae2f5e0",
      "placeholder": "​",
      "style": "IPY_MODEL_9ee97ee5f01241b2bfac7b04bd2924a1",
      "value": "vocab.txt: 100%"
     }
    },
    "3bccd99ebd2f4a798aab93e7ac31312d": {
     "model_module": "@jupyter-widgets/base",
     "model_module_version": "1.2.0",
     "model_name": "LayoutModel",
     "state": {
      "_model_module": "@jupyter-widgets/base",
      "_model_module_version": "1.2.0",
      "_model_name": "LayoutModel",
      "_view_count": null,
      "_view_module": "@jupyter-widgets/base",
      "_view_module_version": "1.2.0",
      "_view_name": "LayoutView",
      "align_content": null,
      "align_items": null,
      "align_self": null,
      "border": null,
      "bottom": null,
      "display": null,
      "flex": null,
      "flex_flow": null,
      "grid_area": null,
      "grid_auto_columns": null,
      "grid_auto_flow": null,
      "grid_auto_rows": null,
      "grid_column": null,
      "grid_gap": null,
      "grid_row": null,
      "grid_template_areas": null,
      "grid_template_columns": null,
      "grid_template_rows": null,
      "height": null,
      "justify_content": null,
      "justify_items": null,
      "left": null,
      "margin": null,
      "max_height": null,
      "max_width": null,
      "min_height": null,
      "min_width": null,
      "object_fit": null,
      "object_position": null,
      "order": null,
      "overflow": null,
      "overflow_x": null,
      "overflow_y": null,
      "padding": null,
      "right": null,
      "top": null,
      "visibility": null,
      "width": null
     }
    },
    "3e00cb15b6024374b8441b4086f8ac44": {
     "model_module": "@jupyter-widgets/controls",
     "model_module_version": "1.5.0",
     "model_name": "FloatProgressModel",
     "state": {
      "_dom_classes": [],
      "_model_module": "@jupyter-widgets/controls",
      "_model_module_version": "1.5.0",
      "_model_name": "FloatProgressModel",
      "_view_count": null,
      "_view_module": "@jupyter-widgets/controls",
      "_view_module_version": "1.5.0",
      "_view_name": "ProgressView",
      "bar_style": "success",
      "description": "",
      "description_tooltip": null,
      "layout": "IPY_MODEL_ad18d5a792fd4a5dae4f61ad743c7851",
      "max": 461,
      "min": 0,
      "orientation": "horizontal",
      "style": "IPY_MODEL_2ffa83afe7f546ae9ed9457a5ccc535a",
      "value": 461
     }
    },
    "41ea2267f70d4bbdaeb0b662a6a50034": {
     "model_module": "@jupyter-widgets/controls",
     "model_module_version": "1.5.0",
     "model_name": "DescriptionStyleModel",
     "state": {
      "_model_module": "@jupyter-widgets/controls",
      "_model_module_version": "1.5.0",
      "_model_name": "DescriptionStyleModel",
      "_view_count": null,
      "_view_module": "@jupyter-widgets/base",
      "_view_module_version": "1.2.0",
      "_view_name": "StyleView",
      "description_width": ""
     }
    },
    "43ac34d3f151453e93f3b0b5dd5036fe": {
     "model_module": "@jupyter-widgets/controls",
     "model_module_version": "1.5.0",
     "model_name": "HTMLModel",
     "state": {
      "_dom_classes": [],
      "_model_module": "@jupyter-widgets/controls",
      "_model_module_version": "1.5.0",
      "_model_name": "HTMLModel",
      "_view_count": null,
      "_view_module": "@jupyter-widgets/controls",
      "_view_module_version": "1.5.0",
      "_view_name": "HTMLView",
      "description": "",
      "description_tooltip": null,
      "layout": "IPY_MODEL_b504d9cd17534eb38deb25e51931c51c",
      "placeholder": "​",
      "style": "IPY_MODEL_57e2c4bbb27f40ca8205e5687204ca7b",
      "value": " 636/636 [00:00&lt;00:00, 38.6kB/s]"
     }
    },
    "446053381d2f40fe80770473ff6aa701": {
     "model_module": "@jupyter-widgets/base",
     "model_module_version": "1.2.0",
     "model_name": "LayoutModel",
     "state": {
      "_model_module": "@jupyter-widgets/base",
      "_model_module_version": "1.2.0",
      "_model_name": "LayoutModel",
      "_view_count": null,
      "_view_module": "@jupyter-widgets/base",
      "_view_module_version": "1.2.0",
      "_view_name": "LayoutView",
      "align_content": null,
      "align_items": null,
      "align_self": null,
      "border": null,
      "bottom": null,
      "display": null,
      "flex": null,
      "flex_flow": null,
      "grid_area": null,
      "grid_auto_columns": null,
      "grid_auto_flow": null,
      "grid_auto_rows": null,
      "grid_column": null,
      "grid_gap": null,
      "grid_row": null,
      "grid_template_areas": null,
      "grid_template_columns": null,
      "grid_template_rows": null,
      "height": null,
      "justify_content": null,
      "justify_items": null,
      "left": null,
      "margin": null,
      "max_height": null,
      "max_width": null,
      "min_height": null,
      "min_width": null,
      "object_fit": null,
      "object_position": null,
      "order": null,
      "overflow": null,
      "overflow_x": null,
      "overflow_y": null,
      "padding": null,
      "right": null,
      "top": null,
      "visibility": null,
      "width": null
     }
    },
    "4700a847b1f14c68afc3e3c7b119ee0d": {
     "model_module": "@jupyter-widgets/controls",
     "model_module_version": "1.5.0",
     "model_name": "ProgressStyleModel",
     "state": {
      "_model_module": "@jupyter-widgets/controls",
      "_model_module_version": "1.5.0",
      "_model_name": "ProgressStyleModel",
      "_view_count": null,
      "_view_module": "@jupyter-widgets/base",
      "_view_module_version": "1.2.0",
      "_view_name": "StyleView",
      "bar_color": null,
      "description_width": ""
     }
    },
    "4c4b6f03aed9445ea4ca0a2a662577a6": {
     "model_module": "@jupyter-widgets/controls",
     "model_module_version": "1.5.0",
     "model_name": "FloatProgressModel",
     "state": {
      "_dom_classes": [],
      "_model_module": "@jupyter-widgets/controls",
      "_model_module_version": "1.5.0",
      "_model_name": "FloatProgressModel",
      "_view_count": null,
      "_view_module": "@jupyter-widgets/controls",
      "_view_module_version": "1.5.0",
      "_view_name": "ProgressView",
      "bar_style": "success",
      "description": "",
      "description_tooltip": null,
      "layout": "IPY_MODEL_c4eed780be214e878550ee566e3d3445",
      "max": 636,
      "min": 0,
      "orientation": "horizontal",
      "style": "IPY_MODEL_9b66025edb904c6db6dd5f7bc145b1bc",
      "value": 636
     }
    },
    "51d59175f32f4468a1f96cf8861f1135": {
     "model_module": "@jupyter-widgets/controls",
     "model_module_version": "1.5.0",
     "model_name": "HTMLModel",
     "state": {
      "_dom_classes": [],
      "_model_module": "@jupyter-widgets/controls",
      "_model_module_version": "1.5.0",
      "_model_name": "HTMLModel",
      "_view_count": null,
      "_view_module": "@jupyter-widgets/controls",
      "_view_module_version": "1.5.0",
      "_view_name": "HTMLView",
      "description": "",
      "description_tooltip": null,
      "layout": "IPY_MODEL_efcb0a123bad4e32bf9717ff77ee0d1a",
      "placeholder": "​",
      "style": "IPY_MODEL_9b0afa4a12dd4368a31dfd009b57b08a",
      "value": "README.md: 100%"
     }
    },
    "53f2e3ff78a34d5493182c6c8a539955": {
     "model_module": "@jupyter-widgets/controls",
     "model_module_version": "1.5.0",
     "model_name": "DescriptionStyleModel",
     "state": {
      "_model_module": "@jupyter-widgets/controls",
      "_model_module_version": "1.5.0",
      "_model_name": "DescriptionStyleModel",
      "_view_count": null,
      "_view_module": "@jupyter-widgets/base",
      "_view_module_version": "1.2.0",
      "_view_name": "StyleView",
      "description_width": ""
     }
    },
    "57e2c4bbb27f40ca8205e5687204ca7b": {
     "model_module": "@jupyter-widgets/controls",
     "model_module_version": "1.5.0",
     "model_name": "DescriptionStyleModel",
     "state": {
      "_model_module": "@jupyter-widgets/controls",
      "_model_module_version": "1.5.0",
      "_model_name": "DescriptionStyleModel",
      "_view_count": null,
      "_view_module": "@jupyter-widgets/base",
      "_view_module_version": "1.2.0",
      "_view_name": "StyleView",
      "description_width": ""
     }
    },
    "588311ad82a1409682d0cf994c215a11": {
     "model_module": "@jupyter-widgets/controls",
     "model_module_version": "1.5.0",
     "model_name": "DescriptionStyleModel",
     "state": {
      "_model_module": "@jupyter-widgets/controls",
      "_model_module_version": "1.5.0",
      "_model_name": "DescriptionStyleModel",
      "_view_count": null,
      "_view_module": "@jupyter-widgets/base",
      "_view_module_version": "1.2.0",
      "_view_name": "StyleView",
      "description_width": ""
     }
    },
    "5cbd175753944dd2852c4c16d7d3fc14": {
     "model_module": "@jupyter-widgets/base",
     "model_module_version": "1.2.0",
     "model_name": "LayoutModel",
     "state": {
      "_model_module": "@jupyter-widgets/base",
      "_model_module_version": "1.2.0",
      "_model_name": "LayoutModel",
      "_view_count": null,
      "_view_module": "@jupyter-widgets/base",
      "_view_module_version": "1.2.0",
      "_view_name": "LayoutView",
      "align_content": null,
      "align_items": null,
      "align_self": null,
      "border": null,
      "bottom": null,
      "display": null,
      "flex": null,
      "flex_flow": null,
      "grid_area": null,
      "grid_auto_columns": null,
      "grid_auto_flow": null,
      "grid_auto_rows": null,
      "grid_column": null,
      "grid_gap": null,
      "grid_row": null,
      "grid_template_areas": null,
      "grid_template_columns": null,
      "grid_template_rows": null,
      "height": null,
      "justify_content": null,
      "justify_items": null,
      "left": null,
      "margin": null,
      "max_height": null,
      "max_width": null,
      "min_height": null,
      "min_width": null,
      "object_fit": null,
      "object_position": null,
      "order": null,
      "overflow": null,
      "overflow_x": null,
      "overflow_y": null,
      "padding": null,
      "right": null,
      "top": null,
      "visibility": null,
      "width": null
     }
    },
    "5cc47f07824045f186ecd82c333b2d65": {
     "model_module": "@jupyter-widgets/base",
     "model_module_version": "1.2.0",
     "model_name": "LayoutModel",
     "state": {
      "_model_module": "@jupyter-widgets/base",
      "_model_module_version": "1.2.0",
      "_model_name": "LayoutModel",
      "_view_count": null,
      "_view_module": "@jupyter-widgets/base",
      "_view_module_version": "1.2.0",
      "_view_name": "LayoutView",
      "align_content": null,
      "align_items": null,
      "align_self": null,
      "border": null,
      "bottom": null,
      "display": null,
      "flex": null,
      "flex_flow": null,
      "grid_area": null,
      "grid_auto_columns": null,
      "grid_auto_flow": null,
      "grid_auto_rows": null,
      "grid_column": null,
      "grid_gap": null,
      "grid_row": null,
      "grid_template_areas": null,
      "grid_template_columns": null,
      "grid_template_rows": null,
      "height": null,
      "justify_content": null,
      "justify_items": null,
      "left": null,
      "margin": null,
      "max_height": null,
      "max_width": null,
      "min_height": null,
      "min_width": null,
      "object_fit": null,
      "object_position": null,
      "order": null,
      "overflow": null,
      "overflow_x": null,
      "overflow_y": null,
      "padding": null,
      "right": null,
      "top": null,
      "visibility": null,
      "width": null
     }
    },
    "5d861c29e56540269b8c1e4fcf91a2eb": {
     "model_module": "@jupyter-widgets/controls",
     "model_module_version": "1.5.0",
     "model_name": "DescriptionStyleModel",
     "state": {
      "_model_module": "@jupyter-widgets/controls",
      "_model_module_version": "1.5.0",
      "_model_name": "DescriptionStyleModel",
      "_view_count": null,
      "_view_module": "@jupyter-widgets/base",
      "_view_module_version": "1.2.0",
      "_view_name": "StyleView",
      "description_width": ""
     }
    },
    "5de0635a894b4a37b19e2bef52f60a1d": {
     "model_module": "@jupyter-widgets/controls",
     "model_module_version": "1.5.0",
     "model_name": "HTMLModel",
     "state": {
      "_dom_classes": [],
      "_model_module": "@jupyter-widgets/controls",
      "_model_module_version": "1.5.0",
      "_model_name": "HTMLModel",
      "_view_count": null,
      "_view_module": "@jupyter-widgets/controls",
      "_view_module_version": "1.5.0",
      "_view_name": "HTMLView",
      "description": "",
      "description_tooltip": null,
      "layout": "IPY_MODEL_5cbd175753944dd2852c4c16d7d3fc14",
      "placeholder": "​",
      "style": "IPY_MODEL_922e4e8658c64929aa0cf7cb6b8504c5",
      "value": " 54.0/54.0 [00:00&lt;00:00, 3.29kB/s]"
     }
    },
    "614a3f9c4a554304b818b0728eb2a4ce": {
     "model_module": "@jupyter-widgets/controls",
     "model_module_version": "1.5.0",
     "model_name": "FloatProgressModel",
     "state": {
      "_dom_classes": [],
      "_model_module": "@jupyter-widgets/controls",
      "_model_module_version": "1.5.0",
      "_model_name": "FloatProgressModel",
      "_view_count": null,
      "_view_module": "@jupyter-widgets/controls",
      "_view_module_version": "1.5.0",
      "_view_name": "ProgressView",
      "bar_style": "success",
      "description": "",
      "description_tooltip": null,
      "layout": "IPY_MODEL_d6a741bf31d646b08fcf48fb69159ace",
      "max": 466248,
      "min": 0,
      "orientation": "horizontal",
      "style": "IPY_MODEL_072c7b1ad63e40fcb70d7f8838c2fda0",
      "value": 466248
     }
    },
    "6a3772cdb0064439b18ed00d5ff59c34": {
     "model_module": "@jupyter-widgets/controls",
     "model_module_version": "1.5.0",
     "model_name": "DescriptionStyleModel",
     "state": {
      "_model_module": "@jupyter-widgets/controls",
      "_model_module_version": "1.5.0",
      "_model_name": "DescriptionStyleModel",
      "_view_count": null,
      "_view_module": "@jupyter-widgets/base",
      "_view_module_version": "1.2.0",
      "_view_name": "StyleView",
      "description_width": ""
     }
    },
    "6b948a6dd13042958c56455f9b5718d7": {
     "model_module": "@jupyter-widgets/base",
     "model_module_version": "1.2.0",
     "model_name": "LayoutModel",
     "state": {
      "_model_module": "@jupyter-widgets/base",
      "_model_module_version": "1.2.0",
      "_model_name": "LayoutModel",
      "_view_count": null,
      "_view_module": "@jupyter-widgets/base",
      "_view_module_version": "1.2.0",
      "_view_name": "LayoutView",
      "align_content": null,
      "align_items": null,
      "align_self": null,
      "border": null,
      "bottom": null,
      "display": null,
      "flex": null,
      "flex_flow": null,
      "grid_area": null,
      "grid_auto_columns": null,
      "grid_auto_flow": null,
      "grid_auto_rows": null,
      "grid_column": null,
      "grid_gap": null,
      "grid_row": null,
      "grid_template_areas": null,
      "grid_template_columns": null,
      "grid_template_rows": null,
      "height": null,
      "justify_content": null,
      "justify_items": null,
      "left": null,
      "margin": null,
      "max_height": null,
      "max_width": null,
      "min_height": null,
      "min_width": null,
      "object_fit": null,
      "object_position": null,
      "order": null,
      "overflow": null,
      "overflow_x": null,
      "overflow_y": null,
      "padding": null,
      "right": null,
      "top": null,
      "visibility": null,
      "width": null
     }
    },
    "6e964f102b4e4667acaf63a8b4b83a5a": {
     "model_module": "@jupyter-widgets/controls",
     "model_module_version": "1.5.0",
     "model_name": "FloatProgressModel",
     "state": {
      "_dom_classes": [],
      "_model_module": "@jupyter-widgets/controls",
      "_model_module_version": "1.5.0",
      "_model_name": "FloatProgressModel",
      "_view_count": null,
      "_view_module": "@jupyter-widgets/controls",
      "_view_module_version": "1.5.0",
      "_view_name": "ProgressView",
      "bar_style": "success",
      "description": "",
      "description_tooltip": null,
      "layout": "IPY_MODEL_3bccd99ebd2f4a798aab93e7ac31312d",
      "max": 231508,
      "min": 0,
      "orientation": "horizontal",
      "style": "IPY_MODEL_d7d2d3451d9c434497b697bbf98c6474",
      "value": 231508
     }
    },
    "6f40477949524742809233784ec325c6": {
     "model_module": "@jupyter-widgets/controls",
     "model_module_version": "1.5.0",
     "model_name": "HBoxModel",
     "state": {
      "_dom_classes": [],
      "_model_module": "@jupyter-widgets/controls",
      "_model_module_version": "1.5.0",
      "_model_name": "HBoxModel",
      "_view_count": null,
      "_view_module": "@jupyter-widgets/controls",
      "_view_module_version": "1.5.0",
      "_view_name": "HBoxView",
      "box_style": "",
      "children": [
       "IPY_MODEL_7adcecad1f3a40608aa28762ee17ee34",
       "IPY_MODEL_ddeddbb30b014ddfaa519e0d59268891",
       "IPY_MODEL_d6a593db4a48473a85f1e3b971012e3e"
      ],
      "layout": "IPY_MODEL_3a8bd9fde6754ede8888c5216b1ff827"
     }
    },
    "768d3f90e6e44ef5ac04216a0e178bbc": {
     "model_module": "@jupyter-widgets/controls",
     "model_module_version": "1.5.0",
     "model_name": "DescriptionStyleModel",
     "state": {
      "_model_module": "@jupyter-widgets/controls",
      "_model_module_version": "1.5.0",
      "_model_name": "DescriptionStyleModel",
      "_view_count": null,
      "_view_module": "@jupyter-widgets/base",
      "_view_module_version": "1.2.0",
      "_view_name": "StyleView",
      "description_width": ""
     }
    },
    "76bbeda220a744f6adaed6a1972a9f28": {
     "model_module": "@jupyter-widgets/controls",
     "model_module_version": "1.5.0",
     "model_name": "HTMLModel",
     "state": {
      "_dom_classes": [],
      "_model_module": "@jupyter-widgets/controls",
      "_model_module_version": "1.5.0",
      "_model_name": "HTMLModel",
      "_view_count": null,
      "_view_module": "@jupyter-widgets/controls",
      "_view_module_version": "1.5.0",
      "_view_name": "HTMLView",
      "description": "",
      "description_tooltip": null,
      "layout": "IPY_MODEL_87c34081499c4b02b92c87a33a9669a6",
      "placeholder": "​",
      "style": "IPY_MODEL_c9ffeffc9cd244409d1cfb7c3d3d80cd",
      "value": "tokenizer_config.json: 100%"
     }
    },
    "76ef25840e67478080763fed7c33261f": {
     "model_module": "@jupyter-widgets/base",
     "model_module_version": "1.2.0",
     "model_name": "LayoutModel",
     "state": {
      "_model_module": "@jupyter-widgets/base",
      "_model_module_version": "1.2.0",
      "_model_name": "LayoutModel",
      "_view_count": null,
      "_view_module": "@jupyter-widgets/base",
      "_view_module_version": "1.2.0",
      "_view_name": "LayoutView",
      "align_content": null,
      "align_items": null,
      "align_self": null,
      "border": null,
      "bottom": null,
      "display": null,
      "flex": null,
      "flex_flow": null,
      "grid_area": null,
      "grid_auto_columns": null,
      "grid_auto_flow": null,
      "grid_auto_rows": null,
      "grid_column": null,
      "grid_gap": null,
      "grid_row": null,
      "grid_template_areas": null,
      "grid_template_columns": null,
      "grid_template_rows": null,
      "height": null,
      "justify_content": null,
      "justify_items": null,
      "left": null,
      "margin": null,
      "max_height": null,
      "max_width": null,
      "min_height": null,
      "min_width": null,
      "object_fit": null,
      "object_position": null,
      "order": null,
      "overflow": null,
      "overflow_x": null,
      "overflow_y": null,
      "padding": null,
      "right": null,
      "top": null,
      "visibility": null,
      "width": null
     }
    },
    "77a97f65e0214c3a8ea97dcba32e3a5e": {
     "model_module": "@jupyter-widgets/controls",
     "model_module_version": "1.5.0",
     "model_name": "HBoxModel",
     "state": {
      "_dom_classes": [],
      "_model_module": "@jupyter-widgets/controls",
      "_model_module_version": "1.5.0",
      "_model_name": "HBoxModel",
      "_view_count": null,
      "_view_module": "@jupyter-widgets/controls",
      "_view_module_version": "1.5.0",
      "_view_name": "HBoxView",
      "box_style": "",
      "children": [
       "IPY_MODEL_3abdd9cac9d947538ed79725efbee2d3",
       "IPY_MODEL_6e964f102b4e4667acaf63a8b4b83a5a",
       "IPY_MODEL_390eabb7817b4a7fa703875548b77fc3"
      ],
      "layout": "IPY_MODEL_f28d6ff3046a42549120073a018dc60d"
     }
    },
    "7adcecad1f3a40608aa28762ee17ee34": {
     "model_module": "@jupyter-widgets/controls",
     "model_module_version": "1.5.0",
     "model_name": "HTMLModel",
     "state": {
      "_dom_classes": [],
      "_model_module": "@jupyter-widgets/controls",
      "_model_module_version": "1.5.0",
      "_model_name": "HTMLModel",
      "_view_count": null,
      "_view_module": "@jupyter-widgets/controls",
      "_view_module_version": "1.5.0",
      "_view_name": "HTMLView",
      "description": "",
      "description_tooltip": null,
      "layout": "IPY_MODEL_fce2f28def784f398ed243417ba8d1ad",
      "placeholder": "​",
      "style": "IPY_MODEL_82456159f4dd4166b076983a182c9f56",
      "value": "model.safetensors: 100%"
     }
    },
    "7b026f0eb18d4ded989edfb0f90150c2": {
     "model_module": "@jupyter-widgets/base",
     "model_module_version": "1.2.0",
     "model_name": "LayoutModel",
     "state": {
      "_model_module": "@jupyter-widgets/base",
      "_model_module_version": "1.2.0",
      "_model_name": "LayoutModel",
      "_view_count": null,
      "_view_module": "@jupyter-widgets/base",
      "_view_module_version": "1.2.0",
      "_view_name": "LayoutView",
      "align_content": null,
      "align_items": null,
      "align_self": null,
      "border": null,
      "bottom": null,
      "display": null,
      "flex": null,
      "flex_flow": null,
      "grid_area": null,
      "grid_auto_columns": null,
      "grid_auto_flow": null,
      "grid_auto_rows": null,
      "grid_column": null,
      "grid_gap": null,
      "grid_row": null,
      "grid_template_areas": null,
      "grid_template_columns": null,
      "grid_template_rows": null,
      "height": null,
      "justify_content": null,
      "justify_items": null,
      "left": null,
      "margin": null,
      "max_height": null,
      "max_width": null,
      "min_height": null,
      "min_width": null,
      "object_fit": null,
      "object_position": null,
      "order": null,
      "overflow": null,
      "overflow_x": null,
      "overflow_y": null,
      "padding": null,
      "right": null,
      "top": null,
      "visibility": null,
      "width": null
     }
    },
    "7cc35e3da381456ea409405f260a5b3a": {
     "model_module": "@jupyter-widgets/controls",
     "model_module_version": "1.5.0",
     "model_name": "HTMLModel",
     "state": {
      "_dom_classes": [],
      "_model_module": "@jupyter-widgets/controls",
      "_model_module_version": "1.5.0",
      "_model_name": "HTMLModel",
      "_view_count": null,
      "_view_module": "@jupyter-widgets/controls",
      "_view_module_version": "1.5.0",
      "_view_name": "HTMLView",
      "description": "",
      "description_tooltip": null,
      "layout": "IPY_MODEL_0ecdbc4a133a4c2f894535e673227573",
      "placeholder": "​",
      "style": "IPY_MODEL_6a3772cdb0064439b18ed00d5ff59c34",
      "value": " 6.19k/6.19k [00:00&lt;00:00, 415kB/s]"
     }
    },
    "82456159f4dd4166b076983a182c9f56": {
     "model_module": "@jupyter-widgets/controls",
     "model_module_version": "1.5.0",
     "model_name": "DescriptionStyleModel",
     "state": {
      "_model_module": "@jupyter-widgets/controls",
      "_model_module_version": "1.5.0",
      "_model_name": "DescriptionStyleModel",
      "_view_count": null,
      "_view_module": "@jupyter-widgets/base",
      "_view_module_version": "1.2.0",
      "_view_name": "StyleView",
      "description_width": ""
     }
    },
    "8331f5c7701945b39d1e6a02496e070d": {
     "model_module": "@jupyter-widgets/controls",
     "model_module_version": "1.5.0",
     "model_name": "FloatProgressModel",
     "state": {
      "_dom_classes": [],
      "_model_module": "@jupyter-widgets/controls",
      "_model_module_version": "1.5.0",
      "_model_name": "FloatProgressModel",
      "_view_count": null,
      "_view_module": "@jupyter-widgets/controls",
      "_view_module_version": "1.5.0",
      "_view_name": "ProgressView",
      "bar_style": "success",
      "description": "",
      "description_tooltip": null,
      "layout": "IPY_MODEL_9e51689e661842eb93738f4116ca3431",
      "max": 212,
      "min": 0,
      "orientation": "horizontal",
      "style": "IPY_MODEL_a126ecf48f6b458aab5a56fcd5678e9e",
      "value": 212
     }
    },
    "84013d46de654385807a84979ae94d3b": {
     "model_module": "@jupyter-widgets/controls",
     "model_module_version": "1.5.0",
     "model_name": "DescriptionStyleModel",
     "state": {
      "_model_module": "@jupyter-widgets/controls",
      "_model_module_version": "1.5.0",
      "_model_name": "DescriptionStyleModel",
      "_view_count": null,
      "_view_module": "@jupyter-widgets/base",
      "_view_module_version": "1.2.0",
      "_view_name": "StyleView",
      "description_width": ""
     }
    },
    "840a922669c445968ad4448bb21d4798": {
     "model_module": "@jupyter-widgets/controls",
     "model_module_version": "1.5.0",
     "model_name": "DescriptionStyleModel",
     "state": {
      "_model_module": "@jupyter-widgets/controls",
      "_model_module_version": "1.5.0",
      "_model_name": "DescriptionStyleModel",
      "_view_count": null,
      "_view_module": "@jupyter-widgets/base",
      "_view_module_version": "1.2.0",
      "_view_name": "StyleView",
      "description_width": ""
     }
    },
    "87c34081499c4b02b92c87a33a9669a6": {
     "model_module": "@jupyter-widgets/base",
     "model_module_version": "1.2.0",
     "model_name": "LayoutModel",
     "state": {
      "_model_module": "@jupyter-widgets/base",
      "_model_module_version": "1.2.0",
      "_model_name": "LayoutModel",
      "_view_count": null,
      "_view_module": "@jupyter-widgets/base",
      "_view_module_version": "1.2.0",
      "_view_name": "LayoutView",
      "align_content": null,
      "align_items": null,
      "align_self": null,
      "border": null,
      "bottom": null,
      "display": null,
      "flex": null,
      "flex_flow": null,
      "grid_area": null,
      "grid_auto_columns": null,
      "grid_auto_flow": null,
      "grid_auto_rows": null,
      "grid_column": null,
      "grid_gap": null,
      "grid_row": null,
      "grid_template_areas": null,
      "grid_template_columns": null,
      "grid_template_rows": null,
      "height": null,
      "justify_content": null,
      "justify_items": null,
      "left": null,
      "margin": null,
      "max_height": null,
      "max_width": null,
      "min_height": null,
      "min_width": null,
      "object_fit": null,
      "object_position": null,
      "order": null,
      "overflow": null,
      "overflow_x": null,
      "overflow_y": null,
      "padding": null,
      "right": null,
      "top": null,
      "visibility": null,
      "width": null
     }
    },
    "8a27393430fe421984551023cc8e3f95": {
     "model_module": "@jupyter-widgets/base",
     "model_module_version": "1.2.0",
     "model_name": "LayoutModel",
     "state": {
      "_model_module": "@jupyter-widgets/base",
      "_model_module_version": "1.2.0",
      "_model_name": "LayoutModel",
      "_view_count": null,
      "_view_module": "@jupyter-widgets/base",
      "_view_module_version": "1.2.0",
      "_view_name": "LayoutView",
      "align_content": null,
      "align_items": null,
      "align_self": null,
      "border": null,
      "bottom": null,
      "display": null,
      "flex": null,
      "flex_flow": null,
      "grid_area": null,
      "grid_auto_columns": null,
      "grid_auto_flow": null,
      "grid_auto_rows": null,
      "grid_column": null,
      "grid_gap": null,
      "grid_row": null,
      "grid_template_areas": null,
      "grid_template_columns": null,
      "grid_template_rows": null,
      "height": null,
      "justify_content": null,
      "justify_items": null,
      "left": null,
      "margin": null,
      "max_height": null,
      "max_width": null,
      "min_height": null,
      "min_width": null,
      "object_fit": null,
      "object_position": null,
      "order": null,
      "overflow": null,
      "overflow_x": null,
      "overflow_y": null,
      "padding": null,
      "right": null,
      "top": null,
      "visibility": null,
      "width": null
     }
    },
    "8a27a7df4ffd431f910c21096256ffe4": {
     "model_module": "@jupyter-widgets/controls",
     "model_module_version": "1.5.0",
     "model_name": "ProgressStyleModel",
     "state": {
      "_model_module": "@jupyter-widgets/controls",
      "_model_module_version": "1.5.0",
      "_model_name": "ProgressStyleModel",
      "_view_count": null,
      "_view_module": "@jupyter-widgets/base",
      "_view_module_version": "1.2.0",
      "_view_name": "StyleView",
      "bar_color": null,
      "description_width": ""
     }
    },
    "8a8a6442edf74f399be4b062147e2e30": {
     "model_module": "@jupyter-widgets/controls",
     "model_module_version": "1.5.0",
     "model_name": "FloatProgressModel",
     "state": {
      "_dom_classes": [],
      "_model_module": "@jupyter-widgets/controls",
      "_model_module_version": "1.5.0",
      "_model_name": "FloatProgressModel",
      "_view_count": null,
      "_view_module": "@jupyter-widgets/controls",
      "_view_module_version": "1.5.0",
      "_view_name": "ProgressView",
      "bar_style": "success",
      "description": "",
      "description_tooltip": null,
      "layout": "IPY_MODEL_446053381d2f40fe80770473ff6aa701",
      "max": 6192,
      "min": 0,
      "orientation": "horizontal",
      "style": "IPY_MODEL_8a27a7df4ffd431f910c21096256ffe4",
      "value": 6192
     }
    },
    "8b6ebac85c69401eb3259678455ba933": {
     "model_module": "@jupyter-widgets/base",
     "model_module_version": "1.2.0",
     "model_name": "LayoutModel",
     "state": {
      "_model_module": "@jupyter-widgets/base",
      "_model_module_version": "1.2.0",
      "_model_name": "LayoutModel",
      "_view_count": null,
      "_view_module": "@jupyter-widgets/base",
      "_view_module_version": "1.2.0",
      "_view_name": "LayoutView",
      "align_content": null,
      "align_items": null,
      "align_self": null,
      "border": null,
      "bottom": null,
      "display": null,
      "flex": null,
      "flex_flow": null,
      "grid_area": null,
      "grid_auto_columns": null,
      "grid_auto_flow": null,
      "grid_auto_rows": null,
      "grid_column": null,
      "grid_gap": null,
      "grid_row": null,
      "grid_template_areas": null,
      "grid_template_columns": null,
      "grid_template_rows": null,
      "height": null,
      "justify_content": null,
      "justify_items": null,
      "left": null,
      "margin": null,
      "max_height": null,
      "max_width": null,
      "min_height": null,
      "min_width": null,
      "object_fit": null,
      "object_position": null,
      "order": null,
      "overflow": null,
      "overflow_x": null,
      "overflow_y": null,
      "padding": null,
      "right": null,
      "top": null,
      "visibility": null,
      "width": null
     }
    },
    "90002b26742c4c23935be13c8a8c7061": {
     "model_module": "@jupyter-widgets/controls",
     "model_module_version": "1.5.0",
     "model_name": "FloatProgressModel",
     "state": {
      "_dom_classes": [],
      "_model_module": "@jupyter-widgets/controls",
      "_model_module_version": "1.5.0",
      "_model_name": "FloatProgressModel",
      "_view_count": null,
      "_view_module": "@jupyter-widgets/controls",
      "_view_module_version": "1.5.0",
      "_view_name": "ProgressView",
      "bar_style": "success",
      "description": "",
      "description_tooltip": null,
      "layout": "IPY_MODEL_0f4a491028df41aabe89c3d43a34fb9f",
      "max": 112,
      "min": 0,
      "orientation": "horizontal",
      "style": "IPY_MODEL_d00272dce4e2492eb3cc695987930bc7",
      "value": 112
     }
    },
    "922e4e8658c64929aa0cf7cb6b8504c5": {
     "model_module": "@jupyter-widgets/controls",
     "model_module_version": "1.5.0",
     "model_name": "DescriptionStyleModel",
     "state": {
      "_model_module": "@jupyter-widgets/controls",
      "_model_module_version": "1.5.0",
      "_model_name": "DescriptionStyleModel",
      "_view_count": null,
      "_view_module": "@jupyter-widgets/base",
      "_view_module_version": "1.2.0",
      "_view_name": "StyleView",
      "description_width": ""
     }
    },
    "935b3aa5b61540a39bfd1c350fae6cc9": {
     "model_module": "@jupyter-widgets/controls",
     "model_module_version": "1.5.0",
     "model_name": "HTMLModel",
     "state": {
      "_dom_classes": [],
      "_model_module": "@jupyter-widgets/controls",
      "_model_module_version": "1.5.0",
      "_model_name": "HTMLModel",
      "_view_count": null,
      "_view_module": "@jupyter-widgets/controls",
      "_view_module_version": "1.5.0",
      "_view_name": "HTMLView",
      "description": "",
      "description_tooltip": null,
      "layout": "IPY_MODEL_b5718caeb2764dfaa8472c6b390229ce",
      "placeholder": "​",
      "style": "IPY_MODEL_17a682582ace45d6b71cee25087b2a5b",
      "value": "tokenizer.json: 100%"
     }
    },
    "94885947a3a74f2184494de69a1bc84a": {
     "model_module": "@jupyter-widgets/base",
     "model_module_version": "1.2.0",
     "model_name": "LayoutModel",
     "state": {
      "_model_module": "@jupyter-widgets/base",
      "_model_module_version": "1.2.0",
      "_model_name": "LayoutModel",
      "_view_count": null,
      "_view_module": "@jupyter-widgets/base",
      "_view_module_version": "1.2.0",
      "_view_name": "LayoutView",
      "align_content": null,
      "align_items": null,
      "align_self": null,
      "border": null,
      "bottom": null,
      "display": null,
      "flex": null,
      "flex_flow": null,
      "grid_area": null,
      "grid_auto_columns": null,
      "grid_auto_flow": null,
      "grid_auto_rows": null,
      "grid_column": null,
      "grid_gap": null,
      "grid_row": null,
      "grid_template_areas": null,
      "grid_template_columns": null,
      "grid_template_rows": null,
      "height": null,
      "justify_content": null,
      "justify_items": null,
      "left": null,
      "margin": null,
      "max_height": null,
      "max_width": null,
      "min_height": null,
      "min_width": null,
      "object_fit": null,
      "object_position": null,
      "order": null,
      "overflow": null,
      "overflow_x": null,
      "overflow_y": null,
      "padding": null,
      "right": null,
      "top": null,
      "visibility": null,
      "width": null
     }
    },
    "95d0ef6e77a5402faf7caa07a81f5043": {
     "model_module": "@jupyter-widgets/controls",
     "model_module_version": "1.5.0",
     "model_name": "HBoxModel",
     "state": {
      "_dom_classes": [],
      "_model_module": "@jupyter-widgets/controls",
      "_model_module_version": "1.5.0",
      "_model_name": "HBoxModel",
      "_view_count": null,
      "_view_module": "@jupyter-widgets/controls",
      "_view_module_version": "1.5.0",
      "_view_name": "HBoxView",
      "box_style": "",
      "children": [
       "IPY_MODEL_b86616d2e5f44de09d441091f600b22f",
       "IPY_MODEL_d9d145459aef48da9706bc270e156c3f",
       "IPY_MODEL_5de0635a894b4a37b19e2bef52f60a1d"
      ],
      "layout": "IPY_MODEL_9f009635f0534f939ec593f68b777c6c"
     }
    },
    "9b0afa4a12dd4368a31dfd009b57b08a": {
     "model_module": "@jupyter-widgets/controls",
     "model_module_version": "1.5.0",
     "model_name": "DescriptionStyleModel",
     "state": {
      "_model_module": "@jupyter-widgets/controls",
      "_model_module_version": "1.5.0",
      "_model_name": "DescriptionStyleModel",
      "_view_count": null,
      "_view_module": "@jupyter-widgets/base",
      "_view_module_version": "1.2.0",
      "_view_name": "StyleView",
      "description_width": ""
     }
    },
    "9b2d8a559ec24f78842319ee99eb9c94": {
     "model_module": "@jupyter-widgets/base",
     "model_module_version": "1.2.0",
     "model_name": "LayoutModel",
     "state": {
      "_model_module": "@jupyter-widgets/base",
      "_model_module_version": "1.2.0",
      "_model_name": "LayoutModel",
      "_view_count": null,
      "_view_module": "@jupyter-widgets/base",
      "_view_module_version": "1.2.0",
      "_view_name": "LayoutView",
      "align_content": null,
      "align_items": null,
      "align_self": null,
      "border": null,
      "bottom": null,
      "display": null,
      "flex": null,
      "flex_flow": null,
      "grid_area": null,
      "grid_auto_columns": null,
      "grid_auto_flow": null,
      "grid_auto_rows": null,
      "grid_column": null,
      "grid_gap": null,
      "grid_row": null,
      "grid_template_areas": null,
      "grid_template_columns": null,
      "grid_template_rows": null,
      "height": null,
      "justify_content": null,
      "justify_items": null,
      "left": null,
      "margin": null,
      "max_height": null,
      "max_width": null,
      "min_height": null,
      "min_width": null,
      "object_fit": null,
      "object_position": null,
      "order": null,
      "overflow": null,
      "overflow_x": null,
      "overflow_y": null,
      "padding": null,
      "right": null,
      "top": null,
      "visibility": null,
      "width": null
     }
    },
    "9b66025edb904c6db6dd5f7bc145b1bc": {
     "model_module": "@jupyter-widgets/controls",
     "model_module_version": "1.5.0",
     "model_name": "ProgressStyleModel",
     "state": {
      "_model_module": "@jupyter-widgets/controls",
      "_model_module_version": "1.5.0",
      "_model_name": "ProgressStyleModel",
      "_view_count": null,
      "_view_module": "@jupyter-widgets/base",
      "_view_module_version": "1.2.0",
      "_view_name": "StyleView",
      "bar_color": null,
      "description_width": ""
     }
    },
    "9b9650a28f8f48ed83779d990be98073": {
     "model_module": "@jupyter-widgets/base",
     "model_module_version": "1.2.0",
     "model_name": "LayoutModel",
     "state": {
      "_model_module": "@jupyter-widgets/base",
      "_model_module_version": "1.2.0",
      "_model_name": "LayoutModel",
      "_view_count": null,
      "_view_module": "@jupyter-widgets/base",
      "_view_module_version": "1.2.0",
      "_view_name": "LayoutView",
      "align_content": null,
      "align_items": null,
      "align_self": null,
      "border": null,
      "bottom": null,
      "display": null,
      "flex": null,
      "flex_flow": null,
      "grid_area": null,
      "grid_auto_columns": null,
      "grid_auto_flow": null,
      "grid_auto_rows": null,
      "grid_column": null,
      "grid_gap": null,
      "grid_row": null,
      "grid_template_areas": null,
      "grid_template_columns": null,
      "grid_template_rows": null,
      "height": null,
      "justify_content": null,
      "justify_items": null,
      "left": null,
      "margin": null,
      "max_height": null,
      "max_width": null,
      "min_height": null,
      "min_width": null,
      "object_fit": null,
      "object_position": null,
      "order": null,
      "overflow": null,
      "overflow_x": null,
      "overflow_y": null,
      "padding": null,
      "right": null,
      "top": null,
      "visibility": null,
      "width": null
     }
    },
    "9e51689e661842eb93738f4116ca3431": {
     "model_module": "@jupyter-widgets/base",
     "model_module_version": "1.2.0",
     "model_name": "LayoutModel",
     "state": {
      "_model_module": "@jupyter-widgets/base",
      "_model_module_version": "1.2.0",
      "_model_name": "LayoutModel",
      "_view_count": null,
      "_view_module": "@jupyter-widgets/base",
      "_view_module_version": "1.2.0",
      "_view_name": "LayoutView",
      "align_content": null,
      "align_items": null,
      "align_self": null,
      "border": null,
      "bottom": null,
      "display": null,
      "flex": null,
      "flex_flow": null,
      "grid_area": null,
      "grid_auto_columns": null,
      "grid_auto_flow": null,
      "grid_auto_rows": null,
      "grid_column": null,
      "grid_gap": null,
      "grid_row": null,
      "grid_template_areas": null,
      "grid_template_columns": null,
      "grid_template_rows": null,
      "height": null,
      "justify_content": null,
      "justify_items": null,
      "left": null,
      "margin": null,
      "max_height": null,
      "max_width": null,
      "min_height": null,
      "min_width": null,
      "object_fit": null,
      "object_position": null,
      "order": null,
      "overflow": null,
      "overflow_x": null,
      "overflow_y": null,
      "padding": null,
      "right": null,
      "top": null,
      "visibility": null,
      "width": null
     }
    },
    "9ee97ee5f01241b2bfac7b04bd2924a1": {
     "model_module": "@jupyter-widgets/controls",
     "model_module_version": "1.5.0",
     "model_name": "DescriptionStyleModel",
     "state": {
      "_model_module": "@jupyter-widgets/controls",
      "_model_module_version": "1.5.0",
      "_model_name": "DescriptionStyleModel",
      "_view_count": null,
      "_view_module": "@jupyter-widgets/base",
      "_view_module_version": "1.2.0",
      "_view_name": "StyleView",
      "description_width": ""
     }
    },
    "9f009635f0534f939ec593f68b777c6c": {
     "model_module": "@jupyter-widgets/base",
     "model_module_version": "1.2.0",
     "model_name": "LayoutModel",
     "state": {
      "_model_module": "@jupyter-widgets/base",
      "_model_module_version": "1.2.0",
      "_model_name": "LayoutModel",
      "_view_count": null,
      "_view_module": "@jupyter-widgets/base",
      "_view_module_version": "1.2.0",
      "_view_name": "LayoutView",
      "align_content": null,
      "align_items": null,
      "align_self": null,
      "border": null,
      "bottom": null,
      "display": null,
      "flex": null,
      "flex_flow": null,
      "grid_area": null,
      "grid_auto_columns": null,
      "grid_auto_flow": null,
      "grid_auto_rows": null,
      "grid_column": null,
      "grid_gap": null,
      "grid_row": null,
      "grid_template_areas": null,
      "grid_template_columns": null,
      "grid_template_rows": null,
      "height": null,
      "justify_content": null,
      "justify_items": null,
      "left": null,
      "margin": null,
      "max_height": null,
      "max_width": null,
      "min_height": null,
      "min_width": null,
      "object_fit": null,
      "object_position": null,
      "order": null,
      "overflow": null,
      "overflow_x": null,
      "overflow_y": null,
      "padding": null,
      "right": null,
      "top": null,
      "visibility": null,
      "width": null
     }
    },
    "a126ecf48f6b458aab5a56fcd5678e9e": {
     "model_module": "@jupyter-widgets/controls",
     "model_module_version": "1.5.0",
     "model_name": "ProgressStyleModel",
     "state": {
      "_model_module": "@jupyter-widgets/controls",
      "_model_module_version": "1.5.0",
      "_model_name": "ProgressStyleModel",
      "_view_count": null,
      "_view_module": "@jupyter-widgets/base",
      "_view_module_version": "1.2.0",
      "_view_name": "StyleView",
      "bar_color": null,
      "description_width": ""
     }
    },
    "a16f2a7bc1974c1da3c53fb09dd89f64": {
     "model_module": "@jupyter-widgets/base",
     "model_module_version": "1.2.0",
     "model_name": "LayoutModel",
     "state": {
      "_model_module": "@jupyter-widgets/base",
      "_model_module_version": "1.2.0",
      "_model_name": "LayoutModel",
      "_view_count": null,
      "_view_module": "@jupyter-widgets/base",
      "_view_module_version": "1.2.0",
      "_view_name": "LayoutView",
      "align_content": null,
      "align_items": null,
      "align_self": null,
      "border": null,
      "bottom": null,
      "display": null,
      "flex": null,
      "flex_flow": null,
      "grid_area": null,
      "grid_auto_columns": null,
      "grid_auto_flow": null,
      "grid_auto_rows": null,
      "grid_column": null,
      "grid_gap": null,
      "grid_row": null,
      "grid_template_areas": null,
      "grid_template_columns": null,
      "grid_template_rows": null,
      "height": null,
      "justify_content": null,
      "justify_items": null,
      "left": null,
      "margin": null,
      "max_height": null,
      "max_width": null,
      "min_height": null,
      "min_width": null,
      "object_fit": null,
      "object_position": null,
      "order": null,
      "overflow": null,
      "overflow_x": null,
      "overflow_y": null,
      "padding": null,
      "right": null,
      "top": null,
      "visibility": null,
      "width": null
     }
    },
    "a23cfbd79c884d04941a875d574c1e36": {
     "model_module": "@jupyter-widgets/controls",
     "model_module_version": "1.5.0",
     "model_name": "HTMLModel",
     "state": {
      "_dom_classes": [],
      "_model_module": "@jupyter-widgets/controls",
      "_model_module_version": "1.5.0",
      "_model_name": "HTMLModel",
      "_view_count": null,
      "_view_module": "@jupyter-widgets/controls",
      "_view_module_version": "1.5.0",
      "_view_name": "HTMLView",
      "description": "",
      "description_tooltip": null,
      "layout": "IPY_MODEL_fe726d8bf36f43398d6abd18ff9831f0",
      "placeholder": "​",
      "style": "IPY_MODEL_41ea2267f70d4bbdaeb0b662a6a50034",
      "value": "config_sentence_transformers.json: 100%"
     }
    },
    "a30e0c5108334c2695b9130deab31f9c": {
     "model_module": "@jupyter-widgets/controls",
     "model_module_version": "1.5.0",
     "model_name": "ProgressStyleModel",
     "state": {
      "_model_module": "@jupyter-widgets/controls",
      "_model_module_version": "1.5.0",
      "_model_name": "ProgressStyleModel",
      "_view_count": null,
      "_view_module": "@jupyter-widgets/base",
      "_view_module_version": "1.2.0",
      "_view_name": "StyleView",
      "bar_color": null,
      "description_width": ""
     }
    },
    "a3c5d7b2b4fb4ff5bb7b118d763d9d71": {
     "model_module": "@jupyter-widgets/controls",
     "model_module_version": "1.5.0",
     "model_name": "HBoxModel",
     "state": {
      "_dom_classes": [],
      "_model_module": "@jupyter-widgets/controls",
      "_model_module_version": "1.5.0",
      "_model_name": "HBoxModel",
      "_view_count": null,
      "_view_module": "@jupyter-widgets/controls",
      "_view_module_version": "1.5.0",
      "_view_name": "HBoxView",
      "box_style": "",
      "children": [
       "IPY_MODEL_51d59175f32f4468a1f96cf8861f1135",
       "IPY_MODEL_8a8a6442edf74f399be4b062147e2e30",
       "IPY_MODEL_7cc35e3da381456ea409405f260a5b3a"
      ],
      "layout": "IPY_MODEL_8b6ebac85c69401eb3259678455ba933"
     }
    },
    "aa25d308a6fb42fb886d61f80175bcbe": {
     "model_module": "@jupyter-widgets/controls",
     "model_module_version": "1.5.0",
     "model_name": "HTMLModel",
     "state": {
      "_dom_classes": [],
      "_model_module": "@jupyter-widgets/controls",
      "_model_module_version": "1.5.0",
      "_model_name": "HTMLModel",
      "_view_count": null,
      "_view_module": "@jupyter-widgets/controls",
      "_view_module_version": "1.5.0",
      "_view_name": "HTMLView",
      "description": "",
      "description_tooltip": null,
      "layout": "IPY_MODEL_9b9650a28f8f48ed83779d990be98073",
      "placeholder": "​",
      "style": "IPY_MODEL_5d861c29e56540269b8c1e4fcf91a2eb",
      "value": "special_tokens_map.json: 100%"
     }
    },
    "ad18d5a792fd4a5dae4f61ad743c7851": {
     "model_module": "@jupyter-widgets/base",
     "model_module_version": "1.2.0",
     "model_name": "LayoutModel",
     "state": {
      "_model_module": "@jupyter-widgets/base",
      "_model_module_version": "1.2.0",
      "_model_name": "LayoutModel",
      "_view_count": null,
      "_view_module": "@jupyter-widgets/base",
      "_view_module_version": "1.2.0",
      "_view_name": "LayoutView",
      "align_content": null,
      "align_items": null,
      "align_self": null,
      "border": null,
      "bottom": null,
      "display": null,
      "flex": null,
      "flex_flow": null,
      "grid_area": null,
      "grid_auto_columns": null,
      "grid_auto_flow": null,
      "grid_auto_rows": null,
      "grid_column": null,
      "grid_gap": null,
      "grid_row": null,
      "grid_template_areas": null,
      "grid_template_columns": null,
      "grid_template_rows": null,
      "height": null,
      "justify_content": null,
      "justify_items": null,
      "left": null,
      "margin": null,
      "max_height": null,
      "max_width": null,
      "min_height": null,
      "min_width": null,
      "object_fit": null,
      "object_position": null,
      "order": null,
      "overflow": null,
      "overflow_x": null,
      "overflow_y": null,
      "padding": null,
      "right": null,
      "top": null,
      "visibility": null,
      "width": null
     }
    },
    "b01958eb98814047a244c7439958fc54": {
     "model_module": "@jupyter-widgets/controls",
     "model_module_version": "1.5.0",
     "model_name": "HTMLModel",
     "state": {
      "_dom_classes": [],
      "_model_module": "@jupyter-widgets/controls",
      "_model_module_version": "1.5.0",
      "_model_name": "HTMLModel",
      "_view_count": null,
      "_view_module": "@jupyter-widgets/controls",
      "_view_module_version": "1.5.0",
      "_view_name": "HTMLView",
      "description": "",
      "description_tooltip": null,
      "layout": "IPY_MODEL_6b948a6dd13042958c56455f9b5718d7",
      "placeholder": "​",
      "style": "IPY_MODEL_588311ad82a1409682d0cf994c215a11",
      "value": " 190/190 [00:00&lt;00:00, 10.7kB/s]"
     }
    },
    "b42535c19a5b4828909fd6a437c4ba70": {
     "model_module": "@jupyter-widgets/base",
     "model_module_version": "1.2.0",
     "model_name": "LayoutModel",
     "state": {
      "_model_module": "@jupyter-widgets/base",
      "_model_module_version": "1.2.0",
      "_model_name": "LayoutModel",
      "_view_count": null,
      "_view_module": "@jupyter-widgets/base",
      "_view_module_version": "1.2.0",
      "_view_name": "LayoutView",
      "align_content": null,
      "align_items": null,
      "align_self": null,
      "border": null,
      "bottom": null,
      "display": null,
      "flex": null,
      "flex_flow": null,
      "grid_area": null,
      "grid_auto_columns": null,
      "grid_auto_flow": null,
      "grid_auto_rows": null,
      "grid_column": null,
      "grid_gap": null,
      "grid_row": null,
      "grid_template_areas": null,
      "grid_template_columns": null,
      "grid_template_rows": null,
      "height": null,
      "justify_content": null,
      "justify_items": null,
      "left": null,
      "margin": null,
      "max_height": null,
      "max_width": null,
      "min_height": null,
      "min_width": null,
      "object_fit": null,
      "object_position": null,
      "order": null,
      "overflow": null,
      "overflow_x": null,
      "overflow_y": null,
      "padding": null,
      "right": null,
      "top": null,
      "visibility": null,
      "width": null
     }
    },
    "b504d9cd17534eb38deb25e51931c51c": {
     "model_module": "@jupyter-widgets/base",
     "model_module_version": "1.2.0",
     "model_name": "LayoutModel",
     "state": {
      "_model_module": "@jupyter-widgets/base",
      "_model_module_version": "1.2.0",
      "_model_name": "LayoutModel",
      "_view_count": null,
      "_view_module": "@jupyter-widgets/base",
      "_view_module_version": "1.2.0",
      "_view_name": "LayoutView",
      "align_content": null,
      "align_items": null,
      "align_self": null,
      "border": null,
      "bottom": null,
      "display": null,
      "flex": null,
      "flex_flow": null,
      "grid_area": null,
      "grid_auto_columns": null,
      "grid_auto_flow": null,
      "grid_auto_rows": null,
      "grid_column": null,
      "grid_gap": null,
      "grid_row": null,
      "grid_template_areas": null,
      "grid_template_columns": null,
      "grid_template_rows": null,
      "height": null,
      "justify_content": null,
      "justify_items": null,
      "left": null,
      "margin": null,
      "max_height": null,
      "max_width": null,
      "min_height": null,
      "min_width": null,
      "object_fit": null,
      "object_position": null,
      "order": null,
      "overflow": null,
      "overflow_x": null,
      "overflow_y": null,
      "padding": null,
      "right": null,
      "top": null,
      "visibility": null,
      "width": null
     }
    },
    "b5718caeb2764dfaa8472c6b390229ce": {
     "model_module": "@jupyter-widgets/base",
     "model_module_version": "1.2.0",
     "model_name": "LayoutModel",
     "state": {
      "_model_module": "@jupyter-widgets/base",
      "_model_module_version": "1.2.0",
      "_model_name": "LayoutModel",
      "_view_count": null,
      "_view_module": "@jupyter-widgets/base",
      "_view_module_version": "1.2.0",
      "_view_name": "LayoutView",
      "align_content": null,
      "align_items": null,
      "align_self": null,
      "border": null,
      "bottom": null,
      "display": null,
      "flex": null,
      "flex_flow": null,
      "grid_area": null,
      "grid_auto_columns": null,
      "grid_auto_flow": null,
      "grid_auto_rows": null,
      "grid_column": null,
      "grid_gap": null,
      "grid_row": null,
      "grid_template_areas": null,
      "grid_template_columns": null,
      "grid_template_rows": null,
      "height": null,
      "justify_content": null,
      "justify_items": null,
      "left": null,
      "margin": null,
      "max_height": null,
      "max_width": null,
      "min_height": null,
      "min_width": null,
      "object_fit": null,
      "object_position": null,
      "order": null,
      "overflow": null,
      "overflow_x": null,
      "overflow_y": null,
      "padding": null,
      "right": null,
      "top": null,
      "visibility": null,
      "width": null
     }
    },
    "b86616d2e5f44de09d441091f600b22f": {
     "model_module": "@jupyter-widgets/controls",
     "model_module_version": "1.5.0",
     "model_name": "HTMLModel",
     "state": {
      "_dom_classes": [],
      "_model_module": "@jupyter-widgets/controls",
      "_model_module_version": "1.5.0",
      "_model_name": "HTMLModel",
      "_view_count": null,
      "_view_module": "@jupyter-widgets/controls",
      "_view_module_version": "1.5.0",
      "_view_name": "HTMLView",
      "description": "",
      "description_tooltip": null,
      "layout": "IPY_MODEL_f1286b49e1414190aaf288d568f6311f",
      "placeholder": "​",
      "style": "IPY_MODEL_bbe1d9cdb17b48618e99f2eb99b14e25",
      "value": "sentence_bert_config.json: 100%"
     }
    },
    "baeb8ef12e5f4e1e95895521dac6e20f": {
     "model_module": "@jupyter-widgets/controls",
     "model_module_version": "1.5.0",
     "model_name": "ProgressStyleModel",
     "state": {
      "_model_module": "@jupyter-widgets/controls",
      "_model_module_version": "1.5.0",
      "_model_name": "ProgressStyleModel",
      "_view_count": null,
      "_view_module": "@jupyter-widgets/base",
      "_view_module_version": "1.2.0",
      "_view_name": "StyleView",
      "bar_color": null,
      "description_width": ""
     }
    },
    "bbe1d9cdb17b48618e99f2eb99b14e25": {
     "model_module": "@jupyter-widgets/controls",
     "model_module_version": "1.5.0",
     "model_name": "DescriptionStyleModel",
     "state": {
      "_model_module": "@jupyter-widgets/controls",
      "_model_module_version": "1.5.0",
      "_model_name": "DescriptionStyleModel",
      "_view_count": null,
      "_view_module": "@jupyter-widgets/base",
      "_view_module_version": "1.2.0",
      "_view_name": "StyleView",
      "description_width": ""
     }
    },
    "be85af2b30224934bcf1d03cc8c0bbdd": {
     "model_module": "@jupyter-widgets/base",
     "model_module_version": "1.2.0",
     "model_name": "LayoutModel",
     "state": {
      "_model_module": "@jupyter-widgets/base",
      "_model_module_version": "1.2.0",
      "_model_name": "LayoutModel",
      "_view_count": null,
      "_view_module": "@jupyter-widgets/base",
      "_view_module_version": "1.2.0",
      "_view_name": "LayoutView",
      "align_content": null,
      "align_items": null,
      "align_self": null,
      "border": null,
      "bottom": null,
      "display": null,
      "flex": null,
      "flex_flow": null,
      "grid_area": null,
      "grid_auto_columns": null,
      "grid_auto_flow": null,
      "grid_auto_rows": null,
      "grid_column": null,
      "grid_gap": null,
      "grid_row": null,
      "grid_template_areas": null,
      "grid_template_columns": null,
      "grid_template_rows": null,
      "height": null,
      "justify_content": null,
      "justify_items": null,
      "left": null,
      "margin": null,
      "max_height": null,
      "max_width": null,
      "min_height": null,
      "min_width": null,
      "object_fit": null,
      "object_position": null,
      "order": null,
      "overflow": null,
      "overflow_x": null,
      "overflow_y": null,
      "padding": null,
      "right": null,
      "top": null,
      "visibility": null,
      "width": null
     }
    },
    "c23bdd10f43147dab5e7fd48d3cb87c9": {
     "model_module": "@jupyter-widgets/controls",
     "model_module_version": "1.5.0",
     "model_name": "HTMLModel",
     "state": {
      "_dom_classes": [],
      "_model_module": "@jupyter-widgets/controls",
      "_model_module_version": "1.5.0",
      "_model_name": "HTMLModel",
      "_view_count": null,
      "_view_module": "@jupyter-widgets/controls",
      "_view_module_version": "1.5.0",
      "_view_name": "HTMLView",
      "description": "",
      "description_tooltip": null,
      "layout": "IPY_MODEL_1d0b6f02d1b846ca8cd06035d421dc8b",
      "placeholder": "​",
      "style": "IPY_MODEL_e9a9cc8a20074c58a1e03d682fb2ea98",
      "value": "modules.json: 100%"
     }
    },
    "c4eed780be214e878550ee566e3d3445": {
     "model_module": "@jupyter-widgets/base",
     "model_module_version": "1.2.0",
     "model_name": "LayoutModel",
     "state": {
      "_model_module": "@jupyter-widgets/base",
      "_model_module_version": "1.2.0",
      "_model_name": "LayoutModel",
      "_view_count": null,
      "_view_module": "@jupyter-widgets/base",
      "_view_module_version": "1.2.0",
      "_view_name": "LayoutView",
      "align_content": null,
      "align_items": null,
      "align_self": null,
      "border": null,
      "bottom": null,
      "display": null,
      "flex": null,
      "flex_flow": null,
      "grid_area": null,
      "grid_auto_columns": null,
      "grid_auto_flow": null,
      "grid_auto_rows": null,
      "grid_column": null,
      "grid_gap": null,
      "grid_row": null,
      "grid_template_areas": null,
      "grid_template_columns": null,
      "grid_template_rows": null,
      "height": null,
      "justify_content": null,
      "justify_items": null,
      "left": null,
      "margin": null,
      "max_height": null,
      "max_width": null,
      "min_height": null,
      "min_width": null,
      "object_fit": null,
      "object_position": null,
      "order": null,
      "overflow": null,
      "overflow_x": null,
      "overflow_y": null,
      "padding": null,
      "right": null,
      "top": null,
      "visibility": null,
      "width": null
     }
    },
    "c6db4b7180ed42cdad05c54c5e95a00c": {
     "model_module": "@jupyter-widgets/base",
     "model_module_version": "1.2.0",
     "model_name": "LayoutModel",
     "state": {
      "_model_module": "@jupyter-widgets/base",
      "_model_module_version": "1.2.0",
      "_model_name": "LayoutModel",
      "_view_count": null,
      "_view_module": "@jupyter-widgets/base",
      "_view_module_version": "1.2.0",
      "_view_name": "LayoutView",
      "align_content": null,
      "align_items": null,
      "align_self": null,
      "border": null,
      "bottom": null,
      "display": null,
      "flex": null,
      "flex_flow": null,
      "grid_area": null,
      "grid_auto_columns": null,
      "grid_auto_flow": null,
      "grid_auto_rows": null,
      "grid_column": null,
      "grid_gap": null,
      "grid_row": null,
      "grid_template_areas": null,
      "grid_template_columns": null,
      "grid_template_rows": null,
      "height": null,
      "justify_content": null,
      "justify_items": null,
      "left": null,
      "margin": null,
      "max_height": null,
      "max_width": null,
      "min_height": null,
      "min_width": null,
      "object_fit": null,
      "object_position": null,
      "order": null,
      "overflow": null,
      "overflow_x": null,
      "overflow_y": null,
      "padding": null,
      "right": null,
      "top": null,
      "visibility": null,
      "width": null
     }
    },
    "c79343e1805d4123a0ec45d27655df42": {
     "model_module": "@jupyter-widgets/controls",
     "model_module_version": "1.5.0",
     "model_name": "HTMLModel",
     "state": {
      "_dom_classes": [],
      "_model_module": "@jupyter-widgets/controls",
      "_model_module_version": "1.5.0",
      "_model_name": "HTMLModel",
      "_view_count": null,
      "_view_module": "@jupyter-widgets/controls",
      "_view_module_version": "1.5.0",
      "_view_name": "HTMLView",
      "description": "",
      "description_tooltip": null,
      "layout": "IPY_MODEL_a16f2a7bc1974c1da3c53fb09dd89f64",
      "placeholder": "​",
      "style": "IPY_MODEL_00bbfd5cd1664a8fa814153866c48dd6",
      "value": "config.json: 100%"
     }
    },
    "c9ffeffc9cd244409d1cfb7c3d3d80cd": {
     "model_module": "@jupyter-widgets/controls",
     "model_module_version": "1.5.0",
     "model_name": "DescriptionStyleModel",
     "state": {
      "_model_module": "@jupyter-widgets/controls",
      "_model_module_version": "1.5.0",
      "_model_name": "DescriptionStyleModel",
      "_view_count": null,
      "_view_module": "@jupyter-widgets/base",
      "_view_module_version": "1.2.0",
      "_view_name": "StyleView",
      "description_width": ""
     }
    },
    "cbdb9a8ac18c4529852ada6537076951": {
     "model_module": "@jupyter-widgets/base",
     "model_module_version": "1.2.0",
     "model_name": "LayoutModel",
     "state": {
      "_model_module": "@jupyter-widgets/base",
      "_model_module_version": "1.2.0",
      "_model_name": "LayoutModel",
      "_view_count": null,
      "_view_module": "@jupyter-widgets/base",
      "_view_module_version": "1.2.0",
      "_view_name": "LayoutView",
      "align_content": null,
      "align_items": null,
      "align_self": null,
      "border": null,
      "bottom": null,
      "display": null,
      "flex": null,
      "flex_flow": null,
      "grid_area": null,
      "grid_auto_columns": null,
      "grid_auto_flow": null,
      "grid_auto_rows": null,
      "grid_column": null,
      "grid_gap": null,
      "grid_row": null,
      "grid_template_areas": null,
      "grid_template_columns": null,
      "grid_template_rows": null,
      "height": null,
      "justify_content": null,
      "justify_items": null,
      "left": null,
      "margin": null,
      "max_height": null,
      "max_width": null,
      "min_height": null,
      "min_width": null,
      "object_fit": null,
      "object_position": null,
      "order": null,
      "overflow": null,
      "overflow_x": null,
      "overflow_y": null,
      "padding": null,
      "right": null,
      "top": null,
      "visibility": null,
      "width": null
     }
    },
    "cc01e7afb02441fca30dd79e0404ce68": {
     "model_module": "@jupyter-widgets/controls",
     "model_module_version": "1.5.0",
     "model_name": "HBoxModel",
     "state": {
      "_dom_classes": [],
      "_model_module": "@jupyter-widgets/controls",
      "_model_module_version": "1.5.0",
      "_model_name": "HBoxModel",
      "_view_count": null,
      "_view_module": "@jupyter-widgets/controls",
      "_view_module_version": "1.5.0",
      "_view_name": "HBoxView",
      "box_style": "",
      "children": [
       "IPY_MODEL_a23cfbd79c884d04941a875d574c1e36",
       "IPY_MODEL_8331f5c7701945b39d1e6a02496e070d",
       "IPY_MODEL_e2ec3333a7084fd1ba656c2a709a4bfb"
      ],
      "layout": "IPY_MODEL_5cc47f07824045f186ecd82c333b2d65"
     }
    },
    "cc2198019ed34484ba501ed6311b95e1": {
     "model_module": "@jupyter-widgets/controls",
     "model_module_version": "1.5.0",
     "model_name": "DescriptionStyleModel",
     "state": {
      "_model_module": "@jupyter-widgets/controls",
      "_model_module_version": "1.5.0",
      "_model_name": "DescriptionStyleModel",
      "_view_count": null,
      "_view_module": "@jupyter-widgets/base",
      "_view_module_version": "1.2.0",
      "_view_name": "StyleView",
      "description_width": ""
     }
    },
    "d00272dce4e2492eb3cc695987930bc7": {
     "model_module": "@jupyter-widgets/controls",
     "model_module_version": "1.5.0",
     "model_name": "ProgressStyleModel",
     "state": {
      "_model_module": "@jupyter-widgets/controls",
      "_model_module_version": "1.5.0",
      "_model_name": "ProgressStyleModel",
      "_view_count": null,
      "_view_module": "@jupyter-widgets/base",
      "_view_module_version": "1.2.0",
      "_view_name": "StyleView",
      "bar_color": null,
      "description_width": ""
     }
    },
    "d1696eadc8b745b6ac3b64e03dc5c2bd": {
     "model_module": "@jupyter-widgets/controls",
     "model_module_version": "1.5.0",
     "model_name": "FloatProgressModel",
     "state": {
      "_dom_classes": [],
      "_model_module": "@jupyter-widgets/controls",
      "_model_module_version": "1.5.0",
      "_model_name": "FloatProgressModel",
      "_view_count": null,
      "_view_module": "@jupyter-widgets/controls",
      "_view_module_version": "1.5.0",
      "_view_name": "ProgressView",
      "bar_style": "success",
      "description": "",
      "description_tooltip": null,
      "layout": "IPY_MODEL_b42535c19a5b4828909fd6a437c4ba70",
      "max": 229,
      "min": 0,
      "orientation": "horizontal",
      "style": "IPY_MODEL_4700a847b1f14c68afc3e3c7b119ee0d",
      "value": 229
     }
    },
    "d50aea11d866434e93eba54d46b4d7ac": {
     "model_module": "@jupyter-widgets/controls",
     "model_module_version": "1.5.0",
     "model_name": "HTMLModel",
     "state": {
      "_dom_classes": [],
      "_model_module": "@jupyter-widgets/controls",
      "_model_module_version": "1.5.0",
      "_model_name": "HTMLModel",
      "_view_count": null,
      "_view_module": "@jupyter-widgets/controls",
      "_view_module_version": "1.5.0",
      "_view_name": "HTMLView",
      "description": "",
      "description_tooltip": null,
      "layout": "IPY_MODEL_03e2cf09679547bda65579e77dbd6467",
      "placeholder": "​",
      "style": "IPY_MODEL_32f193c9f0bd48bf9958ae5b2f7a6999",
      "value": " 229/229 [00:00&lt;00:00, 11.7kB/s]"
     }
    },
    "d6a593db4a48473a85f1e3b971012e3e": {
     "model_module": "@jupyter-widgets/controls",
     "model_module_version": "1.5.0",
     "model_name": "HTMLModel",
     "state": {
      "_dom_classes": [],
      "_model_module": "@jupyter-widgets/controls",
      "_model_module_version": "1.5.0",
      "_model_name": "HTMLModel",
      "_view_count": null,
      "_view_module": "@jupyter-widgets/controls",
      "_view_module_version": "1.5.0",
      "_view_name": "HTMLView",
      "description": "",
      "description_tooltip": null,
      "layout": "IPY_MODEL_94885947a3a74f2184494de69a1bc84a",
      "placeholder": "​",
      "style": "IPY_MODEL_84013d46de654385807a84979ae94d3b",
      "value": " 438M/438M [00:11&lt;00:00, 33.3MB/s]"
     }
    },
    "d6a741bf31d646b08fcf48fb69159ace": {
     "model_module": "@jupyter-widgets/base",
     "model_module_version": "1.2.0",
     "model_name": "LayoutModel",
     "state": {
      "_model_module": "@jupyter-widgets/base",
      "_model_module_version": "1.2.0",
      "_model_name": "LayoutModel",
      "_view_count": null,
      "_view_module": "@jupyter-widgets/base",
      "_view_module_version": "1.2.0",
      "_view_name": "LayoutView",
      "align_content": null,
      "align_items": null,
      "align_self": null,
      "border": null,
      "bottom": null,
      "display": null,
      "flex": null,
      "flex_flow": null,
      "grid_area": null,
      "grid_auto_columns": null,
      "grid_auto_flow": null,
      "grid_auto_rows": null,
      "grid_column": null,
      "grid_gap": null,
      "grid_row": null,
      "grid_template_areas": null,
      "grid_template_columns": null,
      "grid_template_rows": null,
      "height": null,
      "justify_content": null,
      "justify_items": null,
      "left": null,
      "margin": null,
      "max_height": null,
      "max_width": null,
      "min_height": null,
      "min_width": null,
      "object_fit": null,
      "object_position": null,
      "order": null,
      "overflow": null,
      "overflow_x": null,
      "overflow_y": null,
      "padding": null,
      "right": null,
      "top": null,
      "visibility": null,
      "width": null
     }
    },
    "d7d2d3451d9c434497b697bbf98c6474": {
     "model_module": "@jupyter-widgets/controls",
     "model_module_version": "1.5.0",
     "model_name": "ProgressStyleModel",
     "state": {
      "_model_module": "@jupyter-widgets/controls",
      "_model_module_version": "1.5.0",
      "_model_name": "ProgressStyleModel",
      "_view_count": null,
      "_view_module": "@jupyter-widgets/base",
      "_view_module_version": "1.2.0",
      "_view_name": "StyleView",
      "bar_color": null,
      "description_width": ""
     }
    },
    "d9d145459aef48da9706bc270e156c3f": {
     "model_module": "@jupyter-widgets/controls",
     "model_module_version": "1.5.0",
     "model_name": "FloatProgressModel",
     "state": {
      "_dom_classes": [],
      "_model_module": "@jupyter-widgets/controls",
      "_model_module_version": "1.5.0",
      "_model_name": "FloatProgressModel",
      "_view_count": null,
      "_view_module": "@jupyter-widgets/controls",
      "_view_module_version": "1.5.0",
      "_view_name": "ProgressView",
      "bar_style": "success",
      "description": "",
      "description_tooltip": null,
      "layout": "IPY_MODEL_9b2d8a559ec24f78842319ee99eb9c94",
      "max": 54,
      "min": 0,
      "orientation": "horizontal",
      "style": "IPY_MODEL_baeb8ef12e5f4e1e95895521dac6e20f",
      "value": 54
     }
    },
    "ddeddbb30b014ddfaa519e0d59268891": {
     "model_module": "@jupyter-widgets/controls",
     "model_module_version": "1.5.0",
     "model_name": "FloatProgressModel",
     "state": {
      "_dom_classes": [],
      "_model_module": "@jupyter-widgets/controls",
      "_model_module_version": "1.5.0",
      "_model_name": "FloatProgressModel",
      "_view_count": null,
      "_view_module": "@jupyter-widgets/controls",
      "_view_module_version": "1.5.0",
      "_view_name": "ProgressView",
      "bar_style": "success",
      "description": "",
      "description_tooltip": null,
      "layout": "IPY_MODEL_0cd56ad613134294be8b72ce40066031",
      "max": 437955512,
      "min": 0,
      "orientation": "horizontal",
      "style": "IPY_MODEL_1e3695beb3f944d583c9284dd4785603",
      "value": 437955512
     }
    },
    "defa5f6258a7487abd404dd1242fdd97": {
     "model_module": "@jupyter-widgets/controls",
     "model_module_version": "1.5.0",
     "model_name": "HTMLModel",
     "state": {
      "_dom_classes": [],
      "_model_module": "@jupyter-widgets/controls",
      "_model_module_version": "1.5.0",
      "_model_name": "HTMLModel",
      "_view_count": null,
      "_view_module": "@jupyter-widgets/controls",
      "_view_module_version": "1.5.0",
      "_view_name": "HTMLView",
      "description": "",
      "description_tooltip": null,
      "layout": "IPY_MODEL_76ef25840e67478080763fed7c33261f",
      "placeholder": "​",
      "style": "IPY_MODEL_cc2198019ed34484ba501ed6311b95e1",
      "value": "1_Pooling/config.json: 100%"
     }
    },
    "e2ec3333a7084fd1ba656c2a709a4bfb": {
     "model_module": "@jupyter-widgets/controls",
     "model_module_version": "1.5.0",
     "model_name": "HTMLModel",
     "state": {
      "_dom_classes": [],
      "_model_module": "@jupyter-widgets/controls",
      "_model_module_version": "1.5.0",
      "_model_name": "HTMLModel",
      "_view_count": null,
      "_view_module": "@jupyter-widgets/controls",
      "_view_module_version": "1.5.0",
      "_view_name": "HTMLView",
      "description": "",
      "description_tooltip": null,
      "layout": "IPY_MODEL_21248fb8a8444d0e95b53c9a250b0aa6",
      "placeholder": "​",
      "style": "IPY_MODEL_53f2e3ff78a34d5493182c6c8a539955",
      "value": " 212/212 [00:00&lt;00:00, 8.04kB/s]"
     }
    },
    "e8b4a453efe94830b0bc4cd69ae2f5e0": {
     "model_module": "@jupyter-widgets/base",
     "model_module_version": "1.2.0",
     "model_name": "LayoutModel",
     "state": {
      "_model_module": "@jupyter-widgets/base",
      "_model_module_version": "1.2.0",
      "_model_name": "LayoutModel",
      "_view_count": null,
      "_view_module": "@jupyter-widgets/base",
      "_view_module_version": "1.2.0",
      "_view_name": "LayoutView",
      "align_content": null,
      "align_items": null,
      "align_self": null,
      "border": null,
      "bottom": null,
      "display": null,
      "flex": null,
      "flex_flow": null,
      "grid_area": null,
      "grid_auto_columns": null,
      "grid_auto_flow": null,
      "grid_auto_rows": null,
      "grid_column": null,
      "grid_gap": null,
      "grid_row": null,
      "grid_template_areas": null,
      "grid_template_columns": null,
      "grid_template_rows": null,
      "height": null,
      "justify_content": null,
      "justify_items": null,
      "left": null,
      "margin": null,
      "max_height": null,
      "max_width": null,
      "min_height": null,
      "min_width": null,
      "object_fit": null,
      "object_position": null,
      "order": null,
      "overflow": null,
      "overflow_x": null,
      "overflow_y": null,
      "padding": null,
      "right": null,
      "top": null,
      "visibility": null,
      "width": null
     }
    },
    "e9a9cc8a20074c58a1e03d682fb2ea98": {
     "model_module": "@jupyter-widgets/controls",
     "model_module_version": "1.5.0",
     "model_name": "DescriptionStyleModel",
     "state": {
      "_model_module": "@jupyter-widgets/controls",
      "_model_module_version": "1.5.0",
      "_model_name": "DescriptionStyleModel",
      "_view_count": null,
      "_view_module": "@jupyter-widgets/base",
      "_view_module_version": "1.2.0",
      "_view_name": "StyleView",
      "description_width": ""
     }
    },
    "ea6885d1cfa04e458855ddac12139c88": {
     "model_module": "@jupyter-widgets/base",
     "model_module_version": "1.2.0",
     "model_name": "LayoutModel",
     "state": {
      "_model_module": "@jupyter-widgets/base",
      "_model_module_version": "1.2.0",
      "_model_name": "LayoutModel",
      "_view_count": null,
      "_view_module": "@jupyter-widgets/base",
      "_view_module_version": "1.2.0",
      "_view_name": "LayoutView",
      "align_content": null,
      "align_items": null,
      "align_self": null,
      "border": null,
      "bottom": null,
      "display": null,
      "flex": null,
      "flex_flow": null,
      "grid_area": null,
      "grid_auto_columns": null,
      "grid_auto_flow": null,
      "grid_auto_rows": null,
      "grid_column": null,
      "grid_gap": null,
      "grid_row": null,
      "grid_template_areas": null,
      "grid_template_columns": null,
      "grid_template_rows": null,
      "height": null,
      "justify_content": null,
      "justify_items": null,
      "left": null,
      "margin": null,
      "max_height": null,
      "max_width": null,
      "min_height": null,
      "min_width": null,
      "object_fit": null,
      "object_position": null,
      "order": null,
      "overflow": null,
      "overflow_x": null,
      "overflow_y": null,
      "padding": null,
      "right": null,
      "top": null,
      "visibility": null,
      "width": null
     }
    },
    "efcb0a123bad4e32bf9717ff77ee0d1a": {
     "model_module": "@jupyter-widgets/base",
     "model_module_version": "1.2.0",
     "model_name": "LayoutModel",
     "state": {
      "_model_module": "@jupyter-widgets/base",
      "_model_module_version": "1.2.0",
      "_model_name": "LayoutModel",
      "_view_count": null,
      "_view_module": "@jupyter-widgets/base",
      "_view_module_version": "1.2.0",
      "_view_name": "LayoutView",
      "align_content": null,
      "align_items": null,
      "align_self": null,
      "border": null,
      "bottom": null,
      "display": null,
      "flex": null,
      "flex_flow": null,
      "grid_area": null,
      "grid_auto_columns": null,
      "grid_auto_flow": null,
      "grid_auto_rows": null,
      "grid_column": null,
      "grid_gap": null,
      "grid_row": null,
      "grid_template_areas": null,
      "grid_template_columns": null,
      "grid_template_rows": null,
      "height": null,
      "justify_content": null,
      "justify_items": null,
      "left": null,
      "margin": null,
      "max_height": null,
      "max_width": null,
      "min_height": null,
      "min_width": null,
      "object_fit": null,
      "object_position": null,
      "order": null,
      "overflow": null,
      "overflow_x": null,
      "overflow_y": null,
      "padding": null,
      "right": null,
      "top": null,
      "visibility": null,
      "width": null
     }
    },
    "f1286b49e1414190aaf288d568f6311f": {
     "model_module": "@jupyter-widgets/base",
     "model_module_version": "1.2.0",
     "model_name": "LayoutModel",
     "state": {
      "_model_module": "@jupyter-widgets/base",
      "_model_module_version": "1.2.0",
      "_model_name": "LayoutModel",
      "_view_count": null,
      "_view_module": "@jupyter-widgets/base",
      "_view_module_version": "1.2.0",
      "_view_name": "LayoutView",
      "align_content": null,
      "align_items": null,
      "align_self": null,
      "border": null,
      "bottom": null,
      "display": null,
      "flex": null,
      "flex_flow": null,
      "grid_area": null,
      "grid_auto_columns": null,
      "grid_auto_flow": null,
      "grid_auto_rows": null,
      "grid_column": null,
      "grid_gap": null,
      "grid_row": null,
      "grid_template_areas": null,
      "grid_template_columns": null,
      "grid_template_rows": null,
      "height": null,
      "justify_content": null,
      "justify_items": null,
      "left": null,
      "margin": null,
      "max_height": null,
      "max_width": null,
      "min_height": null,
      "min_width": null,
      "object_fit": null,
      "object_position": null,
      "order": null,
      "overflow": null,
      "overflow_x": null,
      "overflow_y": null,
      "padding": null,
      "right": null,
      "top": null,
      "visibility": null,
      "width": null
     }
    },
    "f28d6ff3046a42549120073a018dc60d": {
     "model_module": "@jupyter-widgets/base",
     "model_module_version": "1.2.0",
     "model_name": "LayoutModel",
     "state": {
      "_model_module": "@jupyter-widgets/base",
      "_model_module_version": "1.2.0",
      "_model_name": "LayoutModel",
      "_view_count": null,
      "_view_module": "@jupyter-widgets/base",
      "_view_module_version": "1.2.0",
      "_view_name": "LayoutView",
      "align_content": null,
      "align_items": null,
      "align_self": null,
      "border": null,
      "bottom": null,
      "display": null,
      "flex": null,
      "flex_flow": null,
      "grid_area": null,
      "grid_auto_columns": null,
      "grid_auto_flow": null,
      "grid_auto_rows": null,
      "grid_column": null,
      "grid_gap": null,
      "grid_row": null,
      "grid_template_areas": null,
      "grid_template_columns": null,
      "grid_template_rows": null,
      "height": null,
      "justify_content": null,
      "justify_items": null,
      "left": null,
      "margin": null,
      "max_height": null,
      "max_width": null,
      "min_height": null,
      "min_width": null,
      "object_fit": null,
      "object_position": null,
      "order": null,
      "overflow": null,
      "overflow_x": null,
      "overflow_y": null,
      "padding": null,
      "right": null,
      "top": null,
      "visibility": null,
      "width": null
     }
    },
    "f6a848cda21b491c82cbaa0d270195a7": {
     "model_module": "@jupyter-widgets/controls",
     "model_module_version": "1.5.0",
     "model_name": "DescriptionStyleModel",
     "state": {
      "_model_module": "@jupyter-widgets/controls",
      "_model_module_version": "1.5.0",
      "_model_name": "DescriptionStyleModel",
      "_view_count": null,
      "_view_module": "@jupyter-widgets/base",
      "_view_module_version": "1.2.0",
      "_view_name": "StyleView",
      "description_width": ""
     }
    },
    "fce2f28def784f398ed243417ba8d1ad": {
     "model_module": "@jupyter-widgets/base",
     "model_module_version": "1.2.0",
     "model_name": "LayoutModel",
     "state": {
      "_model_module": "@jupyter-widgets/base",
      "_model_module_version": "1.2.0",
      "_model_name": "LayoutModel",
      "_view_count": null,
      "_view_module": "@jupyter-widgets/base",
      "_view_module_version": "1.2.0",
      "_view_name": "LayoutView",
      "align_content": null,
      "align_items": null,
      "align_self": null,
      "border": null,
      "bottom": null,
      "display": null,
      "flex": null,
      "flex_flow": null,
      "grid_area": null,
      "grid_auto_columns": null,
      "grid_auto_flow": null,
      "grid_auto_rows": null,
      "grid_column": null,
      "grid_gap": null,
      "grid_row": null,
      "grid_template_areas": null,
      "grid_template_columns": null,
      "grid_template_rows": null,
      "height": null,
      "justify_content": null,
      "justify_items": null,
      "left": null,
      "margin": null,
      "max_height": null,
      "max_width": null,
      "min_height": null,
      "min_width": null,
      "object_fit": null,
      "object_position": null,
      "order": null,
      "overflow": null,
      "overflow_x": null,
      "overflow_y": null,
      "padding": null,
      "right": null,
      "top": null,
      "visibility": null,
      "width": null
     }
    },
    "fe726d8bf36f43398d6abd18ff9831f0": {
     "model_module": "@jupyter-widgets/base",
     "model_module_version": "1.2.0",
     "model_name": "LayoutModel",
     "state": {
      "_model_module": "@jupyter-widgets/base",
      "_model_module_version": "1.2.0",
      "_model_name": "LayoutModel",
      "_view_count": null,
      "_view_module": "@jupyter-widgets/base",
      "_view_module_version": "1.2.0",
      "_view_name": "LayoutView",
      "align_content": null,
      "align_items": null,
      "align_self": null,
      "border": null,
      "bottom": null,
      "display": null,
      "flex": null,
      "flex_flow": null,
      "grid_area": null,
      "grid_auto_columns": null,
      "grid_auto_flow": null,
      "grid_auto_rows": null,
      "grid_column": null,
      "grid_gap": null,
      "grid_row": null,
      "grid_template_areas": null,
      "grid_template_columns": null,
      "grid_template_rows": null,
      "height": null,
      "justify_content": null,
      "justify_items": null,
      "left": null,
      "margin": null,
      "max_height": null,
      "max_width": null,
      "min_height": null,
      "min_width": null,
      "object_fit": null,
      "object_position": null,
      "order": null,
      "overflow": null,
      "overflow_x": null,
      "overflow_y": null,
      "padding": null,
      "right": null,
      "top": null,
      "visibility": null,
      "width": null
     }
    }
   }
  }
 },
 "nbformat": 4,
 "nbformat_minor": 4
}
