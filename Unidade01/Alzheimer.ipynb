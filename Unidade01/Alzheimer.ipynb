{
 "cells": [
  {
   "cell_type": "markdown",
   "id": "62b24731",
   "metadata": {},
   "source": [
    "# UNIDADE 1: Inteligência Artificial\n",
    "\n",
    "1.1. Fundamentos do Aprendizado de Máquina  \n",
    "1.2. Tipos de Tarefas de Aprendizado  \n",
    "  1.2.1. Supervisionado  \n",
    "  1.2.2. Não supervisionado  \n",
    "  1.2.3. Semi supervisionado  \n",
    "  1.2.4. Aprendizado por reforço  \n",
    "1.3. Modelagem preditiva  "
   ]
  },
  {
   "cell_type": "markdown",
   "id": "22c8409c-c0b5-443f-90c1-67b9991cac2d",
   "metadata": {},
   "source": [
    "<div style=\"border: 2px solid #00008B; padding: 15px; border-radius: 10px; background-color: #00008B; color: #FFFFFF; font-family: Arial;\">\n",
    "  <h1 style=\"margin-top: 0;\">Prática: Classificação de casos de Alzheimer</h1>\n",
    "\n",
    "A escala clínica usada para avaliar o estágio de gravidade da demência em pacientes: demência muito leve, demência leve, demência moderada, além de sem demência\n",
    "\n",
    "Baseado em: https://www.kaggle.com/code/danttis/alzheimer-s-classification-using-knn/notebook\n",
    "\n",
    "</div>"
   ]
  },
  {
   "cell_type": "markdown",
   "id": "e5c4470c-1dd4-4cd5-990e-adfd53764ef2",
   "metadata": {},
   "source": [
    "<div style=\"background-color: #f0f8ff; padding: 20px; border-radius: 10px;\">\n",
    "  <ul>\n",
    "    <li>ID (identificação)</li> \n",
    "    <li>Sexo (M/F)</li> \n",
    "    <li>Mão dominante (Hand)</li> \n",
    "    <li>Idade (Age)</li> \n",
    "    <li>Nível de educação (Edu)</li> \n",
    "    <li>Status socioeconômico (SES)</li> \n",
    "    <li>Pontuação no Mini-Mental State Examination (MMSE) que avalia a função cognitiva</li> \n",
    "    <li>Classificação do Clinical Dementia Rating (CDR) que indica o estágio de gravidade da demência</li> \n",
    "    <li>Volume total do cérebro e do crânio (eTIV)</li> \n",
    "    <li>Volume Cerebral Total Normalizado (nWBV) que mede o volume cerebral relativo ao tamanho total do cérebro</li> \n",
    "    <li>Valor único do tamanho relativo do cérebro em relação a um atlas padrão (ASF)</li> \n",
    "    <li>Atraso (Delay), medido em meses, entre a aquisição das imagens cerebrais e a avaliação clínica ou cognitiva dos participantes</li>\n",
    "  </ul>\n",
    "</div>"
   ]
  },
  {
   "cell_type": "code",
   "execution_count": null,
   "id": "15ef589e-9049-4436-a33d-6a4a1d6eb89b",
   "metadata": {},
   "outputs": [],
   "source": [
    "!pip install pandas"
   ]
  },
  {
   "cell_type": "code",
   "execution_count": null,
   "id": "0b72bb9b-4738-4e0c-9770-6aa7d1935bf6",
   "metadata": {},
   "outputs": [],
   "source": [
    "!pip install scikit-learn"
   ]
  },
  {
   "cell_type": "code",
   "execution_count": null,
   "id": "864470c5-a3ef-4ed9-b10d-27f4c4250116",
   "metadata": {},
   "outputs": [],
   "source": [
    "!pip install matplotlib"
   ]
  },
  {
   "cell_type": "code",
   "execution_count": null,
   "id": "ba7a94ed-c945-4fdf-8a80-e2539223abe7",
   "metadata": {},
   "outputs": [],
   "source": [
    "import warnings\n",
    "warnings.filterwarnings('ignore')"
   ]
  },
  {
   "cell_type": "code",
   "execution_count": null,
   "id": "03ecd1c2-bd11-4ab1-a9fb-d91a50e3727a",
   "metadata": {},
   "outputs": [],
   "source": [
    "import pandas as pd\n",
    "import numpy as np\n",
    "\n",
    "from sklearn.model_selection import train_test_split\n",
    "from sklearn.neighbors import KNeighborsClassifier\n",
    "from sklearn.svm import SVC\n",
    "from sklearn.tree import DecisionTreeClassifier, plot_tree\n",
    "from sklearn.metrics import accuracy_score\n",
    "from sklearn.metrics import silhouette_score, davies_bouldin_score\n",
    "from sklearn.cluster import KMeans\n",
    "from IPython.display import Image\n",
    "import matplotlib.pyplot as plt"
   ]
  },
  {
   "cell_type": "markdown",
   "id": "76fdeef9-e3bb-4657-820e-34d5923867fe",
   "metadata": {},
   "source": [
    "# Gerando dados fictícios"
   ]
  },
  {
   "cell_type": "code",
   "execution_count": null,
   "id": "f0cd34b9-c402-4b90-9e0f-416d8f08835b",
   "metadata": {},
   "outputs": [],
   "source": [
    "data = {\n",
    "    'ID': range(1, 21),\n",
    "    'Sexo': ['M', 'F', 'M', 'F', 'M', 'F', 'M', 'F', 'M', 'F', 'M', 'F', 'M', 'F', 'M', 'F', 'M', 'F', 'M', 'F'],\n",
    "    'Mão Dominante': ['D', 'E', 'D', 'D', 'E', 'D', 'E', 'D', 'D', 'E', 'D', 'D', 'E', 'D', 'E', 'D', 'D', 'E', 'D', 'D'],\n",
    "    'Idade': [75, 80, 65, 70, 85, 60, 77, 82, 67, 72, 88, 62, 74, 68, 81, 73, 66, 78, 79, 64],\n",
    "    'Nível de Educação': [12, 16, 14, 10, 18, 13, 15, 12, 16, 11, 17, 14, 13, 15, 11, 12, 13, 14, 15, 16],\n",
    "    'Status Socioeconômico': [3, 4, 2, 1, 5, 3, 4, 2, 1, 5, 3, 4, 2, 1, 5, 3, 4, 2, 1, 5],\n",
    "    'MMSE': [25, 30, 40, 24, 28, 26, 31, 39, 23, 29, 27, 32, 38, 22, 28, 24, 31, 37, 21, 26],\n",
    "    'eTIV': [1500, 1600, 1950, 1480, 1570, 1500, 1600, 1950, 1480, 1570, 1500, 1600, 1950, 1480, 1570, 1500, 1600, 1950, 1480, 1570],\n",
    "    'nWBV': [0.68, 0.70, 0.86, 0.65, 0.69, 0.68, 0.70, 0.86, 0.65, 0.69, 0.68, 0.70, 0.86, 0.65, 0.69, 0.68, 0.70, 0.86, 0.65, 0.69],\n",
    "    'ASF': [1.2, 1.1, 1.9, 1.2, 1.1, 1.2, 1.1, 1.9, 1.2, 1.1, 1.2, 1.1, 1.9, 1.2, 1.1, 1.2, 1.1, 1.9, 1.2, 1.1],\n",
    "    'Delay': [0, 2, 1, 3, 4, 0, 2, 1, 3, 4, 0, 2, 1, 3, 4, 0, 2, 1, 3, 4],\n",
    "    'CDR': ['DML', 'SD', 'DML', 'DL', 'DML', 'DL', 'SD', 'DL', 'DML', 'DML', 'DL', 'SD', 'DML', 'DL', 'DML', 'DML', 'DL', 'SD', 'DML', 'DML']\n",
    "}\n",
    "\n",
    "df = pd.DataFrame(data)\n",
    "df.head()"
   ]
  },
  {
   "cell_type": "markdown",
   "id": "72c1de17-3b87-4574-b907-fb87d12a7a88",
   "metadata": {},
   "source": [
    "# Preparando os dados"
   ]
  },
  {
   "cell_type": "code",
   "execution_count": null,
   "id": "45d28a59-1e86-4849-a3cd-24b665716372",
   "metadata": {},
   "outputs": [],
   "source": [
    "# Convertendo Sexo e Mão Dominante para códigos numéricos\n",
    "df['Sexo'] = df['Sexo'].astype('category').cat.codes\n",
    "df['Mão Dominante'] = df['Mão Dominante'].astype('category').cat.codes"
   ]
  },
  {
   "cell_type": "code",
   "execution_count": null,
   "id": "f0384851",
   "metadata": {},
   "outputs": [],
   "source": [
    "# Separando features e target\n",
    "X = df[['Sexo', 'Mão Dominante', 'Idade', 'Nível de Educação', 'Status Socioeconômico', 'MMSE', 'eTIV', 'nWBV', 'ASF', 'Delay']]\n",
    "y = df['CDR']"
   ]
  },
  {
   "cell_type": "markdown",
   "id": "c282429b-d14e-48ed-8df5-6cec824e223e",
   "metadata": {},
   "source": [
    "# Dividindo os dados em treino e teste"
   ]
  },
  {
   "cell_type": "markdown",
   "id": "3d1ff563-c0c8-4483-81d9-f7409b8304fa",
   "metadata": {},
   "source": [
    "### Observação: Data Leakage\n",
    "\n",
    "Vazamento de dados refere-se ao compartilhamento acidental de informações entre conjuntos de dados de treinamento e teste. Este compartilhamento de informações gera uma espécie de “aviso” ao modelo sobre os valores do conjunto de teste, então ele se ajusta a estes dados e adquire pontuações de avaliação próximas ao ideal. O problema é que como o modelo se ajustou aos dados de teste, ele se torna incapaz de prever dados futuros com a mesma qualidade, pelo contrário, é muito provável que suas pontuações de avaliação despenquem quando chegar dados que o modelo nunca teve acesso.\n",
    "\n",
    "\n",
    "Para evitar Data Leakage o ideal é que a divisão do dataset em treino e teste seja feita antes o processamento de dados.\n",
    "\n",
    "\n",
    "1. Realizar a divisão do dataset;</br>\n",
    "2. Pré-processar os dados de treino;</br>\n",
    "3. Construir o modelo;</br>\n",
    "4. Pré-processar os dados de teste;</br>\n",
    "5. Validar o modelo.</b>\n",
    "\n",
    "\n",
    "Por questões didáticas no curso seguiremos o pré-processamento antes da criação do modelo.\n",
    "\n",
    "\n",
    "https://medium.com/@ingoreichertjr/por-que-devemos-tratar-nossos-dados-apenas-depois-de-fazer-o-split-no-dataset-7daa9224189b\n"
   ]
  },
  {
   "cell_type": "code",
   "execution_count": null,
   "id": "8ec2f3cc-2b07-4cb2-a7c2-13aa46cde490",
   "metadata": {},
   "outputs": [],
   "source": [
    "X_train, X_test, y_train, y_test = train_test_split(X, y, test_size=0.2, random_state=42)"
   ]
  },
  {
   "cell_type": "markdown",
   "id": "9cf0d28f-a84f-4d8b-abc2-a7b28cc89af3",
   "metadata": {},
   "source": [
    "# Supervisionado"
   ]
  },
  {
   "cell_type": "markdown",
   "id": "5cf37891-4a65-4d32-8b1e-7f1c7a0401e9",
   "metadata": {},
   "source": [
    "### Nearest Neighbors (KNN)"
   ]
  },
  {
   "cell_type": "markdown",
   "id": "c67ace89",
   "metadata": {},
   "source": [
    "<div style=\"background-color: #f0f8ff; padding: 20px; border-radius: 10px;\">\n",
    "KNN é um algoritmo de aprendizado supervisionado usado para classificação e regressão. Ele funciona ao classificar uma nova amostra com base nas <b>classes dos seus k vizinhos mais próximos</b>. A classe mais comum entre os k vizinhos é atribuída à nova amostra. A distância entre os pontos pode ser calculada usando diferentes métricas, como a distância Euclidiana.\n",
    "</div>"
   ]
  },
  {
   "cell_type": "markdown",
   "id": "e93f2ae8",
   "metadata": {},
   "source": [
    "<img src=\"images/knn.png\" width=\"500\" height=\"200\" />"
   ]
  },
  {
   "cell_type": "code",
   "execution_count": null,
   "id": "beb6c5eb-48bf-46ec-9250-6929465b183c",
   "metadata": {},
   "outputs": [],
   "source": [
    "# Instanciando o modelo knn\n",
    "knn = KNeighborsClassifier(n_neighbors=3)"
   ]
  },
  {
   "cell_type": "code",
   "execution_count": null,
   "id": "8d5633da",
   "metadata": {},
   "outputs": [],
   "source": [
    "# Treinando o modelo com a base de treinamento\n",
    "knn.fit(X_train, y_train)"
   ]
  },
  {
   "cell_type": "code",
   "execution_count": null,
   "id": "82c2cc6c",
   "metadata": {},
   "outputs": [],
   "source": [
    "# Fazendo predições com a base de teste\n",
    "knn_predictions = knn.predict(X_test)"
   ]
  },
  {
   "cell_type": "code",
   "execution_count": null,
   "id": "a27bb91c-b152-4b05-97da-fcfade4e3bf5",
   "metadata": {},
   "outputs": [],
   "source": [
    "# Calculando a acurácia do KNN\n",
    "knn_accuracy = accuracy_score(y_test, knn_predictions)\n",
    "print(\"Acurácia do KNN:\", knn_accuracy)"
   ]
  },
  {
   "cell_type": "code",
   "execution_count": null,
   "id": "a09f3bce",
   "metadata": {},
   "outputs": [],
   "source": []
  },
  {
   "cell_type": "code",
   "execution_count": null,
   "id": "082902be",
   "metadata": {},
   "outputs": [],
   "source": []
  },
  {
   "cell_type": "code",
   "execution_count": null,
   "id": "3422f4f3",
   "metadata": {},
   "outputs": [],
   "source": []
  },
  {
   "cell_type": "code",
   "execution_count": null,
   "id": "606d0808",
   "metadata": {},
   "outputs": [],
   "source": []
  },
  {
   "cell_type": "code",
   "execution_count": null,
   "id": "02851c53-69bf-49f8-8eef-dae4cbfd635e",
   "metadata": {},
   "outputs": [],
   "source": [
    "# Fazendo a previsão\n"
   ]
  },
  {
   "cell_type": "markdown",
   "id": "569e98d9-ac1d-40b2-a658-d23a0cdacf1d",
   "metadata": {},
   "source": [
    "### Árvore de Decisão (Decision Tree)"
   ]
  },
  {
   "cell_type": "markdown",
   "id": "b3370aa8",
   "metadata": {},
   "source": [
    "<div style=\"background-color: #f0f8ff; padding: 20px; border-radius: 10px;\">\n",
    "As Árvores de Decisão são modelos de aprendizado supervisionado que usam uma estrutura de árvore para tomar decisões baseadas nos valores dos atributos. Elas são usadas tanto para classificação quanto para regressão. O modelo <b>divide o espaço de atributos em regiões recursivamente</b>, tomando decisões baseadas na maximização da pureza das folhas (nós terminais).\n",
    "</div>"
   ]
  },
  {
   "cell_type": "markdown",
   "id": "9d446b9e",
   "metadata": {},
   "source": [
    "<img src=\"images/tree2.png\" width=\"400\" height=\"200\" />\n",
    "<img src=\"images/tree1.png\" width=\"400\" height=\"200\" />"
   ]
  },
  {
   "cell_type": "code",
   "execution_count": null,
   "id": "36c4bb1c-7548-4506-bf40-234ee4e87e30",
   "metadata": {},
   "outputs": [],
   "source": [
    "tree = DecisionTreeClassifier(random_state=42)\n",
    "tree.fit(X_train, y_train)\n",
    "tree_predictions = tree.predict(X_test)"
   ]
  },
  {
   "cell_type": "code",
   "execution_count": null,
   "id": "1cec8e46-de31-4e52-8693-98a0ec6abab3",
   "metadata": {},
   "outputs": [],
   "source": [
    "# Calculando a acurácia da árvore de decisão\n",
    "tree_accuracy = accuracy_score(y_test, tree_predictions)\n",
    "print(\"Acurácia da Árvore de Decisão:\", tree_accuracy)"
   ]
  },
  {
   "cell_type": "code",
   "execution_count": null,
   "id": "7bd41d77-65eb-400b-96e7-c16c588fbdc2",
   "metadata": {},
   "outputs": [],
   "source": [
    "# Visualizando a árvore de decisão\n",
    "plt.figure(figsize=(20, 10))\n",
    "plot_tree(tree, feature_names=list(X.columns), class_names=list(tree.classes_), filled=True, rounded=True)\n",
    "plt.show()"
   ]
  },
  {
   "cell_type": "code",
   "execution_count": null,
   "id": "93f5f7eb",
   "metadata": {},
   "outputs": [],
   "source": []
  },
  {
   "cell_type": "code",
   "execution_count": null,
   "id": "a26c3d5a-90b0-44eb-8658-245504d5208f",
   "metadata": {},
   "outputs": [],
   "source": [
    "# Fazendo a previsão\n"
   ]
  },
  {
   "cell_type": "markdown",
   "id": "0406bbbc",
   "metadata": {},
   "source": [
    "### Support Vector Machine"
   ]
  },
  {
   "cell_type": "markdown",
   "id": "054c7bf9",
   "metadata": {},
   "source": [
    "<div style=\"background-color: #f0f8ff; padding: 20px; border-radius: 10px;\">\n",
    "SVM é um algoritmo de aprendizado supervisionado usado para classificação e regressão. Ele encontra um hiperplano que melhor separa as classes no espaço dos atributos.SVM tenta <b>maximizar a margem entre as classes</b>. Em casos <b>não linearmente separáveis, usa-se o truque do kernel para mapear os dados</b> para um espaço de maior dimensão onde se tornem separáveis.\n",
    "</div>"
   ]
  },
  {
   "cell_type": "markdown",
   "id": "f2e785a5",
   "metadata": {},
   "source": [
    "<img src=\"images/svm1.png\" width=\"500\" height=\"200\" />\n",
    "<img src=\"images/svm2.png\" width=\"500\" height=\"200\" />"
   ]
  },
  {
   "cell_type": "code",
   "execution_count": null,
   "id": "19428a8d",
   "metadata": {},
   "outputs": [],
   "source": [
    "svm = SVC(kernel='linear')\n",
    "svm.fit(X_train, y_train)\n",
    "svm_predictions = svm.predict(X_test)"
   ]
  },
  {
   "cell_type": "code",
   "execution_count": null,
   "id": "8e0693e5",
   "metadata": {},
   "outputs": [],
   "source": [
    "# Calculando a acurácia do SVM\n",
    "svm_accuracy = accuracy_score(y_test, svm_predictions)\n",
    "print(\"Acurácia do SVM:\", svm_accuracy)"
   ]
  },
  {
   "cell_type": "code",
   "execution_count": null,
   "id": "a4297610",
   "metadata": {},
   "outputs": [],
   "source": []
  },
  {
   "cell_type": "code",
   "execution_count": null,
   "id": "f2a9edb5",
   "metadata": {},
   "outputs": [],
   "source": [
    "# Fazendo previsão\n"
   ]
  },
  {
   "cell_type": "markdown",
   "id": "15562fe5-3c4f-4ad7-acb7-e4d15095a0a2",
   "metadata": {},
   "source": [
    "# Não Supervisionado"
   ]
  },
  {
   "cell_type": "markdown",
   "id": "2d021e3b-c8d5-4e64-b01f-c26d6a15e9ba",
   "metadata": {},
   "source": [
    "### KMeans Clustering"
   ]
  },
  {
   "cell_type": "markdown",
   "id": "8c2c1c89",
   "metadata": {},
   "source": [
    "<div style=\"background-color: #f0f8ff; padding: 20px; border-radius: 10px;\">\n",
    "K-Means é um algoritmo de aprendizado não supervisionado usado para agrupar dados em k clusters baseados em suas características. O algoritmo <b>atribui iterativamente cada ponto de dados ao cluster mais próximo, recalculando os centróides</b> até que a convergência seja alcançada.\n",
    "</div>"
   ]
  },
  {
   "cell_type": "markdown",
   "id": "e92aac61",
   "metadata": {},
   "source": [
    "<img src=\"images/kmeans.png\" width=\"500\" height=\"200\" />"
   ]
  },
  {
   "cell_type": "markdown",
   "id": "3841f470",
   "metadata": {},
   "source": [
    "Observe que **NÃO** é passado um conjunto **TARGET** para o algoritmo não supervisionado."
   ]
  },
  {
   "cell_type": "code",
   "execution_count": null,
   "id": "c7209a14-d191-4bff-be84-e28229afb28d",
   "metadata": {},
   "outputs": [],
   "source": [
    "kmeans = KMeans(n_clusters=4, random_state=42)\n",
    "kmeans.fit(X)\n",
    "clusters = kmeans.predict(X)"
   ]
  },
  {
   "cell_type": "markdown",
   "id": "c19c0e48-43e8-4c64-b86b-6a4dc22bc065",
   "metadata": {},
   "source": [
    "Como KMeans é um algoritmo de clustering, você **não pode usar diretamente a métrica de acurácia, pois não há rótulos verdadeiros para comparar**. No entanto, você pode avaliar a qualidade dos clusters usando métricas como o **Silhouette Score** ou **Davies-Bouldin Score**.\n",
    "\n",
    "O Silhouette Score mede a **similaridade de um ponto INDIVIDUALMETE com outros pontos no mesmo cluster (coesão) em comparação com pontos em clusters diferentes (separação)**. Um Silhouette Score alto (próximo de 1) indica que os clusters são bem definidos.\n",
    "\n",
    "<img src=\"images/silhouette.png\" width=\"300\" height=\"100\" />\n",
    "\n",
    "Davies-Bouldin Score mede a **relação entre a coesão (compacidade) de um CLUSTER e a separação entre clusters**.  Um Davies-Bouldin Score mais baixo indica clusters mais compactos e bem separados, o que implica uma melhor qualidade dos clusters.\n",
    "\n",
    "<img src=\"images/davies-bouldin.png\" width=\"300\" height=\"100\" />\n"
   ]
  },
  {
   "cell_type": "code",
   "execution_count": null,
   "id": "ce604a20-81eb-4608-919d-793c6838bbf9",
   "metadata": {},
   "outputs": [],
   "source": [
    "# Calculando o Silhouette Score\n",
    "kmeans_silhouette = silhouette_score(X, clusters)\n",
    "print(\"Silhouette Score do KMeans:\", kmeans_silhouette)"
   ]
  },
  {
   "cell_type": "code",
   "execution_count": null,
   "id": "9ea5dff0",
   "metadata": {},
   "outputs": [],
   "source": [
    "# Calculando o Davies-Bouldin Score\n",
    "kmeans_davies_bouldin = davies_bouldin_score(X, clusters)\n",
    "print(\"Davies-Bouldin Score do KMeans:\", kmeans_davies_bouldin)"
   ]
  },
  {
   "cell_type": "code",
   "execution_count": null,
   "id": "1df8b2d5",
   "metadata": {},
   "outputs": [],
   "source": []
  },
  {
   "cell_type": "code",
   "execution_count": null,
   "id": "5cacfc08-e574-4cab-881d-053b30686c9e",
   "metadata": {},
   "outputs": [],
   "source": [
    "# Fazendo a previsão\n"
   ]
  },
  {
   "cell_type": "code",
   "execution_count": null,
   "id": "1b7aa49e-c354-4285-86f6-335c96324845",
   "metadata": {},
   "outputs": [],
   "source": [
    "# Adicionando a coluna CDR_cluster ao dataframe\n",
    "X['CDR_cluster'] = clusters\n",
    "X.head()"
   ]
  },
  {
   "cell_type": "code",
   "execution_count": null,
   "id": "c3390a33-9bc0-420c-9cb9-2d27da15f46e",
   "metadata": {},
   "outputs": [],
   "source": [
    "# Visualizando os resultados\n",
    "plt.figure(figsize=(12, 5))\n",
    "\n",
    "plt.subplot(1, 2, 1)\n",
    "plt.scatter(X['Idade'], X['Nível de Educação'], c='blue', label='True Labels')\n",
    "plt.title('True Labels')\n",
    "plt.xlabel('Idade')\n",
    "plt.ylabel('Nível de Educação')\n",
    "\n",
    "plt.subplot(1, 2, 2)\n",
    "plt.scatter(X['Idade'], X['Nível de Educação'], c=clusters, cmap='viridis', label='KMeans Clusters')\n",
    "plt.title('KMeans Clusters')\n",
    "plt.xlabel('Idade')\n",
    "plt.ylabel('Nível de Educação')\n",
    "\n",
    "plt.show()"
   ]
  },
  {
   "cell_type": "markdown",
   "id": "61e4ad40",
   "metadata": {},
   "source": [
    "# Referência para estudo:\n",
    "\n",
    "*  Grus, Joel. **Data Science do Zero**. Alta Books, 2021\n",
    "*  Bari, Anasse; Chaouchi, Mohamed; Jung, Tommy. **Análise Preditiva para Leigos**. Alta Books, 2019\n"
   ]
  }
 ],
 "metadata": {
  "kernelspec": {
   "display_name": "Python 3 (ipykernel)",
   "language": "python",
   "name": "python3"
  },
  "language_info": {
   "codemirror_mode": {
    "name": "ipython",
    "version": 3
   },
   "file_extension": ".py",
   "mimetype": "text/x-python",
   "name": "python",
   "nbconvert_exporter": "python",
   "pygments_lexer": "ipython3",
   "version": "3.11.7"
  }
 },
 "nbformat": 4,
 "nbformat_minor": 5
}
