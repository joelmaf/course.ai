{
 "cells": [
  {
   "cell_type": "markdown",
   "id": "172a8e50-0de1-4af5-a17c-513b795304d1",
   "metadata": {},
   "source": [
    "# UNIDADE 3:  Regressão Linear\n",
    "\n",
    "3.1 Previsões simples (Regressão linear)\n",
    "\n",
    "3.2 Previsões complexas (Regressão linear múltipla)\n",
    "\n",
    "3.3   Algoritmos de Classificação\n",
    "\n",
    "3.3.1 Métodos simbólicos: Árvore de Decisão\n",
    "\n",
    "3.3.2 Métodos ensemble: Random Forest\n"
   ]
  },
  {
   "cell_type": "markdown",
   "id": "4add8ee8-ccb8-4b01-a637-4d39e13210e9",
   "metadata": {},
   "source": [
    "<div style=\"border: 2px solid #00008B; padding: 15px; border-radius: 10px; background-color: #00008B; color: #FFFFFF; font-family: Arial;\">\n",
    "  <h1 style=\"margin-top: 0;\"> Predição de Cargas de Trabalho para Juízes</h1>\n",
    "  <p>Descrição: Prever o volume de trabalho em diferentes tribunais com base em fatores como tamanho da população, tipos de casos comuns na região, etc.\n",
    "</p>\n",
    "</div>"
   ]
  },
  {
   "cell_type": "markdown",
   "id": "07c70065-aaf3-45a8-b773-cbfdf32d3d5c",
   "metadata": {},
   "source": [
    "\n",
    "<div style=\"background-color: #f0f8ff; padding: 20px; border-radius: 10px;\">\n",
    "  <ul>\n",
    "    <li>Tamanho da população da região onde o tribunal está localizado (valores real entre 30,000 e 500,000)</li>\n",
    "    <li>Número de juízes ativos no tribunal (valores inteiros entre 1 e 20)</li>\n",
    "    <li>Número de casos recebidos mensalmente (valores inteiros entre 150 e 800)</li>\n",
    "    <li>Distribuição dos tipos de casos comuns na região (valores: criminal, civil, trabalhista)</li>\n",
    "    <li>Taxa de crescimento da população na região (valores reais entre 0.0 e 1.0)</li>\n",
    "    <li>Taxa de criminalidade na região (valores reais entre 0.0 e 1.0)</li>\n",
    "    <li>Média de tempo gasto em cada tipo de caso em meses (número inteiro)</li>\n",
    "    <li>Nível de automação e eficiência do tribunal (valores inteiros entre 0 e 10)</li>\n",
    "    <li>Nível de congestionamento do sistema judicial na região (baixo, médio, alto)</li>\n",
    "    <li>Número de advogados atuando na região (valores inteiros entre 1 e 100)</li>\n",
    "    <li>Número de prédios judiciais na região (valores inteiros entre 1 e 10)</li>\n",
    "    <li>Nível de urbanização da região (baixo, médio, alto)</li>\n",
    "    <li>Nível de educação da população na região (valores reais entre 0.0 e 1.0)</li>\n",
    "    <li>Número de habitantes por juiz (valor fruto da divisão de tamanho da população da região pelo número de juízes ativos no tribunal)</li>\n",
    "    <li>Índice de Desenvolvimento Humano (valores reais entre 0.0 e 1.0)</li>\n",
    "    <li>Média de idade dos  es (entre 35 e 60)</li>\n",
    "    <li><b>Número de casos pendentes atualmente no tribunal (valores inteiros, coluna que não pode ser nula)</b></li>\n",
    "  </ul>\n",
    "</div>\n",
    "\n",
    "\n"
   ]
  },
  {
   "cell_type": "code",
   "execution_count": null,
   "id": "49fc298f-d3c8-4815-9516-776235211fc0",
   "metadata": {
    "id": "d36cbb02-d052-43eb-9157-98be9029c25b"
   },
   "outputs": [],
   "source": [
    "import pandas as pd\n",
    "import numpy as np\n",
    "\n",
    "pd.set_option('display.float_format', '{:.5f}'.format)\n",
    "\n",
    "import streamlit as st\n",
    "import joblib\n",
    "\n",
    "from sklearn.linear_model import LinearRegression\n",
    "from sklearn.preprocessing import PolynomialFeatures\n",
    "from sklearn.preprocessing import MinMaxScaler\n",
    "from sklearn.preprocessing import StandardScaler\n",
    "import scipy.stats as stats\n",
    "\n",
    "import matplotlib.pyplot as plt\n",
    "import seaborn as sns\n",
    "\n",
    "%matplotlib inline"
   ]
  },
  {
   "cell_type": "code",
   "execution_count": null,
   "id": "05b46176-605b-48f3-a491-2f3c45123171",
   "metadata": {},
   "outputs": [],
   "source": [
    "import warnings\n",
    "warnings.filterwarnings('ignore')"
   ]
  },
  {
   "cell_type": "markdown",
   "id": "aad74517-79bb-43ec-8d4c-86782a31a8b2",
   "metadata": {},
   "source": [
    "# Ingestão de Dados"
   ]
  },
  {
   "cell_type": "code",
   "execution_count": null,
   "id": "869f7e17-025a-4d2e-a517-b18350b84532",
   "metadata": {
    "id": "869f7e17-025a-4d2e-a517-b18350b84532"
   },
   "outputs": [],
   "source": [
    "df_servidor = pd.read_csv(\"../data/raw/predicao_cargas_trabalho.csv\")"
   ]
  },
  {
   "cell_type": "code",
   "execution_count": null,
   "id": "1771adf8-4949-451a-a60f-df0b77376549",
   "metadata": {},
   "outputs": [],
   "source": [
    "df_servidor.head(5)"
   ]
  },
  {
   "cell_type": "markdown",
   "id": "4867e0f8-497f-4818-8690-439dfd95b35e",
   "metadata": {},
   "source": [
    "# Limpeza e transformação de dados"
   ]
  },
  {
   "cell_type": "markdown",
   "id": "e6cbad79-0815-4a88-b6a8-2bf6f98d7ac3",
   "metadata": {},
   "source": [
    "<div style=\"background-color: #f0f8ff; padding: 7px; border-radius: 10px;\">\n",
    "<h3>Variável: codigo_tribunal</h3>\n",
    "</div>"
   ]
  },
  {
   "cell_type": "code",
   "execution_count": null,
   "id": "Sq5eSVCR4PNi",
   "metadata": {
    "colab": {
     "base_uri": "https://localhost:8080/"
    },
    "id": "Sq5eSVCR4PNi",
    "outputId": "b9816e49-b858-4a5d-8bdc-605679796354"
   },
   "outputs": [],
   "source": [
    "df_servidor[\"codigo_tribunal\"].unique()"
   ]
  },
  {
   "cell_type": "code",
   "execution_count": null,
   "id": "sXMrkHjkAc3S",
   "metadata": {
    "colab": {
     "base_uri": "https://localhost:8080/"
    },
    "id": "sXMrkHjkAc3S",
    "outputId": "2c3d6a3e-c22d-4b7f-d44a-3e3c5d0b8200"
   },
   "outputs": [],
   "source": [
    "df_servidor = df_servidor.dropna(subset=['codigo_tribunal'])\n",
    "df_servidor[\"codigo_tribunal\"].value_counts(dropna=False)"
   ]
  },
  {
   "cell_type": "markdown",
   "id": "6d3a37ae-53f1-44be-935a-4cd0d1c844ae",
   "metadata": {},
   "source": [
    "<div style=\"background-color: #f0f8ff; padding: 7px; border-radius: 10px;\">\n",
    "<h3>Variável: populacao</h3>\n",
    "</div>"
   ]
  },
  {
   "cell_type": "code",
   "execution_count": null,
   "id": "6SEVuGUf_qkt",
   "metadata": {
    "colab": {
     "base_uri": "https://localhost:8080/"
    },
    "id": "6SEVuGUf_qkt",
    "outputId": "c75b6204-5977-4ae2-85c1-e7754bf97823"
   },
   "outputs": [],
   "source": [
    "df_servidor[\"populacao\"].unique()\n",
    "df_servidor['populacao'].fillna(df_servidor['populacao'].mean(), inplace=True)\n",
    "df_servidor[\"populacao\"].value_counts(dropna=False)"
   ]
  },
  {
   "cell_type": "markdown",
   "id": "8c0163d2-6985-4042-b5ba-c243fd6c46c7",
   "metadata": {},
   "source": [
    "<div style=\"background-color: #f0f8ff; padding: 7px; border-radius: 10px;\">\n",
    "<h3>Variável: num_juizes</h3>\n",
    "</div>"
   ]
  },
  {
   "cell_type": "code",
   "execution_count": null,
   "id": "0DQNQ0Wv-11v",
   "metadata": {
    "colab": {
     "base_uri": "https://localhost:8080/"
    },
    "id": "0DQNQ0Wv-11v",
    "outputId": "92677d3e-31bd-4074-fa52-c41209140279"
   },
   "outputs": [],
   "source": [
    "df_servidor[\"num_juizes\"].unique()\n",
    "df_servidor = df_servidor.dropna(subset=['num_juizes'])\n",
    "df_servidor[\"num_juizes\"].value_counts(dropna=False)"
   ]
  },
  {
   "cell_type": "markdown",
   "id": "e8660aaf-670e-4b1f-8d21-bdf6624ec4f0",
   "metadata": {},
   "source": [
    "<div style=\"background-color: #f0f8ff; padding: 7px; border-radius: 10px;\">\n",
    "<h3>Variável: casos_recebidos</h3>\n",
    "</div>"
   ]
  },
  {
   "cell_type": "code",
   "execution_count": null,
   "id": "FJlUoH1KAo2u",
   "metadata": {
    "colab": {
     "base_uri": "https://localhost:8080/"
    },
    "id": "FJlUoH1KAo2u",
    "outputId": "166ee8db-2514-4792-b47f-181fdc2dd361"
   },
   "outputs": [],
   "source": [
    "df_servidor[\"casos_recebidos\"].value_counts(dropna=False)\n",
    "df_servidor['casos_recebidos'].fillna(df_servidor['casos_recebidos'].mean(), inplace=True)\n",
    "df_servidor[\"casos_recebidos\"].value_counts(dropna=False)"
   ]
  },
  {
   "cell_type": "markdown",
   "id": "40205962-1b35-41e5-a0b4-0001c1125480",
   "metadata": {},
   "source": [
    "<div style=\"background-color: #f0f8ff; padding: 7px; border-radius: 10px;\">\n",
    "<h3>Variável: tipo_caso</h3>\n",
    "</div>"
   ]
  },
  {
   "cell_type": "code",
   "execution_count": null,
   "id": "-3K67_5bjJ0i",
   "metadata": {
    "colab": {
     "base_uri": "https://localhost:8080/"
    },
    "id": "-3K67_5bjJ0i",
    "outputId": "be34ba61-f985-43fc-c6ed-15bb77c5cb65"
   },
   "outputs": [],
   "source": [
    "df_servidor[\"tipo_caso\"].unique()\n",
    "df_servidor['tipo_caso'].fillna('civil', inplace=True)\n",
    "df_servidor[\"tipo_caso\"].value_counts(dropna=False)"
   ]
  },
  {
   "cell_type": "code",
   "execution_count": null,
   "id": "9f15e46d-11ad-4f01-8a8a-fccadca56b62",
   "metadata": {},
   "outputs": [],
   "source": [
    "categorias = df_servidor['tipo_caso'].astype('category').cat.categories\n",
    "codigos = df_servidor['tipo_caso'].astype('category').cat.codes\n",
    "print({codigo: categoria for codigo, categoria in enumerate(categorias)})"
   ]
  },
  {
   "cell_type": "code",
   "execution_count": null,
   "id": "yPYqrrALm1VQ",
   "metadata": {
    "colab": {
     "base_uri": "https://localhost:8080/"
    },
    "id": "yPYqrrALm1VQ",
    "outputId": "ea6980b7-528d-40fc-a2f0-bd8f6af17477"
   },
   "outputs": [],
   "source": [
    "df_servidor['tipo_caso'] = df_servidor['tipo_caso'].astype('category').cat.codes\n",
    "df_servidor[\"tipo_caso\"].unique()"
   ]
  },
  {
   "cell_type": "markdown",
   "id": "c18f2584-6376-493c-a6b8-72770f260de6",
   "metadata": {},
   "source": [
    "<div style=\"background-color: #f0f8ff; padding: 7px; border-radius: 10px;\">\n",
    "<h3>Variável: taxa_crescimento_populacao</h3>\n",
    "</div>"
   ]
  },
  {
   "cell_type": "code",
   "execution_count": null,
   "id": "UoMgN0UVAvKE",
   "metadata": {
    "colab": {
     "base_uri": "https://localhost:8080/"
    },
    "id": "UoMgN0UVAvKE",
    "outputId": "b0070415-f415-4c6d-e7a2-1f3b09993cf1"
   },
   "outputs": [],
   "source": [
    "df_servidor[\"taxa_crescimento_populacao\"].value_counts(dropna=False)"
   ]
  },
  {
   "cell_type": "code",
   "execution_count": null,
   "id": "0uUrFbzQh_Vy",
   "metadata": {
    "colab": {
     "base_uri": "https://localhost:8080/"
    },
    "id": "0uUrFbzQh_Vy",
    "outputId": "7fe61d9e-49c4-4d78-db81-44a25ccf055c"
   },
   "outputs": [],
   "source": [
    "df_servidor = df_servidor.dropna(subset=['taxa_crescimento_populacao'])\n",
    "df_servidor[\"taxa_crescimento_populacao\"].value_counts(dropna=False)"
   ]
  },
  {
   "cell_type": "markdown",
   "id": "a851f748-6ddd-4f95-80c7-0a06b3b1847a",
   "metadata": {},
   "source": [
    "<div style=\"background-color: #f0f8ff; padding: 7px; border-radius: 10px;\">\n",
    "<h3>Variável: tempo_casos</h3>\n",
    "</div>"
   ]
  },
  {
   "cell_type": "code",
   "execution_count": null,
   "id": "xYOokgEXiufk",
   "metadata": {
    "colab": {
     "base_uri": "https://localhost:8080/"
    },
    "id": "xYOokgEXiufk",
    "outputId": "6b9b8adc-5d8d-4804-de0d-5a0593db7ced"
   },
   "outputs": [],
   "source": [
    "df_servidor[\"tempo_casos\"].unique()"
   ]
  },
  {
   "cell_type": "code",
   "execution_count": null,
   "id": "1J78O-67j42W",
   "metadata": {
    "colab": {
     "base_uri": "https://localhost:8080/"
    },
    "id": "1J78O-67j42W",
    "outputId": "f52ea8a0-ba55-40b4-b2f6-865f43924c87"
   },
   "outputs": [],
   "source": [
    "df_servidor = df_servidor.dropna(subset=['tempo_casos'])\n",
    "df_servidor[\"tempo_casos\"].value_counts(dropna=False)"
   ]
  },
  {
   "cell_type": "markdown",
   "id": "7cf97353-f394-4a35-91ed-b3e5231b97cc",
   "metadata": {},
   "source": [
    "<div style=\"background-color: #f0f8ff; padding: 7px; border-radius: 10px;\">\n",
    "<h3>Variável: nivel_automacao</h3>\n",
    "</div>"
   ]
  },
  {
   "cell_type": "code",
   "execution_count": null,
   "id": "ZYLlTHwakBT1",
   "metadata": {
    "colab": {
     "base_uri": "https://localhost:8080/"
    },
    "id": "ZYLlTHwakBT1",
    "outputId": "7edda1c4-8e6a-4ea7-d1f6-76e74f2a48f2"
   },
   "outputs": [],
   "source": [
    "df_servidor[\"nivel_automacao\"].unique()"
   ]
  },
  {
   "cell_type": "code",
   "execution_count": null,
   "id": "fa13b980-cc51-48f0-b6d9-3ea52d157592",
   "metadata": {},
   "outputs": [],
   "source": [
    "from sklearn.impute import SimpleImputer\n",
    "\n",
    "# Imputação com o mais frequente\n",
    "imputer = SimpleImputer(strategy='most_frequent')\n",
    "df_servidor['nivel_automacao'] = imputer.fit_transform(df_servidor[['nivel_automacao']])"
   ]
  },
  {
   "cell_type": "code",
   "execution_count": null,
   "id": "3b16a949-efc6-4adf-9e95-70d655232ba2",
   "metadata": {},
   "outputs": [],
   "source": [
    "#df_servidor['nivel_automacao'].fillna(5, inplace=True)"
   ]
  },
  {
   "cell_type": "code",
   "execution_count": null,
   "id": "3qKwjJnHkJ-N",
   "metadata": {
    "colab": {
     "base_uri": "https://localhost:8080/"
    },
    "id": "3qKwjJnHkJ-N",
    "outputId": "b977c91a-fcf1-4fea-e6b3-5d2e8066c8bd"
   },
   "outputs": [],
   "source": [
    "df_servidor[\"nivel_automacao\"].value_counts(dropna=False)"
   ]
  },
  {
   "cell_type": "markdown",
   "id": "73f65802-d10d-469d-a29e-2005c0d53ad3",
   "metadata": {},
   "source": [
    "<div style=\"background-color: #f0f8ff; padding: 7px; border-radius: 10px;\">\n",
    "<h3>Variável: congestionamento</h3>\n",
    "</div>"
   ]
  },
  {
   "cell_type": "code",
   "execution_count": null,
   "id": "UR5wr7vAAvUc",
   "metadata": {
    "colab": {
     "base_uri": "https://localhost:8080/"
    },
    "id": "UR5wr7vAAvUc",
    "outputId": "6fd3733c-b787-4c80-ef2e-1b8a02716149"
   },
   "outputs": [],
   "source": [
    "df_servidor[\"congestionamento\"].unique()"
   ]
  },
  {
   "cell_type": "code",
   "execution_count": null,
   "id": "1ySjxlPJA4vX",
   "metadata": {
    "colab": {
     "base_uri": "https://localhost:8080/"
    },
    "id": "1ySjxlPJA4vX",
    "outputId": "4fd6bc37-1f10-4799-f983-d37a6775a08f"
   },
   "outputs": [],
   "source": [
    "df_servidor['congestionamento'].fillna('invalido', inplace=True)\n",
    "df_servidor[\"congestionamento\"].value_counts(dropna=False)"
   ]
  },
  {
   "cell_type": "code",
   "execution_count": null,
   "id": "8d1d4a61-518a-4633-85a3-1d0d24cbf122",
   "metadata": {},
   "outputs": [],
   "source": [
    "categorias = df_servidor['congestionamento'].astype('category').cat.categories\n",
    "codigos = df_servidor['congestionamento'].astype('category').cat.codes\n",
    "print({codigo: categoria for codigo, categoria in enumerate(categorias)})"
   ]
  },
  {
   "cell_type": "code",
   "execution_count": null,
   "id": "XGvcnpQJlW7C",
   "metadata": {
    "colab": {
     "base_uri": "https://localhost:8080/"
    },
    "id": "XGvcnpQJlW7C",
    "outputId": "9bfad3af-161d-46e4-fab0-6acb18d917b8"
   },
   "outputs": [],
   "source": [
    "df_servidor['congestionamento'] = df_servidor['congestionamento'].astype('category').cat.codes\n",
    "df_servidor[\"congestionamento\"].unique()"
   ]
  },
  {
   "cell_type": "markdown",
   "id": "51e120fd-bbc6-4493-a805-b6953797d671",
   "metadata": {},
   "source": [
    "<div style=\"background-color: #f0f8ff; padding: 7px; border-radius: 10px;\">\n",
    "<h3>Variável: advogados</h3>\n",
    "</div>"
   ]
  },
  {
   "cell_type": "code",
   "execution_count": null,
   "id": "MmJXBHqrlVzX",
   "metadata": {
    "colab": {
     "base_uri": "https://localhost:8080/"
    },
    "id": "MmJXBHqrlVzX",
    "outputId": "8ea93b13-45f3-49ab-a3bf-4ce34c0739bb"
   },
   "outputs": [],
   "source": [
    "df_servidor[\"advogados\"].unique()"
   ]
  },
  {
   "cell_type": "code",
   "execution_count": null,
   "id": "SXmCy2qblWEg",
   "metadata": {
    "colab": {
     "base_uri": "https://localhost:8080/"
    },
    "id": "SXmCy2qblWEg",
    "outputId": "94dd4526-3af9-402f-a137-4383e5c19d5f"
   },
   "outputs": [],
   "source": [
    "df_servidor = df_servidor.dropna(subset=['advogados'])\n",
    "df_servidor[\"advogados\"].value_counts(dropna=False)"
   ]
  },
  {
   "cell_type": "markdown",
   "id": "7eb2fe43-7795-4f05-b066-71cf7e387230",
   "metadata": {},
   "source": [
    "<div style=\"background-color: #f0f8ff; padding: 7px; border-radius: 10px;\">\n",
    "<h3>Variável: urbanizacao</h3>\n",
    "</div>"
   ]
  },
  {
   "cell_type": "code",
   "execution_count": null,
   "id": "9zU0dwhqA07k",
   "metadata": {
    "colab": {
     "base_uri": "https://localhost:8080/"
    },
    "id": "9zU0dwhqA07k",
    "outputId": "94142efc-c8ec-4e8d-8a20-3e52726d7000"
   },
   "outputs": [],
   "source": [
    "df_servidor[\"urbanizacao\"].unique()"
   ]
  },
  {
   "cell_type": "code",
   "execution_count": null,
   "id": "qfwCRWEYA1HN",
   "metadata": {
    "colab": {
     "base_uri": "https://localhost:8080/"
    },
    "id": "qfwCRWEYA1HN",
    "outputId": "c83357a8-26bc-4835-e197-200e5481c8af"
   },
   "outputs": [],
   "source": [
    "df_servidor['urbanizacao'].fillna('desconhecido', inplace=True)\n",
    "df_servidor[\"urbanizacao\"].value_counts(dropna=False)"
   ]
  },
  {
   "cell_type": "code",
   "execution_count": null,
   "id": "94d0cf51-30f8-47b5-9e96-b9cdd0d81ffb",
   "metadata": {},
   "outputs": [],
   "source": [
    "categorias = df_servidor['urbanizacao'].astype('category').cat.categories\n",
    "codigos = df_servidor['urbanizacao'].astype('category').cat.codes\n",
    "print({codigo: categoria for codigo, categoria in enumerate(categorias)})"
   ]
  },
  {
   "cell_type": "code",
   "execution_count": null,
   "id": "hVYOOVPUA1bY",
   "metadata": {
    "colab": {
     "base_uri": "https://localhost:8080/"
    },
    "id": "hVYOOVPUA1bY",
    "outputId": "49328b80-4d30-45ac-c68a-46c79a1f3e5f"
   },
   "outputs": [],
   "source": [
    "df_servidor['urbanizacao'] = df_servidor['urbanizacao'].astype('category').cat.codes\n",
    "df_servidor[\"urbanizacao\"].unique()"
   ]
  },
  {
   "cell_type": "markdown",
   "id": "c7f28dae-04c9-4434-b7c2-181a3b5a3770",
   "metadata": {},
   "source": [
    "<div style=\"background-color: #f0f8ff; padding: 7px; border-radius: 10px;\">\n",
    "<h3>Variável: nivel_educacao</h3>\n",
    "</div>"
   ]
  },
  {
   "cell_type": "code",
   "execution_count": null,
   "id": "IJTYqNm_A4DE",
   "metadata": {
    "colab": {
     "base_uri": "https://localhost:8080/"
    },
    "id": "IJTYqNm_A4DE",
    "outputId": "fda3fb45-85be-4424-b434-3aa49ccb2534"
   },
   "outputs": [],
   "source": [
    "df_servidor[\"nivel_educacao\"].unique()"
   ]
  },
  {
   "cell_type": "code",
   "execution_count": null,
   "id": "g7NAwchxCNQo",
   "metadata": {
    "colab": {
     "base_uri": "https://localhost:8080/"
    },
    "id": "g7NAwchxCNQo",
    "outputId": "f9c7daaa-d572-47a4-f701-23778c4f328b"
   },
   "outputs": [],
   "source": [
    "df_servidor[\"nivel_educacao\"].value_counts(dropna=False)\n",
    "df_servidor['nivel_educacao'].fillna(df_servidor['nivel_educacao'].mean(), inplace=True)\n",
    "df_servidor[\"nivel_educacao\"].value_counts(dropna=False)"
   ]
  },
  {
   "cell_type": "markdown",
   "id": "5d14ad08-ff9c-412a-8f49-55c4370e9f11",
   "metadata": {},
   "source": [
    "<div style=\"background-color: #f0f8ff; padding: 7px; border-radius: 10px;\">\n",
    "<h3>Variável: habitantes_por_juiz</h3>\n",
    "</div>"
   ]
  },
  {
   "cell_type": "code",
   "execution_count": null,
   "id": "7T2NSk41CNX4",
   "metadata": {
    "colab": {
     "base_uri": "https://localhost:8080/"
    },
    "id": "7T2NSk41CNX4",
    "outputId": "13471a2d-c8aa-4b4a-bfb8-36fa0a89faf1"
   },
   "outputs": [],
   "source": [
    "df_servidor[\"habitantes_por_juiz\"].unique()"
   ]
  },
  {
   "cell_type": "code",
   "execution_count": null,
   "id": "RmatxwijCNc2",
   "metadata": {
    "colab": {
     "base_uri": "https://localhost:8080/"
    },
    "id": "RmatxwijCNc2",
    "outputId": "44a553a8-cc2d-4925-cf3d-7bfe8119254f"
   },
   "outputs": [],
   "source": [
    "df_servidor = df_servidor.dropna(subset=['habitantes_por_juiz'])\n",
    "df_servidor[\"habitantes_por_juiz\"].value_counts(dropna=False)"
   ]
  },
  {
   "cell_type": "markdown",
   "id": "cf90025a-ae47-4272-9f9b-936782eabb8e",
   "metadata": {},
   "source": [
    "<div style=\"background-color: #f0f8ff; padding: 7px; border-radius: 10px;\">\n",
    "<h3>Variável: idh</h3>\n",
    "</div>"
   ]
  },
  {
   "cell_type": "code",
   "execution_count": null,
   "id": "5LtRpOsECNjl",
   "metadata": {
    "colab": {
     "base_uri": "https://localhost:8080/"
    },
    "id": "5LtRpOsECNjl",
    "outputId": "58606b01-08d2-4414-9fef-2f5df079c870"
   },
   "outputs": [],
   "source": [
    "df_servidor[\"idh\"].unique()"
   ]
  },
  {
   "cell_type": "code",
   "execution_count": null,
   "id": "U6TFIvIjCy-w",
   "metadata": {
    "colab": {
     "base_uri": "https://localhost:8080/"
    },
    "id": "U6TFIvIjCy-w",
    "outputId": "bdb4e8d3-86eb-4281-8077-728c8e061c93"
   },
   "outputs": [],
   "source": [
    "df_servidor[\"idh\"].value_counts(dropna=False)\n",
    "df_servidor['idh'].fillna(df_servidor['idh'].mean(), inplace=True)\n",
    "df_servidor[\"idh\"].value_counts(dropna=False)"
   ]
  },
  {
   "cell_type": "markdown",
   "id": "d36b95dd-6384-4e48-aa19-5e167db85aea",
   "metadata": {},
   "source": [
    "<div style=\"background-color: #f0f8ff; padding: 7px; border-radius: 10px;\">\n",
    "<h3>Variável: idade_juizes</h3>\n",
    "</div>"
   ]
  },
  {
   "cell_type": "code",
   "execution_count": null,
   "id": "x8QL0zPVCzDs",
   "metadata": {
    "colab": {
     "base_uri": "https://localhost:8080/"
    },
    "id": "x8QL0zPVCzDs",
    "outputId": "bd1a0c13-ee13-4cf5-8207-9e34dc9575cc"
   },
   "outputs": [],
   "source": [
    "df_servidor[\"idade_juizes\"].unique()"
   ]
  },
  {
   "cell_type": "code",
   "execution_count": null,
   "id": "86OYDVkiCzIT",
   "metadata": {
    "colab": {
     "base_uri": "https://localhost:8080/"
    },
    "id": "86OYDVkiCzIT",
    "outputId": "53c94986-f6ee-43ba-922f-e03309262ed9"
   },
   "outputs": [],
   "source": [
    "df_servidor[\"idade_juizes\"].value_counts(dropna=False)\n",
    "df_servidor['idade_juizes'].fillna(df_servidor['idade_juizes'].mean(), inplace=True)\n",
    "df_servidor[\"idade_juizes\"].value_counts(dropna=False)"
   ]
  },
  {
   "cell_type": "markdown",
   "id": "6f442c3f-21d0-4744-83f1-20f2c9756ce0",
   "metadata": {},
   "source": [
    "<div style=\"background-color: #f0f8ff; padding: 7px; border-radius: 10px;\">\n",
    "<h3>Variável: casos_pendentes</h3>\n",
    "</div>"
   ]
  },
  {
   "cell_type": "code",
   "execution_count": null,
   "id": "bvPIiMYECzL_",
   "metadata": {
    "colab": {
     "base_uri": "https://localhost:8080/"
    },
    "id": "bvPIiMYECzL_",
    "outputId": "93007f96-6b45-463d-9c79-ab6d1d12c7ea"
   },
   "outputs": [],
   "source": [
    "df_servidor[\"casos_pendentes\"].unique()"
   ]
  },
  {
   "cell_type": "code",
   "execution_count": null,
   "id": "-2-r_AH1DaDU",
   "metadata": {
    "colab": {
     "base_uri": "https://localhost:8080/"
    },
    "id": "-2-r_AH1DaDU",
    "outputId": "b015be76-0412-4ac2-faa5-364ad579dce7"
   },
   "outputs": [],
   "source": [
    "df_servidor = df_servidor.dropna(subset=['casos_pendentes'])\n",
    "df_servidor[\"casos_pendentes\"].value_counts(dropna=False)"
   ]
  },
  {
   "cell_type": "code",
   "execution_count": null,
   "id": "ImLgHa7yida6",
   "metadata": {
    "colab": {
     "base_uri": "https://localhost:8080/"
    },
    "id": "ImLgHa7yida6",
    "outputId": "cb562f77-60f4-4fc2-8d5d-1ba7f5d8c962"
   },
   "outputs": [],
   "source": [
    "df_servidor.isna().sum()"
   ]
  },
  {
   "cell_type": "markdown",
   "id": "88075ede-25b4-4ad2-8608-ca4c7962ce7f",
   "metadata": {},
   "source": [
    "<div style=\"background-color: #f0f8ff; padding: 7px; border-radius: 10px;\">\n",
    "<h3>Variável: idade_juizes</h3>\n",
    "</div>"
   ]
  },
  {
   "cell_type": "code",
   "execution_count": null,
   "id": "ALA0-evyHpjP",
   "metadata": {
    "colab": {
     "base_uri": "https://localhost:8080/"
    },
    "id": "ALA0-evyHpjP",
    "outputId": "dd05e5fb-9bd5-4ebf-d6d4-c9c39703433f"
   },
   "outputs": [],
   "source": [
    "bins = [18, 30, 40, 50, 60, 75, 80, 85]\n",
    "labels = ['18-29', '30-39', '40-49', '50-59', '60-69', '70-79', '80-89']\n",
    "df_servidor['idade_juizes'] = pd.cut(df_servidor['idade_juizes'], bins=bins, labels=labels, right=True, include_lowest=True)\n",
    "df_servidor[\"idade_juizes\"].unique()"
   ]
  },
  {
   "cell_type": "code",
   "execution_count": null,
   "id": "Ve5nUpXpI9uO",
   "metadata": {
    "colab": {
     "base_uri": "https://localhost:8080/"
    },
    "id": "Ve5nUpXpI9uO",
    "outputId": "f06c8cef-9112-4de5-975d-b8c1f0b8ded1"
   },
   "outputs": [],
   "source": [
    "df_servidor[\"idade_juizes\"].value_counts(dropna=False)"
   ]
  },
  {
   "cell_type": "code",
   "execution_count": null,
   "id": "59mFXSliJkmp",
   "metadata": {
    "colab": {
     "base_uri": "https://localhost:8080/",
     "height": 461
    },
    "id": "59mFXSliJkmp",
    "outputId": "7c986a19-da4e-45aa-a33a-aa8112b8cf4b"
   },
   "outputs": [],
   "source": [
    "df_servidor = pd.get_dummies(df_servidor, columns=['idade_juizes'], prefix='idade_juizes')\n",
    "dummy_columns = [col for col in df_servidor.columns if col.startswith('idade_juizes_')]\n",
    "df_servidor[dummy_columns] = df_servidor[dummy_columns].astype(int)\n",
    "df_servidor"
   ]
  },
  {
   "cell_type": "markdown",
   "id": "27389f2c-318e-4da2-8d2b-60bcc0547abb",
   "metadata": {},
   "source": [
    "# Ajustes de tipos"
   ]
  },
  {
   "cell_type": "code",
   "execution_count": null,
   "id": "TDNj4wqcLL6u",
   "metadata": {
    "id": "TDNj4wqcLL6u"
   },
   "outputs": [],
   "source": [
    "df_servidor['casos_pendentes'] = df_servidor['casos_pendentes'].astype(int)\n",
    "df_servidor['casos_recebidos'] = df_servidor['casos_recebidos'].astype(int)"
   ]
  },
  {
   "cell_type": "code",
   "execution_count": null,
   "id": "_j5KYkZMGI8N",
   "metadata": {
    "id": "_j5KYkZMGI8N"
   },
   "outputs": [],
   "source": [
    "df_servidor.drop(columns=['codigo_tribunal'], inplace=True)"
   ]
  },
  {
   "cell_type": "code",
   "execution_count": null,
   "id": "b9451307-5855-4243-b93e-830bf5503640",
   "metadata": {
    "colab": {
     "base_uri": "https://localhost:8080/"
    },
    "id": "b9451307-5855-4243-b93e-830bf5503640",
    "outputId": "07f9d9b0-930c-4ad3-d586-bb86842862de"
   },
   "outputs": [],
   "source": [
    "df_servidor.isna().sum()"
   ]
  },
  {
   "cell_type": "code",
   "execution_count": null,
   "id": "aL9wgkb8m8_M",
   "metadata": {
    "colab": {
     "base_uri": "https://localhost:8080/"
    },
    "id": "aL9wgkb8m8_M",
    "outputId": "2ba44963-fead-403d-be50-4e5bde1e7560"
   },
   "outputs": [],
   "source": [
    "df_servidor.shape"
   ]
  },
  {
   "cell_type": "code",
   "execution_count": null,
   "id": "5h2YC7o_9kg2",
   "metadata": {
    "colab": {
     "base_uri": "https://localhost:8080/",
     "height": 461
    },
    "id": "5h2YC7o_9kg2",
    "outputId": "829eae81-d373-40fc-a8f9-5ddb724990b4"
   },
   "outputs": [],
   "source": [
    "df_servidor.head(5)"
   ]
  },
  {
   "cell_type": "code",
   "execution_count": null,
   "id": "44f6a8b2-d6f0-4935-850d-903864972886",
   "metadata": {},
   "outputs": [],
   "source": [
    "# Salvar o DataFrame como um arquivo CSV\n",
    "df_servidor.to_csv('../data/interim/predicao_cargas_trabalho_processado.csv', index=False)"
   ]
  },
  {
   "cell_type": "markdown",
   "id": "-GSrE999Gmwh",
   "metadata": {
    "id": "-GSrE999Gmwh"
   },
   "source": [
    "# Normalização e Padronização dos dados"
   ]
  },
  {
   "cell_type": "markdown",
   "id": "fbd720fe-20a0-493b-a7a6-2f69314f5fcd",
   "metadata": {},
   "source": [
    "### Padronização (Z-score Scaling)\n",
    "\n",
    "$z = \\frac{x - \\mu}{\\sigma}$\r\n"
   ]
  },
  {
   "cell_type": "code",
   "execution_count": null,
   "id": "1690eb60-4a66-476a-9559-340c26e6140d",
   "metadata": {},
   "outputs": [],
   "source": [
    "scaler = StandardScaler()\n",
    "df_normalizado = pd.DataFrame(scaler.fit_transform(df_servidor), columns=df_servidor.columns)\n",
    "df_normalizado"
   ]
  },
  {
   "cell_type": "markdown",
   "id": "64645658-c500-4c21-bc60-35ed38a14d6f",
   "metadata": {},
   "source": [
    "### Normalização (Min-Max Scaling)\n",
    "\n",
    "$z = \\frac{x - \\min(x)}{\\max(x) - \\min(x)}$"
   ]
  },
  {
   "cell_type": "code",
   "execution_count": null,
   "id": "SYI8NMkIGnLX",
   "metadata": {
    "colab": {
     "base_uri": "https://localhost:8080/",
     "height": 461
    },
    "id": "SYI8NMkIGnLX",
    "outputId": "ea230410-0b13-4c05-acdc-b57c2309c422"
   },
   "outputs": [],
   "source": [
    "scaler = MinMaxScaler()\n",
    "df_normalizado = pd.DataFrame(scaler.fit_transform(df_servidor), columns=df_servidor.columns)\n",
    "df_normalizado"
   ]
  },
  {
   "cell_type": "code",
   "execution_count": null,
   "id": "8e3edb5a-ecbf-4893-bb7a-ed1e81ab6e83",
   "metadata": {},
   "outputs": [],
   "source": [
    "# Salvar o scaler ajustado\n",
    "joblib.dump(scaler, '../models/scaler.pkl')"
   ]
  },
  {
   "cell_type": "code",
   "execution_count": null,
   "id": "bc454fb0-cbc6-43dd-8915-60370e9e23e6",
   "metadata": {},
   "outputs": [],
   "source": [
    "# Salvar o DataFrame como um arquivo CSV\n",
    "df_normalizado.to_csv('../data/processed/predicao_cargas_trabalho_normalizado.csv', index=False)"
   ]
  }
 ],
 "metadata": {
  "colab": {
   "provenance": []
  },
  "kernelspec": {
   "display_name": "Python 3 (ipykernel)",
   "language": "python",
   "name": "python3"
  },
  "language_info": {
   "codemirror_mode": {
    "name": "ipython",
    "version": 3
   },
   "file_extension": ".py",
   "mimetype": "text/x-python",
   "name": "python",
   "nbconvert_exporter": "python",
   "pygments_lexer": "ipython3",
   "version": "3.12.4"
  }
 },
 "nbformat": 4,
 "nbformat_minor": 5
}
