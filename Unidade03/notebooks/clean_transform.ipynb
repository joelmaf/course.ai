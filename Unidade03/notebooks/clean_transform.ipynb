{
 "cells": [
  {
   "cell_type": "markdown",
   "id": "172a8e50-0de1-4af5-a17c-513b795304d1",
   "metadata": {},
   "source": [
    "# UNIDADE 3:  Regressão Linear\n",
    "\n",
    "3.1 Previsões simples (Regressão linear)\n",
    "\n",
    "3.2 Previsões complexas (Regressão linear múltipla)\n",
    "\n",
    "3.3   Algoritmos de Classificação\n",
    "\n",
    "3.3.1 Métodos simbólicos: Árvore de Decisão\n",
    "\n",
    "3.3.2 Métodos ensemble: Random Forest\n"
   ]
  },
  {
   "cell_type": "markdown",
   "id": "4add8ee8-ccb8-4b01-a637-4d39e13210e9",
   "metadata": {},
   "source": [
    "<div style=\"border: 2px solid #00008B; padding: 15px; border-radius: 10px; background-color: #00008B; color: #FFFFFF; font-family: Arial;\">\n",
    "  <h1 style=\"margin-top: 0;\"> Predição de Cargas de Trabalho para Juízes</h1>\n",
    "  <p>Descrição: Prever o volume de trabalho em diferentes tribunais com base em fatores como tamanho da população, tipos de casos comuns na região, etc.\n",
    "</p>\n",
    "</div>"
   ]
  },
  {
   "cell_type": "markdown",
   "id": "07c70065-aaf3-45a8-b773-cbfdf32d3d5c",
   "metadata": {},
   "source": [
    "\n",
    "<div style=\"background-color: #f0f8ff; padding: 20px; border-radius: 10px;\">\n",
    "  <ul>\n",
    "    <li>Tamanho da população da região onde o tribunal está localizado (valores real entre 30,000 e 500,000)</li>\n",
    "    <li>Número de juízes ativos no tribunal (valores inteiros entre 1 e 20)</li>\n",
    "    <li>Número de casos recebidos mensalmente (valores inteiros entre 150 e 800)</li>\n",
    "    <li>Distribuição dos tipos de casos comuns na região (valores: criminal, civil, trabalhista)</li>\n",
    "    <li>Taxa de crescimento da população na região (valores reais entre 0.0 e 1.0)</li>\n",
    "    <li>Taxa de criminalidade na região (valores reais entre 0.0 e 1.0)</li>\n",
    "    <li>Média de tempo gasto em cada tipo de caso em meses (número inteiro)</li>\n",
    "    <li>Nível de automação e eficiência do tribunal (valores inteiros entre 0 e 10)</li>\n",
    "    <li>Nível de congestionamento do sistema judicial na região (baixo, médio, alto)</li>\n",
    "    <li>Número de advogados atuando na região (valores inteiros entre 1 e 100)</li>\n",
    "    <li>Número de prédios judiciais na região (valores inteiros entre 1 e 10)</li>\n",
    "    <li>Nível de urbanização da região (baixo, médio, alto)</li>\n",
    "    <li>Nível de educação da população na região (valores reais entre 0.0 e 1.0)</li>\n",
    "    <li>Número de habitantes por juiz (valor fruto da divisão de tamanho da população da região pelo número de juízes ativos no tribunal)</li>\n",
    "    <li>Índice de Desenvolvimento Humano (valores reais entre 0.0 e 1.0)</li>\n",
    "    <li>Média de idade dos  es (entre 35 e 60)</li>\n",
    "    <li><b>Número de casos pendentes atualmente no tribunal (valores inteiros, coluna que não pode ser nula)</b></li>\n",
    "  </ul>\n",
    "</div>\n",
    "\n",
    "\n"
   ]
  },
  {
   "cell_type": "code",
   "execution_count": 1,
   "id": "49fc298f-d3c8-4815-9516-776235211fc0",
   "metadata": {
    "id": "d36cbb02-d052-43eb-9157-98be9029c25b"
   },
   "outputs": [],
   "source": [
    "import pandas as pd\n",
    "import numpy as np\n",
    "\n",
    "pd.set_option('display.float_format', '{:.5f}'.format)\n",
    "\n",
    "import streamlit as st\n",
    "import joblib\n",
    "\n",
    "from sklearn.linear_model import LinearRegression\n",
    "from sklearn.preprocessing import PolynomialFeatures\n",
    "from sklearn.preprocessing import MinMaxScaler\n",
    "from sklearn.preprocessing import StandardScaler\n",
    "import scipy.stats as stats\n",
    "\n",
    "import matplotlib.pyplot as plt\n",
    "import seaborn as sns\n",
    "\n",
    "%matplotlib inline"
   ]
  },
  {
   "cell_type": "code",
   "execution_count": 2,
   "id": "05b46176-605b-48f3-a491-2f3c45123171",
   "metadata": {},
   "outputs": [],
   "source": [
    "import warnings\n",
    "warnings.filterwarnings('ignore')"
   ]
  },
  {
   "cell_type": "markdown",
   "id": "aad74517-79bb-43ec-8d4c-86782a31a8b2",
   "metadata": {},
   "source": [
    "# Ingestão de Dados"
   ]
  },
  {
   "cell_type": "code",
   "execution_count": 3,
   "id": "869f7e17-025a-4d2e-a517-b18350b84532",
   "metadata": {
    "id": "869f7e17-025a-4d2e-a517-b18350b84532"
   },
   "outputs": [],
   "source": [
    "df_servidor = pd.read_csv(\"../data/raw/predicao_cargas_trabalho.csv\")"
   ]
  },
  {
   "cell_type": "code",
   "execution_count": 4,
   "id": "1771adf8-4949-451a-a60f-df0b77376549",
   "metadata": {},
   "outputs": [
    {
     "data": {
      "text/html": [
       "<div>\n",
       "<style scoped>\n",
       "    .dataframe tbody tr th:only-of-type {\n",
       "        vertical-align: middle;\n",
       "    }\n",
       "\n",
       "    .dataframe tbody tr th {\n",
       "        vertical-align: top;\n",
       "    }\n",
       "\n",
       "    .dataframe thead th {\n",
       "        text-align: right;\n",
       "    }\n",
       "</style>\n",
       "<table border=\"1\" class=\"dataframe\">\n",
       "  <thead>\n",
       "    <tr style=\"text-align: right;\">\n",
       "      <th></th>\n",
       "      <th>codigo_tribunal</th>\n",
       "      <th>populacao</th>\n",
       "      <th>num_juizes</th>\n",
       "      <th>casos_recebidos</th>\n",
       "      <th>tipo_caso</th>\n",
       "      <th>taxa_crescimento_populacao</th>\n",
       "      <th>taxa_criminalidade</th>\n",
       "      <th>tempo_casos</th>\n",
       "      <th>nivel_automacao</th>\n",
       "      <th>congestionamento</th>\n",
       "      <th>advogados</th>\n",
       "      <th>urbanizacao</th>\n",
       "      <th>nivel_educacao</th>\n",
       "      <th>habitantes_por_juiz</th>\n",
       "      <th>idh</th>\n",
       "      <th>idade_juizes</th>\n",
       "      <th>casos_pendentes</th>\n",
       "    </tr>\n",
       "  </thead>\n",
       "  <tbody>\n",
       "    <tr>\n",
       "      <th>0</th>\n",
       "      <td>2978G</td>\n",
       "      <td>NaN</td>\n",
       "      <td>7.00000</td>\n",
       "      <td>338.40523</td>\n",
       "      <td>trabalhista</td>\n",
       "      <td>0.87225</td>\n",
       "      <td>1.00000</td>\n",
       "      <td>5.00000</td>\n",
       "      <td>4.00000</td>\n",
       "      <td>NaN</td>\n",
       "      <td>18.00000</td>\n",
       "      <td>baixo</td>\n",
       "      <td>0.86473</td>\n",
       "      <td>27199.85714</td>\n",
       "      <td>1.00000</td>\n",
       "      <td>45.00000</td>\n",
       "      <td>1425.89694</td>\n",
       "    </tr>\n",
       "    <tr>\n",
       "      <th>1</th>\n",
       "      <td>6959G</td>\n",
       "      <td>175281.00000</td>\n",
       "      <td>20.00000</td>\n",
       "      <td>488.01572</td>\n",
       "      <td>trabalhista</td>\n",
       "      <td>0.54684</td>\n",
       "      <td>0.69849</td>\n",
       "      <td>15.00000</td>\n",
       "      <td>NaN</td>\n",
       "      <td>medio</td>\n",
       "      <td>98.00000</td>\n",
       "      <td>alto</td>\n",
       "      <td>0.80249</td>\n",
       "      <td>8764.05000</td>\n",
       "      <td>0.82631</td>\n",
       "      <td>57.00000</td>\n",
       "      <td>1655.64472</td>\n",
       "    </tr>\n",
       "    <tr>\n",
       "      <th>2</th>\n",
       "      <td>3766A</td>\n",
       "      <td>209515.00000</td>\n",
       "      <td>15.00000</td>\n",
       "      <td>322.87380</td>\n",
       "      <td>criminal</td>\n",
       "      <td>1.00000</td>\n",
       "      <td>1.00000</td>\n",
       "      <td>14.00000</td>\n",
       "      <td>3.00000</td>\n",
       "      <td>baixo</td>\n",
       "      <td>12.00000</td>\n",
       "      <td>baixo</td>\n",
       "      <td>0.60650</td>\n",
       "      <td>13967.66667</td>\n",
       "      <td>0.93835</td>\n",
       "      <td>35.00000</td>\n",
       "      <td>1475.27192</td>\n",
       "    </tr>\n",
       "    <tr>\n",
       "      <th>3</th>\n",
       "      <td>3637B</td>\n",
       "      <td>45029.00000</td>\n",
       "      <td>11.00000</td>\n",
       "      <td>424.08932</td>\n",
       "      <td>criminal</td>\n",
       "      <td>1.00000</td>\n",
       "      <td>0.74196</td>\n",
       "      <td>9.00000</td>\n",
       "      <td>8.00000</td>\n",
       "      <td>medio</td>\n",
       "      <td>91.00000</td>\n",
       "      <td>medio</td>\n",
       "      <td>1.00000</td>\n",
       "      <td>4093.54545</td>\n",
       "      <td>0.74196</td>\n",
       "      <td>48.00000</td>\n",
       "      <td>1189.20912</td>\n",
       "    </tr>\n",
       "    <tr>\n",
       "      <th>4</th>\n",
       "      <td>8725F</td>\n",
       "      <td>490829.00000</td>\n",
       "      <td>8.00000</td>\n",
       "      <td>484.75580</td>\n",
       "      <td>criminal</td>\n",
       "      <td>0.79694</td>\n",
       "      <td>0.65267</td>\n",
       "      <td>20.00000</td>\n",
       "      <td>4.00000</td>\n",
       "      <td>medio</td>\n",
       "      <td>24.00000</td>\n",
       "      <td>alto</td>\n",
       "      <td>1.00000</td>\n",
       "      <td>61353.62500</td>\n",
       "      <td>0.75420</td>\n",
       "      <td>NaN</td>\n",
       "      <td>1389.56877</td>\n",
       "    </tr>\n",
       "  </tbody>\n",
       "</table>\n",
       "</div>"
      ],
      "text/plain": [
       "  codigo_tribunal    populacao  num_juizes  casos_recebidos    tipo_caso  \\\n",
       "0           2978G          NaN     7.00000        338.40523  trabalhista   \n",
       "1           6959G 175281.00000    20.00000        488.01572  trabalhista   \n",
       "2           3766A 209515.00000    15.00000        322.87380     criminal   \n",
       "3           3637B  45029.00000    11.00000        424.08932     criminal   \n",
       "4           8725F 490829.00000     8.00000        484.75580     criminal   \n",
       "\n",
       "   taxa_crescimento_populacao  taxa_criminalidade  tempo_casos  \\\n",
       "0                     0.87225             1.00000      5.00000   \n",
       "1                     0.54684             0.69849     15.00000   \n",
       "2                     1.00000             1.00000     14.00000   \n",
       "3                     1.00000             0.74196      9.00000   \n",
       "4                     0.79694             0.65267     20.00000   \n",
       "\n",
       "   nivel_automacao congestionamento  advogados urbanizacao  nivel_educacao  \\\n",
       "0          4.00000              NaN   18.00000       baixo         0.86473   \n",
       "1              NaN            medio   98.00000        alto         0.80249   \n",
       "2          3.00000            baixo   12.00000       baixo         0.60650   \n",
       "3          8.00000            medio   91.00000       medio         1.00000   \n",
       "4          4.00000            medio   24.00000        alto         1.00000   \n",
       "\n",
       "   habitantes_por_juiz     idh  idade_juizes  casos_pendentes  \n",
       "0          27199.85714 1.00000      45.00000       1425.89694  \n",
       "1           8764.05000 0.82631      57.00000       1655.64472  \n",
       "2          13967.66667 0.93835      35.00000       1475.27192  \n",
       "3           4093.54545 0.74196      48.00000       1189.20912  \n",
       "4          61353.62500 0.75420           NaN       1389.56877  "
      ]
     },
     "execution_count": 4,
     "metadata": {},
     "output_type": "execute_result"
    }
   ],
   "source": [
    "df_servidor.head(5)"
   ]
  },
  {
   "cell_type": "markdown",
   "id": "4867e0f8-497f-4818-8690-439dfd95b35e",
   "metadata": {},
   "source": [
    "# Limpeza e transformação de dados"
   ]
  },
  {
   "cell_type": "markdown",
   "id": "e6cbad79-0815-4a88-b6a8-2bf6f98d7ac3",
   "metadata": {},
   "source": [
    "<div style=\"background-color: #f0f8ff; padding: 7px; border-radius: 10px;\">\n",
    "<h3>Variável: codigo_tribunal</h3>\n",
    "</div>"
   ]
  },
  {
   "cell_type": "code",
   "execution_count": 5,
   "id": "Sq5eSVCR4PNi",
   "metadata": {
    "colab": {
     "base_uri": "https://localhost:8080/"
    },
    "id": "Sq5eSVCR4PNi",
    "outputId": "b9816e49-b858-4a5d-8bdc-605679796354"
   },
   "outputs": [
    {
     "data": {
      "text/plain": [
       "array(['2978G', '6959G', '3766A', ..., '9262H', '1924B', '3032G'],\n",
       "      dtype=object)"
      ]
     },
     "execution_count": 5,
     "metadata": {},
     "output_type": "execute_result"
    }
   ],
   "source": [
    "df_servidor[\"codigo_tribunal\"].unique()"
   ]
  },
  {
   "cell_type": "code",
   "execution_count": 6,
   "id": "sXMrkHjkAc3S",
   "metadata": {
    "colab": {
     "base_uri": "https://localhost:8080/"
    },
    "id": "sXMrkHjkAc3S",
    "outputId": "2c3d6a3e-c22d-4b7f-d44a-3e3c5d0b8200"
   },
   "outputs": [
    {
     "data": {
      "text/plain": [
       "codigo_tribunal\n",
       "4650A    8\n",
       "5561E    8\n",
       "3784H    7\n",
       "8857F    7\n",
       "3308C    7\n",
       "        ..\n",
       "7031G    1\n",
       "1686G    1\n",
       "2258D    1\n",
       "5456G    1\n",
       "3032G    1\n",
       "Name: count, Length: 2437, dtype: int64"
      ]
     },
     "execution_count": 6,
     "metadata": {},
     "output_type": "execute_result"
    }
   ],
   "source": [
    "df_servidor = df_servidor.dropna(subset=['codigo_tribunal'])\n",
    "df_servidor[\"codigo_tribunal\"].value_counts(dropna=False)"
   ]
  },
  {
   "cell_type": "markdown",
   "id": "6d3a37ae-53f1-44be-935a-4cd0d1c844ae",
   "metadata": {},
   "source": [
    "<div style=\"background-color: #f0f8ff; padding: 7px; border-radius: 10px;\">\n",
    "<h3>Variável: populacao</h3>\n",
    "</div>"
   ]
  },
  {
   "cell_type": "code",
   "execution_count": 7,
   "id": "6SEVuGUf_qkt",
   "metadata": {
    "colab": {
     "base_uri": "https://localhost:8080/"
    },
    "id": "6SEVuGUf_qkt",
    "outputId": "c75b6204-5977-4ae2-85c1-e7754bf97823"
   },
   "outputs": [
    {
     "data": {
      "text/plain": [
       "populacao\n",
       "234400.04540    98\n",
       "54502.00000      2\n",
       "147399.00000     2\n",
       "65897.00000      2\n",
       "87196.00000      2\n",
       "                ..\n",
       "464352.00000     1\n",
       "54918.00000      1\n",
       "61625.00000      1\n",
       "177764.00000     1\n",
       "264748.00000     1\n",
       "Name: count, Length: 4778, dtype: int64"
      ]
     },
     "execution_count": 7,
     "metadata": {},
     "output_type": "execute_result"
    }
   ],
   "source": [
    "df_servidor[\"populacao\"].unique()\n",
    "df_servidor['populacao'].fillna(df_servidor['populacao'].mean(), inplace=True)\n",
    "df_servidor[\"populacao\"].value_counts(dropna=False)"
   ]
  },
  {
   "cell_type": "markdown",
   "id": "8c0163d2-6985-4042-b5ba-c243fd6c46c7",
   "metadata": {},
   "source": [
    "<div style=\"background-color: #f0f8ff; padding: 7px; border-radius: 10px;\">\n",
    "<h3>Variável: num_juizes</h3>\n",
    "</div>"
   ]
  },
  {
   "cell_type": "code",
   "execution_count": 8,
   "id": "0DQNQ0Wv-11v",
   "metadata": {
    "colab": {
     "base_uri": "https://localhost:8080/"
    },
    "id": "0DQNQ0Wv-11v",
    "outputId": "92677d3e-31bd-4074-fa52-c41209140279"
   },
   "outputs": [
    {
     "data": {
      "text/plain": [
       "num_juizes\n",
       "17.00000    281\n",
       "15.00000    273\n",
       "13.00000    263\n",
       "8.00000     263\n",
       "3.00000     260\n",
       "4.00000     248\n",
       "5.00000     245\n",
       "19.00000    241\n",
       "12.00000    239\n",
       "6.00000     238\n",
       "20.00000    237\n",
       "2.00000     237\n",
       "1.00000     235\n",
       "11.00000    233\n",
       "9.00000     229\n",
       "10.00000    226\n",
       "18.00000    223\n",
       "14.00000    216\n",
       "16.00000    211\n",
       "7.00000     203\n",
       "Name: count, dtype: int64"
      ]
     },
     "execution_count": 8,
     "metadata": {},
     "output_type": "execute_result"
    }
   ],
   "source": [
    "df_servidor[\"num_juizes\"].unique()\n",
    "df_servidor = df_servidor.dropna(subset=['num_juizes'])\n",
    "df_servidor[\"num_juizes\"].value_counts(dropna=False)"
   ]
  },
  {
   "cell_type": "markdown",
   "id": "e8660aaf-670e-4b1f-8d21-bdf6624ec4f0",
   "metadata": {},
   "source": [
    "<div style=\"background-color: #f0f8ff; padding: 7px; border-radius: 10px;\">\n",
    "<h3>Variável: casos_recebidos</h3>\n",
    "</div>"
   ]
  },
  {
   "cell_type": "code",
   "execution_count": 9,
   "id": "FJlUoH1KAo2u",
   "metadata": {
    "colab": {
     "base_uri": "https://localhost:8080/"
    },
    "id": "FJlUoH1KAo2u",
    "outputId": "166ee8db-2514-4792-b47f-181fdc2dd361"
   },
   "outputs": [
    {
     "data": {
      "text/plain": [
       "casos_recebidos\n",
       "477.50106    99\n",
       "676.00000     2\n",
       "667.00000     2\n",
       "356.00000     2\n",
       "338.40523     1\n",
       "             ..\n",
       "670.28461     1\n",
       "551.36560     1\n",
       "737.64763     1\n",
       "662.48741     1\n",
       "502.00000     1\n",
       "Name: count, Length: 4700, dtype: int64"
      ]
     },
     "execution_count": 9,
     "metadata": {},
     "output_type": "execute_result"
    }
   ],
   "source": [
    "df_servidor[\"casos_recebidos\"].value_counts(dropna=False)\n",
    "df_servidor['casos_recebidos'].fillna(df_servidor['casos_recebidos'].mean(), inplace=True)\n",
    "df_servidor[\"casos_recebidos\"].value_counts(dropna=False)"
   ]
  },
  {
   "cell_type": "markdown",
   "id": "40205962-1b35-41e5-a0b4-0001c1125480",
   "metadata": {},
   "source": [
    "<div style=\"background-color: #f0f8ff; padding: 7px; border-radius: 10px;\">\n",
    "<h3>Variável: tipo_caso</h3>\n",
    "</div>"
   ]
  },
  {
   "cell_type": "code",
   "execution_count": 10,
   "id": "-3K67_5bjJ0i",
   "metadata": {
    "colab": {
     "base_uri": "https://localhost:8080/"
    },
    "id": "-3K67_5bjJ0i",
    "outputId": "be34ba61-f985-43fc-c6ed-15bb77c5cb65"
   },
   "outputs": [
    {
     "data": {
      "text/plain": [
       "tipo_caso\n",
       "civil          1652\n",
       "criminal       1576\n",
       "trabalhista    1573\n",
       "Name: count, dtype: int64"
      ]
     },
     "execution_count": 10,
     "metadata": {},
     "output_type": "execute_result"
    }
   ],
   "source": [
    "df_servidor[\"tipo_caso\"].unique()\n",
    "df_servidor['tipo_caso'].fillna('civil', inplace=True)\n",
    "df_servidor[\"tipo_caso\"].value_counts(dropna=False)"
   ]
  },
  {
   "cell_type": "code",
   "execution_count": 11,
   "id": "9f15e46d-11ad-4f01-8a8a-fccadca56b62",
   "metadata": {},
   "outputs": [
    {
     "name": "stdout",
     "output_type": "stream",
     "text": [
      "{0: 'civil', 1: 'criminal', 2: 'trabalhista'}\n"
     ]
    }
   ],
   "source": [
    "categorias = df_servidor['tipo_caso'].astype('category').cat.categories\n",
    "codigos = df_servidor['tipo_caso'].astype('category').cat.codes\n",
    "print({codigo: categoria for codigo, categoria in enumerate(categorias)})"
   ]
  },
  {
   "cell_type": "code",
   "execution_count": 12,
   "id": "yPYqrrALm1VQ",
   "metadata": {
    "colab": {
     "base_uri": "https://localhost:8080/"
    },
    "id": "yPYqrrALm1VQ",
    "outputId": "ea6980b7-528d-40fc-a2f0-bd8f6af17477"
   },
   "outputs": [
    {
     "data": {
      "text/plain": [
       "array([2, 1, 0], dtype=int8)"
      ]
     },
     "execution_count": 12,
     "metadata": {},
     "output_type": "execute_result"
    }
   ],
   "source": [
    "df_servidor['tipo_caso'] = df_servidor['tipo_caso'].astype('category').cat.codes\n",
    "df_servidor[\"tipo_caso\"].unique()"
   ]
  },
  {
   "cell_type": "markdown",
   "id": "c18f2584-6376-493c-a6b8-72770f260de6",
   "metadata": {},
   "source": [
    "<div style=\"background-color: #f0f8ff; padding: 7px; border-radius: 10px;\">\n",
    "<h3>Variável: taxa_crescimento_populacao</h3>\n",
    "</div>"
   ]
  },
  {
   "cell_type": "code",
   "execution_count": 13,
   "id": "UoMgN0UVAvKE",
   "metadata": {
    "colab": {
     "base_uri": "https://localhost:8080/"
    },
    "id": "UoMgN0UVAvKE",
    "outputId": "b0070415-f415-4c6d-e7a2-1f3b09993cf1"
   },
   "outputs": [
    {
     "data": {
      "text/plain": [
       "taxa_crescimento_populacao\n",
       "0.00000    362\n",
       "1.00000    353\n",
       "NaN         96\n",
       "0.87225      1\n",
       "0.29123      1\n",
       "          ... \n",
       "0.03793      1\n",
       "0.40552      1\n",
       "0.26367      1\n",
       "0.28400      1\n",
       "0.72438      1\n",
       "Name: count, Length: 3993, dtype: int64"
      ]
     },
     "execution_count": 13,
     "metadata": {},
     "output_type": "execute_result"
    }
   ],
   "source": [
    "df_servidor[\"taxa_crescimento_populacao\"].value_counts(dropna=False)"
   ]
  },
  {
   "cell_type": "code",
   "execution_count": 14,
   "id": "0uUrFbzQh_Vy",
   "metadata": {
    "colab": {
     "base_uri": "https://localhost:8080/"
    },
    "id": "0uUrFbzQh_Vy",
    "outputId": "7fe61d9e-49c4-4d78-db81-44a25ccf055c"
   },
   "outputs": [
    {
     "data": {
      "text/plain": [
       "taxa_crescimento_populacao\n",
       "0.00000    362\n",
       "1.00000    353\n",
       "0.87225      1\n",
       "0.29123      1\n",
       "0.44349      1\n",
       "          ... \n",
       "0.03793      1\n",
       "0.40552      1\n",
       "0.26367      1\n",
       "0.28400      1\n",
       "0.72438      1\n",
       "Name: count, Length: 3992, dtype: int64"
      ]
     },
     "execution_count": 14,
     "metadata": {},
     "output_type": "execute_result"
    }
   ],
   "source": [
    "df_servidor = df_servidor.dropna(subset=['taxa_crescimento_populacao'])\n",
    "df_servidor[\"taxa_crescimento_populacao\"].value_counts(dropna=False)"
   ]
  },
  {
   "cell_type": "markdown",
   "id": "a851f748-6ddd-4f95-80c7-0a06b3b1847a",
   "metadata": {},
   "source": [
    "<div style=\"background-color: #f0f8ff; padding: 7px; border-radius: 10px;\">\n",
    "<h3>Variável: tempo_casos</h3>\n",
    "</div>"
   ]
  },
  {
   "cell_type": "code",
   "execution_count": 15,
   "id": "xYOokgEXiufk",
   "metadata": {
    "colab": {
     "base_uri": "https://localhost:8080/"
    },
    "id": "xYOokgEXiufk",
    "outputId": "6b9b8adc-5d8d-4804-de0d-5a0593db7ced"
   },
   "outputs": [
    {
     "data": {
      "text/plain": [
       "array([ 5., 15., 14.,  9., 20.,  4., 21., 22.,  7., 17., 18., 19., 10.,\n",
       "       13.,  2., 11.,  6.,  3.,  1., 12.,  8., 23., 16., nan])"
      ]
     },
     "execution_count": 15,
     "metadata": {},
     "output_type": "execute_result"
    }
   ],
   "source": [
    "df_servidor[\"tempo_casos\"].unique()"
   ]
  },
  {
   "cell_type": "code",
   "execution_count": 16,
   "id": "1J78O-67j42W",
   "metadata": {
    "colab": {
     "base_uri": "https://localhost:8080/"
    },
    "id": "1J78O-67j42W",
    "outputId": "f52ea8a0-ba55-40b4-b2f6-865f43924c87"
   },
   "outputs": [
    {
     "data": {
      "text/plain": [
       "tempo_casos\n",
       "3.00000     234\n",
       "21.00000    233\n",
       "9.00000     223\n",
       "12.00000    222\n",
       "15.00000    218\n",
       "5.00000     215\n",
       "23.00000    212\n",
       "10.00000    208\n",
       "13.00000    206\n",
       "22.00000    199\n",
       "16.00000    198\n",
       "18.00000    198\n",
       "17.00000    198\n",
       "4.00000     197\n",
       "11.00000    196\n",
       "8.00000     194\n",
       "19.00000    193\n",
       "6.00000     187\n",
       "1.00000     187\n",
       "14.00000    179\n",
       "20.00000    178\n",
       "7.00000     172\n",
       "2.00000     167\n",
       "Name: count, dtype: int64"
      ]
     },
     "execution_count": 16,
     "metadata": {},
     "output_type": "execute_result"
    }
   ],
   "source": [
    "df_servidor = df_servidor.dropna(subset=['tempo_casos'])\n",
    "df_servidor[\"tempo_casos\"].value_counts(dropna=False)"
   ]
  },
  {
   "cell_type": "markdown",
   "id": "7cf97353-f394-4a35-91ed-b3e5231b97cc",
   "metadata": {},
   "source": [
    "<div style=\"background-color: #f0f8ff; padding: 7px; border-radius: 10px;\">\n",
    "<h3>Variável: nivel_automacao</h3>\n",
    "</div>"
   ]
  },
  {
   "cell_type": "code",
   "execution_count": 17,
   "id": "ZYLlTHwakBT1",
   "metadata": {
    "colab": {
     "base_uri": "https://localhost:8080/"
    },
    "id": "ZYLlTHwakBT1",
    "outputId": "7edda1c4-8e6a-4ea7-d1f6-76e74f2a48f2"
   },
   "outputs": [
    {
     "data": {
      "text/plain": [
       "array([ 4., nan,  3.,  8.,  2., 10.,  7.,  0.,  5.,  9.,  1.,  6.])"
      ]
     },
     "execution_count": 17,
     "metadata": {},
     "output_type": "execute_result"
    }
   ],
   "source": [
    "df_servidor[\"nivel_automacao\"].unique()"
   ]
  },
  {
   "cell_type": "code",
   "execution_count": 18,
   "id": "fa13b980-cc51-48f0-b6d9-3ea52d157592",
   "metadata": {},
   "outputs": [],
   "source": [
    "from sklearn.impute import SimpleImputer\n",
    "\n",
    "# Imputação com o mais frequente\n",
    "imputer = SimpleImputer(strategy='most_frequent')\n",
    "df_servidor['nivel_automacao'] = imputer.fit_transform(df_servidor[['nivel_automacao']])"
   ]
  },
  {
   "cell_type": "code",
   "execution_count": 19,
   "id": "3b16a949-efc6-4adf-9e95-70d655232ba2",
   "metadata": {},
   "outputs": [],
   "source": [
    "#df_servidor['nivel_automacao'].fillna(5, inplace=True)"
   ]
  },
  {
   "cell_type": "code",
   "execution_count": 20,
   "id": "3qKwjJnHkJ-N",
   "metadata": {
    "colab": {
     "base_uri": "https://localhost:8080/"
    },
    "id": "3qKwjJnHkJ-N",
    "outputId": "b977c91a-fcf1-4fea-e6b3-5d2e8066c8bd"
   },
   "outputs": [
    {
     "data": {
      "text/plain": [
       "nivel_automacao\n",
       "6.00000     535\n",
       "4.00000     431\n",
       "9.00000     427\n",
       "10.00000    425\n",
       "5.00000     424\n",
       "8.00000     412\n",
       "2.00000     404\n",
       "1.00000     395\n",
       "3.00000     394\n",
       "7.00000     386\n",
       "0.00000     381\n",
       "Name: count, dtype: int64"
      ]
     },
     "execution_count": 20,
     "metadata": {},
     "output_type": "execute_result"
    }
   ],
   "source": [
    "df_servidor[\"nivel_automacao\"].value_counts(dropna=False)"
   ]
  },
  {
   "cell_type": "markdown",
   "id": "73f65802-d10d-469d-a29e-2005c0d53ad3",
   "metadata": {},
   "source": [
    "<div style=\"background-color: #f0f8ff; padding: 7px; border-radius: 10px;\">\n",
    "<h3>Variável: congestionamento</h3>\n",
    "</div>"
   ]
  },
  {
   "cell_type": "code",
   "execution_count": 21,
   "id": "UR5wr7vAAvUc",
   "metadata": {
    "colab": {
     "base_uri": "https://localhost:8080/"
    },
    "id": "UR5wr7vAAvUc",
    "outputId": "6fd3733c-b787-4c80-ef2e-1b8a02716149"
   },
   "outputs": [
    {
     "data": {
      "text/plain": [
       "array([nan, 'medio', 'baixo', 'alto', 'invalido'], dtype=object)"
      ]
     },
     "execution_count": 21,
     "metadata": {},
     "output_type": "execute_result"
    }
   ],
   "source": [
    "df_servidor[\"congestionamento\"].unique()"
   ]
  },
  {
   "cell_type": "code",
   "execution_count": 22,
   "id": "1ySjxlPJA4vX",
   "metadata": {
    "colab": {
     "base_uri": "https://localhost:8080/"
    },
    "id": "1ySjxlPJA4vX",
    "outputId": "4fd6bc37-1f10-4799-f983-d37a6775a08f"
   },
   "outputs": [
    {
     "data": {
      "text/plain": [
       "congestionamento\n",
       "medio       1469\n",
       "alto        1469\n",
       "baixo       1424\n",
       "invalido     252\n",
       "Name: count, dtype: int64"
      ]
     },
     "execution_count": 22,
     "metadata": {},
     "output_type": "execute_result"
    }
   ],
   "source": [
    "df_servidor['congestionamento'].fillna('invalido', inplace=True)\n",
    "df_servidor[\"congestionamento\"].value_counts(dropna=False)"
   ]
  },
  {
   "cell_type": "code",
   "execution_count": 23,
   "id": "8d1d4a61-518a-4633-85a3-1d0d24cbf122",
   "metadata": {},
   "outputs": [
    {
     "name": "stdout",
     "output_type": "stream",
     "text": [
      "{0: 'alto', 1: 'baixo', 2: 'invalido', 3: 'medio'}\n"
     ]
    }
   ],
   "source": [
    "categorias = df_servidor['congestionamento'].astype('category').cat.categories\n",
    "codigos = df_servidor['congestionamento'].astype('category').cat.codes\n",
    "print({codigo: categoria for codigo, categoria in enumerate(categorias)})"
   ]
  },
  {
   "cell_type": "code",
   "execution_count": 24,
   "id": "XGvcnpQJlW7C",
   "metadata": {
    "colab": {
     "base_uri": "https://localhost:8080/"
    },
    "id": "XGvcnpQJlW7C",
    "outputId": "9bfad3af-161d-46e4-fab0-6acb18d917b8"
   },
   "outputs": [
    {
     "data": {
      "text/plain": [
       "array([2, 3, 1, 0], dtype=int8)"
      ]
     },
     "execution_count": 24,
     "metadata": {},
     "output_type": "execute_result"
    }
   ],
   "source": [
    "df_servidor['congestionamento'] = df_servidor['congestionamento'].astype('category').cat.codes\n",
    "df_servidor[\"congestionamento\"].unique()"
   ]
  },
  {
   "cell_type": "markdown",
   "id": "51e120fd-bbc6-4493-a805-b6953797d671",
   "metadata": {},
   "source": [
    "<div style=\"background-color: #f0f8ff; padding: 7px; border-radius: 10px;\">\n",
    "<h3>Variável: advogados</h3>\n",
    "</div>"
   ]
  },
  {
   "cell_type": "code",
   "execution_count": 25,
   "id": "MmJXBHqrlVzX",
   "metadata": {
    "colab": {
     "base_uri": "https://localhost:8080/"
    },
    "id": "MmJXBHqrlVzX",
    "outputId": "8ea93b13-45f3-49ab-a3bf-4ce34c0739bb"
   },
   "outputs": [
    {
     "data": {
      "text/plain": [
       "array([18., 98., 12., 91., 24., 97., 79., 43., 32., 81., 99., 47., nan,\n",
       "       35., 77.,  9., 65., 59., 89., 86., 10., 90., 19., 50.,  4.,  5.,\n",
       "       29., 60., 28., 83.,  1., 51., 36., 64., 14., 11., 41., 25., 17.,\n",
       "        8., 58.,  2., 27., 13., 63., 93., 26., 69., 39., 92., 37., 67.,\n",
       "       68., 75., 34., 70., 33., 72., 84., 82., 48., 71., 22., 16.,  7.,\n",
       "       44., 55.,  6., 40., 74., 46., 96., 73., 76., 61., 78., 94., 31.,\n",
       "        3., 54., 62., 87., 49., 45., 42., 21., 66., 88., 23., 15., 80.,\n",
       "       38., 56., 52., 53., 30., 85., 57., 20., 95.])"
      ]
     },
     "execution_count": 25,
     "metadata": {},
     "output_type": "execute_result"
    }
   ],
   "source": [
    "df_servidor[\"advogados\"].unique()"
   ]
  },
  {
   "cell_type": "code",
   "execution_count": 26,
   "id": "SXmCy2qblWEg",
   "metadata": {
    "colab": {
     "base_uri": "https://localhost:8080/"
    },
    "id": "SXmCy2qblWEg",
    "outputId": "94dd4526-3af9-402f-a137-4383e5c19d5f"
   },
   "outputs": [
    {
     "data": {
      "text/plain": [
       "advogados\n",
       "22.00000    73\n",
       "8.00000     71\n",
       "4.00000     70\n",
       "24.00000    69\n",
       "12.00000    63\n",
       "            ..\n",
       "73.00000    30\n",
       "75.00000    29\n",
       "78.00000    29\n",
       "72.00000    29\n",
       "54.00000    28\n",
       "Name: count, Length: 99, dtype: int64"
      ]
     },
     "execution_count": 26,
     "metadata": {},
     "output_type": "execute_result"
    }
   ],
   "source": [
    "df_servidor = df_servidor.dropna(subset=['advogados'])\n",
    "df_servidor[\"advogados\"].value_counts(dropna=False)"
   ]
  },
  {
   "cell_type": "markdown",
   "id": "7eb2fe43-7795-4f05-b066-71cf7e387230",
   "metadata": {},
   "source": [
    "<div style=\"background-color: #f0f8ff; padding: 7px; border-radius: 10px;\">\n",
    "<h3>Variável: urbanizacao</h3>\n",
    "</div>"
   ]
  },
  {
   "cell_type": "code",
   "execution_count": 27,
   "id": "9zU0dwhqA07k",
   "metadata": {
    "colab": {
     "base_uri": "https://localhost:8080/"
    },
    "id": "9zU0dwhqA07k",
    "outputId": "94142efc-c8ec-4e8d-8a20-3e52726d7000"
   },
   "outputs": [
    {
     "data": {
      "text/plain": [
       "array(['baixo', 'alto', 'medio', 'desconhecido', nan], dtype=object)"
      ]
     },
     "execution_count": 27,
     "metadata": {},
     "output_type": "execute_result"
    }
   ],
   "source": [
    "df_servidor[\"urbanizacao\"].unique()"
   ]
  },
  {
   "cell_type": "code",
   "execution_count": 28,
   "id": "qfwCRWEYA1HN",
   "metadata": {
    "colab": {
     "base_uri": "https://localhost:8080/"
    },
    "id": "qfwCRWEYA1HN",
    "outputId": "c83357a8-26bc-4835-e197-200e5481c8af"
   },
   "outputs": [
    {
     "data": {
      "text/plain": [
       "urbanizacao\n",
       "alto            1432\n",
       "baixo           1428\n",
       "medio           1410\n",
       "desconhecido     255\n",
       "Name: count, dtype: int64"
      ]
     },
     "execution_count": 28,
     "metadata": {},
     "output_type": "execute_result"
    }
   ],
   "source": [
    "df_servidor['urbanizacao'].fillna('desconhecido', inplace=True)\n",
    "df_servidor[\"urbanizacao\"].value_counts(dropna=False)"
   ]
  },
  {
   "cell_type": "code",
   "execution_count": 29,
   "id": "94d0cf51-30f8-47b5-9e96-b9cdd0d81ffb",
   "metadata": {},
   "outputs": [
    {
     "name": "stdout",
     "output_type": "stream",
     "text": [
      "{0: 'alto', 1: 'baixo', 2: 'desconhecido', 3: 'medio'}\n"
     ]
    }
   ],
   "source": [
    "categorias = df_servidor['urbanizacao'].astype('category').cat.categories\n",
    "codigos = df_servidor['urbanizacao'].astype('category').cat.codes\n",
    "print({codigo: categoria for codigo, categoria in enumerate(categorias)})"
   ]
  },
  {
   "cell_type": "code",
   "execution_count": 30,
   "id": "hVYOOVPUA1bY",
   "metadata": {
    "colab": {
     "base_uri": "https://localhost:8080/"
    },
    "id": "hVYOOVPUA1bY",
    "outputId": "49328b80-4d30-45ac-c68a-46c79a1f3e5f"
   },
   "outputs": [
    {
     "data": {
      "text/plain": [
       "array([1, 0, 3, 2], dtype=int8)"
      ]
     },
     "execution_count": 30,
     "metadata": {},
     "output_type": "execute_result"
    }
   ],
   "source": [
    "df_servidor['urbanizacao'] = df_servidor['urbanizacao'].astype('category').cat.codes\n",
    "df_servidor[\"urbanizacao\"].unique()"
   ]
  },
  {
   "cell_type": "markdown",
   "id": "c7f28dae-04c9-4434-b7c2-181a3b5a3770",
   "metadata": {},
   "source": [
    "<div style=\"background-color: #f0f8ff; padding: 7px; border-radius: 10px;\">\n",
    "<h3>Variável: nivel_educacao</h3>\n",
    "</div>"
   ]
  },
  {
   "cell_type": "code",
   "execution_count": 31,
   "id": "IJTYqNm_A4DE",
   "metadata": {
    "colab": {
     "base_uri": "https://localhost:8080/"
    },
    "id": "IJTYqNm_A4DE",
    "outputId": "fda3fb45-85be-4424-b434-3aa49ccb2534"
   },
   "outputs": [
    {
     "data": {
      "text/plain": [
       "array([0.86472873, 0.80249159, 0.60650273, ..., 0.50786283, 0.90757782,\n",
       "       0.48493341])"
      ]
     },
     "execution_count": 31,
     "metadata": {},
     "output_type": "execute_result"
    }
   ],
   "source": [
    "df_servidor[\"nivel_educacao\"].unique()"
   ]
  },
  {
   "cell_type": "code",
   "execution_count": 32,
   "id": "g7NAwchxCNQo",
   "metadata": {
    "colab": {
     "base_uri": "https://localhost:8080/"
    },
    "id": "g7NAwchxCNQo",
    "outputId": "f9c7daaa-d572-47a4-f701-23778c4f328b"
   },
   "outputs": [
    {
     "data": {
      "text/plain": [
       "nivel_educacao\n",
       "0.00000    352\n",
       "1.00000    345\n",
       "0.50114     92\n",
       "0.86473      1\n",
       "0.60239      1\n",
       "          ... \n",
       "0.74062      1\n",
       "0.83977      1\n",
       "0.24977      1\n",
       "0.66865      1\n",
       "0.48493      1\n",
       "Name: count, Length: 3739, dtype: int64"
      ]
     },
     "execution_count": 32,
     "metadata": {},
     "output_type": "execute_result"
    }
   ],
   "source": [
    "df_servidor[\"nivel_educacao\"].value_counts(dropna=False)\n",
    "df_servidor['nivel_educacao'].fillna(df_servidor['nivel_educacao'].mean(), inplace=True)\n",
    "df_servidor[\"nivel_educacao\"].value_counts(dropna=False)"
   ]
  },
  {
   "cell_type": "markdown",
   "id": "5d14ad08-ff9c-412a-8f49-55c4370e9f11",
   "metadata": {},
   "source": [
    "<div style=\"background-color: #f0f8ff; padding: 7px; border-radius: 10px;\">\n",
    "<h3>Variável: habitantes_por_juiz</h3>\n",
    "</div>"
   ]
  },
  {
   "cell_type": "code",
   "execution_count": 33,
   "id": "7T2NSk41CNX4",
   "metadata": {
    "colab": {
     "base_uri": "https://localhost:8080/"
    },
    "id": "7T2NSk41CNX4",
    "outputId": "13471a2d-c8aa-4b4a-bfb8-36fa0a89faf1"
   },
   "outputs": [
    {
     "data": {
      "text/plain": [
       "array([27199.85714286,  8764.05      , 13967.66666667, ...,\n",
       "       14244.29411765, 24131.5       , 15573.41176471])"
      ]
     },
     "execution_count": 33,
     "metadata": {},
     "output_type": "execute_result"
    }
   ],
   "source": [
    "df_servidor[\"habitantes_por_juiz\"].unique()"
   ]
  },
  {
   "cell_type": "code",
   "execution_count": 34,
   "id": "RmatxwijCNc2",
   "metadata": {
    "colab": {
     "base_uri": "https://localhost:8080/"
    },
    "id": "RmatxwijCNc2",
    "outputId": "44a553a8-cc2d-4925-cf3d-7bfe8119254f"
   },
   "outputs": [
    {
     "data": {
      "text/plain": [
       "habitantes_por_juiz\n",
       "49692.22222    2\n",
       "36533.00000    2\n",
       "74073.50000    2\n",
       "32948.50000    2\n",
       "29520.00000    2\n",
       "              ..\n",
       "12093.33333    1\n",
       "13051.13333    1\n",
       "13664.07143    1\n",
       "54030.85714    1\n",
       "15573.41176    1\n",
       "Name: count, Length: 4422, dtype: int64"
      ]
     },
     "execution_count": 34,
     "metadata": {},
     "output_type": "execute_result"
    }
   ],
   "source": [
    "df_servidor = df_servidor.dropna(subset=['habitantes_por_juiz'])\n",
    "df_servidor[\"habitantes_por_juiz\"].value_counts(dropna=False)"
   ]
  },
  {
   "cell_type": "markdown",
   "id": "cf90025a-ae47-4272-9f9b-936782eabb8e",
   "metadata": {},
   "source": [
    "<div style=\"background-color: #f0f8ff; padding: 7px; border-radius: 10px;\">\n",
    "<h3>Variável: idh</h3>\n",
    "</div>"
   ]
  },
  {
   "cell_type": "code",
   "execution_count": 35,
   "id": "5LtRpOsECNjl",
   "metadata": {
    "colab": {
     "base_uri": "https://localhost:8080/"
    },
    "id": "5LtRpOsECNjl",
    "outputId": "58606b01-08d2-4414-9fef-2f5df079c870"
   },
   "outputs": [
    {
     "data": {
      "text/plain": [
       "array([1.        , 0.82631083, 0.93835172, ..., 0.87933949, 0.03390716,\n",
       "       0.88361107])"
      ]
     },
     "execution_count": 35,
     "metadata": {},
     "output_type": "execute_result"
    }
   ],
   "source": [
    "df_servidor[\"idh\"].unique()"
   ]
  },
  {
   "cell_type": "code",
   "execution_count": 36,
   "id": "U6TFIvIjCy-w",
   "metadata": {
    "colab": {
     "base_uri": "https://localhost:8080/"
    },
    "id": "U6TFIvIjCy-w",
    "outputId": "bdb4e8d3-86eb-4281-8077-728c8e061c93"
   },
   "outputs": [
    {
     "data": {
      "text/plain": [
       "idh\n",
       "1.00000    135\n",
       "0.54381     92\n",
       "0.00000     48\n",
       "0.05080      1\n",
       "0.02354      1\n",
       "          ... \n",
       "0.87468      1\n",
       "0.67193      1\n",
       "0.76181      1\n",
       "0.49652      1\n",
       "0.88361      1\n",
       "Name: count, Length: 4159, dtype: int64"
      ]
     },
     "execution_count": 36,
     "metadata": {},
     "output_type": "execute_result"
    }
   ],
   "source": [
    "df_servidor[\"idh\"].value_counts(dropna=False)\n",
    "df_servidor['idh'].fillna(df_servidor['idh'].mean(), inplace=True)\n",
    "df_servidor[\"idh\"].value_counts(dropna=False)"
   ]
  },
  {
   "cell_type": "markdown",
   "id": "d36b95dd-6384-4e48-aa19-5e167db85aea",
   "metadata": {},
   "source": [
    "<div style=\"background-color: #f0f8ff; padding: 7px; border-radius: 10px;\">\n",
    "<h3>Variável: idade_juizes</h3>\n",
    "</div>"
   ]
  },
  {
   "cell_type": "code",
   "execution_count": 37,
   "id": "x8QL0zPVCzDs",
   "metadata": {
    "colab": {
     "base_uri": "https://localhost:8080/"
    },
    "id": "x8QL0zPVCzDs",
    "outputId": "bd1a0c13-ee13-4cf5-8207-9e34dc9575cc"
   },
   "outputs": [
    {
     "data": {
      "text/plain": [
       "array([45., 57., 35., 48., nan, 56., 39., 55., 59., 43., 44., 80., 47.,\n",
       "       52., 49., 46., 54., 53., 41., 38., 50., 60., 40., 36., 58., 42.,\n",
       "       37., 51., 72., 68., 65., 74., 70., 79., 78., 83., 69., 81., 75.,\n",
       "       66., 77., 73., 84., 82., 71.])"
      ]
     },
     "execution_count": 37,
     "metadata": {},
     "output_type": "execute_result"
    }
   ],
   "source": [
    "df_servidor[\"idade_juizes\"].unique()"
   ]
  },
  {
   "cell_type": "code",
   "execution_count": 38,
   "id": "86OYDVkiCzIT",
   "metadata": {
    "colab": {
     "base_uri": "https://localhost:8080/"
    },
    "id": "86OYDVkiCzIT",
    "outputId": "53c94986-f6ee-43ba-922f-e03309262ed9"
   },
   "outputs": [
    {
     "data": {
      "text/plain": [
       "idade_juizes\n",
       "54.00000    199\n",
       "39.00000    179\n",
       "60.00000    177\n",
       "52.00000    177\n",
       "49.00000    176\n",
       "51.00000    176\n",
       "43.00000    174\n",
       "38.00000    173\n",
       "58.00000    173\n",
       "35.00000    169\n",
       "46.00000    169\n",
       "56.00000    167\n",
       "50.00000    164\n",
       "59.00000    164\n",
       "40.00000    163\n",
       "47.00000    162\n",
       "53.00000    160\n",
       "36.00000    154\n",
       "57.00000    154\n",
       "48.00000    153\n",
       "44.00000    150\n",
       "45.00000    149\n",
       "55.00000    145\n",
       "37.00000    145\n",
       "41.00000    144\n",
       "42.00000    143\n",
       "48.16694     88\n",
       "68.00000      9\n",
       "65.00000      9\n",
       "80.00000      6\n",
       "73.00000      6\n",
       "81.00000      6\n",
       "78.00000      6\n",
       "79.00000      5\n",
       "74.00000      5\n",
       "72.00000      5\n",
       "71.00000      5\n",
       "75.00000      4\n",
       "66.00000      4\n",
       "70.00000      3\n",
       "83.00000      3\n",
       "69.00000      2\n",
       "77.00000      2\n",
       "84.00000      2\n",
       "82.00000      2\n",
       "Name: count, dtype: int64"
      ]
     },
     "execution_count": 38,
     "metadata": {},
     "output_type": "execute_result"
    }
   ],
   "source": [
    "df_servidor[\"idade_juizes\"].value_counts(dropna=False)\n",
    "df_servidor['idade_juizes'].fillna(df_servidor['idade_juizes'].mean(), inplace=True)\n",
    "df_servidor[\"idade_juizes\"].value_counts(dropna=False)"
   ]
  },
  {
   "cell_type": "markdown",
   "id": "6f442c3f-21d0-4744-83f1-20f2c9756ce0",
   "metadata": {},
   "source": [
    "<div style=\"background-color: #f0f8ff; padding: 7px; border-radius: 10px;\">\n",
    "<h3>Variável: casos_pendentes</h3>\n",
    "</div>"
   ]
  },
  {
   "cell_type": "code",
   "execution_count": 39,
   "id": "bvPIiMYECzL_",
   "metadata": {
    "colab": {
     "base_uri": "https://localhost:8080/"
    },
    "id": "bvPIiMYECzL_",
    "outputId": "93007f96-6b45-463d-9c79-ab6d1d12c7ea"
   },
   "outputs": [
    {
     "data": {
      "text/plain": [
       "array([1425.89694235, 1655.6447161 , 1475.27192218, ...,  249.        ,\n",
       "       1065.        ,  996.        ])"
      ]
     },
     "execution_count": 39,
     "metadata": {},
     "output_type": "execute_result"
    }
   ],
   "source": [
    "df_servidor[\"casos_pendentes\"].unique()"
   ]
  },
  {
   "cell_type": "code",
   "execution_count": 40,
   "id": "-2-r_AH1DaDU",
   "metadata": {
    "colab": {
     "base_uri": "https://localhost:8080/"
    },
    "id": "-2-r_AH1DaDU",
    "outputId": "b015be76-0412-4ac2-faa5-364ad579dce7"
   },
   "outputs": [
    {
     "data": {
      "text/plain": [
       "casos_pendentes\n",
       "1544.00000    2\n",
       "493.00000     2\n",
       "688.00000     2\n",
       "1084.49109    1\n",
       "961.25119     1\n",
       "             ..\n",
       "1397.16216    1\n",
       "944.10540     1\n",
       "284.84142     1\n",
       "2699.93076    1\n",
       "996.00000     1\n",
       "Name: count, Length: 4336, dtype: int64"
      ]
     },
     "execution_count": 40,
     "metadata": {},
     "output_type": "execute_result"
    }
   ],
   "source": [
    "df_servidor = df_servidor.dropna(subset=['casos_pendentes'])\n",
    "df_servidor[\"casos_pendentes\"].value_counts(dropna=False)"
   ]
  },
  {
   "cell_type": "code",
   "execution_count": 41,
   "id": "ImLgHa7yida6",
   "metadata": {
    "colab": {
     "base_uri": "https://localhost:8080/"
    },
    "id": "ImLgHa7yida6",
    "outputId": "cb562f77-60f4-4fc2-8d5d-1ba7f5d8c962"
   },
   "outputs": [
    {
     "data": {
      "text/plain": [
       "codigo_tribunal               0\n",
       "populacao                     0\n",
       "num_juizes                    0\n",
       "casos_recebidos               0\n",
       "tipo_caso                     0\n",
       "taxa_crescimento_populacao    0\n",
       "taxa_criminalidade            0\n",
       "tempo_casos                   0\n",
       "nivel_automacao               0\n",
       "congestionamento              0\n",
       "advogados                     0\n",
       "urbanizacao                   0\n",
       "nivel_educacao                0\n",
       "habitantes_por_juiz           0\n",
       "idh                           0\n",
       "idade_juizes                  0\n",
       "casos_pendentes               0\n",
       "dtype: int64"
      ]
     },
     "execution_count": 41,
     "metadata": {},
     "output_type": "execute_result"
    }
   ],
   "source": [
    "df_servidor.isna().sum()"
   ]
  },
  {
   "cell_type": "markdown",
   "id": "88075ede-25b4-4ad2-8608-ca4c7962ce7f",
   "metadata": {},
   "source": [
    "<div style=\"background-color: #f0f8ff; padding: 7px; border-radius: 10px;\">\n",
    "<h3>Variável: idade_juizes</h3>\n",
    "</div>"
   ]
  },
  {
   "cell_type": "code",
   "execution_count": 42,
   "id": "ALA0-evyHpjP",
   "metadata": {
    "colab": {
     "base_uri": "https://localhost:8080/"
    },
    "id": "ALA0-evyHpjP",
    "outputId": "dd05e5fb-9bd5-4ebf-d6d4-c9c39703433f"
   },
   "outputs": [
    {
     "data": {
      "text/plain": [
       "['40-49', '50-59', '30-39', '70-79', '60-69', '80-89']\n",
       "Categories (7, object): ['18-29' < '30-39' < '40-49' < '50-59' < '60-69' < '70-79' < '80-89']"
      ]
     },
     "execution_count": 42,
     "metadata": {},
     "output_type": "execute_result"
    }
   ],
   "source": [
    "bins = [18, 30, 40, 50, 60, 75, 80, 85]\n",
    "labels = ['18-29', '30-39', '40-49', '50-59', '60-69', '70-79', '80-89']\n",
    "df_servidor['idade_juizes'] = pd.cut(df_servidor['idade_juizes'], bins=bins, labels=labels, right=True, include_lowest=True)\n",
    "df_servidor[\"idade_juizes\"].unique()"
   ]
  },
  {
   "cell_type": "code",
   "execution_count": 43,
   "id": "Ve5nUpXpI9uO",
   "metadata": {
    "colab": {
     "base_uri": "https://localhost:8080/"
    },
    "id": "Ve5nUpXpI9uO",
    "outputId": "f06c8cef-9112-4de5-975d-b8c1f0b8ded1"
   },
   "outputs": [
    {
     "data": {
      "text/plain": [
       "idade_juizes\n",
       "50-59    1653\n",
       "40-49    1639\n",
       "30-39     965\n",
       "60-69      51\n",
       "70-79      19\n",
       "80-89      12\n",
       "18-29       0\n",
       "Name: count, dtype: int64"
      ]
     },
     "execution_count": 43,
     "metadata": {},
     "output_type": "execute_result"
    }
   ],
   "source": [
    "df_servidor[\"idade_juizes\"].value_counts(dropna=False)"
   ]
  },
  {
   "cell_type": "code",
   "execution_count": 44,
   "id": "59mFXSliJkmp",
   "metadata": {
    "colab": {
     "base_uri": "https://localhost:8080/",
     "height": 461
    },
    "id": "59mFXSliJkmp",
    "outputId": "7c986a19-da4e-45aa-a33a-aa8112b8cf4b"
   },
   "outputs": [
    {
     "data": {
      "text/html": [
       "<div>\n",
       "<style scoped>\n",
       "    .dataframe tbody tr th:only-of-type {\n",
       "        vertical-align: middle;\n",
       "    }\n",
       "\n",
       "    .dataframe tbody tr th {\n",
       "        vertical-align: top;\n",
       "    }\n",
       "\n",
       "    .dataframe thead th {\n",
       "        text-align: right;\n",
       "    }\n",
       "</style>\n",
       "<table border=\"1\" class=\"dataframe\">\n",
       "  <thead>\n",
       "    <tr style=\"text-align: right;\">\n",
       "      <th></th>\n",
       "      <th>codigo_tribunal</th>\n",
       "      <th>populacao</th>\n",
       "      <th>num_juizes</th>\n",
       "      <th>casos_recebidos</th>\n",
       "      <th>tipo_caso</th>\n",
       "      <th>taxa_crescimento_populacao</th>\n",
       "      <th>taxa_criminalidade</th>\n",
       "      <th>tempo_casos</th>\n",
       "      <th>nivel_automacao</th>\n",
       "      <th>congestionamento</th>\n",
       "      <th>...</th>\n",
       "      <th>habitantes_por_juiz</th>\n",
       "      <th>idh</th>\n",
       "      <th>casos_pendentes</th>\n",
       "      <th>idade_juizes_18-29</th>\n",
       "      <th>idade_juizes_30-39</th>\n",
       "      <th>idade_juizes_40-49</th>\n",
       "      <th>idade_juizes_50-59</th>\n",
       "      <th>idade_juizes_60-69</th>\n",
       "      <th>idade_juizes_70-79</th>\n",
       "      <th>idade_juizes_80-89</th>\n",
       "    </tr>\n",
       "  </thead>\n",
       "  <tbody>\n",
       "    <tr>\n",
       "      <th>0</th>\n",
       "      <td>2978G</td>\n",
       "      <td>234400.04540</td>\n",
       "      <td>7.00000</td>\n",
       "      <td>338.40523</td>\n",
       "      <td>2</td>\n",
       "      <td>0.87225</td>\n",
       "      <td>1.00000</td>\n",
       "      <td>5.00000</td>\n",
       "      <td>4.00000</td>\n",
       "      <td>2</td>\n",
       "      <td>...</td>\n",
       "      <td>27199.85714</td>\n",
       "      <td>1.00000</td>\n",
       "      <td>1425.89694</td>\n",
       "      <td>0</td>\n",
       "      <td>0</td>\n",
       "      <td>1</td>\n",
       "      <td>0</td>\n",
       "      <td>0</td>\n",
       "      <td>0</td>\n",
       "      <td>0</td>\n",
       "    </tr>\n",
       "    <tr>\n",
       "      <th>1</th>\n",
       "      <td>6959G</td>\n",
       "      <td>175281.00000</td>\n",
       "      <td>20.00000</td>\n",
       "      <td>488.01572</td>\n",
       "      <td>2</td>\n",
       "      <td>0.54684</td>\n",
       "      <td>0.69849</td>\n",
       "      <td>15.00000</td>\n",
       "      <td>6.00000</td>\n",
       "      <td>3</td>\n",
       "      <td>...</td>\n",
       "      <td>8764.05000</td>\n",
       "      <td>0.82631</td>\n",
       "      <td>1655.64472</td>\n",
       "      <td>0</td>\n",
       "      <td>0</td>\n",
       "      <td>0</td>\n",
       "      <td>1</td>\n",
       "      <td>0</td>\n",
       "      <td>0</td>\n",
       "      <td>0</td>\n",
       "    </tr>\n",
       "    <tr>\n",
       "      <th>2</th>\n",
       "      <td>3766A</td>\n",
       "      <td>209515.00000</td>\n",
       "      <td>15.00000</td>\n",
       "      <td>322.87380</td>\n",
       "      <td>1</td>\n",
       "      <td>1.00000</td>\n",
       "      <td>1.00000</td>\n",
       "      <td>14.00000</td>\n",
       "      <td>3.00000</td>\n",
       "      <td>1</td>\n",
       "      <td>...</td>\n",
       "      <td>13967.66667</td>\n",
       "      <td>0.93835</td>\n",
       "      <td>1475.27192</td>\n",
       "      <td>0</td>\n",
       "      <td>1</td>\n",
       "      <td>0</td>\n",
       "      <td>0</td>\n",
       "      <td>0</td>\n",
       "      <td>0</td>\n",
       "      <td>0</td>\n",
       "    </tr>\n",
       "    <tr>\n",
       "      <th>3</th>\n",
       "      <td>3637B</td>\n",
       "      <td>45029.00000</td>\n",
       "      <td>11.00000</td>\n",
       "      <td>424.08932</td>\n",
       "      <td>1</td>\n",
       "      <td>1.00000</td>\n",
       "      <td>0.74196</td>\n",
       "      <td>9.00000</td>\n",
       "      <td>8.00000</td>\n",
       "      <td>3</td>\n",
       "      <td>...</td>\n",
       "      <td>4093.54545</td>\n",
       "      <td>0.74196</td>\n",
       "      <td>1189.20912</td>\n",
       "      <td>0</td>\n",
       "      <td>0</td>\n",
       "      <td>1</td>\n",
       "      <td>0</td>\n",
       "      <td>0</td>\n",
       "      <td>0</td>\n",
       "      <td>0</td>\n",
       "    </tr>\n",
       "    <tr>\n",
       "      <th>4</th>\n",
       "      <td>8725F</td>\n",
       "      <td>490829.00000</td>\n",
       "      <td>8.00000</td>\n",
       "      <td>484.75580</td>\n",
       "      <td>1</td>\n",
       "      <td>0.79694</td>\n",
       "      <td>0.65267</td>\n",
       "      <td>20.00000</td>\n",
       "      <td>4.00000</td>\n",
       "      <td>3</td>\n",
       "      <td>...</td>\n",
       "      <td>61353.62500</td>\n",
       "      <td>0.75420</td>\n",
       "      <td>1389.56877</td>\n",
       "      <td>0</td>\n",
       "      <td>0</td>\n",
       "      <td>1</td>\n",
       "      <td>0</td>\n",
       "      <td>0</td>\n",
       "      <td>0</td>\n",
       "      <td>0</td>\n",
       "    </tr>\n",
       "    <tr>\n",
       "      <th>...</th>\n",
       "      <td>...</td>\n",
       "      <td>...</td>\n",
       "      <td>...</td>\n",
       "      <td>...</td>\n",
       "      <td>...</td>\n",
       "      <td>...</td>\n",
       "      <td>...</td>\n",
       "      <td>...</td>\n",
       "      <td>...</td>\n",
       "      <td>...</td>\n",
       "      <td>...</td>\n",
       "      <td>...</td>\n",
       "      <td>...</td>\n",
       "      <td>...</td>\n",
       "      <td>...</td>\n",
       "      <td>...</td>\n",
       "      <td>...</td>\n",
       "      <td>...</td>\n",
       "      <td>...</td>\n",
       "      <td>...</td>\n",
       "      <td>...</td>\n",
       "    </tr>\n",
       "    <tr>\n",
       "      <th>4995</th>\n",
       "      <td>5840F</td>\n",
       "      <td>64381.00000</td>\n",
       "      <td>3.00000</td>\n",
       "      <td>728.00000</td>\n",
       "      <td>0</td>\n",
       "      <td>0.66371</td>\n",
       "      <td>0.96175</td>\n",
       "      <td>22.00000</td>\n",
       "      <td>6.00000</td>\n",
       "      <td>0</td>\n",
       "      <td>...</td>\n",
       "      <td>21460.33333</td>\n",
       "      <td>0.21590</td>\n",
       "      <td>1261.00000</td>\n",
       "      <td>0</td>\n",
       "      <td>1</td>\n",
       "      <td>0</td>\n",
       "      <td>0</td>\n",
       "      <td>0</td>\n",
       "      <td>0</td>\n",
       "      <td>0</td>\n",
       "    </tr>\n",
       "    <tr>\n",
       "      <th>4996</th>\n",
       "      <td>1924B</td>\n",
       "      <td>403595.00000</td>\n",
       "      <td>10.00000</td>\n",
       "      <td>536.00000</td>\n",
       "      <td>1</td>\n",
       "      <td>0.42938</td>\n",
       "      <td>0.45139</td>\n",
       "      <td>7.00000</td>\n",
       "      <td>5.00000</td>\n",
       "      <td>3</td>\n",
       "      <td>...</td>\n",
       "      <td>40359.50000</td>\n",
       "      <td>0.57341</td>\n",
       "      <td>1379.00000</td>\n",
       "      <td>0</td>\n",
       "      <td>0</td>\n",
       "      <td>1</td>\n",
       "      <td>0</td>\n",
       "      <td>0</td>\n",
       "      <td>0</td>\n",
       "      <td>0</td>\n",
       "    </tr>\n",
       "    <tr>\n",
       "      <th>4997</th>\n",
       "      <td>4944H</td>\n",
       "      <td>242153.00000</td>\n",
       "      <td>17.00000</td>\n",
       "      <td>561.00000</td>\n",
       "      <td>2</td>\n",
       "      <td>0.84879</td>\n",
       "      <td>0.56073</td>\n",
       "      <td>23.00000</td>\n",
       "      <td>5.00000</td>\n",
       "      <td>1</td>\n",
       "      <td>...</td>\n",
       "      <td>14244.29412</td>\n",
       "      <td>0.87934</td>\n",
       "      <td>249.00000</td>\n",
       "      <td>0</td>\n",
       "      <td>0</td>\n",
       "      <td>0</td>\n",
       "      <td>1</td>\n",
       "      <td>0</td>\n",
       "      <td>0</td>\n",
       "      <td>0</td>\n",
       "    </tr>\n",
       "    <tr>\n",
       "      <th>4998</th>\n",
       "      <td>3555D</td>\n",
       "      <td>48263.00000</td>\n",
       "      <td>2.00000</td>\n",
       "      <td>519.00000</td>\n",
       "      <td>1</td>\n",
       "      <td>0.77827</td>\n",
       "      <td>0.58441</td>\n",
       "      <td>11.00000</td>\n",
       "      <td>10.00000</td>\n",
       "      <td>3</td>\n",
       "      <td>...</td>\n",
       "      <td>24131.50000</td>\n",
       "      <td>0.03391</td>\n",
       "      <td>1065.00000</td>\n",
       "      <td>0</td>\n",
       "      <td>0</td>\n",
       "      <td>0</td>\n",
       "      <td>1</td>\n",
       "      <td>0</td>\n",
       "      <td>0</td>\n",
       "      <td>0</td>\n",
       "    </tr>\n",
       "    <tr>\n",
       "      <th>4999</th>\n",
       "      <td>3032G</td>\n",
       "      <td>264748.00000</td>\n",
       "      <td>17.00000</td>\n",
       "      <td>502.00000</td>\n",
       "      <td>0</td>\n",
       "      <td>0.72438</td>\n",
       "      <td>0.24071</td>\n",
       "      <td>8.00000</td>\n",
       "      <td>2.00000</td>\n",
       "      <td>3</td>\n",
       "      <td>...</td>\n",
       "      <td>15573.41176</td>\n",
       "      <td>0.88361</td>\n",
       "      <td>996.00000</td>\n",
       "      <td>0</td>\n",
       "      <td>1</td>\n",
       "      <td>0</td>\n",
       "      <td>0</td>\n",
       "      <td>0</td>\n",
       "      <td>0</td>\n",
       "      <td>0</td>\n",
       "    </tr>\n",
       "  </tbody>\n",
       "</table>\n",
       "<p>4339 rows × 23 columns</p>\n",
       "</div>"
      ],
      "text/plain": [
       "     codigo_tribunal    populacao  num_juizes  casos_recebidos  tipo_caso  \\\n",
       "0              2978G 234400.04540     7.00000        338.40523          2   \n",
       "1              6959G 175281.00000    20.00000        488.01572          2   \n",
       "2              3766A 209515.00000    15.00000        322.87380          1   \n",
       "3              3637B  45029.00000    11.00000        424.08932          1   \n",
       "4              8725F 490829.00000     8.00000        484.75580          1   \n",
       "...              ...          ...         ...              ...        ...   \n",
       "4995           5840F  64381.00000     3.00000        728.00000          0   \n",
       "4996           1924B 403595.00000    10.00000        536.00000          1   \n",
       "4997           4944H 242153.00000    17.00000        561.00000          2   \n",
       "4998           3555D  48263.00000     2.00000        519.00000          1   \n",
       "4999           3032G 264748.00000    17.00000        502.00000          0   \n",
       "\n",
       "      taxa_crescimento_populacao  taxa_criminalidade  tempo_casos  \\\n",
       "0                        0.87225             1.00000      5.00000   \n",
       "1                        0.54684             0.69849     15.00000   \n",
       "2                        1.00000             1.00000     14.00000   \n",
       "3                        1.00000             0.74196      9.00000   \n",
       "4                        0.79694             0.65267     20.00000   \n",
       "...                          ...                 ...          ...   \n",
       "4995                     0.66371             0.96175     22.00000   \n",
       "4996                     0.42938             0.45139      7.00000   \n",
       "4997                     0.84879             0.56073     23.00000   \n",
       "4998                     0.77827             0.58441     11.00000   \n",
       "4999                     0.72438             0.24071      8.00000   \n",
       "\n",
       "      nivel_automacao  congestionamento  ...  habitantes_por_juiz     idh  \\\n",
       "0             4.00000                 2  ...          27199.85714 1.00000   \n",
       "1             6.00000                 3  ...           8764.05000 0.82631   \n",
       "2             3.00000                 1  ...          13967.66667 0.93835   \n",
       "3             8.00000                 3  ...           4093.54545 0.74196   \n",
       "4             4.00000                 3  ...          61353.62500 0.75420   \n",
       "...               ...               ...  ...                  ...     ...   \n",
       "4995          6.00000                 0  ...          21460.33333 0.21590   \n",
       "4996          5.00000                 3  ...          40359.50000 0.57341   \n",
       "4997          5.00000                 1  ...          14244.29412 0.87934   \n",
       "4998         10.00000                 3  ...          24131.50000 0.03391   \n",
       "4999          2.00000                 3  ...          15573.41176 0.88361   \n",
       "\n",
       "      casos_pendentes  idade_juizes_18-29  idade_juizes_30-39  \\\n",
       "0          1425.89694                   0                   0   \n",
       "1          1655.64472                   0                   0   \n",
       "2          1475.27192                   0                   1   \n",
       "3          1189.20912                   0                   0   \n",
       "4          1389.56877                   0                   0   \n",
       "...               ...                 ...                 ...   \n",
       "4995       1261.00000                   0                   1   \n",
       "4996       1379.00000                   0                   0   \n",
       "4997        249.00000                   0                   0   \n",
       "4998       1065.00000                   0                   0   \n",
       "4999        996.00000                   0                   1   \n",
       "\n",
       "      idade_juizes_40-49  idade_juizes_50-59  idade_juizes_60-69  \\\n",
       "0                      1                   0                   0   \n",
       "1                      0                   1                   0   \n",
       "2                      0                   0                   0   \n",
       "3                      1                   0                   0   \n",
       "4                      1                   0                   0   \n",
       "...                  ...                 ...                 ...   \n",
       "4995                   0                   0                   0   \n",
       "4996                   1                   0                   0   \n",
       "4997                   0                   1                   0   \n",
       "4998                   0                   1                   0   \n",
       "4999                   0                   0                   0   \n",
       "\n",
       "      idade_juizes_70-79  idade_juizes_80-89  \n",
       "0                      0                   0  \n",
       "1                      0                   0  \n",
       "2                      0                   0  \n",
       "3                      0                   0  \n",
       "4                      0                   0  \n",
       "...                  ...                 ...  \n",
       "4995                   0                   0  \n",
       "4996                   0                   0  \n",
       "4997                   0                   0  \n",
       "4998                   0                   0  \n",
       "4999                   0                   0  \n",
       "\n",
       "[4339 rows x 23 columns]"
      ]
     },
     "execution_count": 44,
     "metadata": {},
     "output_type": "execute_result"
    }
   ],
   "source": [
    "df_servidor = pd.get_dummies(df_servidor, columns=['idade_juizes'], prefix='idade_juizes')\n",
    "dummy_columns = [col for col in df_servidor.columns if col.startswith('idade_juizes_')]\n",
    "df_servidor[dummy_columns] = df_servidor[dummy_columns].astype(int)\n",
    "df_servidor"
   ]
  },
  {
   "cell_type": "markdown",
   "id": "27389f2c-318e-4da2-8d2b-60bcc0547abb",
   "metadata": {},
   "source": [
    "# Ajustes de tipos"
   ]
  },
  {
   "cell_type": "code",
   "execution_count": 45,
   "id": "TDNj4wqcLL6u",
   "metadata": {
    "id": "TDNj4wqcLL6u"
   },
   "outputs": [],
   "source": [
    "df_servidor['casos_pendentes'] = df_servidor['casos_pendentes'].astype(int)\n",
    "df_servidor['casos_recebidos'] = df_servidor['casos_recebidos'].astype(int)"
   ]
  },
  {
   "cell_type": "code",
   "execution_count": 46,
   "id": "_j5KYkZMGI8N",
   "metadata": {
    "id": "_j5KYkZMGI8N"
   },
   "outputs": [],
   "source": [
    "df_servidor.drop(columns=['codigo_tribunal'], inplace=True)"
   ]
  },
  {
   "cell_type": "code",
   "execution_count": 47,
   "id": "b9451307-5855-4243-b93e-830bf5503640",
   "metadata": {
    "colab": {
     "base_uri": "https://localhost:8080/"
    },
    "id": "b9451307-5855-4243-b93e-830bf5503640",
    "outputId": "07f9d9b0-930c-4ad3-d586-bb86842862de"
   },
   "outputs": [
    {
     "data": {
      "text/plain": [
       "populacao                     0\n",
       "num_juizes                    0\n",
       "casos_recebidos               0\n",
       "tipo_caso                     0\n",
       "taxa_crescimento_populacao    0\n",
       "taxa_criminalidade            0\n",
       "tempo_casos                   0\n",
       "nivel_automacao               0\n",
       "congestionamento              0\n",
       "advogados                     0\n",
       "urbanizacao                   0\n",
       "nivel_educacao                0\n",
       "habitantes_por_juiz           0\n",
       "idh                           0\n",
       "casos_pendentes               0\n",
       "idade_juizes_18-29            0\n",
       "idade_juizes_30-39            0\n",
       "idade_juizes_40-49            0\n",
       "idade_juizes_50-59            0\n",
       "idade_juizes_60-69            0\n",
       "idade_juizes_70-79            0\n",
       "idade_juizes_80-89            0\n",
       "dtype: int64"
      ]
     },
     "execution_count": 47,
     "metadata": {},
     "output_type": "execute_result"
    }
   ],
   "source": [
    "df_servidor.isna().sum()"
   ]
  },
  {
   "cell_type": "code",
   "execution_count": 48,
   "id": "aL9wgkb8m8_M",
   "metadata": {
    "colab": {
     "base_uri": "https://localhost:8080/"
    },
    "id": "aL9wgkb8m8_M",
    "outputId": "2ba44963-fead-403d-be50-4e5bde1e7560"
   },
   "outputs": [
    {
     "data": {
      "text/plain": [
       "(4339, 22)"
      ]
     },
     "execution_count": 48,
     "metadata": {},
     "output_type": "execute_result"
    }
   ],
   "source": [
    "df_servidor.shape"
   ]
  },
  {
   "cell_type": "code",
   "execution_count": 49,
   "id": "5h2YC7o_9kg2",
   "metadata": {
    "colab": {
     "base_uri": "https://localhost:8080/",
     "height": 461
    },
    "id": "5h2YC7o_9kg2",
    "outputId": "829eae81-d373-40fc-a8f9-5ddb724990b4"
   },
   "outputs": [
    {
     "data": {
      "text/html": [
       "<div>\n",
       "<style scoped>\n",
       "    .dataframe tbody tr th:only-of-type {\n",
       "        vertical-align: middle;\n",
       "    }\n",
       "\n",
       "    .dataframe tbody tr th {\n",
       "        vertical-align: top;\n",
       "    }\n",
       "\n",
       "    .dataframe thead th {\n",
       "        text-align: right;\n",
       "    }\n",
       "</style>\n",
       "<table border=\"1\" class=\"dataframe\">\n",
       "  <thead>\n",
       "    <tr style=\"text-align: right;\">\n",
       "      <th></th>\n",
       "      <th>populacao</th>\n",
       "      <th>num_juizes</th>\n",
       "      <th>casos_recebidos</th>\n",
       "      <th>tipo_caso</th>\n",
       "      <th>taxa_crescimento_populacao</th>\n",
       "      <th>taxa_criminalidade</th>\n",
       "      <th>tempo_casos</th>\n",
       "      <th>nivel_automacao</th>\n",
       "      <th>congestionamento</th>\n",
       "      <th>advogados</th>\n",
       "      <th>...</th>\n",
       "      <th>habitantes_por_juiz</th>\n",
       "      <th>idh</th>\n",
       "      <th>casos_pendentes</th>\n",
       "      <th>idade_juizes_18-29</th>\n",
       "      <th>idade_juizes_30-39</th>\n",
       "      <th>idade_juizes_40-49</th>\n",
       "      <th>idade_juizes_50-59</th>\n",
       "      <th>idade_juizes_60-69</th>\n",
       "      <th>idade_juizes_70-79</th>\n",
       "      <th>idade_juizes_80-89</th>\n",
       "    </tr>\n",
       "  </thead>\n",
       "  <tbody>\n",
       "    <tr>\n",
       "      <th>0</th>\n",
       "      <td>234400.04540</td>\n",
       "      <td>7.00000</td>\n",
       "      <td>338</td>\n",
       "      <td>2</td>\n",
       "      <td>0.87225</td>\n",
       "      <td>1.00000</td>\n",
       "      <td>5.00000</td>\n",
       "      <td>4.00000</td>\n",
       "      <td>2</td>\n",
       "      <td>18.00000</td>\n",
       "      <td>...</td>\n",
       "      <td>27199.85714</td>\n",
       "      <td>1.00000</td>\n",
       "      <td>1425</td>\n",
       "      <td>0</td>\n",
       "      <td>0</td>\n",
       "      <td>1</td>\n",
       "      <td>0</td>\n",
       "      <td>0</td>\n",
       "      <td>0</td>\n",
       "      <td>0</td>\n",
       "    </tr>\n",
       "    <tr>\n",
       "      <th>1</th>\n",
       "      <td>175281.00000</td>\n",
       "      <td>20.00000</td>\n",
       "      <td>488</td>\n",
       "      <td>2</td>\n",
       "      <td>0.54684</td>\n",
       "      <td>0.69849</td>\n",
       "      <td>15.00000</td>\n",
       "      <td>6.00000</td>\n",
       "      <td>3</td>\n",
       "      <td>98.00000</td>\n",
       "      <td>...</td>\n",
       "      <td>8764.05000</td>\n",
       "      <td>0.82631</td>\n",
       "      <td>1655</td>\n",
       "      <td>0</td>\n",
       "      <td>0</td>\n",
       "      <td>0</td>\n",
       "      <td>1</td>\n",
       "      <td>0</td>\n",
       "      <td>0</td>\n",
       "      <td>0</td>\n",
       "    </tr>\n",
       "    <tr>\n",
       "      <th>2</th>\n",
       "      <td>209515.00000</td>\n",
       "      <td>15.00000</td>\n",
       "      <td>322</td>\n",
       "      <td>1</td>\n",
       "      <td>1.00000</td>\n",
       "      <td>1.00000</td>\n",
       "      <td>14.00000</td>\n",
       "      <td>3.00000</td>\n",
       "      <td>1</td>\n",
       "      <td>12.00000</td>\n",
       "      <td>...</td>\n",
       "      <td>13967.66667</td>\n",
       "      <td>0.93835</td>\n",
       "      <td>1475</td>\n",
       "      <td>0</td>\n",
       "      <td>1</td>\n",
       "      <td>0</td>\n",
       "      <td>0</td>\n",
       "      <td>0</td>\n",
       "      <td>0</td>\n",
       "      <td>0</td>\n",
       "    </tr>\n",
       "    <tr>\n",
       "      <th>3</th>\n",
       "      <td>45029.00000</td>\n",
       "      <td>11.00000</td>\n",
       "      <td>424</td>\n",
       "      <td>1</td>\n",
       "      <td>1.00000</td>\n",
       "      <td>0.74196</td>\n",
       "      <td>9.00000</td>\n",
       "      <td>8.00000</td>\n",
       "      <td>3</td>\n",
       "      <td>91.00000</td>\n",
       "      <td>...</td>\n",
       "      <td>4093.54545</td>\n",
       "      <td>0.74196</td>\n",
       "      <td>1189</td>\n",
       "      <td>0</td>\n",
       "      <td>0</td>\n",
       "      <td>1</td>\n",
       "      <td>0</td>\n",
       "      <td>0</td>\n",
       "      <td>0</td>\n",
       "      <td>0</td>\n",
       "    </tr>\n",
       "    <tr>\n",
       "      <th>4</th>\n",
       "      <td>490829.00000</td>\n",
       "      <td>8.00000</td>\n",
       "      <td>484</td>\n",
       "      <td>1</td>\n",
       "      <td>0.79694</td>\n",
       "      <td>0.65267</td>\n",
       "      <td>20.00000</td>\n",
       "      <td>4.00000</td>\n",
       "      <td>3</td>\n",
       "      <td>24.00000</td>\n",
       "      <td>...</td>\n",
       "      <td>61353.62500</td>\n",
       "      <td>0.75420</td>\n",
       "      <td>1389</td>\n",
       "      <td>0</td>\n",
       "      <td>0</td>\n",
       "      <td>1</td>\n",
       "      <td>0</td>\n",
       "      <td>0</td>\n",
       "      <td>0</td>\n",
       "      <td>0</td>\n",
       "    </tr>\n",
       "  </tbody>\n",
       "</table>\n",
       "<p>5 rows × 22 columns</p>\n",
       "</div>"
      ],
      "text/plain": [
       "     populacao  num_juizes  casos_recebidos  tipo_caso  \\\n",
       "0 234400.04540     7.00000              338          2   \n",
       "1 175281.00000    20.00000              488          2   \n",
       "2 209515.00000    15.00000              322          1   \n",
       "3  45029.00000    11.00000              424          1   \n",
       "4 490829.00000     8.00000              484          1   \n",
       "\n",
       "   taxa_crescimento_populacao  taxa_criminalidade  tempo_casos  \\\n",
       "0                     0.87225             1.00000      5.00000   \n",
       "1                     0.54684             0.69849     15.00000   \n",
       "2                     1.00000             1.00000     14.00000   \n",
       "3                     1.00000             0.74196      9.00000   \n",
       "4                     0.79694             0.65267     20.00000   \n",
       "\n",
       "   nivel_automacao  congestionamento  advogados  ...  habitantes_por_juiz  \\\n",
       "0          4.00000                 2   18.00000  ...          27199.85714   \n",
       "1          6.00000                 3   98.00000  ...           8764.05000   \n",
       "2          3.00000                 1   12.00000  ...          13967.66667   \n",
       "3          8.00000                 3   91.00000  ...           4093.54545   \n",
       "4          4.00000                 3   24.00000  ...          61353.62500   \n",
       "\n",
       "      idh  casos_pendentes  idade_juizes_18-29  idade_juizes_30-39  \\\n",
       "0 1.00000             1425                   0                   0   \n",
       "1 0.82631             1655                   0                   0   \n",
       "2 0.93835             1475                   0                   1   \n",
       "3 0.74196             1189                   0                   0   \n",
       "4 0.75420             1389                   0                   0   \n",
       "\n",
       "   idade_juizes_40-49  idade_juizes_50-59  idade_juizes_60-69  \\\n",
       "0                   1                   0                   0   \n",
       "1                   0                   1                   0   \n",
       "2                   0                   0                   0   \n",
       "3                   1                   0                   0   \n",
       "4                   1                   0                   0   \n",
       "\n",
       "   idade_juizes_70-79  idade_juizes_80-89  \n",
       "0                   0                   0  \n",
       "1                   0                   0  \n",
       "2                   0                   0  \n",
       "3                   0                   0  \n",
       "4                   0                   0  \n",
       "\n",
       "[5 rows x 22 columns]"
      ]
     },
     "execution_count": 49,
     "metadata": {},
     "output_type": "execute_result"
    }
   ],
   "source": [
    "df_servidor.head(5)"
   ]
  },
  {
   "cell_type": "code",
   "execution_count": 50,
   "id": "44f6a8b2-d6f0-4935-850d-903864972886",
   "metadata": {},
   "outputs": [],
   "source": [
    "# Salvar o DataFrame como um arquivo CSV\n",
    "df_servidor.to_csv('../data/interim/predicao_cargas_trabalho_processado.csv', index=False)"
   ]
  },
  {
   "cell_type": "markdown",
   "id": "-GSrE999Gmwh",
   "metadata": {
    "id": "-GSrE999Gmwh"
   },
   "source": [
    "# Normalização e Padronização dos dados"
   ]
  },
  {
   "cell_type": "markdown",
   "id": "fbd720fe-20a0-493b-a7a6-2f69314f5fcd",
   "metadata": {},
   "source": [
    "### Padronização (Z-score Scaling)\n",
    "\n",
    "$z = \\frac{x - \\mu}{\\sigma}$\r\n"
   ]
  },
  {
   "cell_type": "code",
   "execution_count": 51,
   "id": "1690eb60-4a66-476a-9559-340c26e6140d",
   "metadata": {},
   "outputs": [
    {
     "data": {
      "text/html": [
       "<div>\n",
       "<style scoped>\n",
       "    .dataframe tbody tr th:only-of-type {\n",
       "        vertical-align: middle;\n",
       "    }\n",
       "\n",
       "    .dataframe tbody tr th {\n",
       "        vertical-align: top;\n",
       "    }\n",
       "\n",
       "    .dataframe thead th {\n",
       "        text-align: right;\n",
       "    }\n",
       "</style>\n",
       "<table border=\"1\" class=\"dataframe\">\n",
       "  <thead>\n",
       "    <tr style=\"text-align: right;\">\n",
       "      <th></th>\n",
       "      <th>populacao</th>\n",
       "      <th>num_juizes</th>\n",
       "      <th>casos_recebidos</th>\n",
       "      <th>tipo_caso</th>\n",
       "      <th>taxa_crescimento_populacao</th>\n",
       "      <th>taxa_criminalidade</th>\n",
       "      <th>tempo_casos</th>\n",
       "      <th>nivel_automacao</th>\n",
       "      <th>congestionamento</th>\n",
       "      <th>advogados</th>\n",
       "      <th>...</th>\n",
       "      <th>habitantes_por_juiz</th>\n",
       "      <th>idh</th>\n",
       "      <th>casos_pendentes</th>\n",
       "      <th>idade_juizes_18-29</th>\n",
       "      <th>idade_juizes_30-39</th>\n",
       "      <th>idade_juizes_40-49</th>\n",
       "      <th>idade_juizes_50-59</th>\n",
       "      <th>idade_juizes_60-69</th>\n",
       "      <th>idade_juizes_70-79</th>\n",
       "      <th>idade_juizes_80-89</th>\n",
       "    </tr>\n",
       "  </thead>\n",
       "  <tbody>\n",
       "    <tr>\n",
       "      <th>0</th>\n",
       "      <td>0.00106</td>\n",
       "      <td>-0.61744</td>\n",
       "      <td>-0.66145</td>\n",
       "      <td>1.24541</td>\n",
       "      <td>1.19484</td>\n",
       "      <td>1.87040</td>\n",
       "      <td>-1.07338</td>\n",
       "      <td>-0.35178</td>\n",
       "      <td>0.51108</td>\n",
       "      <td>-0.96598</td>\n",
       "      <td>...</td>\n",
       "      <td>-0.07855</td>\n",
       "      <td>1.91810</td>\n",
       "      <td>0.00267</td>\n",
       "      <td>0.00000</td>\n",
       "      <td>-0.53480</td>\n",
       "      <td>1.28349</td>\n",
       "      <td>-0.78448</td>\n",
       "      <td>-0.10906</td>\n",
       "      <td>-0.06632</td>\n",
       "      <td>-0.05266</td>\n",
       "    </tr>\n",
       "    <tr>\n",
       "      <th>1</th>\n",
       "      <td>-0.41671</td>\n",
       "      <td>1.62910</td>\n",
       "      <td>0.04887</td>\n",
       "      <td>1.24541</td>\n",
       "      <td>0.15494</td>\n",
       "      <td>0.64084</td>\n",
       "      <td>0.43984</td>\n",
       "      <td>0.29253</td>\n",
       "      <td>1.32607</td>\n",
       "      <td>1.81440</td>\n",
       "      <td>...</td>\n",
       "      <td>-0.91841</td>\n",
       "      <td>1.18770</td>\n",
       "      <td>0.33086</td>\n",
       "      <td>0.00000</td>\n",
       "      <td>-0.53480</td>\n",
       "      <td>-0.77913</td>\n",
       "      <td>1.27473</td>\n",
       "      <td>-0.10906</td>\n",
       "      <td>-0.06632</td>\n",
       "      <td>-0.05266</td>\n",
       "    </tr>\n",
       "    <tr>\n",
       "      <th>2</th>\n",
       "      <td>-0.17479</td>\n",
       "      <td>0.76504</td>\n",
       "      <td>-0.73721</td>\n",
       "      <td>0.02172</td>\n",
       "      <td>1.60307</td>\n",
       "      <td>1.87040</td>\n",
       "      <td>0.28852</td>\n",
       "      <td>-0.67393</td>\n",
       "      <td>-0.30391</td>\n",
       "      <td>-1.17451</td>\n",
       "      <td>...</td>\n",
       "      <td>-0.68135</td>\n",
       "      <td>1.65885</td>\n",
       "      <td>0.07401</td>\n",
       "      <td>0.00000</td>\n",
       "      <td>1.86986</td>\n",
       "      <td>-0.77913</td>\n",
       "      <td>-0.78448</td>\n",
       "      <td>-0.10906</td>\n",
       "      <td>-0.06632</td>\n",
       "      <td>-0.05266</td>\n",
       "    </tr>\n",
       "    <tr>\n",
       "      <th>3</th>\n",
       "      <td>-1.33713</td>\n",
       "      <td>0.07380</td>\n",
       "      <td>-0.25420</td>\n",
       "      <td>0.02172</td>\n",
       "      <td>1.60307</td>\n",
       "      <td>0.81813</td>\n",
       "      <td>-0.46809</td>\n",
       "      <td>0.93684</td>\n",
       "      <td>1.32607</td>\n",
       "      <td>1.57112</td>\n",
       "      <td>...</td>\n",
       "      <td>-1.13117</td>\n",
       "      <td>0.83298</td>\n",
       "      <td>-0.33408</td>\n",
       "      <td>0.00000</td>\n",
       "      <td>-0.53480</td>\n",
       "      <td>1.28349</td>\n",
       "      <td>-0.78448</td>\n",
       "      <td>-0.10906</td>\n",
       "      <td>-0.06632</td>\n",
       "      <td>-0.05266</td>\n",
       "    </tr>\n",
       "    <tr>\n",
       "      <th>4</th>\n",
       "      <td>1.81311</td>\n",
       "      <td>-0.44463</td>\n",
       "      <td>0.02993</td>\n",
       "      <td>0.02172</td>\n",
       "      <td>0.95415</td>\n",
       "      <td>0.45401</td>\n",
       "      <td>1.19645</td>\n",
       "      <td>-0.35178</td>\n",
       "      <td>1.32607</td>\n",
       "      <td>-0.75745</td>\n",
       "      <td>...</td>\n",
       "      <td>1.47735</td>\n",
       "      <td>0.88446</td>\n",
       "      <td>-0.04870</td>\n",
       "      <td>0.00000</td>\n",
       "      <td>-0.53480</td>\n",
       "      <td>1.28349</td>\n",
       "      <td>-0.78448</td>\n",
       "      <td>-0.10906</td>\n",
       "      <td>-0.06632</td>\n",
       "      <td>-0.05266</td>\n",
       "    </tr>\n",
       "    <tr>\n",
       "      <th>...</th>\n",
       "      <td>...</td>\n",
       "      <td>...</td>\n",
       "      <td>...</td>\n",
       "      <td>...</td>\n",
       "      <td>...</td>\n",
       "      <td>...</td>\n",
       "      <td>...</td>\n",
       "      <td>...</td>\n",
       "      <td>...</td>\n",
       "      <td>...</td>\n",
       "      <td>...</td>\n",
       "      <td>...</td>\n",
       "      <td>...</td>\n",
       "      <td>...</td>\n",
       "      <td>...</td>\n",
       "      <td>...</td>\n",
       "      <td>...</td>\n",
       "      <td>...</td>\n",
       "      <td>...</td>\n",
       "      <td>...</td>\n",
       "      <td>...</td>\n",
       "    </tr>\n",
       "    <tr>\n",
       "      <th>4334</th>\n",
       "      <td>-1.20038</td>\n",
       "      <td>-1.30869</td>\n",
       "      <td>1.18538</td>\n",
       "      <td>-1.20198</td>\n",
       "      <td>0.52842</td>\n",
       "      <td>1.71442</td>\n",
       "      <td>1.49910</td>\n",
       "      <td>0.29253</td>\n",
       "      <td>-1.11889</td>\n",
       "      <td>-0.79221</td>\n",
       "      <td>...</td>\n",
       "      <td>-0.34002</td>\n",
       "      <td>-1.37920</td>\n",
       "      <td>-0.23134</td>\n",
       "      <td>0.00000</td>\n",
       "      <td>1.86986</td>\n",
       "      <td>-0.77913</td>\n",
       "      <td>-0.78448</td>\n",
       "      <td>-0.10906</td>\n",
       "      <td>-0.06632</td>\n",
       "      <td>-0.05266</td>\n",
       "    </tr>\n",
       "    <tr>\n",
       "      <th>4335</th>\n",
       "      <td>1.19667</td>\n",
       "      <td>-0.09901</td>\n",
       "      <td>0.27618</td>\n",
       "      <td>0.02172</td>\n",
       "      <td>-0.22041</td>\n",
       "      <td>-0.36680</td>\n",
       "      <td>-0.77074</td>\n",
       "      <td>-0.02962</td>\n",
       "      <td>1.32607</td>\n",
       "      <td>0.98029</td>\n",
       "      <td>...</td>\n",
       "      <td>0.52095</td>\n",
       "      <td>0.12418</td>\n",
       "      <td>-0.06297</td>\n",
       "      <td>0.00000</td>\n",
       "      <td>-0.53480</td>\n",
       "      <td>1.28349</td>\n",
       "      <td>-0.78448</td>\n",
       "      <td>-0.10906</td>\n",
       "      <td>-0.06632</td>\n",
       "      <td>-0.05266</td>\n",
       "    </tr>\n",
       "    <tr>\n",
       "      <th>4336</th>\n",
       "      <td>0.05584</td>\n",
       "      <td>1.11067</td>\n",
       "      <td>0.39456</td>\n",
       "      <td>1.24541</td>\n",
       "      <td>1.11985</td>\n",
       "      <td>0.07908</td>\n",
       "      <td>1.65042</td>\n",
       "      <td>-0.02962</td>\n",
       "      <td>-0.30391</td>\n",
       "      <td>-0.82696</td>\n",
       "      <td>...</td>\n",
       "      <td>-0.66875</td>\n",
       "      <td>1.41069</td>\n",
       "      <td>-1.67536</td>\n",
       "      <td>0.00000</td>\n",
       "      <td>-0.53480</td>\n",
       "      <td>-0.77913</td>\n",
       "      <td>1.27473</td>\n",
       "      <td>-0.10906</td>\n",
       "      <td>-0.06632</td>\n",
       "      <td>-0.05266</td>\n",
       "    </tr>\n",
       "    <tr>\n",
       "      <th>4337</th>\n",
       "      <td>-1.31428</td>\n",
       "      <td>-1.48150</td>\n",
       "      <td>0.19567</td>\n",
       "      <td>0.02172</td>\n",
       "      <td>0.89449</td>\n",
       "      <td>0.17567</td>\n",
       "      <td>-0.16545</td>\n",
       "      <td>1.58115</td>\n",
       "      <td>1.32607</td>\n",
       "      <td>0.04191</td>\n",
       "      <td>...</td>\n",
       "      <td>-0.21833</td>\n",
       "      <td>-2.14453</td>\n",
       "      <td>-0.51101</td>\n",
       "      <td>0.00000</td>\n",
       "      <td>-0.53480</td>\n",
       "      <td>-0.77913</td>\n",
       "      <td>1.27473</td>\n",
       "      <td>-0.10906</td>\n",
       "      <td>-0.06632</td>\n",
       "      <td>-0.05266</td>\n",
       "    </tr>\n",
       "    <tr>\n",
       "      <th>4338</th>\n",
       "      <td>0.21551</td>\n",
       "      <td>1.11067</td>\n",
       "      <td>0.11517</td>\n",
       "      <td>-1.20198</td>\n",
       "      <td>0.72229</td>\n",
       "      <td>-1.22593</td>\n",
       "      <td>-0.61941</td>\n",
       "      <td>-0.99609</td>\n",
       "      <td>1.32607</td>\n",
       "      <td>0.31995</td>\n",
       "      <td>...</td>\n",
       "      <td>-0.60820</td>\n",
       "      <td>1.42866</td>\n",
       "      <td>-0.60947</td>\n",
       "      <td>0.00000</td>\n",
       "      <td>1.86986</td>\n",
       "      <td>-0.77913</td>\n",
       "      <td>-0.78448</td>\n",
       "      <td>-0.10906</td>\n",
       "      <td>-0.06632</td>\n",
       "      <td>-0.05266</td>\n",
       "    </tr>\n",
       "  </tbody>\n",
       "</table>\n",
       "<p>4339 rows × 22 columns</p>\n",
       "</div>"
      ],
      "text/plain": [
       "      populacao  num_juizes  casos_recebidos  tipo_caso  \\\n",
       "0       0.00106    -0.61744         -0.66145    1.24541   \n",
       "1      -0.41671     1.62910          0.04887    1.24541   \n",
       "2      -0.17479     0.76504         -0.73721    0.02172   \n",
       "3      -1.33713     0.07380         -0.25420    0.02172   \n",
       "4       1.81311    -0.44463          0.02993    0.02172   \n",
       "...         ...         ...              ...        ...   \n",
       "4334   -1.20038    -1.30869          1.18538   -1.20198   \n",
       "4335    1.19667    -0.09901          0.27618    0.02172   \n",
       "4336    0.05584     1.11067          0.39456    1.24541   \n",
       "4337   -1.31428    -1.48150          0.19567    0.02172   \n",
       "4338    0.21551     1.11067          0.11517   -1.20198   \n",
       "\n",
       "      taxa_crescimento_populacao  taxa_criminalidade  tempo_casos  \\\n",
       "0                        1.19484             1.87040     -1.07338   \n",
       "1                        0.15494             0.64084      0.43984   \n",
       "2                        1.60307             1.87040      0.28852   \n",
       "3                        1.60307             0.81813     -0.46809   \n",
       "4                        0.95415             0.45401      1.19645   \n",
       "...                          ...                 ...          ...   \n",
       "4334                     0.52842             1.71442      1.49910   \n",
       "4335                    -0.22041            -0.36680     -0.77074   \n",
       "4336                     1.11985             0.07908      1.65042   \n",
       "4337                     0.89449             0.17567     -0.16545   \n",
       "4338                     0.72229            -1.22593     -0.61941   \n",
       "\n",
       "      nivel_automacao  congestionamento  advogados  ...  habitantes_por_juiz  \\\n",
       "0            -0.35178           0.51108   -0.96598  ...             -0.07855   \n",
       "1             0.29253           1.32607    1.81440  ...             -0.91841   \n",
       "2            -0.67393          -0.30391   -1.17451  ...             -0.68135   \n",
       "3             0.93684           1.32607    1.57112  ...             -1.13117   \n",
       "4            -0.35178           1.32607   -0.75745  ...              1.47735   \n",
       "...               ...               ...        ...  ...                  ...   \n",
       "4334          0.29253          -1.11889   -0.79221  ...             -0.34002   \n",
       "4335         -0.02962           1.32607    0.98029  ...              0.52095   \n",
       "4336         -0.02962          -0.30391   -0.82696  ...             -0.66875   \n",
       "4337          1.58115           1.32607    0.04191  ...             -0.21833   \n",
       "4338         -0.99609           1.32607    0.31995  ...             -0.60820   \n",
       "\n",
       "          idh  casos_pendentes  idade_juizes_18-29  idade_juizes_30-39  \\\n",
       "0     1.91810          0.00267             0.00000            -0.53480   \n",
       "1     1.18770          0.33086             0.00000            -0.53480   \n",
       "2     1.65885          0.07401             0.00000             1.86986   \n",
       "3     0.83298         -0.33408             0.00000            -0.53480   \n",
       "4     0.88446         -0.04870             0.00000            -0.53480   \n",
       "...       ...              ...                 ...                 ...   \n",
       "4334 -1.37920         -0.23134             0.00000             1.86986   \n",
       "4335  0.12418         -0.06297             0.00000            -0.53480   \n",
       "4336  1.41069         -1.67536             0.00000            -0.53480   \n",
       "4337 -2.14453         -0.51101             0.00000            -0.53480   \n",
       "4338  1.42866         -0.60947             0.00000             1.86986   \n",
       "\n",
       "      idade_juizes_40-49  idade_juizes_50-59  idade_juizes_60-69  \\\n",
       "0                1.28349            -0.78448            -0.10906   \n",
       "1               -0.77913             1.27473            -0.10906   \n",
       "2               -0.77913            -0.78448            -0.10906   \n",
       "3                1.28349            -0.78448            -0.10906   \n",
       "4                1.28349            -0.78448            -0.10906   \n",
       "...                  ...                 ...                 ...   \n",
       "4334            -0.77913            -0.78448            -0.10906   \n",
       "4335             1.28349            -0.78448            -0.10906   \n",
       "4336            -0.77913             1.27473            -0.10906   \n",
       "4337            -0.77913             1.27473            -0.10906   \n",
       "4338            -0.77913            -0.78448            -0.10906   \n",
       "\n",
       "      idade_juizes_70-79  idade_juizes_80-89  \n",
       "0               -0.06632            -0.05266  \n",
       "1               -0.06632            -0.05266  \n",
       "2               -0.06632            -0.05266  \n",
       "3               -0.06632            -0.05266  \n",
       "4               -0.06632            -0.05266  \n",
       "...                  ...                 ...  \n",
       "4334            -0.06632            -0.05266  \n",
       "4335            -0.06632            -0.05266  \n",
       "4336            -0.06632            -0.05266  \n",
       "4337            -0.06632            -0.05266  \n",
       "4338            -0.06632            -0.05266  \n",
       "\n",
       "[4339 rows x 22 columns]"
      ]
     },
     "execution_count": 51,
     "metadata": {},
     "output_type": "execute_result"
    }
   ],
   "source": [
    "scaler = StandardScaler()\n",
    "df_normalizado = pd.DataFrame(scaler.fit_transform(df_servidor), columns=df_servidor.columns)\n",
    "df_normalizado"
   ]
  },
  {
   "cell_type": "markdown",
   "id": "64645658-c500-4c21-bc60-35ed38a14d6f",
   "metadata": {},
   "source": [
    "### Normalização (Min-Max Scaling)\n",
    "\n",
    "$z = \\frac{x - \\min(x)}{\\max(x) - \\min(x)}$"
   ]
  },
  {
   "cell_type": "code",
   "execution_count": 52,
   "id": "SYI8NMkIGnLX",
   "metadata": {
    "colab": {
     "base_uri": "https://localhost:8080/",
     "height": 461
    },
    "id": "SYI8NMkIGnLX",
    "outputId": "ea230410-0b13-4c05-acdc-b57c2309c422"
   },
   "outputs": [
    {
     "data": {
      "text/html": [
       "<div>\n",
       "<style scoped>\n",
       "    .dataframe tbody tr th:only-of-type {\n",
       "        vertical-align: middle;\n",
       "    }\n",
       "\n",
       "    .dataframe tbody tr th {\n",
       "        vertical-align: top;\n",
       "    }\n",
       "\n",
       "    .dataframe thead th {\n",
       "        text-align: right;\n",
       "    }\n",
       "</style>\n",
       "<table border=\"1\" class=\"dataframe\">\n",
       "  <thead>\n",
       "    <tr style=\"text-align: right;\">\n",
       "      <th></th>\n",
       "      <th>populacao</th>\n",
       "      <th>num_juizes</th>\n",
       "      <th>casos_recebidos</th>\n",
       "      <th>tipo_caso</th>\n",
       "      <th>taxa_crescimento_populacao</th>\n",
       "      <th>taxa_criminalidade</th>\n",
       "      <th>tempo_casos</th>\n",
       "      <th>nivel_automacao</th>\n",
       "      <th>congestionamento</th>\n",
       "      <th>advogados</th>\n",
       "      <th>...</th>\n",
       "      <th>habitantes_por_juiz</th>\n",
       "      <th>idh</th>\n",
       "      <th>casos_pendentes</th>\n",
       "      <th>idade_juizes_18-29</th>\n",
       "      <th>idade_juizes_30-39</th>\n",
       "      <th>idade_juizes_40-49</th>\n",
       "      <th>idade_juizes_50-59</th>\n",
       "      <th>idade_juizes_60-69</th>\n",
       "      <th>idade_juizes_70-79</th>\n",
       "      <th>idade_juizes_80-89</th>\n",
       "    </tr>\n",
       "  </thead>\n",
       "  <tbody>\n",
       "    <tr>\n",
       "      <th>0</th>\n",
       "      <td>0.43482</td>\n",
       "      <td>0.31579</td>\n",
       "      <td>0.41271</td>\n",
       "      <td>1.00000</td>\n",
       "      <td>0.87225</td>\n",
       "      <td>1.00000</td>\n",
       "      <td>0.18182</td>\n",
       "      <td>0.40000</td>\n",
       "      <td>0.66667</td>\n",
       "      <td>0.17347</td>\n",
       "      <td>...</td>\n",
       "      <td>0.20807</td>\n",
       "      <td>1.00000</td>\n",
       "      <td>0.49684</td>\n",
       "      <td>0.00000</td>\n",
       "      <td>0.00000</td>\n",
       "      <td>1.00000</td>\n",
       "      <td>0.00000</td>\n",
       "      <td>0.00000</td>\n",
       "      <td>0.00000</td>\n",
       "      <td>0.00000</td>\n",
       "    </tr>\n",
       "    <tr>\n",
       "      <th>1</th>\n",
       "      <td>0.30901</td>\n",
       "      <td>1.00000</td>\n",
       "      <td>0.53339</td>\n",
       "      <td>1.00000</td>\n",
       "      <td>0.54684</td>\n",
       "      <td>0.69849</td>\n",
       "      <td>0.63636</td>\n",
       "      <td>0.60000</td>\n",
       "      <td>1.00000</td>\n",
       "      <td>0.98980</td>\n",
       "      <td>...</td>\n",
       "      <td>0.05870</td>\n",
       "      <td>0.82631</td>\n",
       "      <td>0.54882</td>\n",
       "      <td>0.00000</td>\n",
       "      <td>0.00000</td>\n",
       "      <td>0.00000</td>\n",
       "      <td>1.00000</td>\n",
       "      <td>0.00000</td>\n",
       "      <td>0.00000</td>\n",
       "      <td>0.00000</td>\n",
       "    </tr>\n",
       "    <tr>\n",
       "      <th>2</th>\n",
       "      <td>0.38186</td>\n",
       "      <td>0.73684</td>\n",
       "      <td>0.39984</td>\n",
       "      <td>0.50000</td>\n",
       "      <td>1.00000</td>\n",
       "      <td>1.00000</td>\n",
       "      <td>0.59091</td>\n",
       "      <td>0.30000</td>\n",
       "      <td>0.33333</td>\n",
       "      <td>0.11224</td>\n",
       "      <td>...</td>\n",
       "      <td>0.10086</td>\n",
       "      <td>0.93835</td>\n",
       "      <td>0.50814</td>\n",
       "      <td>0.00000</td>\n",
       "      <td>1.00000</td>\n",
       "      <td>0.00000</td>\n",
       "      <td>0.00000</td>\n",
       "      <td>0.00000</td>\n",
       "      <td>0.00000</td>\n",
       "      <td>0.00000</td>\n",
       "    </tr>\n",
       "    <tr>\n",
       "      <th>3</th>\n",
       "      <td>0.03183</td>\n",
       "      <td>0.52632</td>\n",
       "      <td>0.48190</td>\n",
       "      <td>0.50000</td>\n",
       "      <td>1.00000</td>\n",
       "      <td>0.74196</td>\n",
       "      <td>0.36364</td>\n",
       "      <td>0.80000</td>\n",
       "      <td>1.00000</td>\n",
       "      <td>0.91837</td>\n",
       "      <td>...</td>\n",
       "      <td>0.02087</td>\n",
       "      <td>0.74196</td>\n",
       "      <td>0.44349</td>\n",
       "      <td>0.00000</td>\n",
       "      <td>0.00000</td>\n",
       "      <td>1.00000</td>\n",
       "      <td>0.00000</td>\n",
       "      <td>0.00000</td>\n",
       "      <td>0.00000</td>\n",
       "      <td>0.00000</td>\n",
       "    </tr>\n",
       "    <tr>\n",
       "      <th>4</th>\n",
       "      <td>0.98052</td>\n",
       "      <td>0.36842</td>\n",
       "      <td>0.53017</td>\n",
       "      <td>0.50000</td>\n",
       "      <td>0.79694</td>\n",
       "      <td>0.65267</td>\n",
       "      <td>0.86364</td>\n",
       "      <td>0.40000</td>\n",
       "      <td>1.00000</td>\n",
       "      <td>0.23469</td>\n",
       "      <td>...</td>\n",
       "      <td>0.48477</td>\n",
       "      <td>0.75420</td>\n",
       "      <td>0.48870</td>\n",
       "      <td>0.00000</td>\n",
       "      <td>0.00000</td>\n",
       "      <td>1.00000</td>\n",
       "      <td>0.00000</td>\n",
       "      <td>0.00000</td>\n",
       "      <td>0.00000</td>\n",
       "      <td>0.00000</td>\n",
       "    </tr>\n",
       "    <tr>\n",
       "      <th>...</th>\n",
       "      <td>...</td>\n",
       "      <td>...</td>\n",
       "      <td>...</td>\n",
       "      <td>...</td>\n",
       "      <td>...</td>\n",
       "      <td>...</td>\n",
       "      <td>...</td>\n",
       "      <td>...</td>\n",
       "      <td>...</td>\n",
       "      <td>...</td>\n",
       "      <td>...</td>\n",
       "      <td>...</td>\n",
       "      <td>...</td>\n",
       "      <td>...</td>\n",
       "      <td>...</td>\n",
       "      <td>...</td>\n",
       "      <td>...</td>\n",
       "      <td>...</td>\n",
       "      <td>...</td>\n",
       "      <td>...</td>\n",
       "      <td>...</td>\n",
       "    </tr>\n",
       "    <tr>\n",
       "      <th>4334</th>\n",
       "      <td>0.07301</td>\n",
       "      <td>0.10526</td>\n",
       "      <td>0.72647</td>\n",
       "      <td>0.00000</td>\n",
       "      <td>0.66371</td>\n",
       "      <td>0.96175</td>\n",
       "      <td>0.95455</td>\n",
       "      <td>0.60000</td>\n",
       "      <td>0.00000</td>\n",
       "      <td>0.22449</td>\n",
       "      <td>...</td>\n",
       "      <td>0.16157</td>\n",
       "      <td>0.21590</td>\n",
       "      <td>0.45976</td>\n",
       "      <td>0.00000</td>\n",
       "      <td>1.00000</td>\n",
       "      <td>0.00000</td>\n",
       "      <td>0.00000</td>\n",
       "      <td>0.00000</td>\n",
       "      <td>0.00000</td>\n",
       "      <td>0.00000</td>\n",
       "    </tr>\n",
       "    <tr>\n",
       "      <th>4335</th>\n",
       "      <td>0.79488</td>\n",
       "      <td>0.47368</td>\n",
       "      <td>0.57200</td>\n",
       "      <td>0.50000</td>\n",
       "      <td>0.42938</td>\n",
       "      <td>0.45139</td>\n",
       "      <td>0.27273</td>\n",
       "      <td>0.50000</td>\n",
       "      <td>1.00000</td>\n",
       "      <td>0.74490</td>\n",
       "      <td>...</td>\n",
       "      <td>0.31468</td>\n",
       "      <td>0.57341</td>\n",
       "      <td>0.48644</td>\n",
       "      <td>0.00000</td>\n",
       "      <td>0.00000</td>\n",
       "      <td>1.00000</td>\n",
       "      <td>0.00000</td>\n",
       "      <td>0.00000</td>\n",
       "      <td>0.00000</td>\n",
       "      <td>0.00000</td>\n",
       "    </tr>\n",
       "    <tr>\n",
       "      <th>4336</th>\n",
       "      <td>0.45132</td>\n",
       "      <td>0.84211</td>\n",
       "      <td>0.59212</td>\n",
       "      <td>1.00000</td>\n",
       "      <td>0.84879</td>\n",
       "      <td>0.56073</td>\n",
       "      <td>1.00000</td>\n",
       "      <td>0.50000</td>\n",
       "      <td>0.33333</td>\n",
       "      <td>0.21429</td>\n",
       "      <td>...</td>\n",
       "      <td>0.10310</td>\n",
       "      <td>0.87934</td>\n",
       "      <td>0.23101</td>\n",
       "      <td>0.00000</td>\n",
       "      <td>0.00000</td>\n",
       "      <td>0.00000</td>\n",
       "      <td>1.00000</td>\n",
       "      <td>0.00000</td>\n",
       "      <td>0.00000</td>\n",
       "      <td>0.00000</td>\n",
       "    </tr>\n",
       "    <tr>\n",
       "      <th>4337</th>\n",
       "      <td>0.03871</td>\n",
       "      <td>0.05263</td>\n",
       "      <td>0.55833</td>\n",
       "      <td>0.50000</td>\n",
       "      <td>0.77827</td>\n",
       "      <td>0.58441</td>\n",
       "      <td>0.45455</td>\n",
       "      <td>1.00000</td>\n",
       "      <td>1.00000</td>\n",
       "      <td>0.46939</td>\n",
       "      <td>...</td>\n",
       "      <td>0.18321</td>\n",
       "      <td>0.03391</td>\n",
       "      <td>0.41546</td>\n",
       "      <td>0.00000</td>\n",
       "      <td>0.00000</td>\n",
       "      <td>0.00000</td>\n",
       "      <td>1.00000</td>\n",
       "      <td>0.00000</td>\n",
       "      <td>0.00000</td>\n",
       "      <td>0.00000</td>\n",
       "    </tr>\n",
       "    <tr>\n",
       "      <th>4338</th>\n",
       "      <td>0.49940</td>\n",
       "      <td>0.84211</td>\n",
       "      <td>0.54465</td>\n",
       "      <td>0.00000</td>\n",
       "      <td>0.72438</td>\n",
       "      <td>0.24071</td>\n",
       "      <td>0.31818</td>\n",
       "      <td>0.20000</td>\n",
       "      <td>1.00000</td>\n",
       "      <td>0.55102</td>\n",
       "      <td>...</td>\n",
       "      <td>0.11387</td>\n",
       "      <td>0.88361</td>\n",
       "      <td>0.39986</td>\n",
       "      <td>0.00000</td>\n",
       "      <td>1.00000</td>\n",
       "      <td>0.00000</td>\n",
       "      <td>0.00000</td>\n",
       "      <td>0.00000</td>\n",
       "      <td>0.00000</td>\n",
       "      <td>0.00000</td>\n",
       "    </tr>\n",
       "  </tbody>\n",
       "</table>\n",
       "<p>4339 rows × 22 columns</p>\n",
       "</div>"
      ],
      "text/plain": [
       "      populacao  num_juizes  casos_recebidos  tipo_caso  \\\n",
       "0       0.43482     0.31579          0.41271    1.00000   \n",
       "1       0.30901     1.00000          0.53339    1.00000   \n",
       "2       0.38186     0.73684          0.39984    0.50000   \n",
       "3       0.03183     0.52632          0.48190    0.50000   \n",
       "4       0.98052     0.36842          0.53017    0.50000   \n",
       "...         ...         ...              ...        ...   \n",
       "4334    0.07301     0.10526          0.72647    0.00000   \n",
       "4335    0.79488     0.47368          0.57200    0.50000   \n",
       "4336    0.45132     0.84211          0.59212    1.00000   \n",
       "4337    0.03871     0.05263          0.55833    0.50000   \n",
       "4338    0.49940     0.84211          0.54465    0.00000   \n",
       "\n",
       "      taxa_crescimento_populacao  taxa_criminalidade  tempo_casos  \\\n",
       "0                        0.87225             1.00000      0.18182   \n",
       "1                        0.54684             0.69849      0.63636   \n",
       "2                        1.00000             1.00000      0.59091   \n",
       "3                        1.00000             0.74196      0.36364   \n",
       "4                        0.79694             0.65267      0.86364   \n",
       "...                          ...                 ...          ...   \n",
       "4334                     0.66371             0.96175      0.95455   \n",
       "4335                     0.42938             0.45139      0.27273   \n",
       "4336                     0.84879             0.56073      1.00000   \n",
       "4337                     0.77827             0.58441      0.45455   \n",
       "4338                     0.72438             0.24071      0.31818   \n",
       "\n",
       "      nivel_automacao  congestionamento  advogados  ...  habitantes_por_juiz  \\\n",
       "0             0.40000           0.66667    0.17347  ...              0.20807   \n",
       "1             0.60000           1.00000    0.98980  ...              0.05870   \n",
       "2             0.30000           0.33333    0.11224  ...              0.10086   \n",
       "3             0.80000           1.00000    0.91837  ...              0.02087   \n",
       "4             0.40000           1.00000    0.23469  ...              0.48477   \n",
       "...               ...               ...        ...  ...                  ...   \n",
       "4334          0.60000           0.00000    0.22449  ...              0.16157   \n",
       "4335          0.50000           1.00000    0.74490  ...              0.31468   \n",
       "4336          0.50000           0.33333    0.21429  ...              0.10310   \n",
       "4337          1.00000           1.00000    0.46939  ...              0.18321   \n",
       "4338          0.20000           1.00000    0.55102  ...              0.11387   \n",
       "\n",
       "         idh  casos_pendentes  idade_juizes_18-29  idade_juizes_30-39  \\\n",
       "0    1.00000          0.49684             0.00000             0.00000   \n",
       "1    0.82631          0.54882             0.00000             0.00000   \n",
       "2    0.93835          0.50814             0.00000             1.00000   \n",
       "3    0.74196          0.44349             0.00000             0.00000   \n",
       "4    0.75420          0.48870             0.00000             0.00000   \n",
       "...      ...              ...                 ...                 ...   \n",
       "4334 0.21590          0.45976             0.00000             1.00000   \n",
       "4335 0.57341          0.48644             0.00000             0.00000   \n",
       "4336 0.87934          0.23101             0.00000             0.00000   \n",
       "4337 0.03391          0.41546             0.00000             0.00000   \n",
       "4338 0.88361          0.39986             0.00000             1.00000   \n",
       "\n",
       "      idade_juizes_40-49  idade_juizes_50-59  idade_juizes_60-69  \\\n",
       "0                1.00000             0.00000             0.00000   \n",
       "1                0.00000             1.00000             0.00000   \n",
       "2                0.00000             0.00000             0.00000   \n",
       "3                1.00000             0.00000             0.00000   \n",
       "4                1.00000             0.00000             0.00000   \n",
       "...                  ...                 ...                 ...   \n",
       "4334             0.00000             0.00000             0.00000   \n",
       "4335             1.00000             0.00000             0.00000   \n",
       "4336             0.00000             1.00000             0.00000   \n",
       "4337             0.00000             1.00000             0.00000   \n",
       "4338             0.00000             0.00000             0.00000   \n",
       "\n",
       "      idade_juizes_70-79  idade_juizes_80-89  \n",
       "0                0.00000             0.00000  \n",
       "1                0.00000             0.00000  \n",
       "2                0.00000             0.00000  \n",
       "3                0.00000             0.00000  \n",
       "4                0.00000             0.00000  \n",
       "...                  ...                 ...  \n",
       "4334             0.00000             0.00000  \n",
       "4335             0.00000             0.00000  \n",
       "4336             0.00000             0.00000  \n",
       "4337             0.00000             0.00000  \n",
       "4338             0.00000             0.00000  \n",
       "\n",
       "[4339 rows x 22 columns]"
      ]
     },
     "execution_count": 52,
     "metadata": {},
     "output_type": "execute_result"
    }
   ],
   "source": [
    "scaler = MinMaxScaler()\n",
    "df_normalizado = pd.DataFrame(scaler.fit_transform(df_servidor), columns=df_servidor.columns)\n",
    "df_normalizado"
   ]
  },
  {
   "cell_type": "code",
   "execution_count": 53,
   "id": "8e3edb5a-ecbf-4893-bb7a-ed1e81ab6e83",
   "metadata": {},
   "outputs": [
    {
     "data": {
      "text/plain": [
       "['../models/scaler.pkl']"
      ]
     },
     "execution_count": 53,
     "metadata": {},
     "output_type": "execute_result"
    }
   ],
   "source": [
    "# Salvar o scaler ajustado\n",
    "joblib.dump(scaler, '../models/scaler.pkl')"
   ]
  },
  {
   "cell_type": "code",
   "execution_count": 54,
   "id": "bc454fb0-cbc6-43dd-8915-60370e9e23e6",
   "metadata": {},
   "outputs": [],
   "source": [
    "# Salvar o DataFrame como um arquivo CSV\n",
    "df_normalizado.to_csv('../data/processed/predicao_cargas_trabalho_normalizado.csv', index=False)"
   ]
  }
 ],
 "metadata": {
  "colab": {
   "provenance": []
  },
  "kernelspec": {
   "display_name": "Python 3 (ipykernel)",
   "language": "python",
   "name": "python3"
  },
  "language_info": {
   "codemirror_mode": {
    "name": "ipython",
    "version": 3
   },
   "file_extension": ".py",
   "mimetype": "text/x-python",
   "name": "python",
   "nbconvert_exporter": "python",
   "pygments_lexer": "ipython3",
   "version": "3.11.7"
  }
 },
 "nbformat": 4,
 "nbformat_minor": 5
}
