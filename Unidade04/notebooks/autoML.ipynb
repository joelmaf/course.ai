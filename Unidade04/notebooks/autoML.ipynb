{
 "cells": [
  {
   "cell_type": "markdown",
   "id": "75103869-e57c-453c-84f9-62b1cfa84926",
   "metadata": {},
   "source": [
    "# Aprendizado de Máquina Automatizado (AutoML)\n",
    "\n",
    "Aprendizado de Máquina Automatizado (AutoML) refere-se ao processo de automatização do fluxo completo de aplicação de aprendizado de máquina a problemas do mundo real. Isso inclui tarefas como pré-processamento de dados, engenharia de características, seleção de modelos, ajuste de hiperparâmetros e implantação de modelos, tudo isso sem necessitar de uma intervenção manual extensa.\n",
    "\n",
    "Existem frameworks e bibliotecas que facilitam a comparação e avaliação de diferentes algoritmos de aprendizado de máquina. Eles oferecem ferramentas para automatizar o processo de treino, teste, validação e seleção do melhor modelo. "
   ]
  },
  {
   "cell_type": "markdown",
   "id": "03f52c53-3960-4adf-a711-b5a4e943db72",
   "metadata": {},
   "source": [
    "## Benefícios do AutoML\n",
    "\n",
    "### Economia de Tempo\n",
    "\n",
    "O desenvolvimento manual de modelos exige tempo e esforço significativos em tarefas como pré-processamento de dados, engenharia de características e ajuste de hiperparâmetros. O AutoML simplifica essas tarefas, permitindo que os usuários se concentrem em resolver problemas de maior nível e inovar.\n",
    "\n",
    "Estudos mostram que o AutoML pode reduzir o tempo gasto no desenvolvimento de modelos em até 90%, possibilitando uma iteração e experimentação mais rápidas.\n",
    "\n",
    "### Acessibilidade\n",
    "\n",
    "As plataformas de AutoML abstraem as complexidades do aprendizado de máquina, tornando-o acessível a usuários sem expertise especializada em ciência de dados ou programação.\n",
    "\n",
    "O AutoML capacita especialistas de domínio, analistas de negócios e pesquisadores a aproveitarem o poder do aprendizado de máquina sem a necessidade de conhecimento técnico extenso.\n",
    "\n",
    "### Escalabilidade\n",
    "\n",
    "Os frameworks de AutoML são projetados para lidar com grandes volumes de dados e ambientes de computação distribuída, permitindo uma escalabilidade perfeita para acomodar volumes crescentes de dados e demandas computacionais.\n",
    "\n",
    "O AutoML da Google, por exemplo, pode escalar para milhares de nós e processar petabytes de dados, tornando-o adequado para aplicações em nível empresarial.\n",
    "\n",
    "## Limitações do AutoML\n",
    "\n",
    "### Falta de Transparência\n",
    "\n",
    "O AutoML automatiza muitos aspectos do processo de desenvolvimento de modelos, o que pode obscurecer o funcionamento interno dos modelos resultantes. Essa falta de transparência pode tornar desafiador entender e interpretar as decisões dos modelos.\n",
    "\n",
    "Algumas plataformas de AutoML geram modelos complexos que são difíceis de interpretar, levantando preocupações sobre responsabilidade e confiabilidade, especialmente em indústrias regulamentadas como saúde e finanças.\n",
    "\n",
    "### Personalização Limitada\n",
    "\n",
    "Embora o AutoML ofereça conveniência e eficiência, ele pode não fornecer o mesmo nível de personalização e ajuste fino que o desenvolvimento manual de modelos.\n",
    "\n",
    "Deve-se ponderar os benefícios da automação contra a necessidade de controle detalhado sobre a arquitetura do modelo e os hiperparâmetros.\n"
   ]
  },
  {
   "cell_type": "markdown",
   "id": "1f419ad8-5be7-43ec-9b57-2d0d05ee023f",
   "metadata": {},
   "source": [
    "<div style=\"border: 2px solid #4CAF50; padding: 15px; border-radius: 10px; background-color: #DFF2BF; color: #4F8A10; font-family: Arial;\">\n",
    "AutoML e ML Manual têm suas próprias vantagens e desvantagens, e a melhor abordagem depende do contexto específico e dos requisitos do problema.\n",
    "\n",
    "AutoML é mais rápido e exige menos conhecimento especializado, mas pode produzir modelos menos precisos ou menos interpretáveis. É uma boa opção para problemas simples ou quando se tem tempo ou recursos limitados.\n",
    "\n",
    "ML manual requer mais expertise e tempo, mas permite um maior controle sobre o modelo e frequentemente resulta em soluções mais precisas e interpretáveis. É uma boa opção para problemas mais complexos ou quando há mais recursos e tempo disponíveis.\n",
    "\n",
    "</div>\n",
    "\n",
    "."
   ]
  },
  {
   "cell_type": "code",
   "execution_count": null,
   "id": "a1f2f9ae-a102-4405-8308-fc81af94bc5a",
   "metadata": {},
   "outputs": [],
   "source": [
    "!pip install pycaret"
   ]
  },
  {
   "cell_type": "code",
   "execution_count": null,
   "id": "928b7e30-7e31-4891-ada5-493c238b5229",
   "metadata": {},
   "outputs": [],
   "source": [
    "!pip install tpot"
   ]
  },
  {
   "cell_type": "code",
   "execution_count": null,
   "id": "746f4465-b1ec-4e1f-a874-8c98873ec28c",
   "metadata": {},
   "outputs": [],
   "source": [
    "!pip install h2o"
   ]
  },
  {
   "cell_type": "code",
   "execution_count": null,
   "id": "167c11be-a70f-4448-aa33-ab60b8a5e328",
   "metadata": {},
   "outputs": [],
   "source": [
    "!pip install seaborn"
   ]
  },
  {
   "cell_type": "code",
   "execution_count": null,
   "id": "28f7dca7-fb47-40af-9e7a-c2e38764bc22",
   "metadata": {},
   "outputs": [],
   "source": [
    "import pandas as pd\n",
    "import numpy as np\n",
    "\n",
    "from sklearn.model_selection import train_test_split\n",
    "from sklearn import metrics\n",
    "from sklearn.metrics import r2_score\n",
    "\n",
    "import scipy.stats as stats\n",
    "import matplotlib.pyplot as plt\n",
    "import seaborn as sns\n",
    "\n",
    "%matplotlib inline\n",
    "\n",
    "import joblib\n",
    "from joblib import dump\n"
   ]
  },
  {
   "cell_type": "code",
   "execution_count": null,
   "id": "1564cf71-4104-4fef-8f1d-3c8e0f7ebd67",
   "metadata": {},
   "outputs": [],
   "source": [
    "models_result = []"
   ]
  },
  {
   "cell_type": "code",
   "execution_count": null,
   "id": "c739d85e-03dd-4b34-b3d8-e874fa053ab2",
   "metadata": {},
   "outputs": [],
   "source": [
    "df_normalizado = pd.read_csv(\"../data/processed/predicao_cargas_trabalho_normalizado.csv\")\n",
    "\n",
    "X = df_normalizado.loc[:, df_normalizado.columns != 'casos_pendentes']\n",
    "y = df_normalizado[\"casos_pendentes\"]\n",
    "\n",
    "X_train, X_test, y_train, y_test = train_test_split(X, y, test_size=0.3)"
   ]
  },
  {
   "cell_type": "markdown",
   "id": "780beb16-22b9-42bd-9b48-5dc63623ce56",
   "metadata": {},
   "source": [
    "<div style=\"background-color: #f0f8ff; padding: 7px; border-radius: 10px;\">\n",
    "<h3>PyCaret</h3>\n",
    "</div>\n",
    "\n",
    "PyCaret é uma biblioteca de AutoML que fornece uma interface simplificada para comparação de modelos, tuning de hiperparâmetros e seleção de características. "
   ]
  },
  {
   "cell_type": "code",
   "execution_count": null,
   "id": "c59ce388-8b1b-469f-b67d-4e9e9129e8ff",
   "metadata": {},
   "outputs": [],
   "source": [
    "from pycaret.regression import setup, compare_models, create_model, get_metrics, predict_model, evaluate_model, finalize_model, save_model, load_model\n",
    "\n",
    "data_train = pd.concat([X_train, y_train], axis=1)\n",
    "data_test = pd.concat([X_test, y_test], axis=1)\n",
    "\n",
    "# Carregando o dataset de treino no PyCaret\n",
    "reg = setup(data=data_train, target='casos_pendentes', session_id=123,  verbose=False)\n",
    "\n",
    "# Comparando todos os modelos para escolher o melhor\n",
    "best_model = compare_models()\n"
   ]
  },
  {
   "cell_type": "code",
   "execution_count": null,
   "id": "608bdb16-aade-40c8-a2d9-d24cc8933d14",
   "metadata": {},
   "outputs": [],
   "source": [
    "best_model"
   ]
  },
  {
   "cell_type": "code",
   "execution_count": null,
   "id": "e6fb3f8c-c4e2-4177-9f40-9afdb625d2f3",
   "metadata": {},
   "outputs": [],
   "source": [
    "evaluate_model(best_model)"
   ]
  },
  {
   "cell_type": "code",
   "execution_count": null,
   "id": "86bad665-8553-4455-af53-ed0c8e49349f",
   "metadata": {},
   "outputs": [],
   "source": [
    "predictions = predict_model(best_model, data=data_test)"
   ]
  },
  {
   "cell_type": "code",
   "execution_count": null,
   "id": "a16f4b59-4f6b-4de3-b679-32a29d10bb11",
   "metadata": {},
   "outputs": [],
   "source": [
    "predictions"
   ]
  },
  {
   "cell_type": "code",
   "execution_count": null,
   "id": "10d22eab-02fc-4b4b-8898-7628ba963f8a",
   "metadata": {},
   "outputs": [],
   "source": [
    "mae_func = get_metrics().loc['mae', 'Score Function']\n",
    "mse_func = get_metrics().loc['mse', 'Score Function']\n",
    "rmse_func = get_metrics().loc['rmse', 'Score Function']\n",
    "r2_func = get_metrics().loc['r2', 'Score Function']\n",
    "\n",
    "mae = mae_func(predictions['prediction_label'], predictions['casos_pendentes'])\n",
    "mse = mse_func(predictions['prediction_label'], predictions['casos_pendentes'])\n",
    "r2 =  r2_func(predictions['prediction_label'], predictions['casos_pendentes'])\n",
    "rmse = np.sqrt(mse)\n",
    "\n",
    "metric_model = {\n",
    "    'MODEL': str(best_model)+'+PyCaret ',\n",
    "    'MAE': mae,\n",
    "    'MSE': mse,\n",
    "    'RMSE': rmse,\n",
    "    'R2': r2\n",
    "}\n",
    "\n",
    "models_result.append(metric_model)"
   ]
  },
  {
   "cell_type": "code",
   "execution_count": null,
   "id": "cb5c7994-a971-4b9f-8085-307478fc21fb",
   "metadata": {},
   "outputs": [],
   "source": [
    "sns.histplot((predictions['casos_pendentes']-predictions['prediction_label']),bins=50);"
   ]
  },
  {
   "cell_type": "code",
   "execution_count": null,
   "id": "c5de932a-8681-4ed2-a3ac-bba6c201f5c0",
   "metadata": {},
   "outputs": [],
   "source": [
    "final_model = finalize_model(best_model)\n",
    "save_model(final_model, '../models/automl/modelPyCaret')\n",
    "\n",
    "# Carregando o modelo salvo\n",
    "#loaded_model = load_model('./modelo/automl/modelPyCaret')"
   ]
  },
  {
   "cell_type": "markdown",
   "id": "77c4df5f-fb83-4784-b8f6-b94c5fa351e6",
   "metadata": {},
   "source": [
    "<div style=\"background-color: #f0f8ff; padding: 7px; border-radius: 10px;\">\n",
    "<h3>TPOT (Tree-based Pipeline Optimization Tool)</h3>\n",
    "</div>\n",
    "\n",
    "Usa algoritmos genéticos para automatizar o processo de construção de pipelines de aprendizado de máquina. Ele explora várias combinações de pré-processamento, seleção de características e algoritmos de aprendizado."
   ]
  },
  {
   "cell_type": "code",
   "execution_count": null,
   "id": "d9db1249-956e-4e4e-800d-cbb12cd3a70b",
   "metadata": {},
   "outputs": [],
   "source": [
    "from tpot import TPOTRegressor\n",
    "\n",
    "modelTPOT = TPOTRegressor(generations=5, population_size=20, verbosity=2)\n",
    "modelTPOT.fit(X_train, y_train)\n",
    "\n",
    "predictions = modelTPOT.predict(X_test)"
   ]
  },
  {
   "cell_type": "code",
   "execution_count": null,
   "id": "ce08484c-dab0-48a5-84a0-c46b1bd298e2",
   "metadata": {},
   "outputs": [],
   "source": [
    "print('MAE:', metrics.mean_absolute_error(y_test, predictions))\n",
    "print('MSE:', metrics.mean_squared_error(y_test, predictions))\n",
    "print('RMSE:', np.sqrt(metrics.mean_squared_error(y_test, predictions)))\n",
    "print('R2:', r2_score(y_test, predictions))"
   ]
  },
  {
   "cell_type": "code",
   "execution_count": null,
   "id": "c44807bf-b79a-428f-8bb2-84a154445f49",
   "metadata": {},
   "outputs": [],
   "source": [
    "# Exportar o pipeline\n",
    "#modelTPOT.export('../models/automl/modelTPOT.py')\n",
    "\n",
    "best_model = modelTPOT.fitted_pipeline_\n",
    "dump(best_model, '../models/automl/modelTPOT.joblib')"
   ]
  },
  {
   "cell_type": "code",
   "execution_count": null,
   "id": "39ac1acb-5573-4795-838d-49737610afe8",
   "metadata": {},
   "outputs": [],
   "source": [
    "sns.histplot((y_test-predictions),bins=50);"
   ]
  },
  {
   "cell_type": "code",
   "execution_count": null,
   "id": "bb040161-91f3-4f95-8084-7f3bff0a6c39",
   "metadata": {},
   "outputs": [],
   "source": [
    "pipeline = modelTPOT.fitted_pipeline_\n",
    "last_step_name, last_step = pipeline.steps[-1]\n",
    "mode_name = last_step.__class__.__name__"
   ]
  },
  {
   "cell_type": "code",
   "execution_count": null,
   "id": "9965044f-bf42-4dcb-8649-8f3f227daf03",
   "metadata": {},
   "outputs": [],
   "source": [
    "metric_model = {\n",
    "    'MODEL': mode_name+'+TPOTRegressor',\n",
    "    'MAE': metrics.mean_absolute_error(y_test, predictions),\n",
    "    'MSE': metrics.mean_squared_error(y_test, predictions),\n",
    "    'RMSE': np.sqrt(metrics.mean_squared_error(y_test, predictions)),\n",
    "    'R2': r2_score(y_test, predictions)\n",
    "}\n",
    "\n",
    "models_result.append(metric_model)"
   ]
  },
  {
   "cell_type": "markdown",
   "id": "20403ded-64ea-4134-938e-41fc19a78cc3",
   "metadata": {},
   "source": [
    "<div style=\"background-color: #f0f8ff; padding: 7px; border-radius: 10px;\">\n",
    "<h3>H2OAutoML</h3>\n",
    "</div>\n",
    "\n",
    "H2O.ai é uma plataforma de AutoML que oferece uma ampla gama de modelos de aprendizado de máquina, incluindo regressão, classificação, e métodos de ensemble. Ele permite comparar automaticamente vários modelos e otimizar seus hiperparâmetros. Tem ssuporte a modelos distribuídos, de grande escala e integração com Spark e outras plataformas."
   ]
  },
  {
   "cell_type": "code",
   "execution_count": null,
   "id": "dadf3a46-c887-41b0-9351-b5f204e2923b",
   "metadata": {},
   "outputs": [],
   "source": [
    "import h2o\n",
    "from h2o.automl import H2OAutoML\n",
    "\n",
    "h2o.init()\n",
    "\n",
    "train = h2o.H2OFrame(pd.concat([X_train, y_train], axis=1))\n",
    "test = h2o.H2OFrame(pd.concat([X_test, y_test], axis=1))"
   ]
  },
  {
   "cell_type": "code",
   "execution_count": null,
   "id": "0752ddbb-89b1-4d51-8ab4-63343e0c3db3",
   "metadata": {},
   "outputs": [],
   "source": [
    "X_train_ = X_train.columns.tolist() \n",
    "y_train_ = y_train.name           \n",
    "\n",
    "aml = H2OAutoML(max_models=20, seed=1)\n",
    "aml.train(x=X_train_, y=y_train_, training_frame=train)\n",
    "\n",
    "# Obtém o melhor modelo\n",
    "modelH2O = aml.leader\n",
    "\n",
    "# Exibe a tabela de desempenho dos modelos\n",
    "leaderboard = aml.leaderboard\n",
    "print(leaderboard)"
   ]
  },
  {
   "cell_type": "code",
   "execution_count": null,
   "id": "e21b8352-f573-426f-a6d6-471641f7bce0",
   "metadata": {},
   "outputs": [],
   "source": [
    "predictions = modelH2O.predict(test)\n",
    "\n",
    "# Converte as previsões para um DataFrame pandas\n",
    "predictions_df = h2o.as_list(predictions, use_pandas=True)\n",
    "y_pred = predictions_df['predict']"
   ]
  },
  {
   "cell_type": "code",
   "execution_count": null,
   "id": "5716bd2a-0a67-493b-9f41-5bb14b191fc6",
   "metadata": {},
   "outputs": [],
   "source": [
    "# Converte o conjunto de teste para um DataFrame pandas para comparação\n",
    "test_df = h2o.as_list(test, use_pandas=True)\n",
    "y_test_ = test_df[\"casos_pendentes\"] "
   ]
  },
  {
   "cell_type": "code",
   "execution_count": null,
   "id": "61c3f209-c7b4-43b3-ada9-68fbc060128b",
   "metadata": {},
   "outputs": [],
   "source": [
    "print('MAE:', metrics.mean_absolute_error(y_test_, y_pred))\n",
    "print('MSE:', metrics.mean_squared_error(y_test_, y_pred))\n",
    "print('RMSE:', np.sqrt(metrics.mean_squared_error(y_test_, y_pred)))\n",
    "print('R2:', r2_score(y_test_, y_pred))"
   ]
  },
  {
   "cell_type": "code",
   "execution_count": null,
   "id": "370205f7-7861-4e8e-a993-c247c8d2c999",
   "metadata": {},
   "outputs": [],
   "source": [
    "model_path = h2o.save_model(model=modelH2O, path=\"../models/automl\", force=True)"
   ]
  },
  {
   "cell_type": "code",
   "execution_count": null,
   "id": "f63071db-9732-43f2-a102-920c557e1c7f",
   "metadata": {},
   "outputs": [],
   "source": [
    "sns.histplot((y_test_-y_pred),bins=50);"
   ]
  },
  {
   "cell_type": "code",
   "execution_count": null,
   "id": "8c6cac92-4e24-4f88-9e0e-307eb445657e",
   "metadata": {},
   "outputs": [],
   "source": [
    "metric_model = {\n",
    "    'MODEL': modelH2O.model_id+'+h2o',\n",
    "    'MAE': metrics.mean_absolute_error(y_test_, y_pred),\n",
    "    'MSE': metrics.mean_squared_error(y_test_, y_pred),\n",
    "    'RMSE': np.sqrt(metrics.mean_squared_error(y_test_, y_pred)),\n",
    "    'R2': r2_score(y_test_, y_pred)\n",
    "}\n",
    "\n",
    "models_result.append(metric_model)"
   ]
  },
  {
   "cell_type": "code",
   "execution_count": null,
   "id": "2acfd34d-6898-4b5a-b6a0-69fae498a683",
   "metadata": {},
   "outputs": [],
   "source": [
    "# Encerra a sessão H2O\n",
    "h2o.shutdown(prompt=False)"
   ]
  }
 ],
 "metadata": {
  "colab": {
   "provenance": []
  },
  "kernelspec": {
   "display_name": "Python 3 (ipykernel)",
   "language": "python",
   "name": "python3"
  },
  "language_info": {
   "codemirror_mode": {
    "name": "ipython",
    "version": 3
   },
   "file_extension": ".py",
   "mimetype": "text/x-python",
   "name": "python",
   "nbconvert_exporter": "python",
   "pygments_lexer": "ipython3",
   "version": "3.11.9"
  }
 },
 "nbformat": 4,
 "nbformat_minor": 5
}
